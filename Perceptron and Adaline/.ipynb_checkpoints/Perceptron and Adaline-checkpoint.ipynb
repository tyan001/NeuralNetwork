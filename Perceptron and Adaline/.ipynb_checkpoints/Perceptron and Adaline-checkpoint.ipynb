{
 "cells": [
  {
   "cell_type": "markdown",
   "metadata": {},
   "source": [
    "**Thony Yan <br>\n",
    "PID:3913880**"
   ]
  },
  {
   "cell_type": "code",
   "execution_count": 1,
   "metadata": {},
   "outputs": [],
   "source": [
    "import numpy as np\n",
    "import matplotlib.pyplot as plt\n",
    "import copy"
   ]
  },
  {
   "cell_type": "markdown",
   "metadata": {},
   "source": [
    "# Perceptron and Adaline\n",
    "\n",
    "Perceptron and Adaline are both a type of neural network models. They are one of the simplest single-layer neural network models  out there. Perceptron is one of the original neural network model while the adaline is an improvement over the perceptron. Adaline and the Perceptron have some similarities:\n",
    "- They are both binary classifiers\n",
    "- both have a linear decision boundary\n",
    "- both use a type of threshold function\n",
    "- both learn through iterations known as epoch\n",
    "\n",
    "In both neural network model we must compute the net input by calculating the linear combination of our features **x** and the model's weights **w**\n",
    "$$\\sum_{i=1}^{n} x_i w_i = x_1 w_1 + \\dots + x_n w_n = wx^T$$\n",
    "\n",
    "The main difference is that the Perceptron uses the class labels to learn the model's coefficient while the Adaline uses continuous predicted values from the net input to learn the model's coefficient which is better in the sense that it can calculate how wrong or right by a certain amount.\n",
    "\n",
    "In this lab we will explore and see both this single layer neural network models on how it functions and how it learns."
   ]
  },
  {
   "cell_type": "markdown",
   "metadata": {},
   "source": [
    "## The Data\n",
    "\n",
    "First we must create the data to train on. We will be making an array of signed binary 1s that when arrange into a 5 by 5 matrix will display an image of the 5 vowels of the English alphabet *a ,e, i, o, u*. After creating the vowels we will create 4 more images from the original vowels but each image will have 1 pixel change (the 1 will turn to a -1 and vice versa)."
   ]
  },
  {
   "cell_type": "markdown",
   "metadata": {},
   "source": [
    "In this following example we will see how it is suppose to look:<br>"
   ]
  },
  {
   "cell_type": "markdown",
   "metadata": {},
   "source": [
    "![alt text](A_image.png)"
   ]
  },
  {
   "cell_type": "code",
   "execution_count": 2,
   "metadata": {},
   "outputs": [],
   "source": [
    "p1 = np.array([-1,-1,1,-1,-1,-1,1,-1,1,-1,1,1,1,1,1,1,-1,-1,-1,1])\n",
    "p6 = np.array([1,1,1,1,1,1,-1,-1,-1,-1,1,1,1,-1,-1,1,1,1,1,1])\n",
    "p11 = np.array([-1,1,1,1,-1,-1,-1,1,-1,-1,-1,-1,1,-1,-1,-1,1,1,1,-1])\n",
    "p16 = np.array([1,1,1,1,1,1,-1,-1,-1,1,1,-1,-1,-1,1,1,1,1,1,1])\n",
    "p21 = np.array([1,-1,-1,-1,1,1,-1,-1,-1,1,1,-1,-1,-1,1,1,1,1,1,1])"
   ]
  },
  {
   "cell_type": "code",
   "execution_count": 3,
   "metadata": {},
   "outputs": [],
   "source": [
    "p1 = p1.reshape(4,5)\n",
    "p6 = p6.reshape(4,5)\n",
    "p11 = p11.reshape(4,5)\n",
    "p16 = p16.reshape(4,5)\n",
    "p21 = p21.reshape(4,5)"
   ]
  },
  {
   "cell_type": "code",
   "execution_count": 4,
   "metadata": {},
   "outputs": [
    {
     "data": {
      "text/plain": [
       "array([[-1, -1,  1, -1, -1],\n",
       "       [-1,  1, -1,  1, -1],\n",
       "       [ 1,  1,  1,  1,  1],\n",
       "       [ 1, -1, -1, -1,  1]])"
      ]
     },
     "execution_count": 4,
     "metadata": {},
     "output_type": "execute_result"
    }
   ],
   "source": [
    "p1"
   ]
  },
  {
   "cell_type": "code",
   "execution_count": 5,
   "metadata": {},
   "outputs": [],
   "source": [
    "base = [p1,p6,p11,p16,p21]"
   ]
  },
  {
   "cell_type": "code",
   "execution_count": 6,
   "metadata": {},
   "outputs": [],
   "source": [
    "def show(figs): # This function is use to show image\n",
    "    img=plt.figure(figsize=(10, 10))\n",
    "    for i in range(len(figs)):\n",
    "        img.add_subplot(5, 5, i+1)\n",
    "        plt.imshow(figs[i]-1, cmap='Greys')"
   ]
  },
  {
   "cell_type": "markdown",
   "metadata": {},
   "source": [
    "**In the following snippet of code we can see all 5 vowels display.**"
   ]
  },
  {
   "cell_type": "code",
   "execution_count": 7,
   "metadata": {},
   "outputs": [
    {
     "data": {
      "image/png": "[encoded data removed]",
      "text/plain": [
       "<Figure size 576x576 with 5 Axes>"
      ]
     },
     "metadata": {
      "needs_background": "light"
     },
     "output_type": "display_data"
    }
   ],
   "source": [
    "img=plt.figure(figsize=(8, 8))\n",
    "for i in range(1,6):\n",
    "    img.add_subplot(5, 5, i)\n",
    "    plt.imshow(base[i-1]-1, cmap='Greys')"
   ]
  },
  {
   "cell_type": "markdown",
   "metadata": {},
   "source": [
    "**Here we are getting the x and y coordinates to invert the pixel. Example we will get the original vowel A matrix and invert the pixel located at (2,1) to create a variation of A. Then we will repeat this process for (3,2) and so on.**"
   ]
  },
  {
   "cell_type": "code",
   "execution_count": 8,
   "metadata": {},
   "outputs": [],
   "source": [
    "a_mod = np.array([[2,1],[3,2],[3,4],[4,4]])\n",
    "e_mod = np.array([[2,2],[4,2],[5,3],[4,3]])\n",
    "i_mod = np.array([[1,1],[4,2],[1,4],[4,3]])\n",
    "o_mod = np.array([[2,2],[4,2],[2,3],[4,3]])\n",
    "u_mod = np.array([[2,1],[4,1],[2,3],[4,3]])"
   ]
  },
  {
   "cell_type": "code",
   "execution_count": 9,
   "metadata": {},
   "outputs": [],
   "source": [
    "mod = [a_mod,e_mod,i_mod,o_mod,u_mod]"
   ]
  },
  {
   "cell_type": "code",
   "execution_count": 10,
   "metadata": {},
   "outputs": [
    {
     "data": {
      "text/plain": [
       "array([2, 1])"
      ]
     },
     "execution_count": 10,
     "metadata": {},
     "output_type": "execute_result"
    }
   ],
   "source": [
    "a_mod[0]"
   ]
  },
  {
   "cell_type": "code",
   "execution_count": 11,
   "metadata": {},
   "outputs": [],
   "source": [
    "def modify(base, mod):\n",
    "    lst = []\n",
    "    lst.append(base)\n",
    "    for i in range(len(mod)):\n",
    "        tmp = copy.deepcopy(base)\n",
    "        tmp[mod[i][1]-1,mod[i][0]-1] *= -1\n",
    "        lst.append(tmp)\n",
    "\n",
    "    return lst"
   ]
  },
  {
   "cell_type": "code",
   "execution_count": 12,
   "metadata": {},
   "outputs": [],
   "source": [
    "a_test = modify(base[0], mod[0])\n",
    "e_test = modify(base[1], mod[1])\n",
    "i_test = modify(base[2], mod[2])\n",
    "o_test = modify(base[3], mod[3])\n",
    "u_test = modify(base[4], mod[4])"
   ]
  },
  {
   "cell_type": "code",
   "execution_count": 13,
   "metadata": {},
   "outputs": [
    {
     "data": {
      "image/png": "[encoded data removed]",
      "text/plain": [
       "<Figure size 720x720 with 5 Axes>"
      ]
     },
     "metadata": {
      "needs_background": "light"
     },
     "output_type": "display_data"
    },
    {
     "data": {
      "image/png": "[encoded data removed]",
      "text/plain": [
       "<Figure size 720x720 with 5 Axes>"
      ]
     },
     "metadata": {
      "needs_background": "light"
     },
     "output_type": "display_data"
    },
    {
     "data": {
      "image/png": "[encoded data removed]",
      "text/plain": [
       "<Figure size 720x720 with 5 Axes>"
      ]
     },
     "metadata": {
      "needs_background": "light"
     },
     "output_type": "display_data"
    },
    {
     "data": {
      "image/png": "[encoded data removed]",
      "text/plain": [
       "<Figure size 720x720 with 5 Axes>"
      ]
     },
     "metadata": {
      "needs_background": "light"
     },
     "output_type": "display_data"
    },
    {
     "data": {
      "image/png": "[encoded data removed]",
      "text/plain": [
       "<Figure size 720x720 with 5 Axes>"
      ]
     },
     "metadata": {
      "needs_background": "light"
     },
     "output_type": "display_data"
    }
   ],
   "source": [
    "show(a_test)\n",
    "show(e_test)\n",
    "show(i_test)\n",
    "show(o_test)\n",
    "show(u_test)"
   ]
  },
  {
   "cell_type": "markdown",
   "metadata": {},
   "source": [
    "**Above are the vowels and their 4 variations that we will use as the training set for our perceptron and adaline algorithm. Next we will be creating the test sets. In test set 1 we will still have the original vowels but now with a different 1 pixel variation.**"
   ]
  },
  {
   "cell_type": "code",
   "execution_count": 14,
   "metadata": {},
   "outputs": [],
   "source": [
    "test_set = np.array([a_test,e_test,i_test,o_test,u_test])"
   ]
  },
  {
   "cell_type": "code",
   "execution_count": 15,
   "metadata": {},
   "outputs": [],
   "source": [
    "tset_mod1 = np.array([[ [4,1],[5,3],[2,4],[1,2] ],  #tset1 a\n",
    "                      [ [2,4],[5,2],[4,3],[1,3] ],  #tset1 e\n",
    "                      [ [4,4],[2,4],[2,2],[3,4] ],  #tset1 i\n",
    "                      [ [1,3],[3,2],[5,4],[3,3] ],  #tset1 o\n",
    "                      [ [5,3],[3,4],[1,4],[5,4] ]]) #tset1 u"
   ]
  },
  {
   "cell_type": "code",
   "execution_count": 16,
   "metadata": {},
   "outputs": [],
   "source": [
    "tset1_a = modify(base[0], tset_mod1[0])\n",
    "tset1_e = modify(base[1], tset_mod1[1])\n",
    "tset1_i = modify(base[2], tset_mod1[2])\n",
    "tset1_o = modify(base[3], tset_mod1[3])\n",
    "tset1_u = modify(base[4], tset_mod1[4])"
   ]
  },
  {
   "cell_type": "code",
   "execution_count": 17,
   "metadata": {},
   "outputs": [
    {
     "data": {
      "text/plain": [
       "array([[-1, -1,  1, -1, -1],\n",
       "       [-1,  1, -1,  1, -1],\n",
       "       [ 1,  1,  1,  1,  1],\n",
       "       [ 1, -1, -1, -1,  1]])"
      ]
     },
     "execution_count": 17,
     "metadata": {},
     "output_type": "execute_result"
    }
   ],
   "source": [
    "base[0]"
   ]
  },
  {
   "cell_type": "code",
   "execution_count": 18,
   "metadata": {},
   "outputs": [
    {
     "data": {
      "image/png": "[encoded data removed]",
      "text/plain": [
       "<Figure size 720x720 with 5 Axes>"
      ]
     },
     "metadata": {
      "needs_background": "light"
     },
     "output_type": "display_data"
    },
    {
     "data": {
      "image/png": "[encoded data removed]",
      "text/plain": [
       "<Figure size 720x720 with 5 Axes>"
      ]
     },
     "metadata": {
      "needs_background": "light"
     },
     "output_type": "display_data"
    },
    {
     "data": {
      "image/png": "[encoded data removed]",
      "text/plain": [
       "<Figure size 720x720 with 5 Axes>"
      ]
     },
     "metadata": {
      "needs_background": "light"
     },
     "output_type": "display_data"
    },
    {
     "data": {
      "image/png": "[encoded data removed]",
      "text/plain": [
       "<Figure size 720x720 with 5 Axes>"
      ]
     },
     "metadata": {
      "needs_background": "light"
     },
     "output_type": "display_data"
    },
    {
     "data": {
      "image/png": "[encoded data removed]",
      "text/plain": [
       "<Figure size 720x720 with 5 Axes>"
      ]
     },
     "metadata": {
      "needs_background": "light"
     },
     "output_type": "display_data"
    }
   ],
   "source": [
    "show(tset1_a)\n",
    "show(tset1_e)\n",
    "show(tset1_i)\n",
    "show(tset1_o)\n",
    "show(tset1_u)"
   ]
  },
  {
   "cell_type": "code",
   "execution_count": 19,
   "metadata": {},
   "outputs": [],
   "source": [
    "tset1 = np.array([tset1_a,tset1_e,tset1_i,tset1_o,tset1_u])"
   ]
  },
  {
   "cell_type": "markdown",
   "metadata": {},
   "source": [
    "**For test set 2 we will be grabbing the vowel variations from test set 1 and inverting 1 more pixel.**"
   ]
  },
  {
   "cell_type": "code",
   "execution_count": 20,
   "metadata": {},
   "outputs": [],
   "source": [
    "tset_mod2 = np.array([[ [3,2],[1,3],[3,3],[2,1] ], #tset2 a\n",
    "                      [ [3,2],[3,3],[5,4],[1,2] ], #tset2 e\n",
    "                      [ [1,3],[2,2],[4,3],[1,4] ], #tset2 i\n",
    "                      [ [4,3],[4,3],[5,1],[2,4] ], #tset2 o\n",
    "                      [ [3,3],[2,2],[2,1],[1,3] ]])#tset2 u"
   ]
  },
  {
   "cell_type": "code",
   "execution_count": 21,
   "metadata": {},
   "outputs": [
    {
     "data": {
      "text/plain": [
       "array([[3, 2],\n",
       "       [1, 3],\n",
       "       [3, 3],\n",
       "       [2, 1]])"
      ]
     },
     "execution_count": 21,
     "metadata": {},
     "output_type": "execute_result"
    }
   ],
   "source": [
    "tset_mod2[0]"
   ]
  },
  {
   "cell_type": "code",
   "execution_count": 22,
   "metadata": {},
   "outputs": [],
   "source": [
    "def modify2(base,mod):\n",
    "    lst = []\n",
    "    lst.append(base[0])\n",
    "    for i in range(1,5):\n",
    "        tmp = copy.deepcopy(base[i])\n",
    "        tmp[mod[i-1][1]-1,mod[i-1][0]-1] *= -1\n",
    "        lst.append(tmp)\n",
    "    return lst"
   ]
  },
  {
   "cell_type": "code",
   "execution_count": 23,
   "metadata": {},
   "outputs": [],
   "source": [
    "tset2_a = modify2(tset1_a,tset_mod2[0])\n",
    "tset2_e = modify2(tset1_e,tset_mod2[1])\n",
    "tset2_i = modify2(tset1_i,tset_mod2[2])\n",
    "tset2_o = modify2(tset1_o,tset_mod2[3])\n",
    "tset2_u = modify2(tset1_u,tset_mod2[4])"
   ]
  },
  {
   "cell_type": "code",
   "execution_count": 24,
   "metadata": {},
   "outputs": [
    {
     "data": {
      "image/png": "[encoded data removed]",
      "text/plain": [
       "<Figure size 720x720 with 5 Axes>"
      ]
     },
     "metadata": {
      "needs_background": "light"
     },
     "output_type": "display_data"
    },
    {
     "data": {
      "image/png": "[encoded data removed]",
      "text/plain": [
       "<Figure size 720x720 with 5 Axes>"
      ]
     },
     "metadata": {
      "needs_background": "light"
     },
     "output_type": "display_data"
    },
    {
     "data": {
      "image/png": "[encoded data removed]",
      "text/plain": [
       "<Figure size 720x720 with 5 Axes>"
      ]
     },
     "metadata": {
      "needs_background": "light"
     },
     "output_type": "display_data"
    },
    {
     "data": {
      "image/png": "[encoded data removed]",
      "text/plain": [
       "<Figure size 720x720 with 5 Axes>"
      ]
     },
     "metadata": {
      "needs_background": "light"
     },
     "output_type": "display_data"
    },
    {
     "data": {
      "image/png": "[encoded data removed]",
      "text/plain": [
       "<Figure size 720x720 with 5 Axes>"
      ]
     },
     "metadata": {
      "needs_background": "light"
     },
     "output_type": "display_data"
    }
   ],
   "source": [
    "show(tset2_a)\n",
    "show(tset2_e)\n",
    "show(tset2_i)\n",
    "show(tset2_o)\n",
    "show(tset2_u)"
   ]
  },
  {
   "cell_type": "code",
   "execution_count": 25,
   "metadata": {},
   "outputs": [],
   "source": [
    "tset2 = np.array([tset2_a,tset2_e,tset2_i,tset2_o,tset2_u])"
   ]
  },
  {
   "cell_type": "markdown",
   "metadata": {},
   "source": [
    "**We will be using the same process to create test set 3 but using the variations of test set 2**"
   ]
  },
  {
   "cell_type": "code",
   "execution_count": 26,
   "metadata": {},
   "outputs": [],
   "source": [
    "tset_mod3 = np.array([[ [5,2],[3,3],[1,3],[5,1] ], #tset3 a\n",
    "                      [ [3,4],[1,4],[5,2],[1,3] ], #tset3 e\n",
    "                      [ [1,1],[1,2],[2,4],[2,1] ], #tset3 i\n",
    "                      [ [1,2],[4,2],[3,3],[1,4] ], #tset3 o\n",
    "                      [ [3,2],[5,2],[5,4],[4,2] ]])#tset3 u"
   ]
  },
  {
   "cell_type": "code",
   "execution_count": 27,
   "metadata": {},
   "outputs": [],
   "source": [
    "tset3_a = modify2(tset2_a,tset_mod3[0])\n",
    "tset3_e = modify2(tset2_e,tset_mod3[1])\n",
    "tset3_i = modify2(tset2_i,tset_mod3[2])\n",
    "tset3_o = modify2(tset2_o,tset_mod3[3])\n",
    "tset3_u = modify2(tset2_u,tset_mod3[4])"
   ]
  },
  {
   "cell_type": "code",
   "execution_count": 28,
   "metadata": {},
   "outputs": [
    {
     "data": {
      "image/png": "[encoded data removed]",
      "text/plain": [
       "<Figure size 720x720 with 5 Axes>"
      ]
     },
     "metadata": {
      "needs_background": "light"
     },
     "output_type": "display_data"
    },
    {
     "data": {
      "image/png": "[encoded data removed]",
      "text/plain": [
       "<Figure size 720x720 with 5 Axes>"
      ]
     },
     "metadata": {
      "needs_background": "light"
     },
     "output_type": "display_data"
    },
    {
     "data": {
      "image/png": "[encoded data removed]",
      "text/plain": [
       "<Figure size 720x720 with 5 Axes>"
      ]
     },
     "metadata": {
      "needs_background": "light"
     },
     "output_type": "display_data"
    },
    {
     "data": {
      "image/png": "[encoded data removed]",
      "text/plain": [
       "<Figure size 720x720 with 5 Axes>"
      ]
     },
     "metadata": {
      "needs_background": "light"
     },
     "output_type": "display_data"
    },
    {
     "data": {
      "image/png": "[encoded data removed]",
      "text/plain": [
       "<Figure size 720x720 with 5 Axes>"
      ]
     },
     "metadata": {
      "needs_background": "light"
     },
     "output_type": "display_data"
    }
   ],
   "source": [
    "show(tset3_a)\n",
    "show(tset3_e)\n",
    "show(tset3_i)\n",
    "show(tset3_o)\n",
    "show(tset3_u)"
   ]
  },
  {
   "cell_type": "code",
   "execution_count": 29,
   "metadata": {},
   "outputs": [],
   "source": [
    "tset3 = np.array([tset3_a,tset3_e,tset3_i,tset3_o,tset3_u])"
   ]
  },
  {
   "cell_type": "markdown",
   "metadata": {},
   "source": [
    "## Perceptron\n",
    "We will be implementing the Perceptron algorithm in the following section. A visual image is show on how the algorithm is implemented."
   ]
  },
  {
   "cell_type": "markdown",
   "metadata": {},
   "source": [
    "![alt text](Perceptron.png)"
   ]
  },
  {
   "cell_type": "code",
   "execution_count": 30,
   "metadata": {},
   "outputs": [],
   "source": [
    "def step_func(x): # This is the step function or the activation function for the perceptron\n",
    "    if x>=0:\n",
    "        return 1\n",
    "    return -1 "
   ]
  },
  {
   "cell_type": "markdown",
   "metadata": {},
   "source": [
    "**In the following snippet of code we calculate $\\sum_{i=1}^{n} x_i w_i$ by doing the dot product of the input (**x**) and the weights. Then we pass that dot product through the activation function to get a prediction of the image.**"
   ]
  },
  {
   "cell_type": "code",
   "execution_count": 31,
   "metadata": {},
   "outputs": [],
   "source": [
    "def predict(inputs,w): \n",
    "    tmp = copy.deepcopy(inputs.ravel())\n",
    "    tmp = np.append(tmp,1) #bias\n",
    "    #print(tmp)\n",
    "    #print(w)\n",
    "    pred = step_func(np.dot(w,tmp.T)) # getting the sum of w and input and then applying the step function\n",
    "    return pred"
   ]
  },
  {
   "cell_type": "markdown",
   "metadata": {},
   "source": [
    "**In this function we update the weights by first getting the error and then updating it using the following equation:** <br>\n",
    "<h1><center>$w(t+1) = w(t) + input * error$</center></h1>\n"
   ]
  },
  {
   "cell_type": "code",
   "execution_count": 32,
   "metadata": {},
   "outputs": [],
   "source": [
    "def update_w(w,error,inputs):\n",
    "    tmp = copy.deepcopy(inputs.ravel())\n",
    "    tmp = np.append(tmp,1)\n",
    "    new_w = w + (tmp*error)\n",
    "    return new_w"
   ]
  },
  {
   "cell_type": "code",
   "execution_count": 33,
   "metadata": {},
   "outputs": [],
   "source": [
    "def perceptron(x, y, epoch=10):\n",
    "    w = np.zeros(len(x[0][0].ravel())+1,dtype=float) # Creates 21 weights of zero\n",
    "    b = 1\n",
    "    err = []\n",
    "    acc = []\n",
    "    for epo in range(epoch):\n",
    "        t_error = 0\n",
    "        for i in range(len(x[0])):\n",
    "            for j in range(len(x[1])):\n",
    "                pred = predict(x[i][j],w)\n",
    "                error = (y[i][j] - pred)/2. # errors will be either -1 or 1\n",
    "                t_error += np.absolute(error)\n",
    "                #print(error)\n",
    "                w = update_w(w,error,x[i][j]) \n",
    "                #print(\"new w {}\", w)\n",
    "                \n",
    "        err.append(t_error)\n",
    "        acc.append(1-t_error/25)\n",
    "        print(\"epoch: \",epo, \"acc: \", 1-t_error/25)\n",
    "        \n",
    "    return w,err,acc\n"
   ]
  },
  {
   "cell_type": "markdown",
   "metadata": {},
   "source": [
    "### Perceptron \"A\" Detector\n",
    "Now we will use the perceptron to train a model that classifies the vowel A or an image that looks like it to 1 and anything else will be classify as -1. We will also see how the model performed per epoch and how well it works with our test data set that we created in the beginning. "
   ]
  },
  {
   "cell_type": "markdown",
   "metadata": {},
   "source": [
    "The first five 1s in the t array will represent A from the data set. Meaning that when we pass the 25 data in the dataset, the first 5 will be A, the next 5 will be E, then the same patterns for I, O , U."
   ]
  },
  {
   "cell_type": "code",
   "execution_count": 34,
   "metadata": {},
   "outputs": [],
   "source": [
    "t = np.array([1,1,1,1,1,-1,-1,-1,-1,-1,-1,-1,-1,-1,-1,-1,-1,-1,-1,-1,-1,-1,-1,-1,-1])\n",
    "t = t.reshape(5,5)"
   ]
  },
  {
   "cell_type": "code",
   "execution_count": 35,
   "metadata": {},
   "outputs": [
    {
     "name": "stdout",
     "output_type": "stream",
     "text": [
      "epoch:  0 acc:  0.96\n",
      "epoch:  1 acc:  1.0\n",
      "epoch:  2 acc:  1.0\n",
      "epoch:  3 acc:  1.0\n",
      "epoch:  4 acc:  1.0\n",
      "epoch:  5 acc:  1.0\n",
      "epoch:  6 acc:  1.0\n",
      "epoch:  7 acc:  1.0\n",
      "epoch:  8 acc:  1.0\n",
      "epoch:  9 acc:  1.0\n"
     ]
    }
   ],
   "source": [
    "w,err,acc = perceptron(test_set, t,epoch=10)"
   ]
  },
  {
   "cell_type": "code",
   "execution_count": 36,
   "metadata": {},
   "outputs": [
    {
     "data": {
      "text/plain": [
       "array([-1., -1., -1., -1., -1., -1.,  1.,  1.,  1.,  1., -1., -1., -1.,\n",
       "        1.,  1., -1., -1., -1., -1., -1., -1.])"
      ]
     },
     "execution_count": 36,
     "metadata": {},
     "output_type": "execute_result"
    }
   ],
   "source": [
    "w"
   ]
  },
  {
   "cell_type": "code",
   "execution_count": 37,
   "metadata": {},
   "outputs": [
    {
     "data": {
      "image/png": "[encoded data removed]",
      "text/plain": [
       "<Figure size 432x288 with 1 Axes>"
      ]
     },
     "metadata": {
      "needs_background": "light"
     },
     "output_type": "display_data"
    }
   ],
   "source": [
    "plt.xlabel(\"Epochs\")\n",
    "plt.ylabel(\"Error\")\n",
    "plt.title(\"A Detector error\")\n",
    "plt.plot(err)\n",
    "plt.show()"
   ]
  },
  {
   "cell_type": "code",
   "execution_count": 38,
   "metadata": {},
   "outputs": [
    {
     "data": {
      "image/png": "[encoded data removed]",
      "text/plain": [
       "<Figure size 432x288 with 1 Axes>"
      ]
     },
     "metadata": {
      "needs_background": "light"
     },
     "output_type": "display_data"
    }
   ],
   "source": [
    "plt.xlabel(\"Epochs\")\n",
    "plt.ylabel(\"Accuracy\")\n",
    "plt.title(\"A Detector accuracy\")\n",
    "plt.plot(acc)\n",
    "plt.show()"
   ]
  },
  {
   "cell_type": "markdown",
   "metadata": {},
   "source": [
    "### Test sets\n",
    "\n",
    "We can see that the model had no problem classifying test set 1 and labeled all of the test set correctly."
   ]
  },
  {
   "cell_type": "code",
   "execution_count": 39,
   "metadata": {},
   "outputs": [
    {
     "name": "stdout",
     "output_type": "stream",
     "text": [
      "test set 1 errors:  0.0\n",
      "test set 1 accuracy:  1.0\n"
     ]
    }
   ],
   "source": [
    "t_error1 = 0\n",
    "p_lst = []\n",
    "for i in range(len(tset1[0])):\n",
    "    for j in range(len(tset1[1])):\n",
    "        pred = predict(tset1[i][j],w)\n",
    "        error = (t[i][j] - pred)/2. # errors will be either -1 or 1\n",
    "        t_error1 += np.absolute(error)\n",
    "        if error != 0:\n",
    "            p_lst.append(tset1[i][j])\n",
    "print(\"test set 1 errors: \", t_error1)\n",
    "print(\"test set 1 accuracy: \", 1-t_error1/25)"
   ]
  },
  {
   "cell_type": "markdown",
   "metadata": {},
   "source": [
    "For test set 2 we see that there is 1 error caught. We will keep track of which one it could not catch."
   ]
  },
  {
   "cell_type": "code",
   "execution_count": 40,
   "metadata": {},
   "outputs": [
    {
     "name": "stdout",
     "output_type": "stream",
     "text": [
      "test set 2 errors:  1.0\n",
      "test set 2 accuracy:  0.96\n"
     ]
    }
   ],
   "source": [
    "t_error2 = 0\n",
    "p_lst = []\n",
    "for i in range(len(tset2[0])):\n",
    "    for j in range(len(tset2[1])):\n",
    "        pred = predict(tset2[i][j],w)\n",
    "        error = (t[i][j] - pred)/2. # errors will be either -1 or 1\n",
    "        t_error2 += np.absolute(error)\n",
    "        if error != 0:\n",
    "            p_lst.append(tset2[i][j])\n",
    "print(\"test set 2 errors: \", t_error2)\n",
    "print(\"test set 2 accuracy: \", 1-t_error2/25)"
   ]
  },
  {
   "cell_type": "code",
   "execution_count": 41,
   "metadata": {},
   "outputs": [
    {
     "data": {
      "image/png": "[encoded data removed]",
      "text/plain": [
       "<Figure size 720x720 with 1 Axes>"
      ]
     },
     "metadata": {
      "needs_background": "light"
     },
     "output_type": "display_data"
    }
   ],
   "source": [
    "show(p_lst) # error images"
   ]
  },
  {
   "cell_type": "markdown",
   "metadata": {},
   "source": [
    "Here we see that in test set 2 the model did not classify the 5th variation of A(pt205)."
   ]
  },
  {
   "cell_type": "code",
   "execution_count": 42,
   "metadata": {},
   "outputs": [
    {
     "data": {
      "image/png": "[encoded data removed]",
      "text/plain": [
       "<Figure size 720x720 with 5 Axes>"
      ]
     },
     "metadata": {
      "needs_background": "light"
     },
     "output_type": "display_data"
    },
    {
     "data": {
      "image/png": "[encoded data removed]",
      "text/plain": [
       "<Figure size 720x720 with 5 Axes>"
      ]
     },
     "metadata": {
      "needs_background": "light"
     },
     "output_type": "display_data"
    },
    {
     "data": {
      "image/png": "[encoded data removed]",
      "text/plain": [
       "<Figure size 720x720 with 5 Axes>"
      ]
     },
     "metadata": {
      "needs_background": "light"
     },
     "output_type": "display_data"
    },
    {
     "data": {
      "image/png": "[encoded data removed]",
      "text/plain": [
       "<Figure size 720x720 with 5 Axes>"
      ]
     },
     "metadata": {
      "needs_background": "light"
     },
     "output_type": "display_data"
    },
    {
     "data": {
      "image/png": "[encoded data removed]",
      "text/plain": [
       "<Figure size 720x720 with 5 Axes>"
      ]
     },
     "metadata": {
      "needs_background": "light"
     },
     "output_type": "display_data"
    }
   ],
   "source": [
    "for i in range(5):\n",
    "    show(tset2[i])"
   ]
  },
  {
   "cell_type": "markdown",
   "metadata": {},
   "source": [
    "For test set 3 we see that there is 2 error caught."
   ]
  },
  {
   "cell_type": "code",
   "execution_count": 43,
   "metadata": {},
   "outputs": [
    {
     "name": "stdout",
     "output_type": "stream",
     "text": [
      "test set 3 errors:  2.0\n",
      "test set 3 accuracy:  0.92\n"
     ]
    }
   ],
   "source": [
    "t_error3 = 0\n",
    "p_lst = []\n",
    "for i in range(len(tset3[0])):\n",
    "    for j in range(len(tset3[1])):\n",
    "        pred = predict(tset3[i][j],w)\n",
    "        error = (t[i][j] - pred)/2. # errors will be either -1 or 1\n",
    "        t_error3 += np.absolute(error)\n",
    "        if error != 0:\n",
    "            p_lst.append(tset3[i][j])\n",
    "print(\"test set 3 errors: \", t_error3)\n",
    "print(\"test set 3 accuracy: \", 1-t_error3/25)"
   ]
  },
  {
   "cell_type": "code",
   "execution_count": 44,
   "metadata": {},
   "outputs": [
    {
     "data": {
      "image/png": "[encoded data removed]",
      "text/plain": [
       "<Figure size 720x720 with 2 Axes>"
      ]
     },
     "metadata": {
      "needs_background": "light"
     },
     "output_type": "display_data"
    }
   ],
   "source": [
    "show(p_lst)"
   ]
  },
  {
   "cell_type": "markdown",
   "metadata": {},
   "source": [
    "Here we see that in test set 3 the model did not classify the 5th variation of A(pt305) and the 4th variation of I(pt314)."
   ]
  },
  {
   "cell_type": "code",
   "execution_count": 45,
   "metadata": {},
   "outputs": [
    {
     "data": {
      "image/png": "[encoded data removed]",
      "text/plain": [
       "<Figure size 720x720 with 5 Axes>"
      ]
     },
     "metadata": {
      "needs_background": "light"
     },
     "output_type": "display_data"
    },
    {
     "data": {
      "image/png": "[encoded data removed]",
      "text/plain": [
       "<Figure size 720x720 with 5 Axes>"
      ]
     },
     "metadata": {
      "needs_background": "light"
     },
     "output_type": "display_data"
    },
    {
     "data": {
      "image/png": "[encoded data removed]",
      "text/plain": [
       "<Figure size 720x720 with 5 Axes>"
      ]
     },
     "metadata": {
      "needs_background": "light"
     },
     "output_type": "display_data"
    },
    {
     "data": {
      "image/png": "[encoded data removed]",
      "text/plain": [
       "<Figure size 720x720 with 5 Axes>"
      ]
     },
     "metadata": {
      "needs_background": "light"
     },
     "output_type": "display_data"
    },
    {
     "data": {
      "image/png": "[encoded data removed]",
      "text/plain": [
       "<Figure size 720x720 with 5 Axes>"
      ]
     },
     "metadata": {
      "needs_background": "light"
     },
     "output_type": "display_data"
    }
   ],
   "source": [
    "for i in range(5):\n",
    "    show(tset3[i])"
   ]
  },
  {
   "cell_type": "markdown",
   "metadata": {},
   "source": [
    "### Perceptron \"E\" Detector\n",
    "\n",
    "Now we will create an E detector so in this case the 6th to 10th 1s in **t** will represent E."
   ]
  },
  {
   "cell_type": "code",
   "execution_count": 46,
   "metadata": {},
   "outputs": [],
   "source": [
    "t = np.array([-1,-1,-1,-1,-1,1,1,1,1,1,-1,-1,-1,-1,-1,-1,-1,-1,-1,-1,-1,-1,-1,-1,-1])\n",
    "t = t.reshape(5,5)"
   ]
  },
  {
   "cell_type": "code",
   "execution_count": 47,
   "metadata": {},
   "outputs": [
    {
     "name": "stdout",
     "output_type": "stream",
     "text": [
      "epoch:  0 acc:  0.88\n",
      "epoch:  1 acc:  0.92\n",
      "epoch:  2 acc:  0.88\n",
      "epoch:  3 acc:  0.84\n",
      "epoch:  4 acc:  0.92\n",
      "epoch:  5 acc:  0.88\n",
      "epoch:  6 acc:  1.0\n",
      "epoch:  7 acc:  1.0\n",
      "epoch:  8 acc:  1.0\n",
      "epoch:  9 acc:  1.0\n"
     ]
    }
   ],
   "source": [
    "w,err,acc = perceptron(test_set, t,epoch=10)"
   ]
  },
  {
   "cell_type": "code",
   "execution_count": 48,
   "metadata": {},
   "outputs": [
    {
     "data": {
      "text/plain": [
       "array([ 1.,  1., -3.,  3.,  7.,  7.,  1., -1.,  1., -3.,  1.,  3.,  3.,\n",
       "        1., -5.,  1., -1., -1., -1.,  1., -7.])"
      ]
     },
     "execution_count": 48,
     "metadata": {},
     "output_type": "execute_result"
    }
   ],
   "source": [
    "w"
   ]
  },
  {
   "cell_type": "code",
   "execution_count": 49,
   "metadata": {},
   "outputs": [
    {
     "data": {
      "image/png": "[encoded data removed]",
      "text/plain": [
       "<Figure size 432x288 with 1 Axes>"
      ]
     },
     "metadata": {
      "needs_background": "light"
     },
     "output_type": "display_data"
    }
   ],
   "source": [
    "plt.xlabel(\"Epochs\")\n",
    "plt.ylabel(\"Error\")\n",
    "plt.plot(err)\n",
    "plt.title(\"E Detector error\")\n",
    "plt.show()"
   ]
  },
  {
   "cell_type": "code",
   "execution_count": 50,
   "metadata": {},
   "outputs": [
    {
     "data": {
      "image/png": "[encoded data removed]",
      "text/plain": [
       "<Figure size 432x288 with 1 Axes>"
      ]
     },
     "metadata": {
      "needs_background": "light"
     },
     "output_type": "display_data"
    }
   ],
   "source": [
    "plt.xlabel(\"Epochs\")\n",
    "plt.ylabel(\"Accuracy\")\n",
    "plt.plot(acc)\n",
    "plt.title(\"E Detector accuracy\")\n",
    "plt.show()"
   ]
  },
  {
   "cell_type": "markdown",
   "metadata": {},
   "source": [
    "### Test sets"
   ]
  },
  {
   "cell_type": "code",
   "execution_count": 51,
   "metadata": {},
   "outputs": [
    {
     "name": "stdout",
     "output_type": "stream",
     "text": [
      "test set 1 errors:  1.0\n",
      "test set 1 accuracy:  0.96\n"
     ]
    }
   ],
   "source": [
    "t_error1 = 0\n",
    "p_lst = []\n",
    "for i in range(len(tset1[0])):\n",
    "    for j in range(len(tset1[1])):\n",
    "        pred = predict(tset1[i][j],w)\n",
    "        error = (t[i][j] - pred)/2. # errors will be either -1 or 1\n",
    "        t_error1 += np.absolute(error)\n",
    "        if error != 0:\n",
    "            p_lst.append(tset1[i][j])\n",
    "print(\"test set 1 errors: \", t_error1)\n",
    "print(\"test set 1 accuracy: \", 1-t_error1/25)"
   ]
  },
  {
   "cell_type": "code",
   "execution_count": 52,
   "metadata": {},
   "outputs": [
    {
     "data": {
      "image/png": "[encoded data removed]",
      "text/plain": [
       "<Figure size 720x720 with 1 Axes>"
      ]
     },
     "metadata": {
      "needs_background": "light"
     },
     "output_type": "display_data"
    }
   ],
   "source": [
    "show(p_lst)"
   ]
  },
  {
   "cell_type": "markdown",
   "metadata": {},
   "source": [
    "Here we see that in test set 1 the model did not classify the 2nd variation of U (pt122) correctly meaning it though that image was an E."
   ]
  },
  {
   "cell_type": "code",
   "execution_count": 53,
   "metadata": {},
   "outputs": [
    {
     "data": {
      "image/png": "[encoded data removed]",
      "text/plain": [
       "<Figure size 720x720 with 5 Axes>"
      ]
     },
     "metadata": {
      "needs_background": "light"
     },
     "output_type": "display_data"
    },
    {
     "data": {
      "image/png": "[encoded data removed]",
      "text/plain": [
       "<Figure size 720x720 with 5 Axes>"
      ]
     },
     "metadata": {
      "needs_background": "light"
     },
     "output_type": "display_data"
    },
    {
     "data": {
      "image/png": "[encoded data removed]",
      "text/plain": [
       "<Figure size 720x720 with 5 Axes>"
      ]
     },
     "metadata": {
      "needs_background": "light"
     },
     "output_type": "display_data"
    },
    {
     "data": {
      "image/png": "[encoded data removed]",
      "text/plain": [
       "<Figure size 720x720 with 5 Axes>"
      ]
     },
     "metadata": {
      "needs_background": "light"
     },
     "output_type": "display_data"
    },
    {
     "data": {
      "image/png": "[encoded data removed]",
      "text/plain": [
       "<Figure size 720x720 with 5 Axes>"
      ]
     },
     "metadata": {
      "needs_background": "light"
     },
     "output_type": "display_data"
    }
   ],
   "source": [
    "for i in range(5):\n",
    "    show(tset1[i])"
   ]
  },
  {
   "cell_type": "code",
   "execution_count": 54,
   "metadata": {},
   "outputs": [
    {
     "name": "stdout",
     "output_type": "stream",
     "text": [
      "test set 2 errors:  3.0\n",
      "test set 2 accuracy:  0.88\n"
     ]
    }
   ],
   "source": [
    "t_error2 = 0\n",
    "p_lst = []\n",
    "for i in range(len(tset2[0])):\n",
    "    for j in range(len(tset2[1])):\n",
    "        pred = predict(tset2[i][j],w)\n",
    "        error = (t[i][j] - pred)/2. # errors will be either -1 or 1\n",
    "        t_error2 += np.absolute(error)\n",
    "        if error != 0:\n",
    "            p_lst.append(tset2[i][j])\n",
    "print(\"test set 2 errors: \", t_error2)\n",
    "print(\"test set 2 accuracy: \", 1-t_error2/25)"
   ]
  },
  {
   "cell_type": "code",
   "execution_count": 55,
   "metadata": {},
   "outputs": [
    {
     "data": {
      "image/png": "[encoded data removed]",
      "text/plain": [
       "<Figure size 720x720 with 3 Axes>"
      ]
     },
     "metadata": {
      "needs_background": "light"
     },
     "output_type": "display_data"
    }
   ],
   "source": [
    "show(p_lst)"
   ]
  },
  {
   "cell_type": "markdown",
   "metadata": {},
   "source": [
    "Misclassification\n",
    "- 5th variation of A pt205\n",
    "- 4th variation of O pt219\n",
    "- 2nd variation of U pt222"
   ]
  },
  {
   "cell_type": "code",
   "execution_count": 56,
   "metadata": {},
   "outputs": [
    {
     "data": {
      "image/png": "[encoded data removed]",
      "text/plain": [
       "<Figure size 720x720 with 5 Axes>"
      ]
     },
     "metadata": {
      "needs_background": "light"
     },
     "output_type": "display_data"
    },
    {
     "data": {
      "image/png": "[encoded data removed]",
      "text/plain": [
       "<Figure size 720x720 with 5 Axes>"
      ]
     },
     "metadata": {
      "needs_background": "light"
     },
     "output_type": "display_data"
    },
    {
     "data": {
      "image/png": "[encoded data removed]",
      "text/plain": [
       "<Figure size 720x720 with 5 Axes>"
      ]
     },
     "metadata": {
      "needs_background": "light"
     },
     "output_type": "display_data"
    },
    {
     "data": {
      "image/png": "[encoded data removed]",
      "text/plain": [
       "<Figure size 720x720 with 5 Axes>"
      ]
     },
     "metadata": {
      "needs_background": "light"
     },
     "output_type": "display_data"
    },
    {
     "data": {
      "image/png": "[encoded data removed]",
      "text/plain": [
       "<Figure size 720x720 with 5 Axes>"
      ]
     },
     "metadata": {
      "needs_background": "light"
     },
     "output_type": "display_data"
    }
   ],
   "source": [
    "for i in range(5):\n",
    "    show(tset2[i])"
   ]
  },
  {
   "cell_type": "code",
   "execution_count": 57,
   "metadata": {},
   "outputs": [
    {
     "name": "stdout",
     "output_type": "stream",
     "text": [
      "test set 3 errors:  3.0\n",
      "test set 3 accuracy:  0.88\n"
     ]
    }
   ],
   "source": [
    "t_error3 = 0\n",
    "p_lst = []\n",
    "for i in range(len(tset3[0])):\n",
    "    for j in range(len(tset3[1])):\n",
    "        pred = predict(tset3[i][j],w)\n",
    "        error = (t[i][j] - pred)/2. # errors will be either -1 or 1\n",
    "        t_error3 += np.absolute(error)\n",
    "        if error != 0:\n",
    "            p_lst.append(tset3[i][j])\n",
    "print(\"test set 3 errors: \", t_error3)\n",
    "print(\"test set 3 accuracy: \", 1-t_error3/25)"
   ]
  },
  {
   "cell_type": "code",
   "execution_count": 58,
   "metadata": {},
   "outputs": [
    {
     "data": {
      "image/png": "[encoded data removed]",
      "text/plain": [
       "<Figure size 720x720 with 3 Axes>"
      ]
     },
     "metadata": {
      "needs_background": "light"
     },
     "output_type": "display_data"
    }
   ],
   "source": [
    "show(p_lst)"
   ]
  },
  {
   "cell_type": "markdown",
   "metadata": {},
   "source": [
    "Misclassification\n",
    "- 5th variation of A pt305\n",
    "- 2th variation of U pt322\n",
    "- 3nd variation of U pt323"
   ]
  },
  {
   "cell_type": "code",
   "execution_count": 59,
   "metadata": {},
   "outputs": [
    {
     "data": {
      "image/png": "[encoded data removed]",
      "text/plain": [
       "<Figure size 720x720 with 5 Axes>"
      ]
     },
     "metadata": {
      "needs_background": "light"
     },
     "output_type": "display_data"
    },
    {
     "data": {
      "image/png": "[encoded data removed]",
      "text/plain": [
       "<Figure size 720x720 with 5 Axes>"
      ]
     },
     "metadata": {
      "needs_background": "light"
     },
     "output_type": "display_data"
    },
    {
     "data": {
      "image/png": "[encoded data removed]",
      "text/plain": [
       "<Figure size 720x720 with 5 Axes>"
      ]
     },
     "metadata": {
      "needs_background": "light"
     },
     "output_type": "display_data"
    },
    {
     "data": {
      "image/png": "[encoded data removed]",
      "text/plain": [
       "<Figure size 720x720 with 5 Axes>"
      ]
     },
     "metadata": {
      "needs_background": "light"
     },
     "output_type": "display_data"
    },
    {
     "data": {
      "image/png": "[encoded data removed]",
      "text/plain": [
       "<Figure size 720x720 with 5 Axes>"
      ]
     },
     "metadata": {
      "needs_background": "light"
     },
     "output_type": "display_data"
    }
   ],
   "source": [
    "for i in range(5):\n",
    "    show(tset3[i])"
   ]
  },
  {
   "cell_type": "markdown",
   "metadata": {},
   "source": [
    "### Perceptron Conclusion\n",
    "\n",
    "Through my algorithm the perceptron seems to have a harder time classifying correctly using the E Detector. Most of the error were with O or U variation. This is most likely due to the fact that in a 5 by 5 image the O and U might look similar in the training set to the machine."
   ]
  },
  {
   "cell_type": "markdown",
   "metadata": {},
   "source": [
    "## Adaline\n",
    "We will be implementing the Adaline algorithm in the following section. A visual image is show on how the algorithm is implemented."
   ]
  },
  {
   "cell_type": "markdown",
   "metadata": {},
   "source": [
    "![alt text](adaline.png)"
   ]
  },
  {
   "cell_type": "code",
   "execution_count": 60,
   "metadata": {},
   "outputs": [],
   "source": [
    "def hard_lim(Sum,thresh=0):\n",
    "    if Sum>=thresh:\n",
    "        return 1\n",
    "    return -1 "
   ]
  },
  {
   "cell_type": "code",
   "execution_count": 61,
   "metadata": {},
   "outputs": [],
   "source": [
    "def predict_Ada(inputs,w):\n",
    "    tmp = copy.deepcopy(inputs.ravel())\n",
    "    tmp = np.append(tmp,1) #bias\n",
    "    #print(tmp)\n",
    "    #print(w)\n",
    "    pred = np.dot(w,tmp.T) # getting the sum of w and input and then applying the step function\n",
    "    return pred"
   ]
  },
  {
   "cell_type": "code",
   "execution_count": 62,
   "metadata": {},
   "outputs": [],
   "source": [
    "def update_w_ada(w,error,inputs,lr):\n",
    "    tmp = copy.deepcopy(inputs.ravel())\n",
    "    tmp = np.append(tmp,1)\n",
    "    new_w = w + (tmp*error*lr)\n",
    "    return new_w"
   ]
  },
  {
   "cell_type": "code",
   "execution_count": 63,
   "metadata": {},
   "outputs": [],
   "source": [
    "def adaline(x, y, epoch=10, lr=0.1):\n",
    "    w = np.zeros(len(x[0][0].ravel())+1,dtype=float) # Creates 21 weights of zero\n",
    "    b = 1\n",
    "    MSE = []\n",
    "    for epo in range(epoch):\n",
    "        MSE_epo=0\n",
    "        for i in range(len(x[0])):\n",
    "            for j in range(len(x[1])):\n",
    "                pred = predict_Ada(x[i][j],w)\n",
    "                err = (y[i][j] - pred)\n",
    "                w = update_w_ada(w,err,x[i][j],lr)\n",
    "                #print(w)\n",
    "                MSE_epo += ((y[i][j] - pred)**2)\n",
    "                #print(MSE_epo)\n",
    "                \n",
    "        \n",
    "        MSE_epo = MSE_epo/len(y)      \n",
    "        MSE.append(MSE_epo)\n",
    "        print(\"epoch: \",epo, \"MSE: \", MSE_epo)\n",
    "        \n",
    "    return w, MSE"
   ]
  },
  {
   "cell_type": "markdown",
   "metadata": {},
   "source": [
    "### Perceptron \"A\" Detector\n",
    "\n",
    "To observe more on how Adaline functions we will be changing the learning rate(lr) of the algorithm to see how it can change the Mean Square Error(MSE) over each epoch."
   ]
  },
  {
   "cell_type": "code",
   "execution_count": 64,
   "metadata": {},
   "outputs": [],
   "source": [
    "t = np.array([1,1,1,1,1,-1,-1,-1,-1,-1,-1,-1,-1,-1,-1,-1,-1,-1,-1,-1,-1,-1,-1,-1,-1])\n",
    "t = t.reshape(5,5)"
   ]
  },
  {
   "cell_type": "code",
   "execution_count": 65,
   "metadata": {},
   "outputs": [
    {
     "name": "stdout",
     "output_type": "stream",
     "text": [
      "epoch:  0 MSE:  2.7726600151871827\n",
      "epoch:  1 MSE:  3.155187150836673\n",
      "epoch:  2 MSE:  5.803833995736818\n",
      "epoch:  3 MSE:  13.780459536347758\n",
      "epoch:  4 MSE:  23.769738813051035\n",
      "epoch:  5 MSE:  57.45555234706084\n",
      "epoch:  6 MSE:  130.05936871070622\n",
      "epoch:  7 MSE:  302.4962017547473\n",
      "epoch:  8 MSE:  539.923331790429\n",
      "epoch:  9 MSE:  621.5168427092357\n"
     ]
    }
   ],
   "source": [
    "w, MSE = adaline(test_set, t, lr=.1)"
   ]
  },
  {
   "cell_type": "code",
   "execution_count": 66,
   "metadata": {},
   "outputs": [
    {
     "data": {
      "image/png": "[encoded data removed]",
      "text/plain": [
       "<Figure size 432x288 with 1 Axes>"
      ]
     },
     "metadata": {
      "needs_background": "light"
     },
     "output_type": "display_data"
    }
   ],
   "source": [
    "plt.xlabel(\"Epochs\")\n",
    "plt.ylabel(\"MSE\")\n",
    "plt.plot(MSE)\n",
    "plt.title(\"Adaline A Detector MSE\")\n",
    "plt.show()"
   ]
  },
  {
   "cell_type": "markdown",
   "metadata": {},
   "source": [
    "**It seems like with a learning rate of 0.1 the Adaline model will never converge and actually diverges exponetially**"
   ]
  },
  {
   "cell_type": "code",
   "execution_count": 67,
   "metadata": {},
   "outputs": [
    {
     "name": "stdout",
     "output_type": "stream",
     "text": [
      "epoch:  0 MSE:  4.919333436291248\n",
      "epoch:  1 MSE:  4.741639375824331\n",
      "epoch:  2 MSE:  4.570845800479409\n",
      "epoch:  3 MSE:  4.406676639842486\n",
      "epoch:  4 MSE:  4.248867061731913\n",
      "epoch:  5 MSE:  4.097163010036369\n",
      "epoch:  6 MSE:  3.9513207616710657\n",
      "epoch:  7 MSE:  3.811106501858654\n",
      "epoch:  8 MSE:  3.6762959169742677\n",
      "epoch:  9 MSE:  3.54667380422584\n"
     ]
    }
   ],
   "source": [
    "w, MSE = adaline(test_set, t, lr=.0001)"
   ]
  },
  {
   "cell_type": "markdown",
   "metadata": {},
   "source": [
    "**With a learning rate of 0.0001 the Adaline model will converge eventually, I will increase the epoch to see if it converges.**"
   ]
  },
  {
   "cell_type": "code",
   "execution_count": 68,
   "metadata": {},
   "outputs": [
    {
     "name": "stdout",
     "output_type": "stream",
     "text": [
      "epoch:  0 MSE:  4.919333436291248\n",
      "epoch:  1 MSE:  4.741639375824331\n",
      "epoch:  2 MSE:  4.570845800479409\n",
      "epoch:  3 MSE:  4.406676639842486\n",
      "epoch:  4 MSE:  4.248867061731913\n",
      "epoch:  5 MSE:  4.097163010036369\n",
      "epoch:  6 MSE:  3.9513207616710657\n",
      "epoch:  7 MSE:  3.811106501858654\n",
      "epoch:  8 MSE:  3.6762959169742677\n",
      "epoch:  9 MSE:  3.54667380422584\n",
      "epoch:  10 MSE:  3.422033697471055\n",
      "epoch:  11 MSE:  3.30217750850139\n",
      "epoch:  12 MSE:  3.1869151831515543\n",
      "epoch:  13 MSE:  3.076064371619277\n",
      "epoch:  14 MSE:  2.9694501124059762\n",
      "epoch:  15 MSE:  2.866904529313378\n",
      "epoch:  16 MSE:  2.768266540954576\n",
      "epoch:  17 MSE:  2.6733815822606037\n",
      "epoch:  18 MSE:  2.5821013374851085\n",
      "epoch:  19 MSE:  2.4942834842303965\n",
      "epoch:  20 MSE:  2.4097914480379674\n",
      "epoch:  21 MSE:  2.3284941671055988\n",
      "epoch:  22 MSE:  2.250265866711266\n",
      "epoch:  23 MSE:  2.1749858429416222\n",
      "epoch:  24 MSE:  2.102538255339455\n",
      "epoch:  25 MSE:  2.0328119281006005\n",
      "epoch:  26 MSE:  1.9657001594660912\n",
      "epoch:  27 MSE:  1.9011005389700895\n",
      "epoch:  28 MSE:  1.8389147722181947\n",
      "epoch:  29 MSE:  1.7790485128842946\n",
      "epoch:  30 MSE:  1.7214112016270235\n",
      "epoch:  31 MSE:  1.6659159116393536\n",
      "epoch:  32 MSE:  1.6124792005566977\n",
      "epoch:  33 MSE:  1.561020968460357\n",
      "epoch:  34 MSE:  1.5114643217240105\n",
      "epoch:  35 MSE:  1.4637354424614906\n",
      "epoch:  36 MSE:  1.4177634633440552\n",
      "epoch:  37 MSE:  1.3734803475650381\n",
      "epoch:  38 MSE:  1.3308207737389686\n",
      "epoch:  39 MSE:  1.2897220255310646\n",
      "epoch:  40 MSE:  1.2501238858215047\n",
      "epoch:  41 MSE:  1.2119685352169842\n",
      "epoch:  42 MSE:  1.1752004547298454\n",
      "epoch:  43 MSE:  1.1397663324525225\n",
      "epoch:  44 MSE:  1.1056149740621968\n",
      "epoch:  45 MSE:  1.0726972169974023\n",
      "epoch:  46 MSE:  1.0409658481548898\n",
      "epoch:  47 MSE:  1.0103755249613389\n",
      "epoch:  48 MSE:  0.980882699680546\n",
      "epoch:  49 MSE:  0.9524455468225023\n"
     ]
    }
   ],
   "source": [
    "w, MSE = adaline(test_set, t, lr=.0001, epoch=50)"
   ]
  },
  {
   "cell_type": "markdown",
   "metadata": {},
   "source": [
    "**It took about 50 epoch to converge to around 1. As we see it takes longer to converge from 2 to 1 than from 4 to 3. This indicates to me that from 1 to close to 0 might take alot longer**"
   ]
  },
  {
   "cell_type": "code",
   "execution_count": 69,
   "metadata": {},
   "outputs": [
    {
     "data": {
      "image/png": "[encoded data removed]",
      "text/plain": [
       "<Figure size 432x288 with 1 Axes>"
      ]
     },
     "metadata": {
      "needs_background": "light"
     },
     "output_type": "display_data"
    }
   ],
   "source": [
    "plt.xlabel(\"Epochs\")\n",
    "plt.ylabel(\"MSE\")\n",
    "plt.plot(MSE)\n",
    "plt.title(\"Adaline A Detector MSE\")\n",
    "plt.show()"
   ]
  },
  {
   "cell_type": "code",
   "execution_count": 70,
   "metadata": {},
   "outputs": [
    {
     "name": "stdout",
     "output_type": "stream",
     "text": [
      "epoch:  0 MSE:  1.5459225731391515\n",
      "epoch:  1 MSE:  0.18143179312850513\n",
      "epoch:  2 MSE:  0.13988033863887475\n",
      "epoch:  3 MSE:  0.11719217019984549\n",
      "epoch:  4 MSE:  0.10294176893180715\n",
      "epoch:  5 MSE:  0.09375567850883318\n",
      "epoch:  6 MSE:  0.08744509610344633\n",
      "epoch:  7 MSE:  0.08279281260314199\n",
      "epoch:  8 MSE:  0.07913601110779159\n",
      "epoch:  9 MSE:  0.07610806014205342\n"
     ]
    }
   ],
   "source": [
    "w, MSE = adaline(test_set, t, lr=.01)"
   ]
  },
  {
   "cell_type": "code",
   "execution_count": 71,
   "metadata": {},
   "outputs": [
    {
     "data": {
      "image/png": "[encoded data removed]",
      "text/plain": [
       "<Figure size 432x288 with 1 Axes>"
      ]
     },
     "metadata": {
      "needs_background": "light"
     },
     "output_type": "display_data"
    }
   ],
   "source": [
    "plt.xlabel(\"Epochs\")\n",
    "plt.ylabel(\"MSE\")\n",
    "plt.plot(MSE)\n",
    "plt.title(\"Adaline A Detector MSE\")\n",
    "plt.show()"
   ]
  },
  {
   "cell_type": "markdown",
   "metadata": {},
   "source": [
    "**With a learning rate of 0.01 the Adaline converges very quickly and took only 2 epochs to have an MSE less than 1**"
   ]
  },
  {
   "cell_type": "code",
   "execution_count": 72,
   "metadata": {},
   "outputs": [
    {
     "name": "stdout",
     "output_type": "stream",
     "text": [
      "test set 2 errors:  0\n",
      "test set 2 accuracy:  1.0\n"
     ]
    }
   ],
   "source": [
    "t_error1 = 0\n",
    "p_lst = []\n",
    "for i in range(len(tset1[0])):\n",
    "    for j in range(len(tset1[1])):\n",
    "        pred = hard_lim(predict_Ada(tset1[i][j],w))\n",
    "        if pred!=t[i][j]:\n",
    "            t_error1 +=1\n",
    "            p_lst.append(tset1[i][j])\n",
    "            \n",
    "print(\"test set 2 errors: \", t_error1)\n",
    "print(\"test set 2 accuracy: \", 1-t_error1/25)"
   ]
  },
  {
   "cell_type": "code",
   "execution_count": 73,
   "metadata": {},
   "outputs": [
    {
     "name": "stdout",
     "output_type": "stream",
     "text": [
      "test set 2 errors:  0\n",
      "test set 2 accuracy:  1.0\n"
     ]
    }
   ],
   "source": [
    "t_error2 = 0\n",
    "p_lst = []\n",
    "for i in range(len(tset2[0])):\n",
    "    for j in range(len(tset2[1])):\n",
    "        pred = hard_lim(predict_Ada(tset2[i][j],w))\n",
    "        if pred!=t[i][j]:\n",
    "            t_error2 +=1\n",
    "            p_lst.append(tset2[i][j])\n",
    "            \n",
    "print(\"test set 2 errors: \", t_error2)\n",
    "print(\"test set 2 accuracy: \", 1-t_error2/25)"
   ]
  },
  {
   "cell_type": "code",
   "execution_count": 74,
   "metadata": {},
   "outputs": [
    {
     "name": "stdout",
     "output_type": "stream",
     "text": [
      "test set 2 errors:  0\n",
      "test set 2 accuracy:  1.0\n"
     ]
    }
   ],
   "source": [
    "t_error3 = 0\n",
    "p_lst = []\n",
    "for i in range(len(tset3[0])):\n",
    "    for j in range(len(tset3[1])):\n",
    "        pred = hard_lim(predict_Ada(tset3[i][j],w))\n",
    "        if pred!=t[i][j]:\n",
    "            t_error3 +=1\n",
    "            p_lst.append(tset3[i][j])\n",
    "            \n",
    "print(\"test set 2 errors: \", t_error3)\n",
    "print(\"test set 2 accuracy: \", 1-t_error3/25)"
   ]
  },
  {
   "cell_type": "markdown",
   "metadata": {},
   "source": [
    "**From the results observe from the test data sets there were no misclassification meaning that adaline performed better in general compare to the perceptron**"
   ]
  },
  {
   "cell_type": "markdown",
   "metadata": {},
   "source": [
    "### Perceptron \"E\" Detector"
   ]
  },
  {
   "cell_type": "code",
   "execution_count": 75,
   "metadata": {},
   "outputs": [],
   "source": [
    "t = np.array([-1,-1,-1,-1,-1,1,1,1,1,1,-1,-1,-1,-1,-1,-1,-1,-1,-1,-1,-1,-1,-1,-1,-1])\n",
    "t = t.reshape(5,5)"
   ]
  },
  {
   "cell_type": "code",
   "execution_count": 76,
   "metadata": {},
   "outputs": [
    {
     "name": "stdout",
     "output_type": "stream",
     "text": [
      "epoch:  0 MSE:  5.884367455573768\n",
      "epoch:  1 MSE:  8.501544263374196\n",
      "epoch:  2 MSE:  9.640417085828911\n",
      "epoch:  3 MSE:  25.650459350198567\n",
      "epoch:  4 MSE:  11.183070666620065\n",
      "epoch:  5 MSE:  60.95193068592897\n",
      "epoch:  6 MSE:  108.66690814531417\n",
      "epoch:  7 MSE:  148.27562131581152\n",
      "epoch:  8 MSE:  266.59446033244694\n",
      "epoch:  9 MSE:  606.4485132015477\n"
     ]
    }
   ],
   "source": [
    "w, MSE = adaline(test_set, t, lr=.1)"
   ]
  },
  {
   "cell_type": "code",
   "execution_count": 77,
   "metadata": {},
   "outputs": [
    {
     "data": {
      "image/png": "[encoded data removed]",
      "text/plain": [
       "<Figure size 432x288 with 1 Axes>"
      ]
     },
     "metadata": {
      "needs_background": "light"
     },
     "output_type": "display_data"
    }
   ],
   "source": [
    "plt.xlabel(\"Epochs\")\n",
    "plt.ylabel(\"MSE\")\n",
    "plt.plot(MSE)\n",
    "plt.title(\"Adaline E Detector MSE\")\n",
    "plt.show()"
   ]
  },
  {
   "cell_type": "code",
   "execution_count": 78,
   "metadata": {},
   "outputs": [
    {
     "name": "stdout",
     "output_type": "stream",
     "text": [
      "epoch:  0 MSE:  4.991852331514243\n",
      "epoch:  1 MSE:  4.955150363031657\n",
      "epoch:  2 MSE:  4.918988226449324\n",
      "epoch:  3 MSE:  4.883349898425096\n",
      "epoch:  4 MSE:  4.8482199772904995\n",
      "epoch:  5 MSE:  4.813583657524463\n",
      "epoch:  6 MSE:  4.779426705287005\n",
      "epoch:  7 MSE:  4.745735434968762\n",
      "epoch:  8 MSE:  4.712496686714065\n",
      "epoch:  9 MSE:  4.679697804877003\n"
     ]
    }
   ],
   "source": [
    "w, MSE = adaline(test_set, t, lr=.0001)"
   ]
  },
  {
   "cell_type": "code",
   "execution_count": 79,
   "metadata": {},
   "outputs": [
    {
     "data": {
      "image/png": "[encoded data removed]",
      "text/plain": [
       "<Figure size 432x288 with 1 Axes>"
      ]
     },
     "metadata": {
      "needs_background": "light"
     },
     "output_type": "display_data"
    }
   ],
   "source": [
    "plt.xlabel(\"Epochs\")\n",
    "plt.ylabel(\"MSE\")\n",
    "plt.plot(MSE)\n",
    "plt.title(\"Adaline E Detector MSE\")\n",
    "plt.show()"
   ]
  },
  {
   "cell_type": "code",
   "execution_count": 80,
   "metadata": {},
   "outputs": [
    {
     "name": "stdout",
     "output_type": "stream",
     "text": [
      "epoch:  0 MSE:  3.640203509704366\n",
      "epoch:  1 MSE:  2.5888183018734536\n",
      "epoch:  2 MSE:  1.597112904798421\n",
      "epoch:  3 MSE:  1.0227774194125614\n",
      "epoch:  4 MSE:  0.7123971889759368\n",
      "epoch:  5 MSE:  0.5431558869863933\n",
      "epoch:  6 MSE:  0.4479298365456133\n",
      "epoch:  7 MSE:  0.39157828557285845\n",
      "epoch:  8 MSE:  0.35581630470727355\n",
      "epoch:  9 MSE:  0.33112594701943293\n"
     ]
    }
   ],
   "source": [
    "w, MSE = adaline(test_set, t, lr=.01)"
   ]
  },
  {
   "cell_type": "code",
   "execution_count": 81,
   "metadata": {},
   "outputs": [
    {
     "data": {
      "image/png": "[encoded data removed]",
      "text/plain": [
       "<Figure size 432x288 with 1 Axes>"
      ]
     },
     "metadata": {
      "needs_background": "light"
     },
     "output_type": "display_data"
    }
   ],
   "source": [
    "plt.xlabel(\"Epochs\")\n",
    "plt.ylabel(\"MSE\")\n",
    "plt.plot(MSE)\n",
    "plt.title(\"Adaline E Detector MSE\")\n",
    "plt.show()"
   ]
  },
  {
   "cell_type": "markdown",
   "metadata": {},
   "source": [
    "**From the observation of making an E detector the learning rate seems to behave about the same as the A detector**"
   ]
  },
  {
   "cell_type": "code",
   "execution_count": 82,
   "metadata": {},
   "outputs": [
    {
     "name": "stdout",
     "output_type": "stream",
     "text": [
      "test set 2 errors:  0\n",
      "test set 2 accuracy:  1.0\n"
     ]
    }
   ],
   "source": [
    "t_error1 = 0\n",
    "p_lst = []\n",
    "for i in range(len(tset1[0])):\n",
    "    for j in range(len(tset1[1])):\n",
    "        pred = hard_lim(predict_Ada(tset1[i][j],w))\n",
    "        if pred!=t[i][j]:\n",
    "            t_error1 +=1\n",
    "            p_lst.append(tset1[i][j])\n",
    "            \n",
    "print(\"test set 2 errors: \", t_error1)\n",
    "print(\"test set 2 accuracy: \", 1-t_error1/25)"
   ]
  },
  {
   "cell_type": "code",
   "execution_count": 83,
   "metadata": {},
   "outputs": [
    {
     "name": "stdout",
     "output_type": "stream",
     "text": [
      "test set 2 errors:  0\n",
      "test set 2 accuracy:  1.0\n"
     ]
    }
   ],
   "source": [
    "t_error2 = 0\n",
    "p_lst = []\n",
    "for i in range(len(tset2[0])):\n",
    "    for j in range(len(tset2[1])):\n",
    "        pred = hard_lim(predict_Ada(tset2[i][j],w))\n",
    "        if pred!=t[i][j]:\n",
    "            t_error2 +=1\n",
    "            p_lst.append(tset2[i][j])\n",
    "            \n",
    "print(\"test set 2 errors: \", t_error2)\n",
    "print(\"test set 2 accuracy: \", 1-t_error2/25)"
   ]
  },
  {
   "cell_type": "code",
   "execution_count": 84,
   "metadata": {},
   "outputs": [
    {
     "name": "stdout",
     "output_type": "stream",
     "text": [
      "test set 2 errors:  1\n",
      "test set 2 accuracy:  0.96\n"
     ]
    }
   ],
   "source": [
    "t_error3 = 0\n",
    "p_lst = []\n",
    "for i in range(len(tset3[0])):\n",
    "    for j in range(len(tset3[1])):\n",
    "        pred = hard_lim(predict_Ada(tset3[i][j],w))\n",
    "        if pred!=t[i][j]:\n",
    "            t_error3 +=1\n",
    "            p_lst.append(tset3[i][j])\n",
    "            \n",
    "print(\"test set 2 errors: \", t_error3)\n",
    "print(\"test set 2 accuracy: \", 1-t_error3/25)"
   ]
  },
  {
   "cell_type": "code",
   "execution_count": 85,
   "metadata": {},
   "outputs": [
    {
     "data": {
      "image/png": "[encoded data removed]",
      "text/plain": [
       "<Figure size 720x720 with 1 Axes>"
      ]
     },
     "metadata": {
      "needs_background": "light"
     },
     "output_type": "display_data"
    }
   ],
   "source": [
    "show(p_lst)"
   ]
  },
  {
   "cell_type": "code",
   "execution_count": 86,
   "metadata": {},
   "outputs": [
    {
     "data": {
      "image/png": "[encoded data removed]",
      "text/plain": [
       "<Figure size 720x720 with 5 Axes>"
      ]
     },
     "metadata": {
      "needs_background": "light"
     },
     "output_type": "display_data"
    },
    {
     "data": {
      "image/png": "[encoded data removed]",
      "text/plain": [
       "<Figure size 720x720 with 5 Axes>"
      ]
     },
     "metadata": {
      "needs_background": "light"
     },
     "output_type": "display_data"
    },
    {
     "data": {
      "image/png": "[encoded data removed]",
      "text/plain": [
       "<Figure size 720x720 with 5 Axes>"
      ]
     },
     "metadata": {
      "needs_background": "light"
     },
     "output_type": "display_data"
    },
    {
     "data": {
      "image/png": "[encoded data removed]",
      "text/plain": [
       "<Figure size 720x720 with 5 Axes>"
      ]
     },
     "metadata": {
      "needs_background": "light"
     },
     "output_type": "display_data"
    },
    {
     "data": {
      "image/png": "[encoded data removed]",
      "text/plain": [
       "<Figure size 720x720 with 5 Axes>"
      ]
     },
     "metadata": {
      "needs_background": "light"
     },
     "output_type": "display_data"
    }
   ],
   "source": [
    "for i in range(5):\n",
    "    show(tset3[i])"
   ]
  },
  {
   "cell_type": "markdown",
   "metadata": {},
   "source": [
    "**When using Adaline there was one error caught even though the E detector had a lower MSE than the A detector**"
   ]
  },
  {
   "cell_type": "markdown",
   "metadata": {},
   "source": [
    "### Adaline Conclusion\n",
    "\n",
    "Evidently trough the result the Adeline mode works better than the Perceptron in this application. Seeing as by using the learning rate and changing the weights a little at a time shows that eventually the Adaline model will produce better result than the Perceptron since the Perceptron is using the class labels to change its weight so is more straightforward."
   ]
  },
  {
   "cell_type": "markdown",
   "metadata": {},
   "source": [
    "## Final Conclusion\n",
    "\n",
    "Through this lab we were able to explore the algorithm behind the Perceptron and Adaline Neural Network algorithm. With the Vowel dataset that we created we had first-hand examples on how the Adaline may be better than the Perceptron in this types of applications. Mostly due to the fact Adaline changes the weight differently, it does it by trying to figure the optimal weights to decrease the MSE value through a process called Gradient Descent.\n",
    "\n",
    "But this is only a single layer neural network which can do pretty basic stuff but once classifying more complex dataset I strongly believe that we will have to move on the multi-layer neural network that will be for future projects."
   ]
  }
 ],
 "metadata": {
  "kernelspec": {
   "display_name": "Python 3",
   "language": "python",
   "name": "python3"
  },
  "language_info": {
   "codemirror_mode": {
    "name": "ipython",
    "version": 3
   },
   "file_extension": ".py",
   "mimetype": "text/x-python",
   "name": "python",
   "nbconvert_exporter": "python",
   "pygments_lexer": "ipython3",
   "version": "3.7.9"
  }
 },
 "nbformat": 4,
 "nbformat_minor": 4
}
