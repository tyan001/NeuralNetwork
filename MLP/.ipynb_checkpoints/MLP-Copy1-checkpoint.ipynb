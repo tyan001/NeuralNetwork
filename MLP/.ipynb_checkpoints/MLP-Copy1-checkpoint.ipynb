{
 "cells": [
  {
   "cell_type": "markdown",
   "metadata": {},
   "source": [
    "**Thony Yan <br>\n",
    "PID:3913880**"
   ]
  },
  {
   "cell_type": "code",
   "execution_count": 1,
   "metadata": {},
   "outputs": [],
   "source": [
    "import numpy as np\n",
    "import matplotlib.pyplot as plt\n",
    "import copy"
   ]
  },
  {
   "cell_type": "markdown",
   "metadata": {},
   "source": [
    "# Multilayer Perceptron (MLP)\n",
    "\n",
    "To understand a multilayer perceptron, we must see how a regular perceptron function. A perceptron is a very simple unit for learning machine. It does this by taking an input and multiplying it by their associated weights. The weights signify how important the input is. Now when you have multiple perceptrons, it forms a multilayer perceptron.[1] "
   ]
  },
  {
   "cell_type": "markdown",
   "metadata": {},
   "source": [
    "![](images/Perceptron2.png)"
   ]
  },
  {
   "cell_type": "markdown",
   "metadata": {},
   "source": [
    "A multilayer perceptron is a structure where many perceptrons are stacked to form different layers to solve relatively complex problems. A basic MLP typically has three types of layers, the input layer which are the features we want to predict, the output layer that are the results after passing though the MLP, and the hidden layer which are basically neural networks that sits between the input and output layer. Below is a simple MLP structure with two features, three neurons as the hidden layer, and three outputs in the output layer. Note: the bias in the layers store as a value of one that makes it possible for the activation function be able to adjust."
   ]
  },
  {
   "cell_type": "markdown",
   "metadata": {},
   "source": [
    "![alt text](images/MLP.png)"
   ]
  },
  {
   "cell_type": "markdown",
   "metadata": {},
   "source": [
    "Now in this project I will implement the MLP structure in Python. After the creating of the, I will implement the training algorithm that occurs in an MLP. Which consists of the feed forward calculation, the backpropagation, and finally updating the weights so that the neural network learns from the features pass through the network."
   ]
  },
  {
   "cell_type": "markdown",
   "metadata": {},
   "source": [
    "## The Data"
   ]
  },
  {
   "cell_type": "markdown",
   "metadata": {},
   "source": [
    "First we must create the data to train on. We will be making an array of signed binary 1s that when arrange into a 5 by 5 matrix will display an image of the 5 vowels of the English alphabet *a ,e, i, o, u*. After creating the vowels we will create 4 more images from the original vowels but each image will have 1 pixel change (the 1 will turn to a -1 and vice versa)."
   ]
  },
  {
   "cell_type": "markdown",
   "metadata": {},
   "source": [
    "In this following example we will see how it is suppose to look:<br>"
   ]
  },
  {
   "cell_type": "markdown",
   "metadata": {},
   "source": [
    "![](images/A_image.png)"
   ]
  },
  {
   "cell_type": "code",
   "execution_count": 2,
   "metadata": {
    "pycharm": {
     "name": "#%%\n"
    }
   },
   "outputs": [],
   "source": [
    "p1 = np.array([-1,-1,1,-1,-1,-1,1,-1,1,-1,1,1,1,1,1,1,-1,-1,-1,1])\n",
    "p6 = np.array([1,1,1,1,1,1,-1,-1,-1,-1,1,1,1,-1,-1,1,1,1,1,1])\n",
    "p11 = np.array([-1,1,1,1,-1,-1,-1,1,-1,-1,-1,-1,1,-1,-1,-1,1,1,1,-1])\n",
    "p16 = np.array([1,1,1,1,1,1,-1,-1,-1,1,1,-1,-1,-1,1,1,1,1,1,1])\n",
    "p21 = np.array([1,-1,-1,-1,1,1,-1,-1,-1,1,1,-1,-1,-1,1,1,1,1,1,1])"
   ]
  },
  {
   "cell_type": "code",
   "execution_count": 3,
   "metadata": {
    "pycharm": {
     "name": "#%%\n"
    }
   },
   "outputs": [],
   "source": [
    "p1 = p1.reshape(4,5)\n",
    "p6 = p6.reshape(4,5)\n",
    "p11 = p11.reshape(4,5)\n",
    "p16 = p16.reshape(4,5)\n",
    "p21 = p21.reshape(4,5)"
   ]
  },
  {
   "cell_type": "code",
   "execution_count": 4,
   "metadata": {
    "pycharm": {
     "name": "#%%\n"
    }
   },
   "outputs": [
    {
     "data": {
      "text/plain": [
       "(4, 5)"
      ]
     },
     "execution_count": 4,
     "metadata": {},
     "output_type": "execute_result"
    }
   ],
   "source": [
    "p1.shape"
   ]
  },
  {
   "cell_type": "code",
   "execution_count": 5,
   "metadata": {
    "pycharm": {
     "name": "#%%\n"
    }
   },
   "outputs": [],
   "source": [
    "base = [p1,p6,p11,p16,p21]"
   ]
  },
  {
   "cell_type": "code",
   "execution_count": 6,
   "metadata": {
    "pycharm": {
     "name": "#%%\n"
    }
   },
   "outputs": [],
   "source": [
    "def show(figs): # This function is use to show image\n",
    "    img=plt.figure(figsize=(10, 10))\n",
    "    for i in range(len(figs)):\n",
    "        img.add_subplot(5, 5, i+1)\n",
    "        plt.imshow(figs[i]-1, cmap='Greys')"
   ]
  },
  {
   "cell_type": "markdown",
   "metadata": {},
   "source": [
    "**In the following snippet of code we can see all 5 vowels display.**"
   ]
  },
  {
   "cell_type": "code",
   "execution_count": 7,
   "metadata": {
    "pycharm": {
     "name": "#%%\n"
    }
   },
   "outputs": [
    {
     "data": {
      "image/png": "[encoded data removed]",
      "text/plain": [
       "<Figure size 576x576 with 5 Axes>"
      ]
     },
     "metadata": {
      "needs_background": "light"
     },
     "output_type": "display_data"
    }
   ],
   "source": [
    "img=plt.figure(figsize=(8, 8))\n",
    "for i in range(1,6):\n",
    "    img.add_subplot(5, 5, i)\n",
    "    plt.imshow(base[i-1]-1, cmap='Greys')"
   ]
  },
  {
   "cell_type": "markdown",
   "metadata": {},
   "source": [
    "**Here we are getting the x and y coordinates to invert the pixel. Example we will get the original vowel A matrix and invert the pixel located at (2,1) to create a variation of A. Then we will repeat this process for (3,2) and so on.**"
   ]
  },
  {
   "cell_type": "code",
   "execution_count": 8,
   "metadata": {
    "pycharm": {
     "name": "#%%\n"
    }
   },
   "outputs": [],
   "source": [
    "a_mod = np.array([[2,1],[3,2],[3,4],[4,4]])\n",
    "e_mod = np.array([[2,2],[4,2],[5,3],[4,3]])\n",
    "i_mod = np.array([[1,1],[4,2],[1,4],[4,3]])\n",
    "o_mod = np.array([[2,2],[4,2],[2,3],[4,3]])\n",
    "u_mod = np.array([[2,1],[4,1],[2,3],[4,3]])"
   ]
  },
  {
   "cell_type": "code",
   "execution_count": 9,
   "metadata": {
    "pycharm": {
     "name": "#%%\n"
    }
   },
   "outputs": [],
   "source": [
    "mod = [a_mod,e_mod,i_mod,o_mod,u_mod]"
   ]
  },
  {
   "cell_type": "code",
   "execution_count": 10,
   "metadata": {
    "pycharm": {
     "name": "#%%\n"
    }
   },
   "outputs": [],
   "source": [
    "def modify(base, mod):\n",
    "    lst = []\n",
    "    lst.append(base)\n",
    "    for i in range(len(mod)):\n",
    "        tmp = copy.deepcopy(base)\n",
    "        tmp[mod[i][1]-1,mod[i][0]-1] *= -1\n",
    "        lst.append(tmp)\n",
    "\n",
    "    return lst"
   ]
  },
  {
   "cell_type": "code",
   "execution_count": 11,
   "metadata": {
    "pycharm": {
     "name": "#%%\n"
    }
   },
   "outputs": [],
   "source": [
    "a_test = modify(base[0], mod[0])\n",
    "e_test = modify(base[1], mod[1])\n",
    "i_test = modify(base[2], mod[2])\n",
    "o_test = modify(base[3], mod[3])\n",
    "u_test = modify(base[4], mod[4])"
   ]
  },
  {
   "cell_type": "code",
   "execution_count": 12,
   "metadata": {
    "pycharm": {
     "name": "#%%\n"
    }
   },
   "outputs": [
    {
     "data": {
      "image/png": "[encoded data removed]",
      "text/plain": [
       "<Figure size 720x720 with 5 Axes>"
      ]
     },
     "metadata": {
      "needs_background": "light"
     },
     "output_type": "display_data"
    },
    {
     "data": {
      "image/png": "[encoded data removed]",
      "text/plain": [
       "<Figure size 720x720 with 5 Axes>"
      ]
     },
     "metadata": {
      "needs_background": "light"
     },
     "output_type": "display_data"
    },
    {
     "data": {
      "image/png": "[encoded data removed]",
      "text/plain": [
       "<Figure size 720x720 with 5 Axes>"
      ]
     },
     "metadata": {
      "needs_background": "light"
     },
     "output_type": "display_data"
    },
    {
     "data": {
      "image/png": "[encoded data removed]",
      "text/plain": [
       "<Figure size 720x720 with 5 Axes>"
      ]
     },
     "metadata": {
      "needs_background": "light"
     },
     "output_type": "display_data"
    },
    {
     "data": {
      "image/png": "[encoded data removed]",
      "text/plain": [
       "<Figure size 720x720 with 5 Axes>"
      ]
     },
     "metadata": {
      "needs_background": "light"
     },
     "output_type": "display_data"
    }
   ],
   "source": [
    "show(a_test)\n",
    "show(e_test)\n",
    "show(i_test)\n",
    "show(o_test)\n",
    "show(u_test)"
   ]
  },
  {
   "cell_type": "markdown",
   "metadata": {},
   "source": [
    "**Above are the vowels and their 4 variations that we will use as the training set for our perceptron and adaline algorithm. Next we will be creating the test sets. In test set 1 we will still have the original vowels but now with a different 1 pixel variation.**"
   ]
  },
  {
   "cell_type": "code",
   "execution_count": 13,
   "metadata": {},
   "outputs": [],
   "source": [
    "test_set = np.array([a_test,e_test,i_test,o_test,u_test])"
   ]
  },
  {
   "cell_type": "code",
   "execution_count": 14,
   "metadata": {},
   "outputs": [],
   "source": [
    "tset_mod1 = np.array([[ [4,1],[5,3],[2,4],[1,2] ],  #tset1 a\n",
    "                      [ [2,4],[5,2],[4,3],[1,3] ],  #tset1 e\n",
    "                      [ [4,4],[2,4],[2,2],[3,4] ],  #tset1 i\n",
    "                      [ [1,3],[3,2],[5,4],[3,3] ],  #tset1 o\n",
    "                      [ [5,3],[3,4],[1,4],[5,4] ]]) #tset1 u"
   ]
  },
  {
   "cell_type": "code",
   "execution_count": 15,
   "metadata": {},
   "outputs": [],
   "source": [
    "tset1_a = modify(base[0], tset_mod1[0])\n",
    "tset1_e = modify(base[1], tset_mod1[1])\n",
    "tset1_i = modify(base[2], tset_mod1[2])\n",
    "tset1_o = modify(base[3], tset_mod1[3])\n",
    "tset1_u = modify(base[4], tset_mod1[4])"
   ]
  },
  {
   "cell_type": "code",
   "execution_count": 16,
   "metadata": {},
   "outputs": [
    {
     "data": {
      "image/png": "[encoded data removed]",
      "text/plain": [
       "<Figure size 720x720 with 5 Axes>"
      ]
     },
     "metadata": {
      "needs_background": "light"
     },
     "output_type": "display_data"
    },
    {
     "data": {
      "image/png": "[encoded data removed]",
      "text/plain": [
       "<Figure size 720x720 with 5 Axes>"
      ]
     },
     "metadata": {
      "needs_background": "light"
     },
     "output_type": "display_data"
    },
    {
     "data": {
      "image/png": "[encoded data removed]",
      "text/plain": [
       "<Figure size 720x720 with 5 Axes>"
      ]
     },
     "metadata": {
      "needs_background": "light"
     },
     "output_type": "display_data"
    },
    {
     "data": {
      "image/png": "[encoded data removed]",
      "text/plain": [
       "<Figure size 720x720 with 5 Axes>"
      ]
     },
     "metadata": {
      "needs_background": "light"
     },
     "output_type": "display_data"
    },
    {
     "data": {
      "image/png": "[encoded data removed]",
      "text/plain": [
       "<Figure size 720x720 with 5 Axes>"
      ]
     },
     "metadata": {
      "needs_background": "light"
     },
     "output_type": "display_data"
    }
   ],
   "source": [
    "show(tset1_a)\n",
    "show(tset1_e)\n",
    "show(tset1_i)\n",
    "show(tset1_o)\n",
    "show(tset1_u)"
   ]
  },
  {
   "cell_type": "code",
   "execution_count": 17,
   "metadata": {},
   "outputs": [],
   "source": [
    "tset1 = np.array([tset1_a,tset1_e,tset1_i,tset1_o,tset1_u])"
   ]
  },
  {
   "cell_type": "markdown",
   "metadata": {},
   "source": [
    "**For test set 2 we will be grabbing the vowel variations from test set 1 and inverting 1 more pixel.**"
   ]
  },
  {
   "cell_type": "code",
   "execution_count": 18,
   "metadata": {},
   "outputs": [],
   "source": [
    "tset_mod2 = np.array([[ [3,2],[1,3],[3,3],[2,1] ], #tset2 a\n",
    "                      [ [3,2],[3,3],[5,4],[1,2] ], #tset2 e\n",
    "                      [ [1,3],[2,2],[4,3],[1,4] ], #tset2 i\n",
    "                      [ [4,3],[4,3],[5,1],[2,4] ], #tset2 o\n",
    "                      [ [3,3],[2,2],[2,1],[1,3] ]])#tset2 u"
   ]
  },
  {
   "cell_type": "code",
   "execution_count": 19,
   "metadata": {},
   "outputs": [],
   "source": [
    "def modify2(base,mod):\n",
    "    lst = []\n",
    "    lst.append(base[0])\n",
    "    for i in range(1,5):\n",
    "        tmp = copy.deepcopy(base[i])\n",
    "        tmp[mod[i-1][1]-1,mod[i-1][0]-1] *= -1\n",
    "        lst.append(tmp)\n",
    "    return lst"
   ]
  },
  {
   "cell_type": "code",
   "execution_count": 20,
   "metadata": {},
   "outputs": [],
   "source": [
    "tset2_a = modify2(tset1_a,tset_mod2[0])\n",
    "tset2_e = modify2(tset1_e,tset_mod2[1])\n",
    "tset2_i = modify2(tset1_i,tset_mod2[2])\n",
    "tset2_o = modify2(tset1_o,tset_mod2[3])\n",
    "tset2_u = modify2(tset1_u,tset_mod2[4])"
   ]
  },
  {
   "cell_type": "code",
   "execution_count": 21,
   "metadata": {},
   "outputs": [
    {
     "data": {
      "image/png": "[encoded data removed]",
      "text/plain": [
       "<Figure size 720x720 with 5 Axes>"
      ]
     },
     "metadata": {
      "needs_background": "light"
     },
     "output_type": "display_data"
    },
    {
     "data": {
      "image/png": "[encoded data removed]",
      "text/plain": [
       "<Figure size 720x720 with 5 Axes>"
      ]
     },
     "metadata": {
      "needs_background": "light"
     },
     "output_type": "display_data"
    },
    {
     "data": {
      "image/png": "[encoded data removed]",
      "text/plain": [
       "<Figure size 720x720 with 5 Axes>"
      ]
     },
     "metadata": {
      "needs_background": "light"
     },
     "output_type": "display_data"
    },
    {
     "data": {
      "image/png": "[encoded data removed]",
      "text/plain": [
       "<Figure size 720x720 with 5 Axes>"
      ]
     },
     "metadata": {
      "needs_background": "light"
     },
     "output_type": "display_data"
    },
    {
     "data": {
      "image/png": "[encoded data removed]",
      "text/plain": [
       "<Figure size 720x720 with 5 Axes>"
      ]
     },
     "metadata": {
      "needs_background": "light"
     },
     "output_type": "display_data"
    }
   ],
   "source": [
    "show(tset2_a)\n",
    "show(tset2_e)\n",
    "show(tset2_i)\n",
    "show(tset2_o)\n",
    "show(tset2_u)"
   ]
  },
  {
   "cell_type": "code",
   "execution_count": 22,
   "metadata": {},
   "outputs": [],
   "source": [
    "tset2 = np.array([tset2_a,tset2_e,tset2_i,tset2_o,tset2_u])"
   ]
  },
  {
   "cell_type": "markdown",
   "metadata": {},
   "source": [
    "**We will be using the same process to create test set 3 but using the variations of test set 2**"
   ]
  },
  {
   "cell_type": "code",
   "execution_count": 23,
   "metadata": {},
   "outputs": [],
   "source": [
    "tset_mod3 = np.array([[ [5,2],[3,3],[1,3],[5,1] ], #tset3 a\n",
    "                      [ [3,4],[1,4],[5,2],[1,3] ], #tset3 e\n",
    "                      [ [1,1],[1,2],[2,4],[2,1] ], #tset3 i\n",
    "                      [ [1,2],[4,2],[3,3],[1,4] ], #tset3 o\n",
    "                      [ [3,2],[5,2],[5,4],[4,2] ]])#tset3 u"
   ]
  },
  {
   "cell_type": "code",
   "execution_count": 24,
   "metadata": {},
   "outputs": [],
   "source": [
    "tset3_a = modify2(tset2_a,tset_mod3[0])\n",
    "tset3_e = modify2(tset2_e,tset_mod3[1])\n",
    "tset3_i = modify2(tset2_i,tset_mod3[2])\n",
    "tset3_o = modify2(tset2_o,tset_mod3[3])\n",
    "tset3_u = modify2(tset2_u,tset_mod3[4])"
   ]
  },
  {
   "cell_type": "code",
   "execution_count": 25,
   "metadata": {},
   "outputs": [
    {
     "data": {
      "image/png": "[encoded data removed]",
      "text/plain": [
       "<Figure size 720x720 with 5 Axes>"
      ]
     },
     "metadata": {
      "needs_background": "light"
     },
     "output_type": "display_data"
    },
    {
     "data": {
      "image/png": "[encoded data removed]",
      "text/plain": [
       "<Figure size 720x720 with 5 Axes>"
      ]
     },
     "metadata": {
      "needs_background": "light"
     },
     "output_type": "display_data"
    },
    {
     "data": {
      "image/png": "[encoded data removed]",
      "text/plain": [
       "<Figure size 720x720 with 5 Axes>"
      ]
     },
     "metadata": {
      "needs_background": "light"
     },
     "output_type": "display_data"
    },
    {
     "data": {
      "image/png": "[encoded data removed]",
      "text/plain": [
       "<Figure size 720x720 with 5 Axes>"
      ]
     },
     "metadata": {
      "needs_background": "light"
     },
     "output_type": "display_data"
    },
    {
     "data": {
      "image/png": "[encoded data removed]",
      "text/plain": [
       "<Figure size 720x720 with 5 Axes>"
      ]
     },
     "metadata": {
      "needs_background": "light"
     },
     "output_type": "display_data"
    }
   ],
   "source": [
    "show(tset3_a)\n",
    "show(tset3_e)\n",
    "show(tset3_i)\n",
    "show(tset3_o)\n",
    "show(tset3_u)"
   ]
  },
  {
   "cell_type": "code",
   "execution_count": 26,
   "metadata": {},
   "outputs": [],
   "source": [
    "tset3 = np.array([tset3_a,tset3_e,tset3_i,tset3_o,tset3_u])"
   ]
  },
  {
   "cell_type": "markdown",
   "metadata": {},
   "source": [
    "## The Neural Network Training Cycle"
   ]
  },
  {
   "cell_type": "markdown",
   "metadata": {},
   "source": [
    "### Feedforward\n",
    "Feedforward or the forward propagation is the calculation and storage of intermediate variables from the input layer all the way to the output layer. we first get the sum of the weights multiply by the inputs and adding the bias, then we apply the activation function to get the activation value and use that as the output to pass it to the next consecutive layer."
   ]
  },
  {
   "cell_type": "markdown",
   "metadata": {},
   "source": [
    "![](images/feedforward.PNG)"
   ]
  },
  {
   "cell_type": "markdown",
   "metadata": {},
   "source": [
    "### Back Propagation\n",
    "Backpropagation is the method of calculating the gradient of the neural networks parameters. We do this by traversing the network in reverse order, meaning we are moving from the output layer to the input layer. By using partial derivatives of the parameters, $F^M(n^M)$, we can calculate the sensitivity to update the weights in the MLP."
   ]
  },
  {
   "cell_type": "markdown",
   "metadata": {},
   "source": [
    "![](images/BackPropagation.PNG)"
   ]
  },
  {
   "cell_type": "markdown",
   "metadata": {},
   "source": [
    "### Weight update\n",
    "After calculating all the sensitivity from the backpropagation we can begin updating the weights and bias from the network. We use alpha so we can slowly change the weights as dramatic changes to the weights will not produce desire results"
   ]
  },
  {
   "cell_type": "markdown",
   "metadata": {},
   "source": [
    "![](images/WeightUpdate.PNG)"
   ]
  },
  {
   "cell_type": "code",
   "execution_count": 27,
   "metadata": {
    "pycharm": {
     "name": "#%%\n"
    }
   },
   "outputs": [],
   "source": [
    "class Neural_Network:\n",
    "\n",
    "    def __init__(self):\n",
    "        self.weights = [] # weight matrices\n",
    "        self.bias = [] # bias matrices\n",
    "        self.activation = [] # activation functions\n",
    "        self.z_val = [np.zeros(1)] # sum values of neurons. note: first value suppose to be inputs\n",
    "        self.a_val = [np.zeros(1)] # values after activation functions are apply. note: first value suppose to be inputs\n",
    "        self.sensitivity = [] # sensitivity or delta (derivatives)\n",
    "\n",
    "\n",
    "    def add_layer(self, neurons: int, activation: str, input_shape=None):\n",
    "        if input_shape is None:\n",
    "            try:\n",
    "                w = np.random.uniform(0,0.25,(self.weights[-1].shape[1],neurons))\n",
    "                self.weights.append(w)\n",
    "            except IndexError:\n",
    "                w = np.random.uniform(0,0.25,(1,neurons))\n",
    "                self.weights.append(w)\n",
    "\n",
    "        else:\n",
    "            input = np.prod(input_shape)\n",
    "            w = np.random.uniform(0,0.25,(input,neurons))\n",
    "            self.weights.append(w)\n",
    "\n",
    "        self.bias.append(np.random.rand(neurons))\n",
    "        self.activation.append(self.activation_f(activation))\n",
    "        self.z_val.append(np.zeros(neurons))\n",
    "        self.a_val.append(np.zeros(neurons))\n",
    "\n",
    "\n",
    "    @staticmethod\n",
    "    def sigmoid(x, derivative: bool=False):\n",
    "        z = 1/(1+np.exp(-x))\n",
    "        if derivative:\n",
    "            z = z * (1-z)\n",
    "        return z\n",
    "\n",
    "    @staticmethod\n",
    "    def tanh(x, derivative: bool=False):\n",
    "        z =  (1-np.exp(-2*x)) / (1+np.exp(-2*x))\n",
    "        if derivative:\n",
    "            z = (1 + z) * (1 - z)\n",
    "        return z\n",
    "\n",
    "    @staticmethod\n",
    "    def linear(x, derivative: bool=False):\n",
    "        if derivative:\n",
    "            return np.array(1)\n",
    "        return x\n",
    "\n",
    "    def activation_f(self, activation_name: str):\n",
    "\n",
    "        activation = {\n",
    "            'linear' : self.linear,\n",
    "            'sigmoid' : self.sigmoid,\n",
    "            'tanh' : self.tanh\n",
    "        }\n",
    "\n",
    "        act = str.lower(activation_name)\n",
    "\n",
    "        if act in activation:\n",
    "            return activation[act]\n",
    "        else:\n",
    "            print(\"activation function not in record\")\n",
    "\n",
    "    @staticmethod\n",
    "    def mse(error):\n",
    "\n",
    "        mse = np.sum(error ** 2)\n",
    "        return mse\n",
    "\n",
    "    @staticmethod\n",
    "    def error(target, output):\n",
    "        error = (target - output)\n",
    "        return error\n",
    "    \n",
    "    @staticmethod\n",
    "    def hardlim(output, tresh=0.35):\n",
    "        \n",
    "        output[output>tresh] = 1\n",
    "        output[output<tresh] = -1\n",
    "        return output\n",
    "    \n",
    "    @staticmethod\n",
    "    def max_arg(output):\n",
    "        \n",
    "        index = output.argmax()\n",
    "        output.fill(-1)\n",
    "        output[index] = 1\n",
    "        return output\n",
    "        \n",
    "    def feedforward(self, x):\n",
    "\n",
    "        self.a_val[0] = x\n",
    "        self.z_val[0] = x\n",
    "\n",
    "        for layer in range(len(self.weights)):\n",
    "\n",
    "            z = np.dot(self.a_val[layer], self.weights[layer]) + self.bias[layer]\n",
    "            a = self.activation[layer](z)\n",
    "            self.z_val[layer+1] = z\n",
    "            self.a_val[layer+1] = a\n",
    "\n",
    "    def back_propagate(self, error):\n",
    "        error = -2 * error # -2 * (target-output)\n",
    "        self.sensitivity = []\n",
    "        for i in reversed(range(len(self.weights))):\n",
    "\n",
    "            s = error * self.activation[i](self.z_val[i+1], derivative=True) # -2 * FMnM * (t-a)\n",
    "            self.sensitivity.insert(0,s)\n",
    "            error = np.dot(s, self.weights[i].T)\n",
    "\n",
    "    def update_weights(self, alpha=0.1):\n",
    "        for i in range(len(self.weights)):\n",
    "            sensitivity = self.sensitivity[i]\n",
    "            a = self.a_val[i]\n",
    "\n",
    "            sensitivity = sensitivity.reshape(sensitivity.shape[0],-1)\n",
    "            a = a.reshape(a.shape[0],-1)\n",
    "\n",
    "            sa = np.dot(sensitivity,a.T)\n",
    "\n",
    "            self.weights[i] = self.weights[i] - (alpha * sa.T)\n",
    "            self.bias[i] = self.bias[i] - (alpha * self.sensitivity[i])\n",
    "\n",
    "    def train(self, x, y, alpha=0.01):\n",
    "\n",
    "        self.feedforward(x)\n",
    "        error = self.error(y, self.a_val[-1])\n",
    "        self.back_propagate(error)\n",
    "        self.update_weights(alpha)\n",
    "        return self.mse(error)\n",
    "\n",
    "    def predict(self,x):\n",
    "        self.a_val[0] = x\n",
    "        self.z_val[0] = x\n",
    "        for layer in range(len(self.weights)):\n",
    "\n",
    "            z = np.dot(self.a_val[layer], self.weights[layer]) + self.bias[layer]\n",
    "            a = self.activation[layer](z)\n",
    "            self.z_val[layer+1] = z\n",
    "            self.a_val[layer+1] = a\n",
    "        \n",
    "        print(self.max_arg(a))"
   ]
  },
  {
   "cell_type": "code",
   "execution_count": 28,
   "metadata": {
    "pycharm": {
     "name": "#%%\n"
    }
   },
   "outputs": [
    {
     "data": {
      "text/plain": [
       "array([-1., -1.,  1., -1., -1., -1.,  1., -1.,  1., -1.,  1.,  1.,  1.,\n",
       "        1.,  1.,  1., -1., -1., -1.,  1.])"
      ]
     },
     "execution_count": 28,
     "metadata": {},
     "output_type": "execute_result"
    }
   ],
   "source": [
    "y = np.array([1.,-1.,-1.,-1.,-1.])\n",
    "inputs = np.array(a_test[0].flatten(), dtype=np.float)\n",
    "inputs"
   ]
  },
  {
   "cell_type": "code",
   "execution_count": 29,
   "metadata": {
    "pycharm": {
     "name": "#%%\n"
    }
   },
   "outputs": [],
   "source": [
    "model = Neural_Network()"
   ]
  },
  {
   "cell_type": "code",
   "execution_count": 30,
   "metadata": {
    "pycharm": {
     "name": "#%%\n"
    }
   },
   "outputs": [],
   "source": [
    "\n",
    "model.add_layer(10, 'sigmoid', input_shape=(4,5))\n",
    "model.add_layer(5, 'tanh')"
   ]
  },
  {
   "cell_type": "code",
   "execution_count": 31,
   "metadata": {
    "pycharm": {
     "name": "#%%\n"
    }
   },
   "outputs": [
    {
     "name": "stdout",
     "output_type": "stream",
     "text": [
      "(20, 10)\n",
      "(10, 5)\n",
      "(10,)\n",
      "(5,)\n"
     ]
    }
   ],
   "source": [
    "print(model.weights[0].shape)\n",
    "print(model.weights[1].shape)\n",
    "print(model.bias[0].shape)\n",
    "print(model.bias[1].shape)"
   ]
  },
  {
   "cell_type": "code",
   "execution_count": 32,
   "metadata": {
    "pycharm": {
     "name": "#%%\n"
    }
   },
   "outputs": [],
   "source": [
    "model.feedforward(inputs)"
   ]
  },
  {
   "cell_type": "code",
   "execution_count": 33,
   "metadata": {
    "pycharm": {
     "name": "#%%\n"
    }
   },
   "outputs": [
    {
     "data": {
      "text/plain": [
       "[array([-1., -1.,  1., -1., -1., -1.,  1., -1.,  1., -1.,  1.,  1.,  1.,\n",
       "         1.,  1.,  1., -1., -1., -1.,  1.]),\n",
       " array([0.62000885, 0.8084463 , 0.71093276, 0.57376458, 0.68597904,\n",
       "        0.52703044, 0.68128565, 0.7773002 , 0.72662145, 0.53600461]),\n",
       " array([0.93174656, 0.845812  , 0.8922147 , 0.81101648, 0.87181584])]"
      ]
     },
     "execution_count": 33,
     "metadata": {},
     "output_type": "execute_result"
    }
   ],
   "source": [
    "model.a_val"
   ]
  },
  {
   "cell_type": "code",
   "execution_count": 34,
   "metadata": {
    "pycharm": {
     "name": "#%%\n"
    }
   },
   "outputs": [
    {
     "data": {
      "text/plain": [
       "[array([-1., -1.,  1., -1., -1., -1.,  1., -1.,  1., -1.,  1.,  1.,  1.,\n",
       "         1.,  1.,  1., -1., -1., -1.,  1.]),\n",
       " array([0.48958577, 1.43994608, 0.89991853, 0.29722734, 0.78138733,\n",
       "        0.10822728, 0.75968643, 1.25000195, 0.97754818, 0.14426815]),\n",
       " array([1.67147601, 1.24125095, 1.43268099, 1.12999187, 1.34059817])]"
      ]
     },
     "execution_count": 34,
     "metadata": {},
     "output_type": "execute_result"
    }
   ],
   "source": [
    "model.z_val"
   ]
  },
  {
   "cell_type": "code",
   "execution_count": 35,
   "metadata": {
    "pycharm": {
     "name": "#%%\n"
    }
   },
   "outputs": [
    {
     "data": {
      "text/plain": [
       "array([ 0.06825344, -1.845812  , -1.8922147 , -1.81101648, -1.87181584])"
      ]
     },
     "execution_count": 35,
     "metadata": {},
     "output_type": "execute_result"
    }
   ],
   "source": [
    "error = model.error(y, model.a_val[-1])\n",
    "error"
   ]
  },
  {
   "cell_type": "code",
   "execution_count": 36,
   "metadata": {
    "pycharm": {
     "name": "#%%\n"
    }
   },
   "outputs": [
    {
     "data": {
      "text/plain": [
       "array([[ 0.0089991 ],\n",
       "       [-0.52532191],\n",
       "       [-0.38592271],\n",
       "       [-0.6198245 ],\n",
       "       [-0.44911813]])"
      ]
     },
     "execution_count": 36,
     "metadata": {},
     "output_type": "execute_result"
    }
   ],
   "source": [
    "s = model.activation[1](model.z_val[2], derivative=True) * error\n",
    "st = s.reshape(s.shape[0],-1)\n",
    "st"
   ]
  },
  {
   "cell_type": "code",
   "execution_count": 37,
   "metadata": {
    "pycharm": {
     "name": "#%%\n"
    }
   },
   "outputs": [
    {
     "data": {
      "text/plain": [
       "array([[0.62000885],\n",
       "       [0.8084463 ],\n",
       "       [0.71093276],\n",
       "       [0.57376458],\n",
       "       [0.68597904],\n",
       "       [0.52703044],\n",
       "       [0.68128565],\n",
       "       [0.7773002 ],\n",
       "       [0.72662145],\n",
       "       [0.53600461]])"
      ]
     },
     "execution_count": 37,
     "metadata": {},
     "output_type": "execute_result"
    }
   ],
   "source": [
    "a = model.a_val[1]\n",
    "a = a.reshape(a.shape[0],-1)\n",
    "a"
   ]
  },
  {
   "cell_type": "code",
   "execution_count": 38,
   "metadata": {
    "pycharm": {
     "name": "#%%\n"
    }
   },
   "outputs": [],
   "source": [
    "Wnew = np.dot(st,a.T)"
   ]
  },
  {
   "cell_type": "code",
   "execution_count": 39,
   "metadata": {
    "pycharm": {
     "name": "#%%\n"
    }
   },
   "outputs": [
    {
     "data": {
      "text/plain": [
       "(10, 5)"
      ]
     },
     "execution_count": 39,
     "metadata": {},
     "output_type": "execute_result"
    }
   ],
   "source": [
    "Wnew.T.shape"
   ]
  },
  {
   "cell_type": "code",
   "execution_count": 40,
   "metadata": {
    "pycharm": {
     "name": "#%%\n"
    }
   },
   "outputs": [
    {
     "data": {
      "text/plain": [
       "(10, 5)"
      ]
     },
     "execution_count": 40,
     "metadata": {},
     "output_type": "execute_result"
    }
   ],
   "source": [
    "model.weights[1].shape"
   ]
  },
  {
   "cell_type": "code",
   "execution_count": 41,
   "metadata": {
    "pycharm": {
     "name": "#%%\n"
    }
   },
   "outputs": [
    {
     "data": {
      "text/plain": [
       "array([[0.22809962, 0.12449879, 0.00526227, 0.04125893, 0.09680355],\n",
       "       [0.01901596, 0.23823608, 0.10551523, 0.02949544, 0.10175162],\n",
       "       [0.18210991, 0.05271171, 0.0727251 , 0.16884822, 0.15969966],\n",
       "       [0.06589254, 0.20263227, 0.18124648, 0.17723889, 0.13673728],\n",
       "       [0.23167214, 0.17920724, 0.15195385, 0.08429956, 0.09230044],\n",
       "       [0.00273775, 0.17667478, 0.05589328, 0.08120476, 0.06828368],\n",
       "       [0.02476559, 0.03963769, 0.17419704, 0.19764916, 0.10028547],\n",
       "       [0.22147369, 0.0761814 , 0.09630867, 0.11351608, 0.09596255],\n",
       "       [0.11905052, 0.19680986, 0.16441865, 0.21741061, 0.07735016],\n",
       "       [0.02439632, 0.12891445, 0.00523951, 0.08835639, 0.01489713]])"
      ]
     },
     "execution_count": 41,
     "metadata": {},
     "output_type": "execute_result"
    }
   ],
   "source": [
    "model.weights[1]"
   ]
  },
  {
   "cell_type": "code",
   "execution_count": 42,
   "metadata": {
    "pycharm": {
     "name": "#%%\n"
    }
   },
   "outputs": [],
   "source": [
    "model.back_propagate(error)"
   ]
  },
  {
   "cell_type": "code",
   "execution_count": 43,
   "metadata": {
    "pycharm": {
     "name": "#%%\n"
    }
   },
   "outputs": [
    {
     "data": {
      "text/plain": [
       "(5,)"
      ]
     },
     "execution_count": 43,
     "metadata": {},
     "output_type": "execute_result"
    }
   ],
   "source": [
    "model.sensitivity[1].shape"
   ]
  },
  {
   "cell_type": "code",
   "execution_count": 44,
   "metadata": {
    "pycharm": {
     "name": "#%%\n"
    }
   },
   "outputs": [
    {
     "data": {
      "text/plain": [
       "(5,)"
      ]
     },
     "execution_count": 44,
     "metadata": {},
     "output_type": "execute_result"
    }
   ],
   "source": [
    "model.bias[1].shape"
   ]
  },
  {
   "cell_type": "code",
   "execution_count": 45,
   "metadata": {
    "pycharm": {
     "name": "#%%\n"
    }
   },
   "outputs": [
    {
     "data": {
      "text/plain": [
       "array([0.20170404, 0.14845394, 0.23022219, 0.22375229, 0.153603  ,\n",
       "       0.20985659, 0.07793732, 0.0062973 , 0.09259791, 0.09444619])"
      ]
     },
     "execution_count": 45,
     "metadata": {},
     "output_type": "execute_result"
    }
   ],
   "source": [
    "model.weights[0][14]"
   ]
  },
  {
   "cell_type": "code",
   "execution_count": 46,
   "metadata": {
    "pycharm": {
     "name": "#%%\n"
    }
   },
   "outputs": [],
   "source": [
    "model.update_weights()"
   ]
  },
  {
   "cell_type": "code",
   "execution_count": 47,
   "metadata": {
    "pycharm": {
     "name": "#%%\n"
    }
   },
   "outputs": [
    {
     "name": "stdout",
     "output_type": "stream",
     "text": [
      "(20, 10)\n",
      "(10, 5)\n",
      "(10,)\n",
      "(5,)\n"
     ]
    }
   ],
   "source": [
    "print(model.weights[0].shape)\n",
    "print(model.weights[1].shape)\n",
    "print(model.bias[0].shape)\n",
    "print(model.bias[1].shape)"
   ]
  },
  {
   "cell_type": "code",
   "execution_count": 48,
   "metadata": {
    "pycharm": {
     "name": "#%%\n"
    }
   },
   "outputs": [
    {
     "data": {
      "text/plain": [
       "array([ 0.11308668,  0.3647209 ,  0.26376795, -0.15498182,  0.11629052,\n",
       "       -0.41996385, -0.03908364,  0.50327888,  0.26481886, -0.29692796])"
      ]
     },
     "execution_count": 48,
     "metadata": {},
     "output_type": "execute_result"
    }
   ],
   "source": [
    "a = model.a_val\n",
    "t = np.dot(inputs, model.weights[0])\n",
    "t"
   ]
  },
  {
   "cell_type": "code",
   "execution_count": 49,
   "metadata": {
    "pycharm": {
     "name": "#%%\n"
    }
   },
   "outputs": [],
   "source": [
    "model = Neural_Network()\n",
    "model.add_layer(10, 'sigmoid', input_shape=(4,5))\n",
    "model.add_layer(5, 'tanh')"
   ]
  },
  {
   "cell_type": "code",
   "execution_count": 50,
   "metadata": {
    "pycharm": {
     "name": "#%%\n"
    }
   },
   "outputs": [
    {
     "data": {
      "text/plain": [
       "([array([[-1, -1,  1, -1, -1],\n",
       "         [-1,  1, -1,  1, -1],\n",
       "         [ 1,  1,  1,  1,  1],\n",
       "         [ 1, -1, -1, -1,  1]]),\n",
       "  array([[-1,  1,  1, -1, -1],\n",
       "         [-1,  1, -1,  1, -1],\n",
       "         [ 1,  1,  1,  1,  1],\n",
       "         [ 1, -1, -1, -1,  1]]),\n",
       "  array([[-1, -1,  1, -1, -1],\n",
       "         [-1,  1,  1,  1, -1],\n",
       "         [ 1,  1,  1,  1,  1],\n",
       "         [ 1, -1, -1, -1,  1]]),\n",
       "  array([[-1, -1,  1, -1, -1],\n",
       "         [-1,  1, -1,  1, -1],\n",
       "         [ 1,  1,  1,  1,  1],\n",
       "         [ 1, -1,  1, -1,  1]]),\n",
       "  array([[-1, -1,  1, -1, -1],\n",
       "         [-1,  1, -1,  1, -1],\n",
       "         [ 1,  1,  1,  1,  1],\n",
       "         [ 1, -1, -1,  1,  1]])],\n",
       " [array([[ 1,  1,  1,  1,  1],\n",
       "         [ 1, -1, -1, -1, -1],\n",
       "         [ 1,  1,  1, -1, -1],\n",
       "         [ 1,  1,  1,  1,  1]]),\n",
       "  array([[ 1,  1,  1,  1,  1],\n",
       "         [ 1,  1, -1, -1, -1],\n",
       "         [ 1,  1,  1, -1, -1],\n",
       "         [ 1,  1,  1,  1,  1]]),\n",
       "  array([[ 1,  1,  1,  1,  1],\n",
       "         [ 1, -1, -1,  1, -1],\n",
       "         [ 1,  1,  1, -1, -1],\n",
       "         [ 1,  1,  1,  1,  1]]),\n",
       "  array([[ 1,  1,  1,  1,  1],\n",
       "         [ 1, -1, -1, -1, -1],\n",
       "         [ 1,  1,  1, -1,  1],\n",
       "         [ 1,  1,  1,  1,  1]]),\n",
       "  array([[ 1,  1,  1,  1,  1],\n",
       "         [ 1, -1, -1, -1, -1],\n",
       "         [ 1,  1,  1,  1, -1],\n",
       "         [ 1,  1,  1,  1,  1]])],\n",
       " [array([[-1,  1,  1,  1, -1],\n",
       "         [-1, -1,  1, -1, -1],\n",
       "         [-1, -1,  1, -1, -1],\n",
       "         [-1,  1,  1,  1, -1]]),\n",
       "  array([[ 1,  1,  1,  1, -1],\n",
       "         [-1, -1,  1, -1, -1],\n",
       "         [-1, -1,  1, -1, -1],\n",
       "         [-1,  1,  1,  1, -1]]),\n",
       "  array([[-1,  1,  1,  1, -1],\n",
       "         [-1, -1,  1,  1, -1],\n",
       "         [-1, -1,  1, -1, -1],\n",
       "         [-1,  1,  1,  1, -1]]),\n",
       "  array([[-1,  1,  1,  1, -1],\n",
       "         [-1, -1,  1, -1, -1],\n",
       "         [-1, -1,  1, -1, -1],\n",
       "         [ 1,  1,  1,  1, -1]]),\n",
       "  array([[-1,  1,  1,  1, -1],\n",
       "         [-1, -1,  1, -1, -1],\n",
       "         [-1, -1,  1,  1, -1],\n",
       "         [-1,  1,  1,  1, -1]])],\n",
       " [array([[ 1,  1,  1,  1,  1],\n",
       "         [ 1, -1, -1, -1,  1],\n",
       "         [ 1, -1, -1, -1,  1],\n",
       "         [ 1,  1,  1,  1,  1]]),\n",
       "  array([[ 1,  1,  1,  1,  1],\n",
       "         [ 1,  1, -1, -1,  1],\n",
       "         [ 1, -1, -1, -1,  1],\n",
       "         [ 1,  1,  1,  1,  1]]),\n",
       "  array([[ 1,  1,  1,  1,  1],\n",
       "         [ 1, -1, -1,  1,  1],\n",
       "         [ 1, -1, -1, -1,  1],\n",
       "         [ 1,  1,  1,  1,  1]]),\n",
       "  array([[ 1,  1,  1,  1,  1],\n",
       "         [ 1, -1, -1, -1,  1],\n",
       "         [ 1,  1, -1, -1,  1],\n",
       "         [ 1,  1,  1,  1,  1]]),\n",
       "  array([[ 1,  1,  1,  1,  1],\n",
       "         [ 1, -1, -1, -1,  1],\n",
       "         [ 1, -1, -1,  1,  1],\n",
       "         [ 1,  1,  1,  1,  1]])],\n",
       " [array([[ 1, -1, -1, -1,  1],\n",
       "         [ 1, -1, -1, -1,  1],\n",
       "         [ 1, -1, -1, -1,  1],\n",
       "         [ 1,  1,  1,  1,  1]]),\n",
       "  array([[ 1,  1, -1, -1,  1],\n",
       "         [ 1, -1, -1, -1,  1],\n",
       "         [ 1, -1, -1, -1,  1],\n",
       "         [ 1,  1,  1,  1,  1]]),\n",
       "  array([[ 1, -1, -1,  1,  1],\n",
       "         [ 1, -1, -1, -1,  1],\n",
       "         [ 1, -1, -1, -1,  1],\n",
       "         [ 1,  1,  1,  1,  1]]),\n",
       "  array([[ 1, -1, -1, -1,  1],\n",
       "         [ 1, -1, -1, -1,  1],\n",
       "         [ 1,  1, -1, -1,  1],\n",
       "         [ 1,  1,  1,  1,  1]]),\n",
       "  array([[ 1, -1, -1, -1,  1],\n",
       "         [ 1, -1, -1, -1,  1],\n",
       "         [ 1, -1, -1,  1,  1],\n",
       "         [ 1,  1,  1,  1,  1]])])"
      ]
     },
     "execution_count": 50,
     "metadata": {},
     "output_type": "execute_result"
    }
   ],
   "source": [
    "training_set = a_test, e_test, i_test, o_test, u_test\n",
    "training_set"
   ]
  },
  {
   "cell_type": "code",
   "execution_count": 51,
   "metadata": {
    "pycharm": {
     "name": "#%%\n"
    }
   },
   "outputs": [],
   "source": [
    "y_set = np.array([[1.,-1,-1,-1,-1], [-1,1,-1,-1,-1],[-1,-1,1,-1,-1],[-1,-1,-1,1,-1],[-1,-1,-1,-1,1]])"
   ]
  },
  {
   "cell_type": "code",
   "execution_count": 52,
   "metadata": {
    "pycharm": {
     "name": "#%%\n"
    }
   },
   "outputs": [],
   "source": [
    "epoch = 100\n",
    "total_mse = []\n",
    "random_w1 = []\n",
    "random_w2 = []\n",
    "random_w3 = []\n",
    "bias1 = []\n",
    "bias2 = []\n",
    "random1 = np.random.randint(20)\n",
    "random2 = np.random.randint(10)\n",
    "random3 = np.random.randint(10)\n",
    "random4 = np.random.randint(5)\n",
    "bias_random1 = np.random.randint(10)\n",
    "bias_random2 = np.random.randint(5)\n",
    "for i in range(epoch):\n",
    "    mse = 0\n",
    "    random_w1.append(model.weights[0][random1][random2])\n",
    "    random_w2.append(model.weights[1][random3][random4])\n",
    "    bias1.append(model.bias[0][bias_random1])\n",
    "    bias2.append(model.bias[1][bias_random2])\n",
    "\n",
    "    for i in range(len(training_set)):\n",
    "        set = training_set[i]\n",
    "        target = y_set[i]\n",
    "        for j in range(len(set)):\n",
    "            #show(set)\n",
    "            #print(target)\n",
    "            mse += model.train(set[i].flatten(), target, 0.1)\n",
    "\n",
    "    mse = (mse / 25.)\n",
    "    total_mse.append(mse)\n",
    "    "
   ]
  },
  {
   "cell_type": "code",
   "execution_count": 53,
   "metadata": {
    "pycharm": {
     "name": "#%%\n"
    }
   },
   "outputs": [
    {
     "name": "stdout",
     "output_type": "stream",
     "text": [
      "[ 1. -1. -1. -1. -1.]\n",
      "[ 1. -1. -1. -1. -1.]\n",
      "[ 1. -1. -1. -1. -1.]\n",
      "[ 1. -1. -1. -1. -1.]\n",
      "[ 1. -1. -1. -1. -1.]\n",
      "\n",
      "[-1.  1. -1. -1. -1.]\n",
      "[-1.  1. -1. -1. -1.]\n",
      "[-1.  1. -1. -1. -1.]\n",
      "[-1.  1. -1. -1. -1.]\n",
      "[-1.  1. -1. -1. -1.]\n",
      "\n",
      "[-1. -1.  1. -1. -1.]\n",
      "[-1. -1.  1. -1. -1.]\n",
      "[-1. -1.  1. -1. -1.]\n",
      "[-1. -1.  1. -1. -1.]\n",
      "[-1. -1.  1. -1. -1.]\n",
      "\n",
      "[-1. -1. -1.  1. -1.]\n",
      "[-1. -1. -1.  1. -1.]\n",
      "[-1. -1. -1.  1. -1.]\n",
      "[-1. -1. -1.  1. -1.]\n",
      "[-1. -1. -1.  1. -1.]\n",
      "\n",
      "[-1. -1. -1. -1.  1.]\n",
      "[-1. -1. -1. -1.  1.]\n",
      "[-1. -1. -1. -1.  1.]\n",
      "[-1. -1. -1. -1.  1.]\n",
      "[-1. -1. -1. -1.  1.]\n",
      "\n"
     ]
    }
   ],
   "source": [
    "for i in range(len(training_set)):\n",
    "    set = training_set[i]\n",
    "    for j in range(len(set)):\n",
    "        model.predict(set[i].flatten())\n",
    "\n",
    "    print('')\n"
   ]
  },
  {
   "cell_type": "code",
   "execution_count": 54,
   "metadata": {
    "pycharm": {
     "name": "#%%\n"
    }
   },
   "outputs": [
    {
     "data": {
      "text/plain": [
       "Text(0.5, 1.0, 'mse')"
      ]
     },
     "execution_count": 54,
     "metadata": {},
     "output_type": "execute_result"
    },
    {
     "data": {
      "image/png": "[encoded data removed]",
      "text/plain": [
       "<Figure size 432x288 with 1 Axes>"
      ]
     },
     "metadata": {
      "needs_background": "light"
     },
     "output_type": "display_data"
    }
   ],
   "source": [
    "plt.plot(total_mse)\n",
    "plt.xlabel('epoch')\n",
    "plt.ylabel('mse value')\n",
    "plt.title('mse')"
   ]
  },
  {
   "cell_type": "code",
   "execution_count": 55,
   "metadata": {
    "pycharm": {
     "name": "#%%\n"
    }
   },
   "outputs": [
    {
     "data": {
      "text/plain": [
       "[3.6826571272075,\n",
       " 2.7046079694290746,\n",
       " 1.9475885937501494,\n",
       " 1.3663561332760485,\n",
       " 1.1181390757554346,\n",
       " 0.9309809232399213,\n",
       " 0.7925443766473285,\n",
       " 0.5996958455235017,\n",
       " 0.4161440130090264,\n",
       " 0.25888539731569965,\n",
       " 0.13022916168419876,\n",
       " 0.07670947530164698,\n",
       " 0.05513390491458483,\n",
       " 0.04319677144131415,\n",
       " 0.035512453765417604,\n",
       " 0.03015807631405195,\n",
       " 0.026212856861939127,\n",
       " 0.023183247904263404,\n",
       " 0.02078214242141847,\n",
       " 0.018831390870133725,\n",
       " 0.01721458927951161,\n",
       " 0.015852420879524175,\n",
       " 0.01468894069451163,\n",
       " 0.013683533743110954,\n",
       " 0.012805985371578274,\n",
       " 0.01203334276200225,\n",
       " 0.011347850783946416,\n",
       " 0.0107355556510339,\n",
       " 0.010185336794474984,\n",
       " 0.00968822092336128,\n",
       " 0.009236886584545882,\n",
       " 0.008825300118615886,\n",
       " 0.008448444006051319,\n",
       " 0.008102111311968342,\n",
       " 0.007782748166878767,\n",
       " 0.0074873316580077644,\n",
       " 0.007213274166143969,\n",
       " 0.006958347689853935,\n",
       " 0.006720623442853104,\n",
       " 0.006498423241174307,\n",
       " 0.006290280077112006,\n",
       " 0.006094905914359948,\n",
       " 0.005911165205624031,\n",
       " 0.005738052979580371,\n",
       " 0.005574676602414715,\n",
       " 0.0054202405141373375,\n",
       " 0.005274033388263589,\n",
       " 0.005135417277331077,\n",
       " 0.005003818394792042,\n",
       " 0.004878719252419867,\n",
       " 0.0047596519261726596,\n",
       " 0.004646192265928617,\n",
       " 0.004537954898241965,\n",
       " 0.004434588898217235,\n",
       " 0.004335774028248478,\n",
       " 0.004241217458852223,\n",
       " 0.004150650901011868,\n",
       " 0.004063828091021781,\n",
       " 0.00398052257829832,\n",
       " 0.003900525774424322,\n",
       " 0.0038236452281373273,\n",
       " 0.003749703096317606,\n",
       " 0.003678534785483001,\n",
       " 0.0036099877420182874,\n",
       " 0.003543920372486878,\n",
       " 0.003480201077998822,\n",
       " 0.0034187073888263466,\n",
       " 0.003359325187336151,\n",
       " 0.003301948008903103,\n",
       " 0.003246476411829271,\n",
       " 0.0031928174084539063,\n",
       " 0.0031408839506348067,\n",
       " 0.0030905944636364664,\n",
       " 0.0030418724231963917,\n",
       " 0.002994645971176566,\n",
       " 0.0029488475657567592,\n",
       " 0.0029044136626034138,\n",
       " 0.0028612844238624143,\n",
       " 0.0028194034521850943,\n",
       " 0.00277871754731213,\n",
       " 0.002739176483015711,\n",
       " 0.002700732802442072,\n",
       " 0.002663341630108595,\n",
       " 0.0026269604989964707,\n",
       " 0.002591549191344382,\n",
       " 0.0025570695918939405,\n",
       " 0.002523485552466031,\n",
       " 0.002490762766861096,\n",
       " 0.002458868655177222,\n",
       " 0.0024277722567296943,\n",
       " 0.002397444130835535,\n",
       " 0.00236785626479765,\n",
       " 0.002338981988486778,\n",
       " 0.0023107958949762403,\n",
       " 0.0022832737667352614,\n",
       " 0.002256392506932232,\n",
       " 0.002230130075440201,\n",
       " 0.0022044654291735353,\n",
       " 0.002179378466417872,\n",
       " 0.002154849974845173]"
      ]
     },
     "execution_count": 55,
     "metadata": {},
     "output_type": "execute_result"
    }
   ],
   "source": [
    "total_mse"
   ]
  },
  {
   "cell_type": "code",
   "execution_count": 56,
   "metadata": {
    "pycharm": {
     "name": "#%%\n"
    }
   },
   "outputs": [
    {
     "data": {
      "text/plain": [
       "Text(0.5, 1.0, 'layer 1, weight (10,9)')"
      ]
     },
     "execution_count": 56,
     "metadata": {},
     "output_type": "execute_result"
    },
    {
     "data": {
      "image/png": "[encoded data removed]",
      "text/plain": [
       "<Figure size 432x288 with 1 Axes>"
      ]
     },
     "metadata": {
      "needs_background": "light"
     },
     "output_type": "display_data"
    }
   ],
   "source": [
    "plt.plot(random_w1)\n",
    "plt.xlabel('epoch')\n",
    "plt.ylabel('weight value')\n",
    "plt.title('layer 1, weight (' + str(random1) + ',' + str(random2) + ')')"
   ]
  },
  {
   "cell_type": "code",
   "execution_count": 57,
   "metadata": {
    "pycharm": {
     "name": "#%%\n"
    }
   },
   "outputs": [
    {
     "data": {
      "text/plain": [
       "Text(0.5, 1.0, 'layer 2, weight (2,3)')"
      ]
     },
     "execution_count": 57,
     "metadata": {},
     "output_type": "execute_result"
    },
    {
     "data": {
      "image/png": "[encoded data removed]",
      "text/plain": [
       "<Figure size 432x288 with 1 Axes>"
      ]
     },
     "metadata": {
      "needs_background": "light"
     },
     "output_type": "display_data"
    }
   ],
   "source": [
    "plt.plot(random_w2)\n",
    "plt.xlabel('epoch')\n",
    "plt.ylabel('weight value')\n",
    "plt.title('layer 2, weight (' + str(random3) + ',' + str(random4) + ')')"
   ]
  },
  {
   "cell_type": "code",
   "execution_count": 58,
   "metadata": {
    "pycharm": {
     "name": "#%%\n"
    }
   },
   "outputs": [
    {
     "data": {
      "text/plain": [
       "Text(0.5, 1.0, 'layer 1, bias (8)')"
      ]
     },
     "execution_count": 58,
     "metadata": {},
     "output_type": "execute_result"
    },
    {
     "data": {
      "image/png": "[encoded data removed]",
      "text/plain": [
       "<Figure size 432x288 with 1 Axes>"
      ]
     },
     "metadata": {
      "needs_background": "light"
     },
     "output_type": "display_data"
    }
   ],
   "source": [
    "plt.plot(bias1)\n",
    "plt.xlabel('epoch')\n",
    "plt.ylabel('bias value')\n",
    "plt.title('layer 1, bias (' + str(bias_random1) + ')')"
   ]
  },
  {
   "cell_type": "code",
   "execution_count": 59,
   "metadata": {
    "pycharm": {
     "name": "#%%\n"
    }
   },
   "outputs": [
    {
     "data": {
      "text/plain": [
       "Text(0.5, 1.0, 'layer 2, bias (4)')"
      ]
     },
     "execution_count": 59,
     "metadata": {},
     "output_type": "execute_result"
    },
    {
     "data": {
      "image/png": "[encoded data removed]",
      "text/plain": [
       "<Figure size 432x288 with 1 Axes>"
      ]
     },
     "metadata": {
      "needs_background": "light"
     },
     "output_type": "display_data"
    }
   ],
   "source": [
    "plt.plot(bias2)\n",
    "plt.xlabel('epoch')\n",
    "plt.ylabel('bias value')\n",
    "plt.title('layer 2, bias (' + str(bias_random2) + ')')"
   ]
  },
  {
   "cell_type": "code",
   "execution_count": 60,
   "metadata": {},
   "outputs": [],
   "source": [
    "def fit(model,epochs, alpha, dataset, targets, exit=0.01, input_l=20, hidden_l=10, output_l=5):\n",
    "    total_mse = []\n",
    "    random_w1 = []\n",
    "    random_w2 = []\n",
    "    random_w3 = []\n",
    "    bias1 = []\n",
    "    bias2 = []\n",
    "    random1 = np.random.randint(input_l)\n",
    "    random2 = np.random.randint(hidden_l)\n",
    "    random3 = np.random.randint(hidden_l)\n",
    "    random4 = np.random.randint(output_l)\n",
    "    random5 = np.random.randint(input_l)\n",
    "    random6 = np.random.randint(hidden_l)\n",
    "    bias_random1 = np.random.randint(hidden_l)\n",
    "    bias_random2 = np.random.randint(output_l)\n",
    "    for epoch in range(epochs):\n",
    "        mse = 0\n",
    "        random_w1.append(model.weights[0][random1][random2])\n",
    "        random_w2.append(model.weights[1][random3][random4])\n",
    "        random_w3.append(model.weights[0][random5][random6])\n",
    "        bias1.append(model.bias[0][bias_random1])\n",
    "        bias2.append(model.bias[1][bias_random2])\n",
    "\n",
    "        for i in range(len(dataset)):\n",
    "            sets = dataset[i]\n",
    "            target = targets[i]\n",
    "            for j in range(len(sets)):\n",
    "                mse += model.train(sets[i].flatten(), target, 0.1)\n",
    "\n",
    "        mse = (mse / 25.)\n",
    "        total_mse.append(mse)\n",
    "        if mse < exit:\n",
    "            break\n",
    "    \n",
    "    plt.plot(total_mse)\n",
    "    plt.xlabel('epoch')\n",
    "    plt.ylabel('mse value')\n",
    "    plt.title('mse')\n",
    "    plt.show()\n",
    "    \n",
    "    plt.plot(random_w1)\n",
    "    plt.xlabel('epoch')\n",
    "    plt.ylabel('weight value')\n",
    "    plt.title('layer 1, weight (' + str(random1) + ',' + str(random2) + ')')\n",
    "    plt.show()\n",
    "    \n",
    "    plt.plot(random_w2)\n",
    "    plt.xlabel('epoch')\n",
    "    plt.ylabel('weight value')\n",
    "    plt.title('layer 2, weight (' + str(random3) + ',' + str(random4) + ')')\n",
    "    plt.show()\n",
    "    \n",
    "    plt.plot(random_w3)\n",
    "    plt.xlabel('epoch')\n",
    "    plt.ylabel('weight value')\n",
    "    plt.title('layer 1, weight (' + str(random5) + ',' + str(random6) + ')')\n",
    "    plt.show()\n",
    "    \n",
    "    plt.plot(bias1)\n",
    "    plt.xlabel('epoch')\n",
    "    plt.ylabel('bias value')\n",
    "    plt.title('layer 1, bias (' + str(bias_random1) + ')')\n",
    "    plt.show()\n",
    "    \n",
    "    plt.plot(bias2)\n",
    "    plt.xlabel('epoch')\n",
    "    plt.ylabel('bias value')\n",
    "    plt.title('layer 2, bias (' + str(bias_random2) + ')')\n",
    "    plt.show()\n",
    "    \n",
    "    print('\\n number of epochs to reach an mse of ' , epoch)"
   ]
  },
  {
   "cell_type": "code",
   "execution_count": 61,
   "metadata": {},
   "outputs": [],
   "source": [
    "model1 = Neural_Network()\n",
    "model1.add_layer(10, 'sigmoid', input_shape=(4,5))\n",
    "model1.add_layer(5, 'tanh')"
   ]
  },
  {
   "cell_type": "code",
   "execution_count": 62,
   "metadata": {},
   "outputs": [
    {
     "data": {
      "image/png": "[encoded data removed]",
      "text/plain": [
       "<Figure size 432x288 with 1 Axes>"
      ]
     },
     "metadata": {
      "needs_background": "light"
     },
     "output_type": "display_data"
    },
    {
     "data": {
      "image/png": "[encoded data removed]",
      "text/plain": [
       "<Figure size 432x288 with 1 Axes>"
      ]
     },
     "metadata": {
      "needs_background": "light"
     },
     "output_type": "display_data"
    },
    {
     "data": {
      "image/png": "[encoded data removed]",
      "text/plain": [
       "<Figure size 432x288 with 1 Axes>"
      ]
     },
     "metadata": {
      "needs_background": "light"
     },
     "output_type": "display_data"
    },
    {
     "data": {
      "image/png": "[encoded data removed]",
      "text/plain": [
       "<Figure size 432x288 with 1 Axes>"
      ]
     },
     "metadata": {
      "needs_background": "light"
     },
     "output_type": "display_data"
    },
    {
     "data": {
      "image/png": "[encoded data removed]",
      "text/plain": [
       "<Figure size 432x288 with 1 Axes>"
      ]
     },
     "metadata": {
      "needs_background": "light"
     },
     "output_type": "display_data"
    },
    {
     "data": {
      "image/png": "[encoded data removed]",
      "text/plain": [
       "<Figure size 432x288 with 1 Axes>"
      ]
     },
     "metadata": {
      "needs_background": "light"
     },
     "output_type": "display_data"
    },
    {
     "name": "stdout",
     "output_type": "stream",
     "text": [
      "\n",
      " number of epochs to reach an mse of  106\n"
     ]
    }
   ],
   "source": [
    "fit(model1,epochs=500, alpha=0.1, dataset=training_set, targets=y_set, exit=0.002)"
   ]
  },
  {
   "cell_type": "code",
   "execution_count": 63,
   "metadata": {},
   "outputs": [],
   "source": [
    "model2 = Neural_Network()\n",
    "model2.add_layer(10, 'sigmoid', input_shape=(4,5))\n",
    "model2.add_layer(5, 'tanh')"
   ]
  },
  {
   "cell_type": "code",
   "execution_count": 64,
   "metadata": {},
   "outputs": [
    {
     "data": {
      "image/png": "[encoded data removed]",
      "text/plain": [
       "<Figure size 432x288 with 1 Axes>"
      ]
     },
     "metadata": {
      "needs_background": "light"
     },
     "output_type": "display_data"
    },
    {
     "data": {
      "image/png": "[encoded data removed]",
      "text/plain": [
       "<Figure size 432x288 with 1 Axes>"
      ]
     },
     "metadata": {
      "needs_background": "light"
     },
     "output_type": "display_data"
    },
    {
     "data": {
      "image/png": "[encoded data removed]",
      "text/plain": [
       "<Figure size 432x288 with 1 Axes>"
      ]
     },
     "metadata": {
      "needs_background": "light"
     },
     "output_type": "display_data"
    },
    {
     "data": {
      "image/png": "[encoded data removed]",
      "text/plain": [
       "<Figure size 432x288 with 1 Axes>"
      ]
     },
     "metadata": {
      "needs_background": "light"
     },
     "output_type": "display_data"
    },
    {
     "data": {
      "image/png": "[encoded data removed]",
      "text/plain": [
       "<Figure size 432x288 with 1 Axes>"
      ]
     },
     "metadata": {
      "needs_background": "light"
     },
     "output_type": "display_data"
    },
    {
     "data": {
      "image/png": "[encoded data removed]",
      "text/plain": [
       "<Figure size 432x288 with 1 Axes>"
      ]
     },
     "metadata": {
      "needs_background": "light"
     },
     "output_type": "display_data"
    },
    {
     "name": "stdout",
     "output_type": "stream",
     "text": [
      "\n",
      " number of epochs to reach an mse of  125\n"
     ]
    }
   ],
   "source": [
    "fit(model2,epochs=500, alpha=0.01, dataset=training_set, targets=y_set, exit=0.002)"
   ]
  },
  {
   "cell_type": "code",
   "execution_count": 65,
   "metadata": {},
   "outputs": [],
   "source": [
    "model3 = Neural_Network()\n",
    "model3.add_layer(10, 'sigmoid', input_shape=(4,5))\n",
    "model3.add_layer(5, 'tanh')"
   ]
  },
  {
   "cell_type": "code",
   "execution_count": 66,
   "metadata": {},
   "outputs": [
    {
     "data": {
      "image/png": "[encoded data removed]",
      "text/plain": [
       "<Figure size 432x288 with 1 Axes>"
      ]
     },
     "metadata": {
      "needs_background": "light"
     },
     "output_type": "display_data"
    },
    {
     "data": {
      "image/png": "[encoded data removed]",
      "text/plain": [
       "<Figure size 432x288 with 1 Axes>"
      ]
     },
     "metadata": {
      "needs_background": "light"
     },
     "output_type": "display_data"
    },
    {
     "data": {
      "image/png": "[encoded data removed]",
      "text/plain": [
       "<Figure size 432x288 with 1 Axes>"
      ]
     },
     "metadata": {
      "needs_background": "light"
     },
     "output_type": "display_data"
    },
    {
     "data": {
      "image/png": "[encoded data removed]",
      "text/plain": [
       "<Figure size 432x288 with 1 Axes>"
      ]
     },
     "metadata": {
      "needs_background": "light"
     },
     "output_type": "display_data"
    },
    {
     "data": {
      "image/png": "[encoded data removed]",
      "text/plain": [
       "<Figure size 432x288 with 1 Axes>"
      ]
     },
     "metadata": {
      "needs_background": "light"
     },
     "output_type": "display_data"
    },
    {
     "data": {
      "image/png": "[encoded data removed]",
      "text/plain": [
       "<Figure size 432x288 with 1 Axes>"
      ]
     },
     "metadata": {
      "needs_background": "light"
     },
     "output_type": "display_data"
    },
    {
     "name": "stdout",
     "output_type": "stream",
     "text": [
      "\n",
      " number of epochs to reach an mse of  138\n"
     ]
    }
   ],
   "source": [
    "fit(model3,epochs=500, alpha=0.001, dataset=training_set, targets=y_set, exit=0.002)"
   ]
  },
  {
   "cell_type": "code",
   "execution_count": 67,
   "metadata": {},
   "outputs": [
    {
     "name": "stdout",
     "output_type": "stream",
     "text": [
      "[ 1. -1. -1. -1. -1.]\n",
      "[ 1. -1. -1. -1. -1.]\n",
      "[ 1. -1. -1. -1. -1.]\n",
      "[ 1. -1. -1. -1. -1.]\n",
      "[ 1. -1. -1. -1. -1.]\n",
      "\n",
      "[-1.  1. -1. -1. -1.]\n",
      "[-1.  1. -1. -1. -1.]\n",
      "[-1.  1. -1. -1. -1.]\n",
      "[-1.  1. -1. -1. -1.]\n",
      "[-1.  1. -1. -1. -1.]\n",
      "\n",
      "[-1. -1.  1. -1. -1.]\n",
      "[-1. -1.  1. -1. -1.]\n",
      "[-1. -1.  1. -1. -1.]\n",
      "[-1. -1.  1. -1. -1.]\n",
      "[-1. -1.  1. -1. -1.]\n",
      "\n",
      "[-1. -1. -1.  1. -1.]\n",
      "[-1. -1. -1.  1. -1.]\n",
      "[-1. -1. -1.  1. -1.]\n",
      "[-1. -1. -1.  1. -1.]\n",
      "[-1. -1. -1.  1. -1.]\n",
      "\n",
      "[-1. -1. -1. -1.  1.]\n",
      "[-1. -1. -1. -1.  1.]\n",
      "[-1. -1. -1. -1.  1.]\n",
      "[-1. -1. -1. -1.  1.]\n",
      "[-1. -1. -1. -1.  1.]\n",
      "\n"
     ]
    }
   ],
   "source": [
    "for i in range(len(tset1)):\n",
    "    sets = tset1[i]\n",
    "    for j in range(len(sets)):\n",
    "        model1.predict(sets[i].flatten())\n",
    "\n",
    "    print('')"
   ]
  },
  {
   "cell_type": "code",
   "execution_count": 68,
   "metadata": {},
   "outputs": [
    {
     "name": "stdout",
     "output_type": "stream",
     "text": [
      "[ 1. -1. -1. -1. -1.]\n",
      "[ 1. -1. -1. -1. -1.]\n",
      "[ 1. -1. -1. -1. -1.]\n",
      "[ 1. -1. -1. -1. -1.]\n",
      "[ 1. -1. -1. -1. -1.]\n",
      "\n",
      "[-1.  1. -1. -1. -1.]\n",
      "[-1.  1. -1. -1. -1.]\n",
      "[-1.  1. -1. -1. -1.]\n",
      "[-1.  1. -1. -1. -1.]\n",
      "[-1.  1. -1. -1. -1.]\n",
      "\n",
      "[-1. -1.  1. -1. -1.]\n",
      "[-1. -1.  1. -1. -1.]\n",
      "[-1. -1.  1. -1. -1.]\n",
      "[-1. -1.  1. -1. -1.]\n",
      "[-1. -1.  1. -1. -1.]\n",
      "\n",
      "[-1. -1. -1.  1. -1.]\n",
      "[-1. -1. -1.  1. -1.]\n",
      "[-1. -1. -1.  1. -1.]\n",
      "[-1. -1. -1.  1. -1.]\n",
      "[-1. -1. -1.  1. -1.]\n",
      "\n",
      "[-1. -1. -1. -1.  1.]\n",
      "[-1. -1. -1. -1.  1.]\n",
      "[-1. -1. -1. -1.  1.]\n",
      "[-1. -1. -1. -1.  1.]\n",
      "[-1. -1. -1. -1.  1.]\n",
      "\n"
     ]
    }
   ],
   "source": [
    "for i in range(len(tset2)):\n",
    "    sets = tset2[i]\n",
    "    for j in range(len(sets)):\n",
    "        model1.predict(sets[i].flatten())\n",
    "\n",
    "    print('')"
   ]
  },
  {
   "cell_type": "code",
   "execution_count": 69,
   "metadata": {},
   "outputs": [
    {
     "name": "stdout",
     "output_type": "stream",
     "text": [
      "[ 1. -1. -1. -1. -1.]\n",
      "[ 1. -1. -1. -1. -1.]\n",
      "[ 1. -1. -1. -1. -1.]\n",
      "[ 1. -1. -1. -1. -1.]\n",
      "[ 1. -1. -1. -1. -1.]\n",
      "\n",
      "[-1.  1. -1. -1. -1.]\n",
      "[-1.  1. -1. -1. -1.]\n",
      "[-1.  1. -1. -1. -1.]\n",
      "[-1.  1. -1. -1. -1.]\n",
      "[-1.  1. -1. -1. -1.]\n",
      "\n",
      "[-1. -1.  1. -1. -1.]\n",
      "[-1. -1.  1. -1. -1.]\n",
      "[-1. -1.  1. -1. -1.]\n",
      "[-1. -1.  1. -1. -1.]\n",
      "[-1. -1.  1. -1. -1.]\n",
      "\n",
      "[-1. -1. -1.  1. -1.]\n",
      "[-1. -1. -1.  1. -1.]\n",
      "[-1. -1. -1.  1. -1.]\n",
      "[-1. -1. -1.  1. -1.]\n",
      "[-1. -1. -1.  1. -1.]\n",
      "\n",
      "[-1. -1. -1. -1.  1.]\n",
      "[-1. -1. -1. -1.  1.]\n",
      "[-1. -1. -1. -1.  1.]\n",
      "[-1. -1. -1. -1.  1.]\n",
      "[-1. -1. -1. -1.  1.]\n",
      "\n"
     ]
    }
   ],
   "source": [
    "for i in range(len(tset3)):\n",
    "    sets = tset3[i]\n",
    "    for j in range(len(sets)):\n",
    "        model1.predict(sets[i].flatten())\n",
    "\n",
    "    print('')"
   ]
  },
  {
   "cell_type": "code",
   "execution_count": 70,
   "metadata": {},
   "outputs": [],
   "source": [
    "def destroy_weights(model, percent=0.2):\n",
    "    for layers in range(len(model.weights)):\n",
    "        n1 = model.weights[layers].shape[0]\n",
    "        n2 = model.weights[layers].shape[1]\n",
    "        twl = n1 * n2 # total weights in layer\n",
    "        twl = int(twl* 0.2)\n",
    "        destroyed = 0\n",
    "        while(destroyed != twl):\n",
    "            r1 = np.random.randint(low=0, high=n1)\n",
    "            r2 = np.random.randint(low=0, high=n2)\n",
    "        \n",
    "            if model.weights[layers][r1][r2]!=0:\n",
    "                model.weights[layers][r1][r2] = 0\n",
    "                destroyed = destroyed + 1\n",
    "            else:\n",
    "                pass\n"
   ]
  },
  {
   "cell_type": "code",
   "execution_count": 71,
   "metadata": {},
   "outputs": [],
   "source": [
    "copy_model1 = copy.deepcopy(model2)\n",
    "copy_model2 = copy.deepcopy(model2)"
   ]
  },
  {
   "cell_type": "code",
   "execution_count": 72,
   "metadata": {},
   "outputs": [
    {
     "data": {
      "text/plain": [
       "(20, 10)"
      ]
     },
     "execution_count": 72,
     "metadata": {},
     "output_type": "execute_result"
    }
   ],
   "source": [
    "copy_model1.weights[0].shape"
   ]
  },
  {
   "cell_type": "code",
   "execution_count": 73,
   "metadata": {},
   "outputs": [],
   "source": [
    "destroy_weights(copy_model1, percent=0.2)"
   ]
  },
  {
   "cell_type": "code",
   "execution_count": 74,
   "metadata": {},
   "outputs": [
    {
     "name": "stdout",
     "output_type": "stream",
     "text": [
      "There are 40 weights that are zero from input to hidden layer\n",
      "There are 10 weights that are zero from hidden layer to output\n"
     ]
    }
   ],
   "source": [
    "print(f\"There are {np.count_nonzero(copy_model1.weights[0]==0)} weights that are zero from input to hidden layer\")\n",
    "print(f\"There are {np.count_nonzero(copy_model1.weights[1]==0)} weights that are zero from hidden layer to output\")"
   ]
  },
  {
   "cell_type": "code",
   "execution_count": 75,
   "metadata": {},
   "outputs": [
    {
     "name": "stdout",
     "output_type": "stream",
     "text": [
      "[ 1. -1. -1. -1. -1.]\n",
      "[ 1. -1. -1. -1. -1.]\n",
      "[ 1. -1. -1. -1. -1.]\n",
      "[ 1. -1. -1. -1. -1.]\n",
      "[ 1. -1. -1. -1. -1.]\n",
      "\n",
      "[-1.  1. -1. -1. -1.]\n",
      "[-1.  1. -1. -1. -1.]\n",
      "[-1.  1. -1. -1. -1.]\n",
      "[-1.  1. -1. -1. -1.]\n",
      "[-1.  1. -1. -1. -1.]\n",
      "\n",
      "[-1. -1.  1. -1. -1.]\n",
      "[-1. -1.  1. -1. -1.]\n",
      "[-1. -1.  1. -1. -1.]\n",
      "[-1. -1.  1. -1. -1.]\n",
      "[-1. -1.  1. -1. -1.]\n",
      "\n",
      "[-1. -1. -1.  1. -1.]\n",
      "[-1. -1. -1.  1. -1.]\n",
      "[-1. -1. -1.  1. -1.]\n",
      "[-1. -1. -1.  1. -1.]\n",
      "[-1. -1. -1.  1. -1.]\n",
      "\n",
      "[-1. -1. -1. -1.  1.]\n",
      "[-1. -1. -1. -1.  1.]\n",
      "[-1. -1. -1. -1.  1.]\n",
      "[-1. -1. -1. -1.  1.]\n",
      "[-1. -1. -1. -1.  1.]\n",
      "\n"
     ]
    }
   ],
   "source": [
    "for i in range(len(tset1)):\n",
    "    sets = tset1[i]\n",
    "    for j in range(len(sets)):\n",
    "        copy_model1.predict(sets[i].flatten())\n",
    "\n",
    "    print('')"
   ]
  },
  {
   "cell_type": "code",
   "execution_count": 76,
   "metadata": {},
   "outputs": [
    {
     "name": "stdout",
     "output_type": "stream",
     "text": [
      "[ 1. -1. -1. -1. -1.]\n",
      "[ 1. -1. -1. -1. -1.]\n",
      "[ 1. -1. -1. -1. -1.]\n",
      "[ 1. -1. -1. -1. -1.]\n",
      "[ 1. -1. -1. -1. -1.]\n",
      "\n",
      "[-1.  1. -1. -1. -1.]\n",
      "[-1.  1. -1. -1. -1.]\n",
      "[-1.  1. -1. -1. -1.]\n",
      "[-1.  1. -1. -1. -1.]\n",
      "[-1.  1. -1. -1. -1.]\n",
      "\n",
      "[-1. -1.  1. -1. -1.]\n",
      "[-1. -1.  1. -1. -1.]\n",
      "[-1. -1.  1. -1. -1.]\n",
      "[-1. -1.  1. -1. -1.]\n",
      "[-1. -1.  1. -1. -1.]\n",
      "\n",
      "[-1. -1. -1.  1. -1.]\n",
      "[-1. -1. -1.  1. -1.]\n",
      "[-1. -1. -1.  1. -1.]\n",
      "[-1. -1. -1.  1. -1.]\n",
      "[-1. -1. -1.  1. -1.]\n",
      "\n",
      "[-1. -1. -1. -1.  1.]\n",
      "[-1. -1. -1. -1.  1.]\n",
      "[-1. -1. -1. -1.  1.]\n",
      "[-1. -1. -1. -1.  1.]\n",
      "[-1. -1. -1. -1.  1.]\n",
      "\n"
     ]
    }
   ],
   "source": [
    "for i in range(len(tset2)):\n",
    "    sets = tset2[i]\n",
    "    for j in range(len(sets)):\n",
    "        copy_model1.predict(sets[i].flatten())\n",
    "\n",
    "    print('')"
   ]
  },
  {
   "cell_type": "code",
   "execution_count": 77,
   "metadata": {},
   "outputs": [
    {
     "name": "stdout",
     "output_type": "stream",
     "text": [
      "[ 1. -1. -1. -1. -1.]\n",
      "[ 1. -1. -1. -1. -1.]\n",
      "[ 1. -1. -1. -1. -1.]\n",
      "[ 1. -1. -1. -1. -1.]\n",
      "[ 1. -1. -1. -1. -1.]\n",
      "\n",
      "[-1.  1. -1. -1. -1.]\n",
      "[-1.  1. -1. -1. -1.]\n",
      "[-1.  1. -1. -1. -1.]\n",
      "[-1.  1. -1. -1. -1.]\n",
      "[-1.  1. -1. -1. -1.]\n",
      "\n",
      "[-1. -1.  1. -1. -1.]\n",
      "[-1. -1.  1. -1. -1.]\n",
      "[-1. -1.  1. -1. -1.]\n",
      "[-1. -1.  1. -1. -1.]\n",
      "[-1. -1.  1. -1. -1.]\n",
      "\n",
      "[-1. -1. -1.  1. -1.]\n",
      "[-1. -1. -1.  1. -1.]\n",
      "[-1. -1. -1.  1. -1.]\n",
      "[-1. -1. -1.  1. -1.]\n",
      "[-1. -1. -1.  1. -1.]\n",
      "\n",
      "[-1. -1. -1. -1.  1.]\n",
      "[-1. -1. -1. -1.  1.]\n",
      "[-1. -1. -1. -1.  1.]\n",
      "[-1. -1. -1. -1.  1.]\n",
      "[-1. -1. -1. -1.  1.]\n",
      "\n"
     ]
    }
   ],
   "source": [
    "for i in range(len(tset3)):\n",
    "    sets = tset3[i]\n",
    "    for j in range(len(sets)):\n",
    "        copy_model1.predict(sets[i].flatten())\n",
    "\n",
    "    print('')"
   ]
  },
  {
   "cell_type": "code",
   "execution_count": 78,
   "metadata": {},
   "outputs": [],
   "source": [
    "destroy_weights(copy_model1, percent=0.2)"
   ]
  },
  {
   "cell_type": "code",
   "execution_count": 79,
   "metadata": {},
   "outputs": [
    {
     "name": "stdout",
     "output_type": "stream",
     "text": [
      "There are 80 weights that are zero from input to hidden layer\n",
      "There are 20 weights that are zero from hidden layer to output\n"
     ]
    }
   ],
   "source": [
    "print(f\"There are {np.count_nonzero(copy_model1.weights[0]==0)} weights that are zero from input to hidden layer\")\n",
    "print(f\"There are {np.count_nonzero(copy_model1.weights[1]==0)} weights that are zero from hidden layer to output\")"
   ]
  },
  {
   "cell_type": "code",
   "execution_count": 80,
   "metadata": {},
   "outputs": [
    {
     "name": "stdout",
     "output_type": "stream",
     "text": [
      "[ 1. -1. -1. -1. -1.]\n",
      "[ 1. -1. -1. -1. -1.]\n",
      "[ 1. -1. -1. -1. -1.]\n",
      "[ 1. -1. -1. -1. -1.]\n",
      "[ 1. -1. -1. -1. -1.]\n",
      "\n",
      "[-1.  1. -1. -1. -1.]\n",
      "[-1.  1. -1. -1. -1.]\n",
      "[-1.  1. -1. -1. -1.]\n",
      "[-1.  1. -1. -1. -1.]\n",
      "[-1.  1. -1. -1. -1.]\n",
      "\n",
      "[-1. -1.  1. -1. -1.]\n",
      "[-1. -1.  1. -1. -1.]\n",
      "[-1. -1.  1. -1. -1.]\n",
      "[-1. -1.  1. -1. -1.]\n",
      "[-1. -1.  1. -1. -1.]\n",
      "\n",
      "[-1.  1. -1. -1. -1.]\n",
      "[-1.  1. -1. -1. -1.]\n",
      "[-1.  1. -1. -1. -1.]\n",
      "[-1.  1. -1. -1. -1.]\n",
      "[-1.  1. -1. -1. -1.]\n",
      "\n",
      "[-1. -1. -1. -1.  1.]\n",
      "[-1. -1. -1. -1.  1.]\n",
      "[-1. -1. -1. -1.  1.]\n",
      "[-1. -1. -1. -1.  1.]\n",
      "[-1. -1. -1. -1.  1.]\n",
      "\n"
     ]
    }
   ],
   "source": [
    "for i in range(len(tset1)):\n",
    "    sets = tset1[i]\n",
    "    for j in range(len(sets)):\n",
    "        copy_model1.predict(sets[i].flatten())\n",
    "\n",
    "    print('')"
   ]
  },
  {
   "cell_type": "code",
   "execution_count": 81,
   "metadata": {},
   "outputs": [
    {
     "name": "stdout",
     "output_type": "stream",
     "text": [
      "[ 1. -1. -1. -1. -1.]\n",
      "[ 1. -1. -1. -1. -1.]\n",
      "[ 1. -1. -1. -1. -1.]\n",
      "[ 1. -1. -1. -1. -1.]\n",
      "[ 1. -1. -1. -1. -1.]\n",
      "\n",
      "[-1.  1. -1. -1. -1.]\n",
      "[-1.  1. -1. -1. -1.]\n",
      "[-1.  1. -1. -1. -1.]\n",
      "[-1.  1. -1. -1. -1.]\n",
      "[-1.  1. -1. -1. -1.]\n",
      "\n",
      "[-1. -1.  1. -1. -1.]\n",
      "[-1. -1.  1. -1. -1.]\n",
      "[-1. -1.  1. -1. -1.]\n",
      "[-1. -1.  1. -1. -1.]\n",
      "[-1. -1.  1. -1. -1.]\n",
      "\n",
      "[-1. -1.  1. -1. -1.]\n",
      "[-1. -1.  1. -1. -1.]\n",
      "[-1. -1.  1. -1. -1.]\n",
      "[-1. -1.  1. -1. -1.]\n",
      "[-1. -1.  1. -1. -1.]\n",
      "\n",
      "[-1. -1. -1. -1.  1.]\n",
      "[-1. -1. -1. -1.  1.]\n",
      "[-1. -1. -1. -1.  1.]\n",
      "[-1. -1. -1. -1.  1.]\n",
      "[-1. -1. -1. -1.  1.]\n",
      "\n"
     ]
    }
   ],
   "source": [
    "for i in range(len(tset2)):\n",
    "    sets = tset2[i]\n",
    "    for j in range(len(sets)):\n",
    "        copy_model1.predict(sets[i].flatten())\n",
    "\n",
    "    print('')"
   ]
  },
  {
   "cell_type": "code",
   "execution_count": 82,
   "metadata": {},
   "outputs": [
    {
     "name": "stdout",
     "output_type": "stream",
     "text": [
      "[ 1. -1. -1. -1. -1.]\n",
      "[ 1. -1. -1. -1. -1.]\n",
      "[ 1. -1. -1. -1. -1.]\n",
      "[ 1. -1. -1. -1. -1.]\n",
      "[ 1. -1. -1. -1. -1.]\n",
      "\n",
      "[-1.  1. -1. -1. -1.]\n",
      "[-1.  1. -1. -1. -1.]\n",
      "[-1.  1. -1. -1. -1.]\n",
      "[-1.  1. -1. -1. -1.]\n",
      "[-1.  1. -1. -1. -1.]\n",
      "\n",
      "[-1. -1.  1. -1. -1.]\n",
      "[-1. -1.  1. -1. -1.]\n",
      "[-1. -1.  1. -1. -1.]\n",
      "[-1. -1.  1. -1. -1.]\n",
      "[-1. -1.  1. -1. -1.]\n",
      "\n",
      "[-1. -1.  1. -1. -1.]\n",
      "[-1. -1.  1. -1. -1.]\n",
      "[-1. -1.  1. -1. -1.]\n",
      "[-1. -1.  1. -1. -1.]\n",
      "[-1. -1.  1. -1. -1.]\n",
      "\n",
      "[-1. -1.  1. -1. -1.]\n",
      "[-1. -1.  1. -1. -1.]\n",
      "[-1. -1.  1. -1. -1.]\n",
      "[-1. -1.  1. -1. -1.]\n",
      "[-1. -1.  1. -1. -1.]\n",
      "\n"
     ]
    }
   ],
   "source": [
    "for i in range(len(tset3)):\n",
    "    sets = tset3[i]\n",
    "    for j in range(len(sets)):\n",
    "        copy_model1.predict(sets[i].flatten())\n",
    "\n",
    "    print('')"
   ]
  }
 ],
 "metadata": {
  "kernelspec": {
   "display_name": "Python 3",
   "language": "python",
   "name": "python3"
  },
  "language_info": {
   "codemirror_mode": {
    "name": "ipython",
    "version": 3
   },
   "file_extension": ".py",
   "mimetype": "text/x-python",
   "name": "python",
   "nbconvert_exporter": "python",
   "pygments_lexer": "ipython3",
   "version": "3.7.9"
  }
 },
 "nbformat": 4,
 "nbformat_minor": 1
}
