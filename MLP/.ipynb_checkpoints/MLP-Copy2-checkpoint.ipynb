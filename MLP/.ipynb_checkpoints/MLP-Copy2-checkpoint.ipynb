{
 "cells": [
  {
   "cell_type": "markdown",
   "metadata": {},
   "source": [
    "**Thony Yan <br>\n",
    "PID:3913880**"
   ]
  },
  {
   "cell_type": "code",
   "execution_count": 1,
   "metadata": {},
   "outputs": [],
   "source": [
    "import numpy as np\n",
    "import matplotlib.pyplot as plt\n",
    "import copy\n",
    "np.random.seed(0)"
   ]
  },
  {
   "cell_type": "markdown",
   "metadata": {},
   "source": [
    "# Multilayer Perceptron (MLP)\n",
    "\n",
    "To understand a multilayer perceptron, we must see how a regular perceptron function. A perceptron is a very simple unit for learning machine. It does this by taking an input and multiplying it by their associated weights. The weights signify how important the input is. Now when you have multiple perceptrons, it forms a multilayer perceptron.[1] "
   ]
  },
  {
   "cell_type": "markdown",
   "metadata": {},
   "source": [
    "![](images/Perceptron2.png)"
   ]
  },
  {
   "cell_type": "markdown",
   "metadata": {},
   "source": [
    "A multilayer perceptron is a structure where many perceptrons are stacked to form different layers to solve relatively complex problems. A basic MLP typically has three types of layers, the input layer which are the features we want to predict, the output layer that are the results after passing though the MLP, and the hidden layer which are basically neural networks that sits between the input and output layer. Below is a simple MLP structure with two features, three neurons as the hidden layer, and three outputs in the output layer. Note: the bias in the layers store as a value of one that makes it possible for the activation function be able to adjust."
   ]
  },
  {
   "cell_type": "markdown",
   "metadata": {},
   "source": [
    "![alt text](images/MLP.png)"
   ]
  },
  {
   "cell_type": "markdown",
   "metadata": {},
   "source": [
    "Now in this project I will implement the MLP structure in Python. After the creating of the, I will implement the training algorithm that occurs in an MLP. Which consists of the feed forward calculation, the backpropagation, and finally updating the weights so that the neural network learns from the features pass through the network."
   ]
  },
  {
   "cell_type": "markdown",
   "metadata": {},
   "source": [
    "## The Data"
   ]
  },
  {
   "cell_type": "markdown",
   "metadata": {},
   "source": [
    "First we must create the data to train on. We will be making an array of signed binary 1s that when arrange into a 5 by 5 matrix will display an image of the 5 vowels of the English alphabet *a ,e, i, o, u*. After creating the vowels we will create 4 more images from the original vowels but each image will have 1 pixel change (the 1 will turn to a -1 and vice versa)."
   ]
  },
  {
   "cell_type": "markdown",
   "metadata": {},
   "source": [
    "In this following example we will see how it is suppose to look:<br>"
   ]
  },
  {
   "cell_type": "markdown",
   "metadata": {},
   "source": [
    "![](images/A_image.png)"
   ]
  },
  {
   "cell_type": "code",
   "execution_count": 2,
   "metadata": {
    "pycharm": {
     "name": "#%%\n"
    }
   },
   "outputs": [],
   "source": [
    "p1 = np.array([-1,-1,1,-1,-1,-1,1,-1,1,-1,1,1,1,1,1,1,-1,-1,-1,1])\n",
    "p6 = np.array([1,1,1,1,1,1,-1,-1,-1,-1,1,1,1,-1,-1,1,1,1,1,1])\n",
    "p11 = np.array([-1,1,1,1,-1,-1,-1,1,-1,-1,-1,-1,1,-1,-1,-1,1,1,1,-1])\n",
    "p16 = np.array([1,1,1,1,1,1,-1,-1,-1,1,1,-1,-1,-1,1,1,1,1,1,1])\n",
    "p21 = np.array([1,-1,-1,-1,1,1,-1,-1,-1,1,1,-1,-1,-1,1,1,1,1,1,1])"
   ]
  },
  {
   "cell_type": "code",
   "execution_count": 3,
   "metadata": {
    "pycharm": {
     "name": "#%%\n"
    }
   },
   "outputs": [],
   "source": [
    "p1 = p1.reshape(4,5)\n",
    "p6 = p6.reshape(4,5)\n",
    "p11 = p11.reshape(4,5)\n",
    "p16 = p16.reshape(4,5)\n",
    "p21 = p21.reshape(4,5)"
   ]
  },
  {
   "cell_type": "code",
   "execution_count": 4,
   "metadata": {
    "pycharm": {
     "name": "#%%\n"
    }
   },
   "outputs": [
    {
     "data": {
      "text/plain": [
       "(4, 5)"
      ]
     },
     "execution_count": 4,
     "metadata": {},
     "output_type": "execute_result"
    }
   ],
   "source": [
    "p1.shape"
   ]
  },
  {
   "cell_type": "code",
   "execution_count": 5,
   "metadata": {
    "pycharm": {
     "name": "#%%\n"
    }
   },
   "outputs": [],
   "source": [
    "base = [p1,p6,p11,p16,p21]"
   ]
  },
  {
   "cell_type": "code",
   "execution_count": 6,
   "metadata": {
    "pycharm": {
     "name": "#%%\n"
    }
   },
   "outputs": [],
   "source": [
    "def show(figs): # This function is use to show image\n",
    "    img=plt.figure(figsize=(10, 10))\n",
    "    for i in range(len(figs)):\n",
    "        img.add_subplot(5, 5, i+1)\n",
    "        plt.imshow(figs[i]-1, cmap='Greys')"
   ]
  },
  {
   "cell_type": "markdown",
   "metadata": {},
   "source": [
    "**In the following snippet of code we can see all 5 vowels display.**"
   ]
  },
  {
   "cell_type": "code",
   "execution_count": 7,
   "metadata": {
    "pycharm": {
     "name": "#%%\n"
    }
   },
   "outputs": [
    {
     "data": {
      "image/png": "[encoded data removed]",
      "text/plain": [
       "<Figure size 576x576 with 5 Axes>"
      ]
     },
     "metadata": {
      "needs_background": "light"
     },
     "output_type": "display_data"
    }
   ],
   "source": [
    "img=plt.figure(figsize=(8, 8))\n",
    "for i in range(1,6):\n",
    "    img.add_subplot(5, 5, i)\n",
    "    plt.imshow(base[i-1]-1, cmap='Greys')"
   ]
  },
  {
   "cell_type": "markdown",
   "metadata": {},
   "source": [
    "**Here we are getting the x and y coordinates to invert the pixel. Example we will get the original vowel A matrix and invert the pixel located at (2,1) to create a variation of A. Then we will repeat this process for (3,2) and so on.**"
   ]
  },
  {
   "cell_type": "code",
   "execution_count": 8,
   "metadata": {
    "pycharm": {
     "name": "#%%\n"
    }
   },
   "outputs": [],
   "source": [
    "a_mod = np.array([[2,1],[3,2],[3,4],[4,4]])\n",
    "e_mod = np.array([[2,2],[4,2],[5,3],[4,3]])\n",
    "i_mod = np.array([[1,1],[4,2],[1,4],[4,3]])\n",
    "o_mod = np.array([[2,2],[4,2],[2,3],[4,3]])\n",
    "u_mod = np.array([[2,1],[4,1],[2,3],[4,3]])"
   ]
  },
  {
   "cell_type": "code",
   "execution_count": 9,
   "metadata": {
    "pycharm": {
     "name": "#%%\n"
    }
   },
   "outputs": [],
   "source": [
    "mod = [a_mod,e_mod,i_mod,o_mod,u_mod]"
   ]
  },
  {
   "cell_type": "code",
   "execution_count": 10,
   "metadata": {
    "pycharm": {
     "name": "#%%\n"
    }
   },
   "outputs": [],
   "source": [
    "def modify(base, mod):\n",
    "    lst = []\n",
    "    lst.append(base)\n",
    "    for i in range(len(mod)):\n",
    "        tmp = copy.deepcopy(base)\n",
    "        tmp[mod[i][1]-1,mod[i][0]-1] *= -1\n",
    "        lst.append(tmp)\n",
    "\n",
    "    return lst"
   ]
  },
  {
   "cell_type": "code",
   "execution_count": 11,
   "metadata": {
    "pycharm": {
     "name": "#%%\n"
    }
   },
   "outputs": [],
   "source": [
    "a_test = modify(base[0], mod[0])\n",
    "e_test = modify(base[1], mod[1])\n",
    "i_test = modify(base[2], mod[2])\n",
    "o_test = modify(base[3], mod[3])\n",
    "u_test = modify(base[4], mod[4])"
   ]
  },
  {
   "cell_type": "code",
   "execution_count": 12,
   "metadata": {
    "pycharm": {
     "name": "#%%\n"
    }
   },
   "outputs": [
    {
     "data": {
      "image/png": "[encoded data removed]",
      "text/plain": [
       "<Figure size 720x720 with 5 Axes>"
      ]
     },
     "metadata": {
      "needs_background": "light"
     },
     "output_type": "display_data"
    },
    {
     "data": {
      "image/png": "[encoded data removed]",
      "text/plain": [
       "<Figure size 720x720 with 5 Axes>"
      ]
     },
     "metadata": {
      "needs_background": "light"
     },
     "output_type": "display_data"
    },
    {
     "data": {
      "image/png": "[encoded data removed]",
      "text/plain": [
       "<Figure size 720x720 with 5 Axes>"
      ]
     },
     "metadata": {
      "needs_background": "light"
     },
     "output_type": "display_data"
    },
    {
     "data": {
      "image/png": "[encoded data removed]",
      "text/plain": [
       "<Figure size 720x720 with 5 Axes>"
      ]
     },
     "metadata": {
      "needs_background": "light"
     },
     "output_type": "display_data"
    },
    {
     "data": {
      "image/png": "[encoded data removed]",
      "text/plain": [
       "<Figure size 720x720 with 5 Axes>"
      ]
     },
     "metadata": {
      "needs_background": "light"
     },
     "output_type": "display_data"
    }
   ],
   "source": [
    "show(a_test)\n",
    "show(e_test)\n",
    "show(i_test)\n",
    "show(o_test)\n",
    "show(u_test)"
   ]
  },
  {
   "cell_type": "markdown",
   "metadata": {},
   "source": [
    "**Above are the vowels and their 4 variations that we will use as the training set for our perceptron and adaline algorithm. Next we will be creating the test sets. In test set 1 we will still have the original vowels but now with a different 1 pixel variation.**"
   ]
  },
  {
   "cell_type": "code",
   "execution_count": 13,
   "metadata": {},
   "outputs": [],
   "source": [
    "test_set = np.array([a_test,e_test,i_test,o_test,u_test])"
   ]
  },
  {
   "cell_type": "code",
   "execution_count": 14,
   "metadata": {},
   "outputs": [],
   "source": [
    "tset_mod1 = np.array([[ [4,1],[5,3],[2,4],[1,2] ],  #tset1 a\n",
    "                      [ [2,4],[5,2],[4,3],[1,3] ],  #tset1 e\n",
    "                      [ [4,4],[2,4],[2,2],[3,4] ],  #tset1 i\n",
    "                      [ [1,3],[3,2],[5,4],[3,3] ],  #tset1 o\n",
    "                      [ [5,3],[3,4],[1,4],[5,4] ]]) #tset1 u"
   ]
  },
  {
   "cell_type": "code",
   "execution_count": 15,
   "metadata": {},
   "outputs": [],
   "source": [
    "tset1_a = modify(base[0], tset_mod1[0])\n",
    "tset1_e = modify(base[1], tset_mod1[1])\n",
    "tset1_i = modify(base[2], tset_mod1[2])\n",
    "tset1_o = modify(base[3], tset_mod1[3])\n",
    "tset1_u = modify(base[4], tset_mod1[4])"
   ]
  },
  {
   "cell_type": "code",
   "execution_count": 16,
   "metadata": {},
   "outputs": [
    {
     "data": {
      "image/png": "[encoded data removed]",
      "text/plain": [
       "<Figure size 720x720 with 5 Axes>"
      ]
     },
     "metadata": {
      "needs_background": "light"
     },
     "output_type": "display_data"
    },
    {
     "data": {
      "image/png": "[encoded data removed]",
      "text/plain": [
       "<Figure size 720x720 with 5 Axes>"
      ]
     },
     "metadata": {
      "needs_background": "light"
     },
     "output_type": "display_data"
    },
    {
     "data": {
      "image/png": "[encoded data removed]",
      "text/plain": [
       "<Figure size 720x720 with 5 Axes>"
      ]
     },
     "metadata": {
      "needs_background": "light"
     },
     "output_type": "display_data"
    },
    {
     "data": {
      "image/png": "[encoded data removed]",
      "text/plain": [
       "<Figure size 720x720 with 5 Axes>"
      ]
     },
     "metadata": {
      "needs_background": "light"
     },
     "output_type": "display_data"
    },
    {
     "data": {
      "image/png": "[encoded data removed]",
      "text/plain": [
       "<Figure size 720x720 with 5 Axes>"
      ]
     },
     "metadata": {
      "needs_background": "light"
     },
     "output_type": "display_data"
    }
   ],
   "source": [
    "show(tset1_a)\n",
    "show(tset1_e)\n",
    "show(tset1_i)\n",
    "show(tset1_o)\n",
    "show(tset1_u)"
   ]
  },
  {
   "cell_type": "code",
   "execution_count": 17,
   "metadata": {},
   "outputs": [],
   "source": [
    "tset1 = np.array([tset1_a,tset1_e,tset1_i,tset1_o,tset1_u])"
   ]
  },
  {
   "cell_type": "markdown",
   "metadata": {},
   "source": [
    "**For test set 2 we will be grabbing the vowel variations from test set 1 and inverting 1 more pixel.**"
   ]
  },
  {
   "cell_type": "code",
   "execution_count": 18,
   "metadata": {},
   "outputs": [],
   "source": [
    "tset_mod2 = np.array([[ [3,2],[1,3],[3,3],[2,1] ], #tset2 a\n",
    "                      [ [3,2],[3,3],[5,4],[1,2] ], #tset2 e\n",
    "                      [ [1,3],[2,2],[4,3],[1,4] ], #tset2 i\n",
    "                      [ [4,3],[4,3],[5,1],[2,4] ], #tset2 o\n",
    "                      [ [3,3],[2,2],[2,1],[1,3] ]])#tset2 u"
   ]
  },
  {
   "cell_type": "code",
   "execution_count": 19,
   "metadata": {},
   "outputs": [],
   "source": [
    "def modify2(base,mod):\n",
    "    lst = []\n",
    "    lst.append(base[0])\n",
    "    for i in range(1,5):\n",
    "        tmp = copy.deepcopy(base[i])\n",
    "        tmp[mod[i-1][1]-1,mod[i-1][0]-1] *= -1\n",
    "        lst.append(tmp)\n",
    "    return lst"
   ]
  },
  {
   "cell_type": "code",
   "execution_count": 20,
   "metadata": {},
   "outputs": [],
   "source": [
    "tset2_a = modify2(tset1_a,tset_mod2[0])\n",
    "tset2_e = modify2(tset1_e,tset_mod2[1])\n",
    "tset2_i = modify2(tset1_i,tset_mod2[2])\n",
    "tset2_o = modify2(tset1_o,tset_mod2[3])\n",
    "tset2_u = modify2(tset1_u,tset_mod2[4])"
   ]
  },
  {
   "cell_type": "code",
   "execution_count": 21,
   "metadata": {},
   "outputs": [
    {
     "data": {
      "image/png": "[encoded data removed]",
      "text/plain": [
       "<Figure size 720x720 with 5 Axes>"
      ]
     },
     "metadata": {
      "needs_background": "light"
     },
     "output_type": "display_data"
    },
    {
     "data": {
      "image/png": "[encoded data removed]",
      "text/plain": [
       "<Figure size 720x720 with 5 Axes>"
      ]
     },
     "metadata": {
      "needs_background": "light"
     },
     "output_type": "display_data"
    },
    {
     "data": {
      "image/png": "[encoded data removed]",
      "text/plain": [
       "<Figure size 720x720 with 5 Axes>"
      ]
     },
     "metadata": {
      "needs_background": "light"
     },
     "output_type": "display_data"
    },
    {
     "data": {
      "image/png": "[encoded data removed]",
      "text/plain": [
       "<Figure size 720x720 with 5 Axes>"
      ]
     },
     "metadata": {
      "needs_background": "light"
     },
     "output_type": "display_data"
    },
    {
     "data": {
      "image/png": "[encoded data removed]",
      "text/plain": [
       "<Figure size 720x720 with 5 Axes>"
      ]
     },
     "metadata": {
      "needs_background": "light"
     },
     "output_type": "display_data"
    }
   ],
   "source": [
    "show(tset2_a)\n",
    "show(tset2_e)\n",
    "show(tset2_i)\n",
    "show(tset2_o)\n",
    "show(tset2_u)"
   ]
  },
  {
   "cell_type": "code",
   "execution_count": 22,
   "metadata": {},
   "outputs": [],
   "source": [
    "tset2 = np.array([tset2_a,tset2_e,tset2_i,tset2_o,tset2_u])"
   ]
  },
  {
   "cell_type": "markdown",
   "metadata": {},
   "source": [
    "**We will be using the same process to create test set 3 but using the variations of test set 2**"
   ]
  },
  {
   "cell_type": "code",
   "execution_count": 23,
   "metadata": {},
   "outputs": [],
   "source": [
    "tset_mod3 = np.array([[ [5,2],[3,3],[1,3],[5,1] ], #tset3 a\n",
    "                      [ [3,4],[1,4],[5,2],[1,3] ], #tset3 e\n",
    "                      [ [1,1],[1,2],[2,4],[2,1] ], #tset3 i\n",
    "                      [ [1,2],[4,2],[3,3],[1,4] ], #tset3 o\n",
    "                      [ [3,2],[5,2],[5,4],[4,2] ]])#tset3 u"
   ]
  },
  {
   "cell_type": "code",
   "execution_count": 24,
   "metadata": {},
   "outputs": [],
   "source": [
    "tset3_a = modify2(tset2_a,tset_mod3[0])\n",
    "tset3_e = modify2(tset2_e,tset_mod3[1])\n",
    "tset3_i = modify2(tset2_i,tset_mod3[2])\n",
    "tset3_o = modify2(tset2_o,tset_mod3[3])\n",
    "tset3_u = modify2(tset2_u,tset_mod3[4])"
   ]
  },
  {
   "cell_type": "code",
   "execution_count": 25,
   "metadata": {},
   "outputs": [
    {
     "data": {
      "image/png": "[encoded data removed]",
      "text/plain": [
       "<Figure size 720x720 with 5 Axes>"
      ]
     },
     "metadata": {
      "needs_background": "light"
     },
     "output_type": "display_data"
    },
    {
     "data": {
      "image/png": "[encoded data removed]",
      "text/plain": [
       "<Figure size 720x720 with 5 Axes>"
      ]
     },
     "metadata": {
      "needs_background": "light"
     },
     "output_type": "display_data"
    },
    {
     "data": {
      "image/png": "[encoded data removed]",
      "text/plain": [
       "<Figure size 720x720 with 5 Axes>"
      ]
     },
     "metadata": {
      "needs_background": "light"
     },
     "output_type": "display_data"
    },
    {
     "data": {
      "image/png": "[encoded data removed]",
      "text/plain": [
       "<Figure size 720x720 with 5 Axes>"
      ]
     },
     "metadata": {
      "needs_background": "light"
     },
     "output_type": "display_data"
    },
    {
     "data": {
      "image/png": "[encoded data removed]",
      "text/plain": [
       "<Figure size 720x720 with 5 Axes>"
      ]
     },
     "metadata": {
      "needs_background": "light"
     },
     "output_type": "display_data"
    }
   ],
   "source": [
    "show(tset3_a)\n",
    "show(tset3_e)\n",
    "show(tset3_i)\n",
    "show(tset3_o)\n",
    "show(tset3_u)"
   ]
  },
  {
   "cell_type": "code",
   "execution_count": 26,
   "metadata": {},
   "outputs": [],
   "source": [
    "tset3 = np.array([tset3_a,tset3_e,tset3_i,tset3_o,tset3_u])"
   ]
  },
  {
   "cell_type": "markdown",
   "metadata": {},
   "source": [
    "## The Neural Network Training Cycle"
   ]
  },
  {
   "cell_type": "markdown",
   "metadata": {},
   "source": [
    "### Feedforward\n",
    "Feedforward or the forward propagation is the calculation and storage of intermediate variables from the input layer all the way to the output layer. we first get the sum of the weights multiply by the inputs and adding the bias, then we apply the activation function to get the activation value and use that as the output to pass it to the next consecutive layer."
   ]
  },
  {
   "cell_type": "markdown",
   "metadata": {},
   "source": [
    "![](images/feedforward.PNG)"
   ]
  },
  {
   "cell_type": "markdown",
   "metadata": {},
   "source": [
    "### Back Propagation\n",
    "Backpropagation is the method of calculating the gradient of the neural networks parameters. We do this by traversing the network in reverse order, meaning we are moving from the output layer to the input layer. By using partial derivatives of the parameters, $F^M(n^M)$, we can calculate the sensitivity to update the weights in the MLP."
   ]
  },
  {
   "cell_type": "markdown",
   "metadata": {},
   "source": [
    "![](images/BackPropagation.PNG)"
   ]
  },
  {
   "cell_type": "markdown",
   "metadata": {},
   "source": [
    "### Weight update\n",
    "After calculating all the sensitivity from the backpropagation we can begin updating the weights and bias from the network. We use alpha so we can slowly change the weights as dramatic changes to the weights will not produce desire results"
   ]
  },
  {
   "cell_type": "markdown",
   "metadata": {},
   "source": [
    "![](images/WeightUpdate.PNG)"
   ]
  },
  {
   "cell_type": "code",
   "execution_count": 27,
   "metadata": {
    "pycharm": {
     "name": "#%%\n"
    }
   },
   "outputs": [],
   "source": [
    "class Neural_Network:\n",
    "\n",
    "    def __init__(self):\n",
    "        self.weights = [] # weight matrices\n",
    "        self.bias = [] # bias matrices\n",
    "        self.activation = [] # activation functions\n",
    "        self.z_val = [np.zeros(1)] # sum values of neurons. note: first value suppose to be inputs\n",
    "        self.a_val = [np.zeros(1)] # values after activation functions are apply. note: first value suppose to be inputs\n",
    "        self.sensitivity = [] # sensitivity or delta (derivatives)\n",
    "\n",
    "\n",
    "    def add_layer(self, neurons: int, activation: str, input_shape=None):\n",
    "        if input_shape is None:\n",
    "            try:\n",
    "                w = np.random.uniform(0,0.25,(self.weights[-1].shape[1],neurons))\n",
    "                self.weights.append(w)\n",
    "            except IndexError:\n",
    "                w = np.random.uniform(0,0.25,(1,neurons))\n",
    "                self.weights.append(w)\n",
    "\n",
    "        else:\n",
    "            input = np.prod(input_shape)\n",
    "            w = np.random.uniform(0,0.25,(input,neurons))\n",
    "            self.weights.append(w)\n",
    "\n",
    "        self.bias.append(np.random.rand(neurons))\n",
    "        self.activation.append(self.activation_f(activation))\n",
    "        self.z_val.append(np.zeros(neurons))\n",
    "        self.a_val.append(np.zeros(neurons))\n",
    "\n",
    "\n",
    "    @staticmethod\n",
    "    def sigmoid(x, derivative: bool=False):\n",
    "        z = 1/(1+np.exp(-x))\n",
    "        if derivative:\n",
    "            z = z * (1-z)\n",
    "        return z\n",
    "\n",
    "    @staticmethod\n",
    "    def tanh(x, derivative: bool=False):\n",
    "        z =  (1-np.exp(-2*x)) / (1+np.exp(-2*x))\n",
    "        if derivative:\n",
    "            z = (1 + z) * (1 - z)\n",
    "        return z\n",
    "\n",
    "    @staticmethod\n",
    "    def linear(x, derivative: bool=False):\n",
    "        if derivative:\n",
    "            return np.array(1)\n",
    "        return x\n",
    "\n",
    "    def activation_f(self, activation_name: str):\n",
    "\n",
    "        activation = {\n",
    "            'linear' : self.linear,\n",
    "            'sigmoid' : self.sigmoid,\n",
    "            'tanh' : self.tanh\n",
    "        }\n",
    "\n",
    "        act = str.lower(activation_name)\n",
    "\n",
    "        if act in activation:\n",
    "            return activation[act]\n",
    "        else:\n",
    "            print(\"activation function not in record\")\n",
    "\n",
    "    @staticmethod\n",
    "    def mse(error):\n",
    "\n",
    "        mse = np.sum(error ** 2)\n",
    "        return mse\n",
    "\n",
    "    @staticmethod\n",
    "    def error(target, output):\n",
    "        error = (target - output)\n",
    "        return error\n",
    "    \n",
    "    @staticmethod\n",
    "    def hardlim(output, tresh=0.32):\n",
    "        \n",
    "        output[output>tresh] = 1\n",
    "        output[output<tresh] = -1\n",
    "        return output\n",
    "    \n",
    "    @staticmethod\n",
    "    def max_arg(output):\n",
    "        \n",
    "        index = output.argmax()\n",
    "        output.fill(-1)\n",
    "        output[index] = 1\n",
    "        return output\n",
    "        \n",
    "    def feedforward(self, x):\n",
    "\n",
    "        self.a_val[0] = x\n",
    "        self.z_val[0] = x\n",
    "\n",
    "        for layer in range(len(self.weights)):\n",
    "\n",
    "            z = np.dot(self.a_val[layer], self.weights[layer]) + self.bias[layer]\n",
    "            a = self.activation[layer](z)\n",
    "            self.z_val[layer+1] = z\n",
    "            self.a_val[layer+1] = a\n",
    "\n",
    "    def back_propagate(self, error):\n",
    "        error = -2 * error # -2 * (target-output)\n",
    "        self.sensitivity = []\n",
    "        for i in reversed(range(len(self.weights))):\n",
    "\n",
    "            s = error * self.activation[i](self.z_val[i+1], derivative=True) # -2 * FMnM * (t-a)\n",
    "            self.sensitivity.insert(0,s)\n",
    "            error = np.dot(s, self.weights[i].T)\n",
    "\n",
    "    def update_weights(self, alpha=0.1):\n",
    "        for i in range(len(self.weights)):\n",
    "            sensitivity = self.sensitivity[i]\n",
    "            a = self.a_val[i]\n",
    "\n",
    "            sensitivity = sensitivity.reshape(sensitivity.shape[0],-1)\n",
    "            a = a.reshape(a.shape[0],-1)\n",
    "\n",
    "            sa = np.dot(sensitivity,a.T)\n",
    "\n",
    "            self.weights[i] = self.weights[i] - (alpha * sa.T)\n",
    "            self.bias[i] = self.bias[i] - (alpha * self.sensitivity[i])\n",
    "\n",
    "    def train(self, x, y, alpha=0.01):\n",
    "\n",
    "        self.feedforward(x)\n",
    "        error = self.error(y, self.a_val[-1])\n",
    "        self.back_propagate(error)\n",
    "        self.update_weights(alpha)\n",
    "        return self.mse(error)\n",
    "\n",
    "    def threshold_predict(self,x,thresh=0.32):\n",
    "        self.a_val[0] = x\n",
    "        self.z_val[0] = x\n",
    "        for layer in range(len(self.weights)):\n",
    "\n",
    "            z = np.dot(self.a_val[layer], self.weights[layer]) + self.bias[layer]\n",
    "            a = self.activation[layer](z)\n",
    "            self.z_val[layer+1] = z\n",
    "            self.a_val[layer+1] = a\n",
    "        \n",
    "        return self.hardlim(a, thresh)\n",
    "    \n",
    "    def max_arg_predict(self,x):\n",
    "        self.a_val[0] = x\n",
    "        self.z_val[0] = x\n",
    "        for layer in range(len(self.weights)):\n",
    "\n",
    "            z = np.dot(self.a_val[layer], self.weights[layer]) + self.bias[layer]\n",
    "            a = self.activation[layer](z)\n",
    "            self.z_val[layer+1] = z\n",
    "            self.a_val[layer+1] = a\n",
    "        \n",
    "        return self.max_arg(a)"
   ]
  },
  {
   "cell_type": "code",
   "execution_count": 28,
   "metadata": {
    "pycharm": {
     "name": "#%%\n"
    }
   },
   "outputs": [],
   "source": [
    "model = Neural_Network()\n",
    "model.add_layer(10, 'sigmoid', input_shape=(4,5))\n",
    "model.add_layer(5, 'tanh')"
   ]
  },
  {
   "cell_type": "markdown",
   "metadata": {},
   "source": [
    "The way we are expressing the target output are as follow."
   ]
  },
  {
   "cell_type": "markdown",
   "metadata": {},
   "source": [
    "![](images/dataset_answer.PNG)"
   ]
  },
  {
   "cell_type": "code",
   "execution_count": 29,
   "metadata": {
    "pycharm": {
     "name": "#%%\n"
    }
   },
   "outputs": [
    {
     "data": {
      "text/plain": [
       "([array([[-1, -1,  1, -1, -1],\n",
       "         [-1,  1, -1,  1, -1],\n",
       "         [ 1,  1,  1,  1,  1],\n",
       "         [ 1, -1, -1, -1,  1]]),\n",
       "  array([[-1,  1,  1, -1, -1],\n",
       "         [-1,  1, -1,  1, -1],\n",
       "         [ 1,  1,  1,  1,  1],\n",
       "         [ 1, -1, -1, -1,  1]]),\n",
       "  array([[-1, -1,  1, -1, -1],\n",
       "         [-1,  1,  1,  1, -1],\n",
       "         [ 1,  1,  1,  1,  1],\n",
       "         [ 1, -1, -1, -1,  1]]),\n",
       "  array([[-1, -1,  1, -1, -1],\n",
       "         [-1,  1, -1,  1, -1],\n",
       "         [ 1,  1,  1,  1,  1],\n",
       "         [ 1, -1,  1, -1,  1]]),\n",
       "  array([[-1, -1,  1, -1, -1],\n",
       "         [-1,  1, -1,  1, -1],\n",
       "         [ 1,  1,  1,  1,  1],\n",
       "         [ 1, -1, -1,  1,  1]])],\n",
       " [array([[ 1,  1,  1,  1,  1],\n",
       "         [ 1, -1, -1, -1, -1],\n",
       "         [ 1,  1,  1, -1, -1],\n",
       "         [ 1,  1,  1,  1,  1]]),\n",
       "  array([[ 1,  1,  1,  1,  1],\n",
       "         [ 1,  1, -1, -1, -1],\n",
       "         [ 1,  1,  1, -1, -1],\n",
       "         [ 1,  1,  1,  1,  1]]),\n",
       "  array([[ 1,  1,  1,  1,  1],\n",
       "         [ 1, -1, -1,  1, -1],\n",
       "         [ 1,  1,  1, -1, -1],\n",
       "         [ 1,  1,  1,  1,  1]]),\n",
       "  array([[ 1,  1,  1,  1,  1],\n",
       "         [ 1, -1, -1, -1, -1],\n",
       "         [ 1,  1,  1, -1,  1],\n",
       "         [ 1,  1,  1,  1,  1]]),\n",
       "  array([[ 1,  1,  1,  1,  1],\n",
       "         [ 1, -1, -1, -1, -1],\n",
       "         [ 1,  1,  1,  1, -1],\n",
       "         [ 1,  1,  1,  1,  1]])],\n",
       " [array([[-1,  1,  1,  1, -1],\n",
       "         [-1, -1,  1, -1, -1],\n",
       "         [-1, -1,  1, -1, -1],\n",
       "         [-1,  1,  1,  1, -1]]),\n",
       "  array([[ 1,  1,  1,  1, -1],\n",
       "         [-1, -1,  1, -1, -1],\n",
       "         [-1, -1,  1, -1, -1],\n",
       "         [-1,  1,  1,  1, -1]]),\n",
       "  array([[-1,  1,  1,  1, -1],\n",
       "         [-1, -1,  1,  1, -1],\n",
       "         [-1, -1,  1, -1, -1],\n",
       "         [-1,  1,  1,  1, -1]]),\n",
       "  array([[-1,  1,  1,  1, -1],\n",
       "         [-1, -1,  1, -1, -1],\n",
       "         [-1, -1,  1, -1, -1],\n",
       "         [ 1,  1,  1,  1, -1]]),\n",
       "  array([[-1,  1,  1,  1, -1],\n",
       "         [-1, -1,  1, -1, -1],\n",
       "         [-1, -1,  1,  1, -1],\n",
       "         [-1,  1,  1,  1, -1]])],\n",
       " [array([[ 1,  1,  1,  1,  1],\n",
       "         [ 1, -1, -1, -1,  1],\n",
       "         [ 1, -1, -1, -1,  1],\n",
       "         [ 1,  1,  1,  1,  1]]),\n",
       "  array([[ 1,  1,  1,  1,  1],\n",
       "         [ 1,  1, -1, -1,  1],\n",
       "         [ 1, -1, -1, -1,  1],\n",
       "         [ 1,  1,  1,  1,  1]]),\n",
       "  array([[ 1,  1,  1,  1,  1],\n",
       "         [ 1, -1, -1,  1,  1],\n",
       "         [ 1, -1, -1, -1,  1],\n",
       "         [ 1,  1,  1,  1,  1]]),\n",
       "  array([[ 1,  1,  1,  1,  1],\n",
       "         [ 1, -1, -1, -1,  1],\n",
       "         [ 1,  1, -1, -1,  1],\n",
       "         [ 1,  1,  1,  1,  1]]),\n",
       "  array([[ 1,  1,  1,  1,  1],\n",
       "         [ 1, -1, -1, -1,  1],\n",
       "         [ 1, -1, -1,  1,  1],\n",
       "         [ 1,  1,  1,  1,  1]])],\n",
       " [array([[ 1, -1, -1, -1,  1],\n",
       "         [ 1, -1, -1, -1,  1],\n",
       "         [ 1, -1, -1, -1,  1],\n",
       "         [ 1,  1,  1,  1,  1]]),\n",
       "  array([[ 1,  1, -1, -1,  1],\n",
       "         [ 1, -1, -1, -1,  1],\n",
       "         [ 1, -1, -1, -1,  1],\n",
       "         [ 1,  1,  1,  1,  1]]),\n",
       "  array([[ 1, -1, -1,  1,  1],\n",
       "         [ 1, -1, -1, -1,  1],\n",
       "         [ 1, -1, -1, -1,  1],\n",
       "         [ 1,  1,  1,  1,  1]]),\n",
       "  array([[ 1, -1, -1, -1,  1],\n",
       "         [ 1, -1, -1, -1,  1],\n",
       "         [ 1,  1, -1, -1,  1],\n",
       "         [ 1,  1,  1,  1,  1]]),\n",
       "  array([[ 1, -1, -1, -1,  1],\n",
       "         [ 1, -1, -1, -1,  1],\n",
       "         [ 1, -1, -1,  1,  1],\n",
       "         [ 1,  1,  1,  1,  1]])])"
      ]
     },
     "execution_count": 29,
     "metadata": {},
     "output_type": "execute_result"
    }
   ],
   "source": [
    "training_set = a_test, e_test, i_test, o_test, u_test\n",
    "training_set"
   ]
  },
  {
   "cell_type": "code",
   "execution_count": 30,
   "metadata": {
    "pycharm": {
     "name": "#%%\n"
    }
   },
   "outputs": [],
   "source": [
    "y_set = np.array([[1.,-1,-1,-1,-1], [-1,1,-1,-1,-1],[-1,-1,1,-1,-1],[-1,-1,-1,1,-1],[-1,-1,-1,-1,1]])"
   ]
  },
  {
   "cell_type": "code",
   "execution_count": 31,
   "metadata": {},
   "outputs": [],
   "source": [
    "def fit(model,epochs, alpha, dataset, targets, exit=0.01, input_l=20, hidden_l=10, output_l=5):\n",
    "    total_mse = []\n",
    "    random_w1 = []\n",
    "    random_w2 = []\n",
    "    random_w3 = []\n",
    "    bias1 = []\n",
    "    bias2 = []\n",
    "    random1 = np.random.randint(input_l)\n",
    "    random2 = np.random.randint(hidden_l)\n",
    "    random3 = np.random.randint(hidden_l)\n",
    "    random4 = np.random.randint(output_l)\n",
    "    random5 = np.random.randint(input_l)\n",
    "    random6 = np.random.randint(hidden_l)\n",
    "    bias_random1 = np.random.randint(hidden_l)\n",
    "    bias_random2 = np.random.randint(output_l)\n",
    "    for epoch in range(epochs):\n",
    "        mse = 0\n",
    "        random_w1.append(model.weights[0][random1][random2])\n",
    "        random_w2.append(model.weights[1][random3][random4])\n",
    "        random_w3.append(model.weights[0][random5][random6])\n",
    "        bias1.append(model.bias[0][bias_random1])\n",
    "        bias2.append(model.bias[1][bias_random2])\n",
    "\n",
    "        for i in range(len(dataset)):\n",
    "            sets = dataset[i]\n",
    "            target = targets[i]\n",
    "            for j in range(len(sets)):\n",
    "                mse += model.train(sets[i].flatten(), target, 0.1)\n",
    "\n",
    "        mse = (mse / 25.)\n",
    "        total_mse.append(mse)\n",
    "        if mse < exit:\n",
    "            break\n",
    "    \n",
    "    plt.plot(total_mse)\n",
    "    plt.xlabel('epoch')\n",
    "    plt.ylabel('mse value')\n",
    "    plt.title('mse')\n",
    "    plt.show()\n",
    "    \n",
    "    plt.plot(random_w1)\n",
    "    plt.xlabel('epoch')\n",
    "    plt.ylabel('weight value')\n",
    "    plt.title('layer 1, weight (' + str(random1) + ',' + str(random2) + ')')\n",
    "    plt.show()\n",
    "    \n",
    "    plt.plot(random_w2)\n",
    "    plt.xlabel('epoch')\n",
    "    plt.ylabel('weight value')\n",
    "    plt.title('layer 2, weight (' + str(random3) + ',' + str(random4) + ')')\n",
    "    plt.show()\n",
    "    \n",
    "    plt.plot(random_w3)\n",
    "    plt.xlabel('epoch')\n",
    "    plt.ylabel('weight value')\n",
    "    plt.title('layer 1, weight (' + str(random5) + ',' + str(random6) + ')')\n",
    "    plt.show()\n",
    "    \n",
    "    plt.plot(bias1)\n",
    "    plt.xlabel('epoch')\n",
    "    plt.ylabel('bias value')\n",
    "    plt.title('layer 1, bias (' + str(bias_random1) + ')')\n",
    "    plt.show()\n",
    "    \n",
    "    plt.plot(bias2)\n",
    "    plt.xlabel('epoch')\n",
    "    plt.ylabel('bias value')\n",
    "    plt.title('layer 2, bias (' + str(bias_random2) + ')')\n",
    "    plt.show()\n",
    "    \n",
    "    print('\\n number of epochs to reach an mse of ' , epoch)"
   ]
  },
  {
   "cell_type": "markdown",
   "metadata": {},
   "source": [
    "**During training we want to minimize the error which is the loss function. In this experiments we will be using the Mean Squared Error as our loss function. By calculating the MSE at each epoch we can see how well the model is learning and use it as a metric to tweak hyper parameters for better testing** "
   ]
  },
  {
   "cell_type": "code",
   "execution_count": 32,
   "metadata": {},
   "outputs": [],
   "source": [
    "model1 = Neural_Network()\n",
    "model1.add_layer(10, 'sigmoid', input_shape=(4,5))\n",
    "model1.add_layer(5, 'tanh')"
   ]
  },
  {
   "cell_type": "code",
   "execution_count": 33,
   "metadata": {},
   "outputs": [
    {
     "data": {
      "image/png": "[encoded data removed]",
      "text/plain": [
       "<Figure size 432x288 with 1 Axes>"
      ]
     },
     "metadata": {
      "needs_background": "light"
     },
     "output_type": "display_data"
    },
    {
     "data": {
      "image/png": "[encoded data removed]",
      "text/plain": [
       "<Figure size 432x288 with 1 Axes>"
      ]
     },
     "metadata": {
      "needs_background": "light"
     },
     "output_type": "display_data"
    },
    {
     "data": {
      "image/png": "[encoded data removed]",
      "text/plain": [
       "<Figure size 432x288 with 1 Axes>"
      ]
     },
     "metadata": {
      "needs_background": "light"
     },
     "output_type": "display_data"
    },
    {
     "data": {
      "image/png": "[encoded data removed]",
      "text/plain": [
       "<Figure size 432x288 with 1 Axes>"
      ]
     },
     "metadata": {
      "needs_background": "light"
     },
     "output_type": "display_data"
    },
    {
     "data": {
      "image/png": "[encoded data removed]",
      "text/plain": [
       "<Figure size 432x288 with 1 Axes>"
      ]
     },
     "metadata": {
      "needs_background": "light"
     },
     "output_type": "display_data"
    },
    {
     "data": {
      "image/png": "[encoded data removed]",
      "text/plain": [
       "<Figure size 432x288 with 1 Axes>"
      ]
     },
     "metadata": {
      "needs_background": "light"
     },
     "output_type": "display_data"
    },
    {
     "name": "stdout",
     "output_type": "stream",
     "text": [
      "\n",
      " number of epochs to reach an mse of  217\n"
     ]
    }
   ],
   "source": [
    "fit(model1,epochs=250, alpha=0.1, dataset=training_set, targets=y_set, exit=0.001)"
   ]
  },
  {
   "cell_type": "code",
   "execution_count": 34,
   "metadata": {},
   "outputs": [],
   "source": [
    "model2 = Neural_Network()\n",
    "model2.add_layer(10, 'sigmoid', input_shape=(4,5))\n",
    "model2.add_layer(5, 'tanh')"
   ]
  },
  {
   "cell_type": "code",
   "execution_count": 35,
   "metadata": {},
   "outputs": [
    {
     "data": {
      "image/png": "[encoded data removed]",
      "text/plain": [
       "<Figure size 432x288 with 1 Axes>"
      ]
     },
     "metadata": {
      "needs_background": "light"
     },
     "output_type": "display_data"
    },
    {
     "data": {
      "image/png": "[encoded data removed]",
      "text/plain": [
       "<Figure size 432x288 with 1 Axes>"
      ]
     },
     "metadata": {
      "needs_background": "light"
     },
     "output_type": "display_data"
    },
    {
     "data": {
      "image/png": "[encoded data removed]",
      "text/plain": [
       "<Figure size 432x288 with 1 Axes>"
      ]
     },
     "metadata": {
      "needs_background": "light"
     },
     "output_type": "display_data"
    },
    {
     "data": {
      "image/png": "[encoded data removed]",
      "text/plain": [
       "<Figure size 432x288 with 1 Axes>"
      ]
     },
     "metadata": {
      "needs_background": "light"
     },
     "output_type": "display_data"
    },
    {
     "data": {
      "image/png": "[encoded data removed]",
      "text/plain": [
       "<Figure size 432x288 with 1 Axes>"
      ]
     },
     "metadata": {
      "needs_background": "light"
     },
     "output_type": "display_data"
    },
    {
     "data": {
      "image/png": "[encoded data removed]",
      "text/plain": [
       "<Figure size 432x288 with 1 Axes>"
      ]
     },
     "metadata": {
      "needs_background": "light"
     },
     "output_type": "display_data"
    },
    {
     "name": "stdout",
     "output_type": "stream",
     "text": [
      "\n",
      " number of epochs to reach an mse of  249\n"
     ]
    }
   ],
   "source": [
    "fit(model2,epochs=250, alpha=0.01, dataset=training_set, targets=y_set, exit=0.001)"
   ]
  },
  {
   "cell_type": "code",
   "execution_count": 36,
   "metadata": {},
   "outputs": [],
   "source": [
    "model3 = Neural_Network()\n",
    "model3.add_layer(10, 'sigmoid', input_shape=(4,5))\n",
    "model3.add_layer(5, 'tanh')"
   ]
  },
  {
   "cell_type": "code",
   "execution_count": 37,
   "metadata": {},
   "outputs": [
    {
     "data": {
      "image/png": "[encoded data removed]",
      "text/plain": [
       "<Figure size 432x288 with 1 Axes>"
      ]
     },
     "metadata": {
      "needs_background": "light"
     },
     "output_type": "display_data"
    },
    {
     "data": {
      "image/png": "[encoded data removed]",
      "text/plain": [
       "<Figure size 432x288 with 1 Axes>"
      ]
     },
     "metadata": {
      "needs_background": "light"
     },
     "output_type": "display_data"
    },
    {
     "data": {
      "image/png": "[encoded data removed]",
      "text/plain": [
       "<Figure size 432x288 with 1 Axes>"
      ]
     },
     "metadata": {
      "needs_background": "light"
     },
     "output_type": "display_data"
    },
    {
     "data": {
      "image/png": "[encoded data removed]",
      "text/plain": [
       "<Figure size 432x288 with 1 Axes>"
      ]
     },
     "metadata": {
      "needs_background": "light"
     },
     "output_type": "display_data"
    },
    {
     "data": {
      "image/png": "[encoded data removed]",
      "text/plain": [
       "<Figure size 432x288 with 1 Axes>"
      ]
     },
     "metadata": {
      "needs_background": "light"
     },
     "output_type": "display_data"
    },
    {
     "data": {
      "image/png": "[encoded data removed]",
      "text/plain": [
       "<Figure size 432x288 with 1 Axes>"
      ]
     },
     "metadata": {
      "needs_background": "light"
     },
     "output_type": "display_data"
    },
    {
     "name": "stdout",
     "output_type": "stream",
     "text": [
      "\n",
      " number of epochs to reach an mse of  200\n"
     ]
    }
   ],
   "source": [
    "fit(model3,epochs=250, alpha=0.001, dataset=training_set, targets=y_set, exit=0.001)"
   ]
  },
  {
   "cell_type": "markdown",
   "metadata": {},
   "source": [
    "Above we have tested three different alphas, 0.1, 0.01, and 0.001. I also use the MSE value to exit the training earlier as I believe an MSE less than 0.001 is enough training. This can always be change. From the results all the models were able to reach an MSE less than 0.001. But the 3rd model with an alpha=0.001 was able to reach the MSE threshold much quicker and we will be using it to test our test dataset."
   ]
  },
  {
   "cell_type": "markdown",
   "metadata": {},
   "source": [
    "We will start testing how the model will perform with the testing datasets. Now there are two ways I am deciding how to interpret the output values from the model. One is by using a threshold function. so if the output is greater than 0.32 it will be set to 1 otherwise -1. The other way is by making the biggest number in the outputs to 1 and set the rest to -1."
   ]
  },
  {
   "cell_type": "code",
   "execution_count": 38,
   "metadata": {},
   "outputs": [
    {
     "name": "stdout",
     "output_type": "stream",
     "text": [
      "target = [ 1. -1. -1. -1. -1.]\n",
      "     y = [ 1. -1. -1. -1. -1.]\n",
      "\n",
      "target = [ 1. -1. -1. -1. -1.]\n",
      "     y = [ 1. -1. -1. -1. -1.]\n",
      "\n",
      "target = [ 1. -1. -1. -1. -1.]\n",
      "     y = [ 1. -1. -1. -1. -1.]\n",
      "\n",
      "target = [ 1. -1. -1. -1. -1.]\n",
      "     y = [ 1. -1. -1. -1. -1.]\n",
      "\n",
      "target = [ 1. -1. -1. -1. -1.]\n",
      "     y = [ 1. -1. -1. -1. -1.]\n",
      "\n",
      "target = [-1.  1. -1. -1. -1.]\n",
      "     y = [-1.  1. -1. -1. -1.]\n",
      "\n",
      "target = [-1.  1. -1. -1. -1.]\n",
      "     y = [-1.  1. -1. -1. -1.]\n",
      "\n",
      "target = [-1.  1. -1. -1. -1.]\n",
      "     y = [-1.  1. -1. -1. -1.]\n",
      "\n",
      "target = [-1.  1. -1. -1. -1.]\n",
      "     y = [-1.  1. -1. -1. -1.]\n",
      "\n",
      "target = [-1.  1. -1. -1. -1.]\n",
      "     y = [-1.  1. -1. -1. -1.]\n",
      "\n",
      "target = [-1. -1.  1. -1. -1.]\n",
      "     y = [-1. -1.  1. -1. -1.]\n",
      "\n",
      "target = [-1. -1.  1. -1. -1.]\n",
      "     y = [-1. -1.  1. -1. -1.]\n",
      "\n",
      "target = [-1. -1.  1. -1. -1.]\n",
      "     y = [-1. -1.  1. -1. -1.]\n",
      "\n",
      "target = [-1. -1.  1. -1. -1.]\n",
      "     y = [-1. -1.  1. -1. -1.]\n",
      "\n",
      "target = [-1. -1.  1. -1. -1.]\n",
      "     y = [-1. -1.  1. -1. -1.]\n",
      "\n",
      "target = [-1. -1. -1.  1. -1.]\n",
      "     y = [-1. -1. -1.  1. -1.]\n",
      "\n",
      "target = [-1. -1. -1.  1. -1.]\n",
      "     y = [-1. -1. -1.  1. -1.]\n",
      "\n",
      "target = [-1. -1. -1.  1. -1.]\n",
      "     y = [-1. -1. -1.  1. -1.]\n",
      "\n",
      "target = [-1. -1. -1.  1. -1.]\n",
      "     y = [-1. -1. -1.  1. -1.]\n",
      "\n",
      "target = [-1. -1. -1.  1. -1.]\n",
      "     y = [-1. -1. -1.  1. -1.]\n",
      "\n",
      "target = [-1. -1. -1. -1.  1.]\n",
      "     y = [-1. -1. -1. -1.  1.]\n",
      "\n",
      "target = [-1. -1. -1. -1.  1.]\n",
      "     y = [-1. -1. -1. -1.  1.]\n",
      "\n",
      "target = [-1. -1. -1. -1.  1.]\n",
      "     y = [-1. -1. -1. -1.  1.]\n",
      "\n",
      "target = [-1. -1. -1. -1.  1.]\n",
      "     y = [-1. -1. -1. -1.  1.]\n",
      "\n",
      "target = [-1. -1. -1. -1.  1.]\n",
      "     y = [-1. -1. -1. -1.  1.]\n",
      "\n",
      "100.0% acc\n"
     ]
    }
   ],
   "source": [
    "correct = 0\n",
    "for i in range(len(tset1)):\n",
    "    sets = tset1[i]\n",
    "    _y = y_set[i]\n",
    "    for j in range(len(sets)):\n",
    "        y = model3.threshold_predict(sets[i].flatten(), thresh=0.32)\n",
    "        if np.array_equal(_y,y):\n",
    "            correct += 1\n",
    "        print(f'target = {_y}')\n",
    "        print(f'     y = {y}')\n",
    "        print('')\n",
    "    \n",
    "print(f'{(correct/25) * 100}% acc')"
   ]
  },
  {
   "cell_type": "code",
   "execution_count": 39,
   "metadata": {},
   "outputs": [
    {
     "name": "stdout",
     "output_type": "stream",
     "text": [
      "target = [ 1. -1. -1. -1. -1.]\n",
      "     y = [ 1. -1. -1. -1. -1.]\n",
      "\n",
      "target = [ 1. -1. -1. -1. -1.]\n",
      "     y = [ 1. -1. -1. -1. -1.]\n",
      "\n",
      "target = [ 1. -1. -1. -1. -1.]\n",
      "     y = [ 1. -1. -1. -1. -1.]\n",
      "\n",
      "target = [ 1. -1. -1. -1. -1.]\n",
      "     y = [ 1. -1. -1. -1. -1.]\n",
      "\n",
      "target = [ 1. -1. -1. -1. -1.]\n",
      "     y = [ 1. -1. -1. -1. -1.]\n",
      "\n",
      "target = [-1.  1. -1. -1. -1.]\n",
      "     y = [-1.  1. -1. -1. -1.]\n",
      "\n",
      "target = [-1.  1. -1. -1. -1.]\n",
      "     y = [-1.  1. -1. -1. -1.]\n",
      "\n",
      "target = [-1.  1. -1. -1. -1.]\n",
      "     y = [-1.  1. -1. -1. -1.]\n",
      "\n",
      "target = [-1.  1. -1. -1. -1.]\n",
      "     y = [-1.  1. -1. -1. -1.]\n",
      "\n",
      "target = [-1.  1. -1. -1. -1.]\n",
      "     y = [-1.  1. -1. -1. -1.]\n",
      "\n",
      "target = [-1. -1.  1. -1. -1.]\n",
      "     y = [-1. -1.  1. -1. -1.]\n",
      "\n",
      "target = [-1. -1.  1. -1. -1.]\n",
      "     y = [-1. -1.  1. -1. -1.]\n",
      "\n",
      "target = [-1. -1.  1. -1. -1.]\n",
      "     y = [-1. -1.  1. -1. -1.]\n",
      "\n",
      "target = [-1. -1.  1. -1. -1.]\n",
      "     y = [-1. -1.  1. -1. -1.]\n",
      "\n",
      "target = [-1. -1.  1. -1. -1.]\n",
      "     y = [-1. -1.  1. -1. -1.]\n",
      "\n",
      "target = [-1. -1. -1.  1. -1.]\n",
      "     y = [-1. -1. -1.  1. -1.]\n",
      "\n",
      "target = [-1. -1. -1.  1. -1.]\n",
      "     y = [-1. -1. -1.  1. -1.]\n",
      "\n",
      "target = [-1. -1. -1.  1. -1.]\n",
      "     y = [-1. -1. -1.  1. -1.]\n",
      "\n",
      "target = [-1. -1. -1.  1. -1.]\n",
      "     y = [-1. -1. -1.  1. -1.]\n",
      "\n",
      "target = [-1. -1. -1.  1. -1.]\n",
      "     y = [-1. -1. -1.  1. -1.]\n",
      "\n",
      "target = [-1. -1. -1. -1.  1.]\n",
      "     y = [-1. -1. -1. -1.  1.]\n",
      "\n",
      "target = [-1. -1. -1. -1.  1.]\n",
      "     y = [-1. -1. -1. -1.  1.]\n",
      "\n",
      "target = [-1. -1. -1. -1.  1.]\n",
      "     y = [-1. -1. -1. -1.  1.]\n",
      "\n",
      "target = [-1. -1. -1. -1.  1.]\n",
      "     y = [-1. -1. -1. -1.  1.]\n",
      "\n",
      "target = [-1. -1. -1. -1.  1.]\n",
      "     y = [-1. -1. -1. -1.  1.]\n",
      "\n",
      "100.0% acc\n"
     ]
    }
   ],
   "source": [
    "correct = 0\n",
    "for i in range(len(tset2)):\n",
    "    sets = tset2[i]\n",
    "    _y = y_set[i]\n",
    "    for j in range(len(sets)):\n",
    "        y = model3.threshold_predict(sets[i].flatten(), thresh=0.32)\n",
    "        if np.array_equal(_y,y):\n",
    "            correct += 1\n",
    "        print(f'target = {_y}')\n",
    "        print(f'     y = {y}')\n",
    "        print('')\n",
    "        \n",
    "print(f'{(correct/25) * 100}% acc')"
   ]
  },
  {
   "cell_type": "code",
   "execution_count": 40,
   "metadata": {},
   "outputs": [
    {
     "name": "stdout",
     "output_type": "stream",
     "text": [
      "target = [ 1. -1. -1. -1. -1.]\n",
      "     y = [ 1. -1. -1. -1. -1.]\n",
      "\n",
      "target = [ 1. -1. -1. -1. -1.]\n",
      "     y = [ 1. -1. -1. -1. -1.]\n",
      "\n",
      "target = [ 1. -1. -1. -1. -1.]\n",
      "     y = [ 1. -1. -1. -1. -1.]\n",
      "\n",
      "target = [ 1. -1. -1. -1. -1.]\n",
      "     y = [ 1. -1. -1. -1. -1.]\n",
      "\n",
      "target = [ 1. -1. -1. -1. -1.]\n",
      "     y = [ 1. -1. -1. -1. -1.]\n",
      "\n",
      "target = [-1.  1. -1. -1. -1.]\n",
      "     y = [-1.  1. -1. -1. -1.]\n",
      "\n",
      "target = [-1.  1. -1. -1. -1.]\n",
      "     y = [-1.  1. -1. -1. -1.]\n",
      "\n",
      "target = [-1.  1. -1. -1. -1.]\n",
      "     y = [-1.  1. -1. -1. -1.]\n",
      "\n",
      "target = [-1.  1. -1. -1. -1.]\n",
      "     y = [-1.  1. -1. -1. -1.]\n",
      "\n",
      "target = [-1.  1. -1. -1. -1.]\n",
      "     y = [-1.  1. -1. -1. -1.]\n",
      "\n",
      "target = [-1. -1.  1. -1. -1.]\n",
      "     y = [-1. -1.  1. -1. -1.]\n",
      "\n",
      "target = [-1. -1.  1. -1. -1.]\n",
      "     y = [-1. -1.  1. -1. -1.]\n",
      "\n",
      "target = [-1. -1.  1. -1. -1.]\n",
      "     y = [-1. -1.  1. -1. -1.]\n",
      "\n",
      "target = [-1. -1.  1. -1. -1.]\n",
      "     y = [-1. -1.  1. -1. -1.]\n",
      "\n",
      "target = [-1. -1.  1. -1. -1.]\n",
      "     y = [-1. -1.  1. -1. -1.]\n",
      "\n",
      "target = [-1. -1. -1.  1. -1.]\n",
      "     y = [-1. -1. -1.  1. -1.]\n",
      "\n",
      "target = [-1. -1. -1.  1. -1.]\n",
      "     y = [-1. -1. -1.  1. -1.]\n",
      "\n",
      "target = [-1. -1. -1.  1. -1.]\n",
      "     y = [-1. -1. -1.  1. -1.]\n",
      "\n",
      "target = [-1. -1. -1.  1. -1.]\n",
      "     y = [-1. -1. -1.  1. -1.]\n",
      "\n",
      "target = [-1. -1. -1.  1. -1.]\n",
      "     y = [-1. -1. -1.  1. -1.]\n",
      "\n",
      "target = [-1. -1. -1. -1.  1.]\n",
      "     y = [-1. -1. -1. -1.  1.]\n",
      "\n",
      "target = [-1. -1. -1. -1.  1.]\n",
      "     y = [-1. -1. -1. -1.  1.]\n",
      "\n",
      "target = [-1. -1. -1. -1.  1.]\n",
      "     y = [-1. -1. -1. -1.  1.]\n",
      "\n",
      "target = [-1. -1. -1. -1.  1.]\n",
      "     y = [-1. -1. -1. -1.  1.]\n",
      "\n",
      "target = [-1. -1. -1. -1.  1.]\n",
      "     y = [-1. -1. -1. -1.  1.]\n",
      "\n",
      "100.0% acc\n"
     ]
    }
   ],
   "source": [
    "correct = 0\n",
    "for i in range(len(tset3)):\n",
    "    sets = tset3[i]\n",
    "    _y = y_set[i]\n",
    "    for j in range(len(sets)):\n",
    "        y = model3.threshold_predict(sets[i].flatten(), thresh=0.32)\n",
    "        if np.array_equal(_y,y):\n",
    "            correct += 1\n",
    "        print(f'target = {_y}')\n",
    "        print(f'     y = {y}')\n",
    "        print('')\n",
    "        \n",
    "print(f'{(correct/25) * 100}% acc')"
   ]
  },
  {
   "cell_type": "code",
   "execution_count": 41,
   "metadata": {},
   "outputs": [
    {
     "name": "stdout",
     "output_type": "stream",
     "text": [
      "target = [ 1. -1. -1. -1. -1.]\n",
      "     y = [ 1. -1. -1. -1. -1.]\n",
      "\n",
      "target = [ 1. -1. -1. -1. -1.]\n",
      "     y = [ 1. -1. -1. -1. -1.]\n",
      "\n",
      "target = [ 1. -1. -1. -1. -1.]\n",
      "     y = [ 1. -1. -1. -1. -1.]\n",
      "\n",
      "target = [ 1. -1. -1. -1. -1.]\n",
      "     y = [ 1. -1. -1. -1. -1.]\n",
      "\n",
      "target = [ 1. -1. -1. -1. -1.]\n",
      "     y = [ 1. -1. -1. -1. -1.]\n",
      "\n",
      "target = [-1.  1. -1. -1. -1.]\n",
      "     y = [-1.  1. -1. -1. -1.]\n",
      "\n",
      "target = [-1.  1. -1. -1. -1.]\n",
      "     y = [-1.  1. -1. -1. -1.]\n",
      "\n",
      "target = [-1.  1. -1. -1. -1.]\n",
      "     y = [-1.  1. -1. -1. -1.]\n",
      "\n",
      "target = [-1.  1. -1. -1. -1.]\n",
      "     y = [-1.  1. -1. -1. -1.]\n",
      "\n",
      "target = [-1.  1. -1. -1. -1.]\n",
      "     y = [-1.  1. -1. -1. -1.]\n",
      "\n",
      "target = [-1. -1.  1. -1. -1.]\n",
      "     y = [-1. -1.  1. -1. -1.]\n",
      "\n",
      "target = [-1. -1.  1. -1. -1.]\n",
      "     y = [-1. -1.  1. -1. -1.]\n",
      "\n",
      "target = [-1. -1.  1. -1. -1.]\n",
      "     y = [-1. -1.  1. -1. -1.]\n",
      "\n",
      "target = [-1. -1.  1. -1. -1.]\n",
      "     y = [-1. -1.  1. -1. -1.]\n",
      "\n",
      "target = [-1. -1.  1. -1. -1.]\n",
      "     y = [-1. -1.  1. -1. -1.]\n",
      "\n",
      "target = [-1. -1. -1.  1. -1.]\n",
      "     y = [-1. -1. -1.  1. -1.]\n",
      "\n",
      "target = [-1. -1. -1.  1. -1.]\n",
      "     y = [-1. -1. -1.  1. -1.]\n",
      "\n",
      "target = [-1. -1. -1.  1. -1.]\n",
      "     y = [-1. -1. -1.  1. -1.]\n",
      "\n",
      "target = [-1. -1. -1.  1. -1.]\n",
      "     y = [-1. -1. -1.  1. -1.]\n",
      "\n",
      "target = [-1. -1. -1.  1. -1.]\n",
      "     y = [-1. -1. -1.  1. -1.]\n",
      "\n",
      "target = [-1. -1. -1. -1.  1.]\n",
      "     y = [-1. -1. -1. -1.  1.]\n",
      "\n",
      "target = [-1. -1. -1. -1.  1.]\n",
      "     y = [-1. -1. -1. -1.  1.]\n",
      "\n",
      "target = [-1. -1. -1. -1.  1.]\n",
      "     y = [-1. -1. -1. -1.  1.]\n",
      "\n",
      "target = [-1. -1. -1. -1.  1.]\n",
      "     y = [-1. -1. -1. -1.  1.]\n",
      "\n",
      "target = [-1. -1. -1. -1.  1.]\n",
      "     y = [-1. -1. -1. -1.  1.]\n",
      "\n",
      "100.0% acc\n"
     ]
    }
   ],
   "source": [
    "correct = 0\n",
    "for i in range(len(tset1)):\n",
    "    sets = tset1[i]\n",
    "    _y = y_set[i]\n",
    "    for j in range(len(sets)):\n",
    "        y = model3.max_arg_predict(sets[i].flatten())\n",
    "        if np.array_equal(_y,y):\n",
    "            correct += 1\n",
    "        print(f'target = {_y}')\n",
    "        print(f'     y = {y}')\n",
    "        print('')\n",
    "        \n",
    "print(f'{(correct/25) * 100}% acc')"
   ]
  },
  {
   "cell_type": "code",
   "execution_count": 42,
   "metadata": {},
   "outputs": [
    {
     "name": "stdout",
     "output_type": "stream",
     "text": [
      "target = [ 1. -1. -1. -1. -1.]\n",
      "     y = [ 1. -1. -1. -1. -1.]\n",
      "\n",
      "target = [ 1. -1. -1. -1. -1.]\n",
      "     y = [ 1. -1. -1. -1. -1.]\n",
      "\n",
      "target = [ 1. -1. -1. -1. -1.]\n",
      "     y = [ 1. -1. -1. -1. -1.]\n",
      "\n",
      "target = [ 1. -1. -1. -1. -1.]\n",
      "     y = [ 1. -1. -1. -1. -1.]\n",
      "\n",
      "target = [ 1. -1. -1. -1. -1.]\n",
      "     y = [ 1. -1. -1. -1. -1.]\n",
      "\n",
      "target = [-1.  1. -1. -1. -1.]\n",
      "     y = [-1.  1. -1. -1. -1.]\n",
      "\n",
      "target = [-1.  1. -1. -1. -1.]\n",
      "     y = [-1.  1. -1. -1. -1.]\n",
      "\n",
      "target = [-1.  1. -1. -1. -1.]\n",
      "     y = [-1.  1. -1. -1. -1.]\n",
      "\n",
      "target = [-1.  1. -1. -1. -1.]\n",
      "     y = [-1.  1. -1. -1. -1.]\n",
      "\n",
      "target = [-1.  1. -1. -1. -1.]\n",
      "     y = [-1.  1. -1. -1. -1.]\n",
      "\n",
      "target = [-1. -1.  1. -1. -1.]\n",
      "     y = [-1. -1.  1. -1. -1.]\n",
      "\n",
      "target = [-1. -1.  1. -1. -1.]\n",
      "     y = [-1. -1.  1. -1. -1.]\n",
      "\n",
      "target = [-1. -1.  1. -1. -1.]\n",
      "     y = [-1. -1.  1. -1. -1.]\n",
      "\n",
      "target = [-1. -1.  1. -1. -1.]\n",
      "     y = [-1. -1.  1. -1. -1.]\n",
      "\n",
      "target = [-1. -1.  1. -1. -1.]\n",
      "     y = [-1. -1.  1. -1. -1.]\n",
      "\n",
      "target = [-1. -1. -1.  1. -1.]\n",
      "     y = [-1. -1. -1.  1. -1.]\n",
      "\n",
      "target = [-1. -1. -1.  1. -1.]\n",
      "     y = [-1. -1. -1.  1. -1.]\n",
      "\n",
      "target = [-1. -1. -1.  1. -1.]\n",
      "     y = [-1. -1. -1.  1. -1.]\n",
      "\n",
      "target = [-1. -1. -1.  1. -1.]\n",
      "     y = [-1. -1. -1.  1. -1.]\n",
      "\n",
      "target = [-1. -1. -1.  1. -1.]\n",
      "     y = [-1. -1. -1.  1. -1.]\n",
      "\n",
      "target = [-1. -1. -1. -1.  1.]\n",
      "     y = [-1. -1. -1. -1.  1.]\n",
      "\n",
      "target = [-1. -1. -1. -1.  1.]\n",
      "     y = [-1. -1. -1. -1.  1.]\n",
      "\n",
      "target = [-1. -1. -1. -1.  1.]\n",
      "     y = [-1. -1. -1. -1.  1.]\n",
      "\n",
      "target = [-1. -1. -1. -1.  1.]\n",
      "     y = [-1. -1. -1. -1.  1.]\n",
      "\n",
      "target = [-1. -1. -1. -1.  1.]\n",
      "     y = [-1. -1. -1. -1.  1.]\n",
      "\n",
      "100.0% acc\n"
     ]
    }
   ],
   "source": [
    "correct = 0\n",
    "for i in range(len(tset2)):\n",
    "    sets = tset2[i]\n",
    "    _y = y_set[i]\n",
    "    for j in range(len(sets)):\n",
    "        y = model3.max_arg_predict(sets[i].flatten())\n",
    "        if np.array_equal(_y,y):\n",
    "            correct += 1\n",
    "        print(f'target = {_y}')\n",
    "        print(f'     y = {y}')\n",
    "        print('')\n",
    "print(f'{(correct/25) * 100}% acc')"
   ]
  },
  {
   "cell_type": "code",
   "execution_count": 43,
   "metadata": {},
   "outputs": [
    {
     "name": "stdout",
     "output_type": "stream",
     "text": [
      "target = [ 1. -1. -1. -1. -1.]\n",
      "     y = [ 1. -1. -1. -1. -1.]\n",
      "\n",
      "target = [ 1. -1. -1. -1. -1.]\n",
      "     y = [ 1. -1. -1. -1. -1.]\n",
      "\n",
      "target = [ 1. -1. -1. -1. -1.]\n",
      "     y = [ 1. -1. -1. -1. -1.]\n",
      "\n",
      "target = [ 1. -1. -1. -1. -1.]\n",
      "     y = [ 1. -1. -1. -1. -1.]\n",
      "\n",
      "target = [ 1. -1. -1. -1. -1.]\n",
      "     y = [ 1. -1. -1. -1. -1.]\n",
      "\n",
      "target = [-1.  1. -1. -1. -1.]\n",
      "     y = [-1.  1. -1. -1. -1.]\n",
      "\n",
      "target = [-1.  1. -1. -1. -1.]\n",
      "     y = [-1.  1. -1. -1. -1.]\n",
      "\n",
      "target = [-1.  1. -1. -1. -1.]\n",
      "     y = [-1.  1. -1. -1. -1.]\n",
      "\n",
      "target = [-1.  1. -1. -1. -1.]\n",
      "     y = [-1.  1. -1. -1. -1.]\n",
      "\n",
      "target = [-1.  1. -1. -1. -1.]\n",
      "     y = [-1.  1. -1. -1. -1.]\n",
      "\n",
      "target = [-1. -1.  1. -1. -1.]\n",
      "     y = [-1. -1.  1. -1. -1.]\n",
      "\n",
      "target = [-1. -1.  1. -1. -1.]\n",
      "     y = [-1. -1.  1. -1. -1.]\n",
      "\n",
      "target = [-1. -1.  1. -1. -1.]\n",
      "     y = [-1. -1.  1. -1. -1.]\n",
      "\n",
      "target = [-1. -1.  1. -1. -1.]\n",
      "     y = [-1. -1.  1. -1. -1.]\n",
      "\n",
      "target = [-1. -1.  1. -1. -1.]\n",
      "     y = [-1. -1.  1. -1. -1.]\n",
      "\n",
      "target = [-1. -1. -1.  1. -1.]\n",
      "     y = [-1. -1. -1.  1. -1.]\n",
      "\n",
      "target = [-1. -1. -1.  1. -1.]\n",
      "     y = [-1. -1. -1.  1. -1.]\n",
      "\n",
      "target = [-1. -1. -1.  1. -1.]\n",
      "     y = [-1. -1. -1.  1. -1.]\n",
      "\n",
      "target = [-1. -1. -1.  1. -1.]\n",
      "     y = [-1. -1. -1.  1. -1.]\n",
      "\n",
      "target = [-1. -1. -1.  1. -1.]\n",
      "     y = [-1. -1. -1.  1. -1.]\n",
      "\n",
      "target = [-1. -1. -1. -1.  1.]\n",
      "     y = [-1. -1. -1. -1.  1.]\n",
      "\n",
      "target = [-1. -1. -1. -1.  1.]\n",
      "     y = [-1. -1. -1. -1.  1.]\n",
      "\n",
      "target = [-1. -1. -1. -1.  1.]\n",
      "     y = [-1. -1. -1. -1.  1.]\n",
      "\n",
      "target = [-1. -1. -1. -1.  1.]\n",
      "     y = [-1. -1. -1. -1.  1.]\n",
      "\n",
      "target = [-1. -1. -1. -1.  1.]\n",
      "     y = [-1. -1. -1. -1.  1.]\n",
      "\n",
      "100.0% acc\n"
     ]
    }
   ],
   "source": [
    "correct = 0\n",
    "for i in range(len(tset3)):\n",
    "    sets = tset3[i]\n",
    "    _y = y_set[i]\n",
    "    for j in range(len(sets)):\n",
    "        y = model3.max_arg_predict(sets[i].flatten())\n",
    "        if np.array_equal(_y,y):\n",
    "            correct += 1\n",
    "        print(f'target = {_y}')\n",
    "        print(f'     y = {y}')\n",
    "        print('')\n",
    "print(f'{(correct/25) * 100}% acc')"
   ]
  },
  {
   "cell_type": "markdown",
   "metadata": {},
   "source": [
    "As we can see from using our test set the model is doing well at classifying any test data we passed to it. It gets an accuracy of 100% for all test data that has some pixel distortion."
   ]
  },
  {
   "cell_type": "markdown",
   "metadata": {},
   "source": [
    "In this section we will be setting 20% of the of the weights in the model to 0 to see the impact of it, and see how well it still performs"
   ]
  },
  {
   "cell_type": "code",
   "execution_count": 44,
   "metadata": {},
   "outputs": [],
   "source": [
    "def destroy_weights(model, percent=0.2):\n",
    "    for layers in range(len(model.weights)):\n",
    "        n1 = model.weights[layers].shape[0]\n",
    "        n2 = model.weights[layers].shape[1]\n",
    "        twl = n1 * n2 # total weights in layer\n",
    "        twl = int(twl* 0.2)\n",
    "        destroyed = 0\n",
    "        while(destroyed != twl):\n",
    "            r1 = np.random.randint(low=0, high=n1)\n",
    "            r2 = np.random.randint(low=0, high=n2)\n",
    "        \n",
    "            if model.weights[layers][r1][r2]!=0:\n",
    "                model.weights[layers][r1][r2] = 0\n",
    "                destroyed = destroyed + 1\n",
    "            else:\n",
    "                pass\n"
   ]
  },
  {
   "cell_type": "code",
   "execution_count": 45,
   "metadata": {},
   "outputs": [],
   "source": [
    "copy_model = copy.deepcopy(model3)"
   ]
  },
  {
   "cell_type": "code",
   "execution_count": 46,
   "metadata": {},
   "outputs": [
    {
     "data": {
      "text/plain": [
       "(20, 10)"
      ]
     },
     "execution_count": 46,
     "metadata": {},
     "output_type": "execute_result"
    }
   ],
   "source": [
    "copy_model.weights[0].shape"
   ]
  },
  {
   "cell_type": "code",
   "execution_count": 47,
   "metadata": {},
   "outputs": [],
   "source": [
    "destroy_weights(copy_model, percent=0.2)"
   ]
  },
  {
   "cell_type": "code",
   "execution_count": 48,
   "metadata": {},
   "outputs": [
    {
     "name": "stdout",
     "output_type": "stream",
     "text": [
      "There are 40 weights that are zero from input to hidden layer\n",
      "There are 10 weights that are zero from hidden layer to output\n"
     ]
    }
   ],
   "source": [
    "print(f\"There are {np.count_nonzero(copy_model.weights[0]==0)} weights that are zero from input to hidden layer\")\n",
    "print(f\"There are {np.count_nonzero(copy_model.weights[1]==0)} weights that are zero from hidden layer to output\")"
   ]
  },
  {
   "cell_type": "code",
   "execution_count": 49,
   "metadata": {},
   "outputs": [
    {
     "name": "stdout",
     "output_type": "stream",
     "text": [
      "target = [ 1. -1. -1. -1. -1.]\n",
      "     y = [ 1. -1. -1. -1. -1.]\n",
      "\n",
      "target = [ 1. -1. -1. -1. -1.]\n",
      "     y = [ 1. -1. -1. -1. -1.]\n",
      "\n",
      "target = [ 1. -1. -1. -1. -1.]\n",
      "     y = [ 1. -1. -1. -1. -1.]\n",
      "\n",
      "target = [ 1. -1. -1. -1. -1.]\n",
      "     y = [ 1. -1. -1. -1. -1.]\n",
      "\n",
      "target = [ 1. -1. -1. -1. -1.]\n",
      "     y = [ 1. -1. -1. -1. -1.]\n",
      "\n",
      "target = [-1.  1. -1. -1. -1.]\n",
      "     y = [-1.  1. -1. -1. -1.]\n",
      "\n",
      "target = [-1.  1. -1. -1. -1.]\n",
      "     y = [-1.  1. -1. -1. -1.]\n",
      "\n",
      "target = [-1.  1. -1. -1. -1.]\n",
      "     y = [-1.  1. -1. -1. -1.]\n",
      "\n",
      "target = [-1.  1. -1. -1. -1.]\n",
      "     y = [-1.  1. -1. -1. -1.]\n",
      "\n",
      "target = [-1.  1. -1. -1. -1.]\n",
      "     y = [-1.  1. -1. -1. -1.]\n",
      "\n",
      "target = [-1. -1.  1. -1. -1.]\n",
      "     y = [-1. -1.  1. -1. -1.]\n",
      "\n",
      "target = [-1. -1.  1. -1. -1.]\n",
      "     y = [-1. -1.  1. -1. -1.]\n",
      "\n",
      "target = [-1. -1.  1. -1. -1.]\n",
      "     y = [-1. -1.  1. -1. -1.]\n",
      "\n",
      "target = [-1. -1.  1. -1. -1.]\n",
      "     y = [-1. -1.  1. -1. -1.]\n",
      "\n",
      "target = [-1. -1.  1. -1. -1.]\n",
      "     y = [-1. -1.  1. -1. -1.]\n",
      "\n",
      "target = [-1. -1. -1.  1. -1.]\n",
      "     y = [-1. -1. -1.  1. -1.]\n",
      "\n",
      "target = [-1. -1. -1.  1. -1.]\n",
      "     y = [-1. -1. -1.  1. -1.]\n",
      "\n",
      "target = [-1. -1. -1.  1. -1.]\n",
      "     y = [-1. -1. -1.  1. -1.]\n",
      "\n",
      "target = [-1. -1. -1.  1. -1.]\n",
      "     y = [-1. -1. -1.  1. -1.]\n",
      "\n",
      "target = [-1. -1. -1.  1. -1.]\n",
      "     y = [-1. -1. -1.  1. -1.]\n",
      "\n",
      "target = [-1. -1. -1. -1.  1.]\n",
      "     y = [-1. -1. -1. -1.  1.]\n",
      "\n",
      "target = [-1. -1. -1. -1.  1.]\n",
      "     y = [-1. -1. -1. -1.  1.]\n",
      "\n",
      "target = [-1. -1. -1. -1.  1.]\n",
      "     y = [-1. -1. -1. -1.  1.]\n",
      "\n",
      "target = [-1. -1. -1. -1.  1.]\n",
      "     y = [-1. -1. -1. -1.  1.]\n",
      "\n",
      "target = [-1. -1. -1. -1.  1.]\n",
      "     y = [-1. -1. -1. -1.  1.]\n",
      "\n",
      "100.0% acc\n"
     ]
    }
   ],
   "source": [
    "correct = 0\n",
    "for i in range(len(tset1)):\n",
    "    sets = tset1[i]\n",
    "    _y = y_set[i]\n",
    "    for j in range(len(sets)):\n",
    "        y = copy_model.threshold_predict(sets[i].flatten(), thresh=0.32)\n",
    "        if np.array_equal(_y,y):\n",
    "            correct += 1\n",
    "        print(f'target = {_y}')\n",
    "        print(f'     y = {y}')\n",
    "        print('')\n",
    "    \n",
    "print(f'{(correct/25) * 100}% acc')"
   ]
  },
  {
   "cell_type": "code",
   "execution_count": 50,
   "metadata": {},
   "outputs": [
    {
     "name": "stdout",
     "output_type": "stream",
     "text": [
      "target = [ 1. -1. -1. -1. -1.]\n",
      "     y = [ 1. -1. -1. -1. -1.]\n",
      "\n",
      "target = [ 1. -1. -1. -1. -1.]\n",
      "     y = [ 1. -1. -1. -1. -1.]\n",
      "\n",
      "target = [ 1. -1. -1. -1. -1.]\n",
      "     y = [ 1. -1. -1. -1. -1.]\n",
      "\n",
      "target = [ 1. -1. -1. -1. -1.]\n",
      "     y = [ 1. -1. -1. -1. -1.]\n",
      "\n",
      "target = [ 1. -1. -1. -1. -1.]\n",
      "     y = [ 1. -1. -1. -1. -1.]\n",
      "\n",
      "target = [-1.  1. -1. -1. -1.]\n",
      "     y = [-1.  1. -1. -1. -1.]\n",
      "\n",
      "target = [-1.  1. -1. -1. -1.]\n",
      "     y = [-1.  1. -1. -1. -1.]\n",
      "\n",
      "target = [-1.  1. -1. -1. -1.]\n",
      "     y = [-1.  1. -1. -1. -1.]\n",
      "\n",
      "target = [-1.  1. -1. -1. -1.]\n",
      "     y = [-1.  1. -1. -1. -1.]\n",
      "\n",
      "target = [-1.  1. -1. -1. -1.]\n",
      "     y = [-1.  1. -1. -1. -1.]\n",
      "\n",
      "target = [-1. -1.  1. -1. -1.]\n",
      "     y = [-1.  1. -1. -1. -1.]\n",
      "\n",
      "target = [-1. -1.  1. -1. -1.]\n",
      "     y = [-1.  1. -1. -1. -1.]\n",
      "\n",
      "target = [-1. -1.  1. -1. -1.]\n",
      "     y = [-1.  1. -1. -1. -1.]\n",
      "\n",
      "target = [-1. -1.  1. -1. -1.]\n",
      "     y = [-1.  1. -1. -1. -1.]\n",
      "\n",
      "target = [-1. -1.  1. -1. -1.]\n",
      "     y = [-1.  1. -1. -1. -1.]\n",
      "\n",
      "target = [-1. -1. -1.  1. -1.]\n",
      "     y = [-1. -1. -1.  1. -1.]\n",
      "\n",
      "target = [-1. -1. -1.  1. -1.]\n",
      "     y = [-1. -1. -1.  1. -1.]\n",
      "\n",
      "target = [-1. -1. -1.  1. -1.]\n",
      "     y = [-1. -1. -1.  1. -1.]\n",
      "\n",
      "target = [-1. -1. -1.  1. -1.]\n",
      "     y = [-1. -1. -1.  1. -1.]\n",
      "\n",
      "target = [-1. -1. -1.  1. -1.]\n",
      "     y = [-1. -1. -1.  1. -1.]\n",
      "\n",
      "target = [-1. -1. -1. -1.  1.]\n",
      "     y = [-1. -1. -1. -1.  1.]\n",
      "\n",
      "target = [-1. -1. -1. -1.  1.]\n",
      "     y = [-1. -1. -1. -1.  1.]\n",
      "\n",
      "target = [-1. -1. -1. -1.  1.]\n",
      "     y = [-1. -1. -1. -1.  1.]\n",
      "\n",
      "target = [-1. -1. -1. -1.  1.]\n",
      "     y = [-1. -1. -1. -1.  1.]\n",
      "\n",
      "target = [-1. -1. -1. -1.  1.]\n",
      "     y = [-1. -1. -1. -1.  1.]\n",
      "\n",
      "80.0% acc\n"
     ]
    }
   ],
   "source": [
    "correct = 0\n",
    "for i in range(len(tset2)):\n",
    "    sets = tset2[i]\n",
    "    _y = y_set[i]\n",
    "    for j in range(len(sets)):\n",
    "        y = copy_model.threshold_predict(sets[i].flatten(), thresh=0.32)\n",
    "        if np.array_equal(_y,y):\n",
    "            correct += 1\n",
    "        print(f'target = {_y}')\n",
    "        print(f'     y = {y}')\n",
    "        print('')\n",
    "    \n",
    "print(f'{(correct/25) * 100}% acc')"
   ]
  },
  {
   "cell_type": "code",
   "execution_count": 51,
   "metadata": {},
   "outputs": [
    {
     "name": "stdout",
     "output_type": "stream",
     "text": [
      "target = [ 1. -1. -1. -1. -1.]\n",
      "     y = [ 1. -1. -1. -1. -1.]\n",
      "\n",
      "target = [ 1. -1. -1. -1. -1.]\n",
      "     y = [ 1. -1. -1. -1. -1.]\n",
      "\n",
      "target = [ 1. -1. -1. -1. -1.]\n",
      "     y = [ 1. -1. -1. -1. -1.]\n",
      "\n",
      "target = [ 1. -1. -1. -1. -1.]\n",
      "     y = [ 1. -1. -1. -1. -1.]\n",
      "\n",
      "target = [ 1. -1. -1. -1. -1.]\n",
      "     y = [ 1. -1. -1. -1. -1.]\n",
      "\n",
      "target = [-1.  1. -1. -1. -1.]\n",
      "     y = [-1.  1. -1. -1. -1.]\n",
      "\n",
      "target = [-1.  1. -1. -1. -1.]\n",
      "     y = [-1.  1. -1. -1. -1.]\n",
      "\n",
      "target = [-1.  1. -1. -1. -1.]\n",
      "     y = [-1.  1. -1. -1. -1.]\n",
      "\n",
      "target = [-1.  1. -1. -1. -1.]\n",
      "     y = [-1.  1. -1. -1. -1.]\n",
      "\n",
      "target = [-1.  1. -1. -1. -1.]\n",
      "     y = [-1.  1. -1. -1. -1.]\n",
      "\n",
      "target = [-1. -1.  1. -1. -1.]\n",
      "     y = [-1.  1. -1. -1. -1.]\n",
      "\n",
      "target = [-1. -1.  1. -1. -1.]\n",
      "     y = [-1.  1. -1. -1. -1.]\n",
      "\n",
      "target = [-1. -1.  1. -1. -1.]\n",
      "     y = [-1.  1. -1. -1. -1.]\n",
      "\n",
      "target = [-1. -1.  1. -1. -1.]\n",
      "     y = [-1.  1. -1. -1. -1.]\n",
      "\n",
      "target = [-1. -1.  1. -1. -1.]\n",
      "     y = [-1.  1. -1. -1. -1.]\n",
      "\n",
      "target = [-1. -1. -1.  1. -1.]\n",
      "     y = [-1. -1. -1. -1. -1.]\n",
      "\n",
      "target = [-1. -1. -1.  1. -1.]\n",
      "     y = [-1. -1. -1. -1. -1.]\n",
      "\n",
      "target = [-1. -1. -1.  1. -1.]\n",
      "     y = [-1. -1. -1. -1. -1.]\n",
      "\n",
      "target = [-1. -1. -1.  1. -1.]\n",
      "     y = [-1. -1. -1. -1. -1.]\n",
      "\n",
      "target = [-1. -1. -1.  1. -1.]\n",
      "     y = [-1. -1. -1. -1. -1.]\n",
      "\n",
      "target = [-1. -1. -1. -1.  1.]\n",
      "     y = [-1. -1. -1. -1.  1.]\n",
      "\n",
      "target = [-1. -1. -1. -1.  1.]\n",
      "     y = [-1. -1. -1. -1.  1.]\n",
      "\n",
      "target = [-1. -1. -1. -1.  1.]\n",
      "     y = [-1. -1. -1. -1.  1.]\n",
      "\n",
      "target = [-1. -1. -1. -1.  1.]\n",
      "     y = [-1. -1. -1. -1.  1.]\n",
      "\n",
      "target = [-1. -1. -1. -1.  1.]\n",
      "     y = [-1. -1. -1. -1.  1.]\n",
      "\n",
      "60.0% acc\n"
     ]
    }
   ],
   "source": [
    "correct = 0\n",
    "for i in range(len(tset3)):\n",
    "    sets = tset3[i]\n",
    "    _y = y_set[i]\n",
    "    for j in range(len(sets)):\n",
    "        y = copy_model.threshold_predict(sets[i].flatten(), thresh=0.32)\n",
    "        if np.array_equal(_y,y):\n",
    "            correct += 1\n",
    "        print(f'target = {_y}')\n",
    "        print(f'     y = {y}')\n",
    "        print('')\n",
    "    \n",
    "print(f'{(correct/25) * 100}% acc')"
   ]
  },
  {
   "cell_type": "code",
   "execution_count": 52,
   "metadata": {},
   "outputs": [
    {
     "name": "stdout",
     "output_type": "stream",
     "text": [
      "target = [ 1. -1. -1. -1. -1.]\n",
      "     y = [ 1. -1. -1. -1. -1.]\n",
      "\n",
      "target = [ 1. -1. -1. -1. -1.]\n",
      "     y = [ 1. -1. -1. -1. -1.]\n",
      "\n",
      "target = [ 1. -1. -1. -1. -1.]\n",
      "     y = [ 1. -1. -1. -1. -1.]\n",
      "\n",
      "target = [ 1. -1. -1. -1. -1.]\n",
      "     y = [ 1. -1. -1. -1. -1.]\n",
      "\n",
      "target = [ 1. -1. -1. -1. -1.]\n",
      "     y = [ 1. -1. -1. -1. -1.]\n",
      "\n",
      "target = [-1.  1. -1. -1. -1.]\n",
      "     y = [-1.  1. -1. -1. -1.]\n",
      "\n",
      "target = [-1.  1. -1. -1. -1.]\n",
      "     y = [-1.  1. -1. -1. -1.]\n",
      "\n",
      "target = [-1.  1. -1. -1. -1.]\n",
      "     y = [-1.  1. -1. -1. -1.]\n",
      "\n",
      "target = [-1.  1. -1. -1. -1.]\n",
      "     y = [-1.  1. -1. -1. -1.]\n",
      "\n",
      "target = [-1.  1. -1. -1. -1.]\n",
      "     y = [-1.  1. -1. -1. -1.]\n",
      "\n",
      "target = [-1. -1.  1. -1. -1.]\n",
      "     y = [-1. -1.  1. -1. -1.]\n",
      "\n",
      "target = [-1. -1.  1. -1. -1.]\n",
      "     y = [-1. -1.  1. -1. -1.]\n",
      "\n",
      "target = [-1. -1.  1. -1. -1.]\n",
      "     y = [-1. -1.  1. -1. -1.]\n",
      "\n",
      "target = [-1. -1.  1. -1. -1.]\n",
      "     y = [-1. -1.  1. -1. -1.]\n",
      "\n",
      "target = [-1. -1.  1. -1. -1.]\n",
      "     y = [-1. -1.  1. -1. -1.]\n",
      "\n",
      "target = [-1. -1. -1.  1. -1.]\n",
      "     y = [-1. -1. -1.  1. -1.]\n",
      "\n",
      "target = [-1. -1. -1.  1. -1.]\n",
      "     y = [-1. -1. -1.  1. -1.]\n",
      "\n",
      "target = [-1. -1. -1.  1. -1.]\n",
      "     y = [-1. -1. -1.  1. -1.]\n",
      "\n",
      "target = [-1. -1. -1.  1. -1.]\n",
      "     y = [-1. -1. -1.  1. -1.]\n",
      "\n",
      "target = [-1. -1. -1.  1. -1.]\n",
      "     y = [-1. -1. -1.  1. -1.]\n",
      "\n",
      "target = [-1. -1. -1. -1.  1.]\n",
      "     y = [-1. -1. -1. -1.  1.]\n",
      "\n",
      "target = [-1. -1. -1. -1.  1.]\n",
      "     y = [-1. -1. -1. -1.  1.]\n",
      "\n",
      "target = [-1. -1. -1. -1.  1.]\n",
      "     y = [-1. -1. -1. -1.  1.]\n",
      "\n",
      "target = [-1. -1. -1. -1.  1.]\n",
      "     y = [-1. -1. -1. -1.  1.]\n",
      "\n",
      "target = [-1. -1. -1. -1.  1.]\n",
      "     y = [-1. -1. -1. -1.  1.]\n",
      "\n",
      "100.0% acc\n"
     ]
    }
   ],
   "source": [
    "correct = 0\n",
    "for i in range(len(tset1)):\n",
    "    sets = tset1[i]\n",
    "    _y = y_set[i]\n",
    "    for j in range(len(sets)):\n",
    "        y = copy_model.max_arg_predict(sets[i].flatten())\n",
    "        if np.array_equal(_y,y):\n",
    "            correct += 1\n",
    "        print(f'target = {_y}')\n",
    "        print(f'     y = {y}')\n",
    "        print('')\n",
    "print(f'{(correct/25) * 100}% acc')"
   ]
  },
  {
   "cell_type": "code",
   "execution_count": 53,
   "metadata": {},
   "outputs": [
    {
     "name": "stdout",
     "output_type": "stream",
     "text": [
      "target = [ 1. -1. -1. -1. -1.]\n",
      "     y = [ 1. -1. -1. -1. -1.]\n",
      "\n",
      "target = [ 1. -1. -1. -1. -1.]\n",
      "     y = [ 1. -1. -1. -1. -1.]\n",
      "\n",
      "target = [ 1. -1. -1. -1. -1.]\n",
      "     y = [ 1. -1. -1. -1. -1.]\n",
      "\n",
      "target = [ 1. -1. -1. -1. -1.]\n",
      "     y = [ 1. -1. -1. -1. -1.]\n",
      "\n",
      "target = [ 1. -1. -1. -1. -1.]\n",
      "     y = [ 1. -1. -1. -1. -1.]\n",
      "\n",
      "target = [-1.  1. -1. -1. -1.]\n",
      "     y = [-1.  1. -1. -1. -1.]\n",
      "\n",
      "target = [-1.  1. -1. -1. -1.]\n",
      "     y = [-1.  1. -1. -1. -1.]\n",
      "\n",
      "target = [-1.  1. -1. -1. -1.]\n",
      "     y = [-1.  1. -1. -1. -1.]\n",
      "\n",
      "target = [-1.  1. -1. -1. -1.]\n",
      "     y = [-1.  1. -1. -1. -1.]\n",
      "\n",
      "target = [-1.  1. -1. -1. -1.]\n",
      "     y = [-1.  1. -1. -1. -1.]\n",
      "\n",
      "target = [-1. -1.  1. -1. -1.]\n",
      "     y = [-1.  1. -1. -1. -1.]\n",
      "\n",
      "target = [-1. -1.  1. -1. -1.]\n",
      "     y = [-1.  1. -1. -1. -1.]\n",
      "\n",
      "target = [-1. -1.  1. -1. -1.]\n",
      "     y = [-1.  1. -1. -1. -1.]\n",
      "\n",
      "target = [-1. -1.  1. -1. -1.]\n",
      "     y = [-1.  1. -1. -1. -1.]\n",
      "\n",
      "target = [-1. -1.  1. -1. -1.]\n",
      "     y = [-1.  1. -1. -1. -1.]\n",
      "\n",
      "target = [-1. -1. -1.  1. -1.]\n",
      "     y = [-1. -1. -1.  1. -1.]\n",
      "\n",
      "target = [-1. -1. -1.  1. -1.]\n",
      "     y = [-1. -1. -1.  1. -1.]\n",
      "\n",
      "target = [-1. -1. -1.  1. -1.]\n",
      "     y = [-1. -1. -1.  1. -1.]\n",
      "\n",
      "target = [-1. -1. -1.  1. -1.]\n",
      "     y = [-1. -1. -1.  1. -1.]\n",
      "\n",
      "target = [-1. -1. -1.  1. -1.]\n",
      "     y = [-1. -1. -1.  1. -1.]\n",
      "\n",
      "target = [-1. -1. -1. -1.  1.]\n",
      "     y = [-1. -1. -1. -1.  1.]\n",
      "\n",
      "target = [-1. -1. -1. -1.  1.]\n",
      "     y = [-1. -1. -1. -1.  1.]\n",
      "\n",
      "target = [-1. -1. -1. -1.  1.]\n",
      "     y = [-1. -1. -1. -1.  1.]\n",
      "\n",
      "target = [-1. -1. -1. -1.  1.]\n",
      "     y = [-1. -1. -1. -1.  1.]\n",
      "\n",
      "target = [-1. -1. -1. -1.  1.]\n",
      "     y = [-1. -1. -1. -1.  1.]\n",
      "\n",
      "80.0% acc\n"
     ]
    }
   ],
   "source": [
    "correct = 0\n",
    "for i in range(len(tset2)):\n",
    "    sets = tset2[i]\n",
    "    _y = y_set[i]\n",
    "    for j in range(len(sets)):\n",
    "        y = copy_model.max_arg_predict(sets[i].flatten())\n",
    "        if np.array_equal(_y,y):\n",
    "            correct += 1\n",
    "        print(f'target = {_y}')\n",
    "        print(f'     y = {y}')\n",
    "        print('')\n",
    "print(f'{(correct/25) * 100}% acc')"
   ]
  },
  {
   "cell_type": "code",
   "execution_count": 54,
   "metadata": {},
   "outputs": [
    {
     "name": "stdout",
     "output_type": "stream",
     "text": [
      "target = [ 1. -1. -1. -1. -1.]\n",
      "     y = [ 1. -1. -1. -1. -1.]\n",
      "\n",
      "target = [ 1. -1. -1. -1. -1.]\n",
      "     y = [ 1. -1. -1. -1. -1.]\n",
      "\n",
      "target = [ 1. -1. -1. -1. -1.]\n",
      "     y = [ 1. -1. -1. -1. -1.]\n",
      "\n",
      "target = [ 1. -1. -1. -1. -1.]\n",
      "     y = [ 1. -1. -1. -1. -1.]\n",
      "\n",
      "target = [ 1. -1. -1. -1. -1.]\n",
      "     y = [ 1. -1. -1. -1. -1.]\n",
      "\n",
      "target = [-1.  1. -1. -1. -1.]\n",
      "     y = [-1.  1. -1. -1. -1.]\n",
      "\n",
      "target = [-1.  1. -1. -1. -1.]\n",
      "     y = [-1.  1. -1. -1. -1.]\n",
      "\n",
      "target = [-1.  1. -1. -1. -1.]\n",
      "     y = [-1.  1. -1. -1. -1.]\n",
      "\n",
      "target = [-1.  1. -1. -1. -1.]\n",
      "     y = [-1.  1. -1. -1. -1.]\n",
      "\n",
      "target = [-1.  1. -1. -1. -1.]\n",
      "     y = [-1.  1. -1. -1. -1.]\n",
      "\n",
      "target = [-1. -1.  1. -1. -1.]\n",
      "     y = [-1.  1. -1. -1. -1.]\n",
      "\n",
      "target = [-1. -1.  1. -1. -1.]\n",
      "     y = [-1.  1. -1. -1. -1.]\n",
      "\n",
      "target = [-1. -1.  1. -1. -1.]\n",
      "     y = [-1.  1. -1. -1. -1.]\n",
      "\n",
      "target = [-1. -1.  1. -1. -1.]\n",
      "     y = [-1.  1. -1. -1. -1.]\n",
      "\n",
      "target = [-1. -1.  1. -1. -1.]\n",
      "     y = [-1.  1. -1. -1. -1.]\n",
      "\n",
      "target = [-1. -1. -1.  1. -1.]\n",
      "     y = [-1. -1. -1.  1. -1.]\n",
      "\n",
      "target = [-1. -1. -1.  1. -1.]\n",
      "     y = [-1. -1. -1.  1. -1.]\n",
      "\n",
      "target = [-1. -1. -1.  1. -1.]\n",
      "     y = [-1. -1. -1.  1. -1.]\n",
      "\n",
      "target = [-1. -1. -1.  1. -1.]\n",
      "     y = [-1. -1. -1.  1. -1.]\n",
      "\n",
      "target = [-1. -1. -1.  1. -1.]\n",
      "     y = [-1. -1. -1.  1. -1.]\n",
      "\n",
      "target = [-1. -1. -1. -1.  1.]\n",
      "     y = [-1. -1. -1. -1.  1.]\n",
      "\n",
      "target = [-1. -1. -1. -1.  1.]\n",
      "     y = [-1. -1. -1. -1.  1.]\n",
      "\n",
      "target = [-1. -1. -1. -1.  1.]\n",
      "     y = [-1. -1. -1. -1.  1.]\n",
      "\n",
      "target = [-1. -1. -1. -1.  1.]\n",
      "     y = [-1. -1. -1. -1.  1.]\n",
      "\n",
      "target = [-1. -1. -1. -1.  1.]\n",
      "     y = [-1. -1. -1. -1.  1.]\n",
      "\n",
      "80.0% acc\n"
     ]
    }
   ],
   "source": [
    "correct = 0\n",
    "for i in range(len(tset3)):\n",
    "    sets = tset3[i]\n",
    "    _y = y_set[i]\n",
    "    for j in range(len(sets)):\n",
    "        y = copy_model.max_arg_predict(sets[i].flatten())\n",
    "        if np.array_equal(_y,y):\n",
    "            correct += 1\n",
    "        print(f'target = {_y}')\n",
    "        print(f'     y = {y}')\n",
    "        print('')\n",
    "print(f'{(correct/25) * 100}% acc')"
   ]
  },
  {
   "cell_type": "markdown",
   "metadata": {},
   "source": [
    "### Results 1\n",
    "\n",
    "When setting 20% of the weights in the model to 0 it affected the accuracy of the testing dataset. When using the threshold method we see that it can classify the tset1 with 100% accuracy but when testing tset2 and tset3 we get 80% and 60% respectively. <br>\n",
    "\n",
    "When doing the biggest number method we see that the tset1 gets 100% accuracy  while tset2 and tset3 gets 80% accuracy. <br>\n",
    "\n",
    "This is most likely due to the fact that the weights that were set to 0 were vital in the way on deciding what class its suppose to be."
   ]
  },
  {
   "cell_type": "markdown",
   "metadata": {},
   "source": [
    "setting 20% of the weights to zero. Basically 40% of the weights will be set to zero."
   ]
  },
  {
   "cell_type": "code",
   "execution_count": 55,
   "metadata": {},
   "outputs": [],
   "source": [
    "destroy_weights(copy_model, percent=0.2)"
   ]
  },
  {
   "cell_type": "code",
   "execution_count": 56,
   "metadata": {},
   "outputs": [
    {
     "name": "stdout",
     "output_type": "stream",
     "text": [
      "There are 80 weights that are zero from input to hidden layer\n",
      "There are 20 weights that are zero from hidden layer to output\n"
     ]
    }
   ],
   "source": [
    "print(f\"There are {np.count_nonzero(copy_model.weights[0]==0)} weights that are zero from input to hidden layer\")\n",
    "print(f\"There are {np.count_nonzero(copy_model.weights[1]==0)} weights that are zero from hidden layer to output\")"
   ]
  },
  {
   "cell_type": "code",
   "execution_count": 57,
   "metadata": {},
   "outputs": [
    {
     "name": "stdout",
     "output_type": "stream",
     "text": [
      "target = [ 1. -1. -1. -1. -1.]\n",
      "     y = [ 1. -1. -1. -1. -1.]\n",
      "\n",
      "target = [ 1. -1. -1. -1. -1.]\n",
      "     y = [ 1. -1. -1. -1. -1.]\n",
      "\n",
      "target = [ 1. -1. -1. -1. -1.]\n",
      "     y = [ 1. -1. -1. -1. -1.]\n",
      "\n",
      "target = [ 1. -1. -1. -1. -1.]\n",
      "     y = [ 1. -1. -1. -1. -1.]\n",
      "\n",
      "target = [ 1. -1. -1. -1. -1.]\n",
      "     y = [ 1. -1. -1. -1. -1.]\n",
      "\n",
      "target = [-1.  1. -1. -1. -1.]\n",
      "     y = [-1.  1. -1. -1. -1.]\n",
      "\n",
      "target = [-1.  1. -1. -1. -1.]\n",
      "     y = [-1.  1. -1. -1. -1.]\n",
      "\n",
      "target = [-1.  1. -1. -1. -1.]\n",
      "     y = [-1.  1. -1. -1. -1.]\n",
      "\n",
      "target = [-1.  1. -1. -1. -1.]\n",
      "     y = [-1.  1. -1. -1. -1.]\n",
      "\n",
      "target = [-1.  1. -1. -1. -1.]\n",
      "     y = [-1.  1. -1. -1. -1.]\n",
      "\n",
      "target = [-1. -1.  1. -1. -1.]\n",
      "     y = [-1. -1. -1. -1. -1.]\n",
      "\n",
      "target = [-1. -1.  1. -1. -1.]\n",
      "     y = [-1. -1. -1. -1. -1.]\n",
      "\n",
      "target = [-1. -1.  1. -1. -1.]\n",
      "     y = [-1. -1. -1. -1. -1.]\n",
      "\n",
      "target = [-1. -1.  1. -1. -1.]\n",
      "     y = [-1. -1. -1. -1. -1.]\n",
      "\n",
      "target = [-1. -1.  1. -1. -1.]\n",
      "     y = [-1. -1. -1. -1. -1.]\n",
      "\n",
      "target = [-1. -1. -1.  1. -1.]\n",
      "     y = [-1. -1. -1.  1. -1.]\n",
      "\n",
      "target = [-1. -1. -1.  1. -1.]\n",
      "     y = [-1. -1. -1.  1. -1.]\n",
      "\n",
      "target = [-1. -1. -1.  1. -1.]\n",
      "     y = [-1. -1. -1.  1. -1.]\n",
      "\n",
      "target = [-1. -1. -1.  1. -1.]\n",
      "     y = [-1. -1. -1.  1. -1.]\n",
      "\n",
      "target = [-1. -1. -1.  1. -1.]\n",
      "     y = [-1. -1. -1.  1. -1.]\n",
      "\n",
      "target = [-1. -1. -1. -1.  1.]\n",
      "     y = [-1. -1. -1. -1.  1.]\n",
      "\n",
      "target = [-1. -1. -1. -1.  1.]\n",
      "     y = [-1. -1. -1. -1.  1.]\n",
      "\n",
      "target = [-1. -1. -1. -1.  1.]\n",
      "     y = [-1. -1. -1. -1.  1.]\n",
      "\n",
      "target = [-1. -1. -1. -1.  1.]\n",
      "     y = [-1. -1. -1. -1.  1.]\n",
      "\n",
      "target = [-1. -1. -1. -1.  1.]\n",
      "     y = [-1. -1. -1. -1.  1.]\n",
      "\n",
      "80.0% acc\n"
     ]
    }
   ],
   "source": [
    "correct = 0\n",
    "for i in range(len(tset1)):\n",
    "    sets = tset1[i]\n",
    "    _y = y_set[i]\n",
    "    for j in range(len(sets)):\n",
    "        y = copy_model.threshold_predict(sets[i].flatten(), thresh=0.32)\n",
    "        if np.array_equal(_y,y):\n",
    "            correct += 1\n",
    "        print(f'target = {_y}')\n",
    "        print(f'     y = {y}')\n",
    "        print('')\n",
    "    \n",
    "print(f'{(correct/25) * 100}% acc')"
   ]
  },
  {
   "cell_type": "code",
   "execution_count": 58,
   "metadata": {},
   "outputs": [
    {
     "name": "stdout",
     "output_type": "stream",
     "text": [
      "target = [ 1. -1. -1. -1. -1.]\n",
      "     y = [ 1. -1. -1. -1. -1.]\n",
      "\n",
      "target = [ 1. -1. -1. -1. -1.]\n",
      "     y = [ 1. -1. -1. -1. -1.]\n",
      "\n",
      "target = [ 1. -1. -1. -1. -1.]\n",
      "     y = [ 1. -1. -1. -1. -1.]\n",
      "\n",
      "target = [ 1. -1. -1. -1. -1.]\n",
      "     y = [ 1. -1. -1. -1. -1.]\n",
      "\n",
      "target = [ 1. -1. -1. -1. -1.]\n",
      "     y = [ 1. -1. -1. -1. -1.]\n",
      "\n",
      "target = [-1.  1. -1. -1. -1.]\n",
      "     y = [-1. -1. -1. -1. -1.]\n",
      "\n",
      "target = [-1.  1. -1. -1. -1.]\n",
      "     y = [-1. -1. -1. -1. -1.]\n",
      "\n",
      "target = [-1.  1. -1. -1. -1.]\n",
      "     y = [-1. -1. -1. -1. -1.]\n",
      "\n",
      "target = [-1.  1. -1. -1. -1.]\n",
      "     y = [-1. -1. -1. -1. -1.]\n",
      "\n",
      "target = [-1.  1. -1. -1. -1.]\n",
      "     y = [-1. -1. -1. -1. -1.]\n",
      "\n",
      "target = [-1. -1.  1. -1. -1.]\n",
      "     y = [-1.  1. -1. -1. -1.]\n",
      "\n",
      "target = [-1. -1.  1. -1. -1.]\n",
      "     y = [-1.  1. -1. -1. -1.]\n",
      "\n",
      "target = [-1. -1.  1. -1. -1.]\n",
      "     y = [-1.  1. -1. -1. -1.]\n",
      "\n",
      "target = [-1. -1.  1. -1. -1.]\n",
      "     y = [-1.  1. -1. -1. -1.]\n",
      "\n",
      "target = [-1. -1.  1. -1. -1.]\n",
      "     y = [-1.  1. -1. -1. -1.]\n",
      "\n",
      "target = [-1. -1. -1.  1. -1.]\n",
      "     y = [-1. -1. -1.  1. -1.]\n",
      "\n",
      "target = [-1. -1. -1.  1. -1.]\n",
      "     y = [-1. -1. -1.  1. -1.]\n",
      "\n",
      "target = [-1. -1. -1.  1. -1.]\n",
      "     y = [-1. -1. -1.  1. -1.]\n",
      "\n",
      "target = [-1. -1. -1.  1. -1.]\n",
      "     y = [-1. -1. -1.  1. -1.]\n",
      "\n",
      "target = [-1. -1. -1.  1. -1.]\n",
      "     y = [-1. -1. -1.  1. -1.]\n",
      "\n",
      "target = [-1. -1. -1. -1.  1.]\n",
      "     y = [-1. -1. -1. -1.  1.]\n",
      "\n",
      "target = [-1. -1. -1. -1.  1.]\n",
      "     y = [-1. -1. -1. -1.  1.]\n",
      "\n",
      "target = [-1. -1. -1. -1.  1.]\n",
      "     y = [-1. -1. -1. -1.  1.]\n",
      "\n",
      "target = [-1. -1. -1. -1.  1.]\n",
      "     y = [-1. -1. -1. -1.  1.]\n",
      "\n",
      "target = [-1. -1. -1. -1.  1.]\n",
      "     y = [-1. -1. -1. -1.  1.]\n",
      "\n",
      "60.0% acc\n"
     ]
    }
   ],
   "source": [
    "correct = 0\n",
    "for i in range(len(tset2)):\n",
    "    sets = tset2[i]\n",
    "    _y = y_set[i]\n",
    "    for j in range(len(sets)):\n",
    "        y = copy_model.threshold_predict(sets[i].flatten(), thresh=0.32)\n",
    "        if np.array_equal(_y,y):\n",
    "            correct += 1\n",
    "        print(f'target = {_y}')\n",
    "        print(f'     y = {y}')\n",
    "        print('')\n",
    "    \n",
    "print(f'{(correct/25) * 100}% acc')"
   ]
  },
  {
   "cell_type": "code",
   "execution_count": 59,
   "metadata": {},
   "outputs": [
    {
     "name": "stdout",
     "output_type": "stream",
     "text": [
      "target = [ 1. -1. -1. -1. -1.]\n",
      "     y = [ 1. -1. -1. -1. -1.]\n",
      "\n",
      "target = [ 1. -1. -1. -1. -1.]\n",
      "     y = [ 1. -1. -1. -1. -1.]\n",
      "\n",
      "target = [ 1. -1. -1. -1. -1.]\n",
      "     y = [ 1. -1. -1. -1. -1.]\n",
      "\n",
      "target = [ 1. -1. -1. -1. -1.]\n",
      "     y = [ 1. -1. -1. -1. -1.]\n",
      "\n",
      "target = [ 1. -1. -1. -1. -1.]\n",
      "     y = [ 1. -1. -1. -1. -1.]\n",
      "\n",
      "target = [-1.  1. -1. -1. -1.]\n",
      "     y = [-1. -1. -1. -1. -1.]\n",
      "\n",
      "target = [-1.  1. -1. -1. -1.]\n",
      "     y = [-1. -1. -1. -1. -1.]\n",
      "\n",
      "target = [-1.  1. -1. -1. -1.]\n",
      "     y = [-1. -1. -1. -1. -1.]\n",
      "\n",
      "target = [-1.  1. -1. -1. -1.]\n",
      "     y = [-1. -1. -1. -1. -1.]\n",
      "\n",
      "target = [-1.  1. -1. -1. -1.]\n",
      "     y = [-1. -1. -1. -1. -1.]\n",
      "\n",
      "target = [-1. -1.  1. -1. -1.]\n",
      "     y = [-1.  1. -1. -1. -1.]\n",
      "\n",
      "target = [-1. -1.  1. -1. -1.]\n",
      "     y = [-1.  1. -1. -1. -1.]\n",
      "\n",
      "target = [-1. -1.  1. -1. -1.]\n",
      "     y = [-1.  1. -1. -1. -1.]\n",
      "\n",
      "target = [-1. -1.  1. -1. -1.]\n",
      "     y = [-1.  1. -1. -1. -1.]\n",
      "\n",
      "target = [-1. -1.  1. -1. -1.]\n",
      "     y = [-1.  1. -1. -1. -1.]\n",
      "\n",
      "target = [-1. -1. -1.  1. -1.]\n",
      "     y = [-1. -1. -1. -1. -1.]\n",
      "\n",
      "target = [-1. -1. -1.  1. -1.]\n",
      "     y = [-1. -1. -1. -1. -1.]\n",
      "\n",
      "target = [-1. -1. -1.  1. -1.]\n",
      "     y = [-1. -1. -1. -1. -1.]\n",
      "\n",
      "target = [-1. -1. -1.  1. -1.]\n",
      "     y = [-1. -1. -1. -1. -1.]\n",
      "\n",
      "target = [-1. -1. -1.  1. -1.]\n",
      "     y = [-1. -1. -1. -1. -1.]\n",
      "\n",
      "target = [-1. -1. -1. -1.  1.]\n",
      "     y = [-1. -1. -1. -1.  1.]\n",
      "\n",
      "target = [-1. -1. -1. -1.  1.]\n",
      "     y = [-1. -1. -1. -1.  1.]\n",
      "\n",
      "target = [-1. -1. -1. -1.  1.]\n",
      "     y = [-1. -1. -1. -1.  1.]\n",
      "\n",
      "target = [-1. -1. -1. -1.  1.]\n",
      "     y = [-1. -1. -1. -1.  1.]\n",
      "\n",
      "target = [-1. -1. -1. -1.  1.]\n",
      "     y = [-1. -1. -1. -1.  1.]\n",
      "\n",
      "40.0% acc\n"
     ]
    }
   ],
   "source": [
    "correct = 0\n",
    "for i in range(len(tset3)):\n",
    "    sets = tset3[i]\n",
    "    _y = y_set[i]\n",
    "    for j in range(len(sets)):\n",
    "        y = copy_model.threshold_predict(sets[i].flatten(), thresh=0.32)\n",
    "        if np.array_equal(_y,y):\n",
    "            correct += 1\n",
    "        print(f'target = {_y}')\n",
    "        print(f'     y = {y}')\n",
    "        print('')\n",
    "    \n",
    "print(f'{(correct/25) * 100}% acc')"
   ]
  },
  {
   "cell_type": "code",
   "execution_count": 60,
   "metadata": {},
   "outputs": [
    {
     "name": "stdout",
     "output_type": "stream",
     "text": [
      "target = [ 1. -1. -1. -1. -1.]\n",
      "     y = [ 1. -1. -1. -1. -1.]\n",
      "\n",
      "target = [ 1. -1. -1. -1. -1.]\n",
      "     y = [ 1. -1. -1. -1. -1.]\n",
      "\n",
      "target = [ 1. -1. -1. -1. -1.]\n",
      "     y = [ 1. -1. -1. -1. -1.]\n",
      "\n",
      "target = [ 1. -1. -1. -1. -1.]\n",
      "     y = [ 1. -1. -1. -1. -1.]\n",
      "\n",
      "target = [ 1. -1. -1. -1. -1.]\n",
      "     y = [ 1. -1. -1. -1. -1.]\n",
      "\n",
      "target = [-1.  1. -1. -1. -1.]\n",
      "     y = [-1.  1. -1. -1. -1.]\n",
      "\n",
      "target = [-1.  1. -1. -1. -1.]\n",
      "     y = [-1.  1. -1. -1. -1.]\n",
      "\n",
      "target = [-1.  1. -1. -1. -1.]\n",
      "     y = [-1.  1. -1. -1. -1.]\n",
      "\n",
      "target = [-1.  1. -1. -1. -1.]\n",
      "     y = [-1.  1. -1. -1. -1.]\n",
      "\n",
      "target = [-1.  1. -1. -1. -1.]\n",
      "     y = [-1.  1. -1. -1. -1.]\n",
      "\n",
      "target = [-1. -1.  1. -1. -1.]\n",
      "     y = [-1. -1.  1. -1. -1.]\n",
      "\n",
      "target = [-1. -1.  1. -1. -1.]\n",
      "     y = [-1. -1.  1. -1. -1.]\n",
      "\n",
      "target = [-1. -1.  1. -1. -1.]\n",
      "     y = [-1. -1.  1. -1. -1.]\n",
      "\n",
      "target = [-1. -1.  1. -1. -1.]\n",
      "     y = [-1. -1.  1. -1. -1.]\n",
      "\n",
      "target = [-1. -1.  1. -1. -1.]\n",
      "     y = [-1. -1.  1. -1. -1.]\n",
      "\n",
      "target = [-1. -1. -1.  1. -1.]\n",
      "     y = [-1. -1. -1.  1. -1.]\n",
      "\n",
      "target = [-1. -1. -1.  1. -1.]\n",
      "     y = [-1. -1. -1.  1. -1.]\n",
      "\n",
      "target = [-1. -1. -1.  1. -1.]\n",
      "     y = [-1. -1. -1.  1. -1.]\n",
      "\n",
      "target = [-1. -1. -1.  1. -1.]\n",
      "     y = [-1. -1. -1.  1. -1.]\n",
      "\n",
      "target = [-1. -1. -1.  1. -1.]\n",
      "     y = [-1. -1. -1.  1. -1.]\n",
      "\n",
      "target = [-1. -1. -1. -1.  1.]\n",
      "     y = [-1. -1. -1. -1.  1.]\n",
      "\n",
      "target = [-1. -1. -1. -1.  1.]\n",
      "     y = [-1. -1. -1. -1.  1.]\n",
      "\n",
      "target = [-1. -1. -1. -1.  1.]\n",
      "     y = [-1. -1. -1. -1.  1.]\n",
      "\n",
      "target = [-1. -1. -1. -1.  1.]\n",
      "     y = [-1. -1. -1. -1.  1.]\n",
      "\n",
      "target = [-1. -1. -1. -1.  1.]\n",
      "     y = [-1. -1. -1. -1.  1.]\n",
      "\n",
      "100.0% acc\n"
     ]
    }
   ],
   "source": [
    "correct = 0\n",
    "for i in range(len(tset1)):\n",
    "    sets = tset1[i]\n",
    "    _y = y_set[i]\n",
    "    for j in range(len(sets)):\n",
    "        y = copy_model.max_arg_predict(sets[i].flatten())\n",
    "        if np.array_equal(_y,y):\n",
    "            correct += 1\n",
    "        print(f'target = {_y}')\n",
    "        print(f'     y = {y}')\n",
    "        print('')\n",
    "print(f'{(correct/25) * 100}% acc')"
   ]
  },
  {
   "cell_type": "code",
   "execution_count": 61,
   "metadata": {},
   "outputs": [
    {
     "name": "stdout",
     "output_type": "stream",
     "text": [
      "target = [ 1. -1. -1. -1. -1.]\n",
      "     y = [ 1. -1. -1. -1. -1.]\n",
      "\n",
      "target = [ 1. -1. -1. -1. -1.]\n",
      "     y = [ 1. -1. -1. -1. -1.]\n",
      "\n",
      "target = [ 1. -1. -1. -1. -1.]\n",
      "     y = [ 1. -1. -1. -1. -1.]\n",
      "\n",
      "target = [ 1. -1. -1. -1. -1.]\n",
      "     y = [ 1. -1. -1. -1. -1.]\n",
      "\n",
      "target = [ 1. -1. -1. -1. -1.]\n",
      "     y = [ 1. -1. -1. -1. -1.]\n",
      "\n",
      "target = [-1.  1. -1. -1. -1.]\n",
      "     y = [-1.  1. -1. -1. -1.]\n",
      "\n",
      "target = [-1.  1. -1. -1. -1.]\n",
      "     y = [-1.  1. -1. -1. -1.]\n",
      "\n",
      "target = [-1.  1. -1. -1. -1.]\n",
      "     y = [-1.  1. -1. -1. -1.]\n",
      "\n",
      "target = [-1.  1. -1. -1. -1.]\n",
      "     y = [-1.  1. -1. -1. -1.]\n",
      "\n",
      "target = [-1.  1. -1. -1. -1.]\n",
      "     y = [-1.  1. -1. -1. -1.]\n",
      "\n",
      "target = [-1. -1.  1. -1. -1.]\n",
      "     y = [-1.  1. -1. -1. -1.]\n",
      "\n",
      "target = [-1. -1.  1. -1. -1.]\n",
      "     y = [-1.  1. -1. -1. -1.]\n",
      "\n",
      "target = [-1. -1.  1. -1. -1.]\n",
      "     y = [-1.  1. -1. -1. -1.]\n",
      "\n",
      "target = [-1. -1.  1. -1. -1.]\n",
      "     y = [-1.  1. -1. -1. -1.]\n",
      "\n",
      "target = [-1. -1.  1. -1. -1.]\n",
      "     y = [-1.  1. -1. -1. -1.]\n",
      "\n",
      "target = [-1. -1. -1.  1. -1.]\n",
      "     y = [-1. -1. -1.  1. -1.]\n",
      "\n",
      "target = [-1. -1. -1.  1. -1.]\n",
      "     y = [-1. -1. -1.  1. -1.]\n",
      "\n",
      "target = [-1. -1. -1.  1. -1.]\n",
      "     y = [-1. -1. -1.  1. -1.]\n",
      "\n",
      "target = [-1. -1. -1.  1. -1.]\n",
      "     y = [-1. -1. -1.  1. -1.]\n",
      "\n",
      "target = [-1. -1. -1.  1. -1.]\n",
      "     y = [-1. -1. -1.  1. -1.]\n",
      "\n",
      "target = [-1. -1. -1. -1.  1.]\n",
      "     y = [-1. -1. -1. -1.  1.]\n",
      "\n",
      "target = [-1. -1. -1. -1.  1.]\n",
      "     y = [-1. -1. -1. -1.  1.]\n",
      "\n",
      "target = [-1. -1. -1. -1.  1.]\n",
      "     y = [-1. -1. -1. -1.  1.]\n",
      "\n",
      "target = [-1. -1. -1. -1.  1.]\n",
      "     y = [-1. -1. -1. -1.  1.]\n",
      "\n",
      "target = [-1. -1. -1. -1.  1.]\n",
      "     y = [-1. -1. -1. -1.  1.]\n",
      "\n",
      "80.0% acc\n"
     ]
    }
   ],
   "source": [
    "correct = 0\n",
    "for i in range(len(tset2)):\n",
    "    sets = tset2[i]\n",
    "    _y = y_set[i]\n",
    "    for j in range(len(sets)):\n",
    "        y = copy_model.max_arg_predict(sets[i].flatten())\n",
    "        if np.array_equal(_y,y):\n",
    "            correct += 1\n",
    "        print(f'target = {_y}')\n",
    "        print(f'     y = {y}')\n",
    "        print('')\n",
    "print(f'{(correct/25) * 100}% acc')"
   ]
  },
  {
   "cell_type": "code",
   "execution_count": 62,
   "metadata": {},
   "outputs": [
    {
     "name": "stdout",
     "output_type": "stream",
     "text": [
      "target = [ 1. -1. -1. -1. -1.]\n",
      "     y = [ 1. -1. -1. -1. -1.]\n",
      "\n",
      "target = [ 1. -1. -1. -1. -1.]\n",
      "     y = [ 1. -1. -1. -1. -1.]\n",
      "\n",
      "target = [ 1. -1. -1. -1. -1.]\n",
      "     y = [ 1. -1. -1. -1. -1.]\n",
      "\n",
      "target = [ 1. -1. -1. -1. -1.]\n",
      "     y = [ 1. -1. -1. -1. -1.]\n",
      "\n",
      "target = [ 1. -1. -1. -1. -1.]\n",
      "     y = [ 1. -1. -1. -1. -1.]\n",
      "\n",
      "target = [-1.  1. -1. -1. -1.]\n",
      "     y = [-1.  1. -1. -1. -1.]\n",
      "\n",
      "target = [-1.  1. -1. -1. -1.]\n",
      "     y = [-1.  1. -1. -1. -1.]\n",
      "\n",
      "target = [-1.  1. -1. -1. -1.]\n",
      "     y = [-1.  1. -1. -1. -1.]\n",
      "\n",
      "target = [-1.  1. -1. -1. -1.]\n",
      "     y = [-1.  1. -1. -1. -1.]\n",
      "\n",
      "target = [-1.  1. -1. -1. -1.]\n",
      "     y = [-1.  1. -1. -1. -1.]\n",
      "\n",
      "target = [-1. -1.  1. -1. -1.]\n",
      "     y = [-1.  1. -1. -1. -1.]\n",
      "\n",
      "target = [-1. -1.  1. -1. -1.]\n",
      "     y = [-1.  1. -1. -1. -1.]\n",
      "\n",
      "target = [-1. -1.  1. -1. -1.]\n",
      "     y = [-1.  1. -1. -1. -1.]\n",
      "\n",
      "target = [-1. -1.  1. -1. -1.]\n",
      "     y = [-1.  1. -1. -1. -1.]\n",
      "\n",
      "target = [-1. -1.  1. -1. -1.]\n",
      "     y = [-1.  1. -1. -1. -1.]\n",
      "\n",
      "target = [-1. -1. -1.  1. -1.]\n",
      "     y = [-1. -1. -1.  1. -1.]\n",
      "\n",
      "target = [-1. -1. -1.  1. -1.]\n",
      "     y = [-1. -1. -1.  1. -1.]\n",
      "\n",
      "target = [-1. -1. -1.  1. -1.]\n",
      "     y = [-1. -1. -1.  1. -1.]\n",
      "\n",
      "target = [-1. -1. -1.  1. -1.]\n",
      "     y = [-1. -1. -1.  1. -1.]\n",
      "\n",
      "target = [-1. -1. -1.  1. -1.]\n",
      "     y = [-1. -1. -1.  1. -1.]\n",
      "\n",
      "target = [-1. -1. -1. -1.  1.]\n",
      "     y = [-1. -1. -1. -1.  1.]\n",
      "\n",
      "target = [-1. -1. -1. -1.  1.]\n",
      "     y = [-1. -1. -1. -1.  1.]\n",
      "\n",
      "target = [-1. -1. -1. -1.  1.]\n",
      "     y = [-1. -1. -1. -1.  1.]\n",
      "\n",
      "target = [-1. -1. -1. -1.  1.]\n",
      "     y = [-1. -1. -1. -1.  1.]\n",
      "\n",
      "target = [-1. -1. -1. -1.  1.]\n",
      "     y = [-1. -1. -1. -1.  1.]\n",
      "\n",
      "80.0% acc\n"
     ]
    }
   ],
   "source": [
    "correct = 0\n",
    "for i in range(len(tset3)):\n",
    "    sets = tset3[i]\n",
    "    _y = y_set[i]\n",
    "    for j in range(len(sets)):\n",
    "        y = copy_model.max_arg_predict(sets[i].flatten())\n",
    "        if np.array_equal(_y,y):\n",
    "            correct += 1\n",
    "        print(f'target = {_y}')\n",
    "        print(f'     y = {y}')\n",
    "        print('')\n",
    "print(f'{(correct/25) * 100}% acc')"
   ]
  },
  {
   "cell_type": "markdown",
   "metadata": {},
   "source": [
    "### Results 2\n",
    "\n",
    "When setting 20% of the weights in the model to 0 it affected the accuracy of the testing dataset. When using the threshold method we see that it can classify the tset1 with 80% accuracy but when testing tset2 and tset3 we get 60% and 40% respectively. This shows that we have heavily compromise the models when setting 40% of the weights to 0. Although it can handle a 1 bit pixel error when adding 2 or 3 pixel error it will struggle  <br>\n",
    "\n",
    "When doing the biggest number method we see that the tset1 gets 100% accuracy  while tset2 and tset3 gets 80% accuracy. This is very interesting as with this method the model did not suffer at all compare to the threshold method. This shows that depending on how you interpret the output out the end can influence the accuracy of the model."
   ]
  }
 ],
 "metadata": {
  "kernelspec": {
   "display_name": "Python 3",
   "language": "python",
   "name": "python3"
  },
  "language_info": {
   "codemirror_mode": {
    "name": "ipython",
    "version": 3
   },
   "file_extension": ".py",
   "mimetype": "text/x-python",
   "name": "python",
   "nbconvert_exporter": "python",
   "pygments_lexer": "ipython3",
   "version": "3.7.9"
  }
 },
 "nbformat": 4,
 "nbformat_minor": 1
}
