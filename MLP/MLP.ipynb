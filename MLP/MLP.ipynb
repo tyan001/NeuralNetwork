{
 "cells": [
  {
   "cell_type": "markdown",
   "metadata": {},
   "source": [
    "**Thony Yan <br>\n",
    "PID:3913880**"
   ]
  },
  {
   "cell_type": "code",
   "execution_count": 1,
   "metadata": {},
   "outputs": [],
   "source": [
    "import numpy as np\n",
    "import matplotlib.pyplot as plt\n",
    "import copy"
   ]
  },
  {
   "cell_type": "markdown",
   "metadata": {},
   "source": [
    "# Multilayer Perceptron (MLP)\n"
   ]
  },
  {
   "cell_type": "code",
   "execution_count": 2,
   "metadata": {
    "pycharm": {
     "name": "#%%\n"
    }
   },
   "outputs": [],
   "source": [
    "p1 = np.array([-1,-1,1,-1,-1,-1,1,-1,1,-1,1,1,1,1,1,1,-1,-1,-1,1])\n",
    "p6 = np.array([1,1,1,1,1,1,-1,-1,-1,-1,1,1,1,-1,-1,1,1,1,1,1])\n",
    "p11 = np.array([-1,1,1,1,-1,-1,-1,1,-1,-1,-1,-1,1,-1,-1,-1,1,1,1,-1])\n",
    "p16 = np.array([1,1,1,1,1,1,-1,-1,-1,1,1,-1,-1,-1,1,1,1,1,1,1])\n",
    "p21 = np.array([1,-1,-1,-1,1,1,-1,-1,-1,1,1,-1,-1,-1,1,1,1,1,1,1])"
   ]
  },
  {
   "cell_type": "code",
   "execution_count": 3,
   "metadata": {
    "pycharm": {
     "name": "#%%\n"
    }
   },
   "outputs": [],
   "source": [
    "p1 = p1.reshape(4,5)\n",
    "p6 = p6.reshape(4,5)\n",
    "p11 = p11.reshape(4,5)\n",
    "p16 = p16.reshape(4,5)\n",
    "p21 = p21.reshape(4,5)"
   ]
  },
  {
   "cell_type": "code",
   "execution_count": 4,
   "metadata": {
    "pycharm": {
     "name": "#%%\n"
    }
   },
   "outputs": [
    {
     "data": {
      "text/plain": [
       "(4, 5)"
      ]
     },
     "execution_count": 4,
     "metadata": {},
     "output_type": "execute_result"
    }
   ],
   "source": [
    "p1.shape"
   ]
  },
  {
   "cell_type": "code",
   "execution_count": 5,
   "metadata": {
    "pycharm": {
     "name": "#%%\n"
    }
   },
   "outputs": [],
   "source": [
    "base = [p1,p6,p11,p16,p21]"
   ]
  },
  {
   "cell_type": "code",
   "execution_count": 6,
   "metadata": {
    "pycharm": {
     "name": "#%%\n"
    }
   },
   "outputs": [],
   "source": [
    "def show(figs): # This function is use to show image\n",
    "    img=plt.figure(figsize=(10, 10))\n",
    "    for i in range(len(figs)):\n",
    "        img.add_subplot(5, 5, i+1)\n",
    "        plt.imshow(figs[i]-1, cmap='Greys')"
   ]
  },
  {
   "cell_type": "code",
   "execution_count": 7,
   "metadata": {
    "pycharm": {
     "name": "#%%\n"
    }
   },
   "outputs": [
    {
     "data": {
      "image/png": "[encoded data removed]",
      "text/plain": [
       "<Figure size 576x576 with 5 Axes>"
      ]
     },
     "metadata": {
      "needs_background": "light"
     },
     "output_type": "display_data"
    }
   ],
   "source": [
    "img=plt.figure(figsize=(8, 8))\n",
    "for i in range(1,6):\n",
    "    img.add_subplot(5, 5, i)\n",
    "    plt.imshow(base[i-1]-1, cmap='Greys')"
   ]
  },
  {
   "cell_type": "code",
   "execution_count": 8,
   "metadata": {
    "pycharm": {
     "name": "#%%\n"
    }
   },
   "outputs": [],
   "source": [
    "a_mod = np.array([[2,1],[3,2],[3,4],[4,4]])\n",
    "e_mod = np.array([[2,2],[4,2],[5,3],[4,3]])\n",
    "i_mod = np.array([[1,1],[4,2],[1,4],[4,3]])\n",
    "o_mod = np.array([[2,2],[4,2],[2,3],[4,3]])\n",
    "u_mod = np.array([[2,1],[4,1],[2,3],[4,3]])"
   ]
  },
  {
   "cell_type": "code",
   "execution_count": 9,
   "metadata": {
    "pycharm": {
     "name": "#%%\n"
    }
   },
   "outputs": [],
   "source": [
    "mod = [a_mod,e_mod,i_mod,o_mod,u_mod]"
   ]
  },
  {
   "cell_type": "code",
   "execution_count": 10,
   "metadata": {
    "pycharm": {
     "name": "#%%\n"
    }
   },
   "outputs": [],
   "source": [
    "def modify(base, mod):\n",
    "    lst = []\n",
    "    lst.append(base)\n",
    "    for i in range(len(mod)):\n",
    "        tmp = copy.deepcopy(base)\n",
    "        tmp[mod[i][1]-1,mod[i][0]-1] *= -1\n",
    "        lst.append(tmp)\n",
    "\n",
    "    return lst"
   ]
  },
  {
   "cell_type": "code",
   "execution_count": 11,
   "metadata": {
    "pycharm": {
     "name": "#%%\n"
    }
   },
   "outputs": [],
   "source": [
    "a_test = modify(base[0], mod[0])\n",
    "e_test = modify(base[1], mod[1])\n",
    "i_test = modify(base[2], mod[2])\n",
    "o_test = modify(base[3], mod[3])\n",
    "u_test = modify(base[4], mod[4])"
   ]
  },
  {
   "cell_type": "code",
   "execution_count": 12,
   "metadata": {
    "pycharm": {
     "name": "#%%\n"
    }
   },
   "outputs": [
    {
     "data": {
      "image/png": "[encoded data removed]",
      "text/plain": [
       "<Figure size 720x720 with 5 Axes>"
      ]
     },
     "metadata": {
      "needs_background": "light"
     },
     "output_type": "display_data"
    },
    {
     "data": {
      "image/png": "[encoded data removed]",
      "text/plain": [
       "<Figure size 720x720 with 5 Axes>"
      ]
     },
     "metadata": {
      "needs_background": "light"
     },
     "output_type": "display_data"
    },
    {
     "data": {
      "image/png": "[encoded data removed]",
      "text/plain": [
       "<Figure size 720x720 with 5 Axes>"
      ]
     },
     "metadata": {
      "needs_background": "light"
     },
     "output_type": "display_data"
    },
    {
     "data": {
      "image/png": "[encoded data removed]",
      "text/plain": [
       "<Figure size 720x720 with 5 Axes>"
      ]
     },
     "metadata": {
      "needs_background": "light"
     },
     "output_type": "display_data"
    },
    {
     "data": {
      "image/png": "[encoded data removed]",
      "text/plain": [
       "<Figure size 720x720 with 5 Axes>"
      ]
     },
     "metadata": {
      "needs_background": "light"
     },
     "output_type": "display_data"
    }
   ],
   "source": [
    "show(a_test)\n",
    "show(e_test)\n",
    "show(i_test)\n",
    "show(o_test)\n",
    "show(u_test)"
   ]
  },
  {
   "cell_type": "code",
   "execution_count": 13,
   "metadata": {},
   "outputs": [],
   "source": [
    "test_set = np.array([a_test,e_test,i_test,o_test,u_test])"
   ]
  },
  {
   "cell_type": "code",
   "execution_count": 14,
   "metadata": {},
   "outputs": [],
   "source": [
    "tset_mod1 = np.array([[ [4,1],[5,3],[2,4],[1,2] ],  #tset1 a\n",
    "                      [ [2,4],[5,2],[4,3],[1,3] ],  #tset1 e\n",
    "                      [ [4,4],[2,4],[2,2],[3,4] ],  #tset1 i\n",
    "                      [ [1,3],[3,2],[5,4],[3,3] ],  #tset1 o\n",
    "                      [ [5,3],[3,4],[1,4],[5,4] ]]) #tset1 u"
   ]
  },
  {
   "cell_type": "code",
   "execution_count": 15,
   "metadata": {},
   "outputs": [],
   "source": [
    "tset1_a = modify(base[0], tset_mod1[0])\n",
    "tset1_e = modify(base[1], tset_mod1[1])\n",
    "tset1_i = modify(base[2], tset_mod1[2])\n",
    "tset1_o = modify(base[3], tset_mod1[3])\n",
    "tset1_u = modify(base[4], tset_mod1[4])"
   ]
  },
  {
   "cell_type": "code",
   "execution_count": 16,
   "metadata": {},
   "outputs": [
    {
     "data": {
      "image/png": "[encoded data removed]",
      "text/plain": [
       "<Figure size 720x720 with 5 Axes>"
      ]
     },
     "metadata": {
      "needs_background": "light"
     },
     "output_type": "display_data"
    },
    {
     "data": {
      "image/png": "[encoded data removed]",
      "text/plain": [
       "<Figure size 720x720 with 5 Axes>"
      ]
     },
     "metadata": {
      "needs_background": "light"
     },
     "output_type": "display_data"
    },
    {
     "data": {
      "image/png": "[encoded data removed]",
      "text/plain": [
       "<Figure size 720x720 with 5 Axes>"
      ]
     },
     "metadata": {
      "needs_background": "light"
     },
     "output_type": "display_data"
    },
    {
     "data": {
      "image/png": "[encoded data removed]",
      "text/plain": [
       "<Figure size 720x720 with 5 Axes>"
      ]
     },
     "metadata": {
      "needs_background": "light"
     },
     "output_type": "display_data"
    },
    {
     "data": {
      "image/png": "[encoded data removed]",
      "text/plain": [
       "<Figure size 720x720 with 5 Axes>"
      ]
     },
     "metadata": {
      "needs_background": "light"
     },
     "output_type": "display_data"
    }
   ],
   "source": [
    "show(tset1_a)\n",
    "show(tset1_e)\n",
    "show(tset1_i)\n",
    "show(tset1_o)\n",
    "show(tset1_u)"
   ]
  },
  {
   "cell_type": "code",
   "execution_count": 17,
   "metadata": {},
   "outputs": [],
   "source": [
    "tset1 = np.array([tset1_a,tset1_e,tset1_i,tset1_o,tset1_u])"
   ]
  },
  {
   "cell_type": "code",
   "execution_count": 18,
   "metadata": {},
   "outputs": [],
   "source": [
    "tset_mod2 = np.array([[ [3,2],[1,3],[3,3],[2,1] ], #tset2 a\n",
    "                      [ [3,2],[3,3],[5,4],[1,2] ], #tset2 e\n",
    "                      [ [1,3],[2,2],[4,3],[1,4] ], #tset2 i\n",
    "                      [ [4,3],[4,3],[5,1],[2,4] ], #tset2 o\n",
    "                      [ [3,3],[2,2],[2,1],[1,3] ]])#tset2 u"
   ]
  },
  {
   "cell_type": "code",
   "execution_count": 19,
   "metadata": {},
   "outputs": [],
   "source": [
    "def modify2(base,mod):\n",
    "    lst = []\n",
    "    lst.append(base[0])\n",
    "    for i in range(1,5):\n",
    "        tmp = copy.deepcopy(base[i])\n",
    "        tmp[mod[i-1][1]-1,mod[i-1][0]-1] *= -1\n",
    "        lst.append(tmp)\n",
    "    return lst"
   ]
  },
  {
   "cell_type": "code",
   "execution_count": 20,
   "metadata": {},
   "outputs": [],
   "source": [
    "tset2_a = modify2(tset1_a,tset_mod2[0])\n",
    "tset2_e = modify2(tset1_e,tset_mod2[1])\n",
    "tset2_i = modify2(tset1_i,tset_mod2[2])\n",
    "tset2_o = modify2(tset1_o,tset_mod2[3])\n",
    "tset2_u = modify2(tset1_u,tset_mod2[4])"
   ]
  },
  {
   "cell_type": "code",
   "execution_count": 21,
   "metadata": {},
   "outputs": [
    {
     "data": {
      "image/png": "[encoded data removed]",
      "text/plain": [
       "<Figure size 720x720 with 5 Axes>"
      ]
     },
     "metadata": {
      "needs_background": "light"
     },
     "output_type": "display_data"
    },
    {
     "data": {
      "image/png": "[encoded data removed]",
      "text/plain": [
       "<Figure size 720x720 with 5 Axes>"
      ]
     },
     "metadata": {
      "needs_background": "light"
     },
     "output_type": "display_data"
    },
    {
     "data": {
      "image/png": "[encoded data removed]",
      "text/plain": [
       "<Figure size 720x720 with 5 Axes>"
      ]
     },
     "metadata": {
      "needs_background": "light"
     },
     "output_type": "display_data"
    },
    {
     "data": {
      "image/png": "[encoded data removed]",
      "text/plain": [
       "<Figure size 720x720 with 5 Axes>"
      ]
     },
     "metadata": {
      "needs_background": "light"
     },
     "output_type": "display_data"
    },
    {
     "data": {
      "image/png": "[encoded data removed]",
      "text/plain": [
       "<Figure size 720x720 with 5 Axes>"
      ]
     },
     "metadata": {
      "needs_background": "light"
     },
     "output_type": "display_data"
    }
   ],
   "source": [
    "show(tset2_a)\n",
    "show(tset2_e)\n",
    "show(tset2_i)\n",
    "show(tset2_o)\n",
    "show(tset2_u)"
   ]
  },
  {
   "cell_type": "code",
   "execution_count": 22,
   "metadata": {},
   "outputs": [],
   "source": [
    "tset2 = np.array([tset2_a,tset2_e,tset2_i,tset2_o,tset2_u])"
   ]
  },
  {
   "cell_type": "code",
   "execution_count": 23,
   "metadata": {},
   "outputs": [],
   "source": [
    "tset_mod3 = np.array([[ [5,2],[3,3],[1,3],[5,1] ], #tset3 a\n",
    "                      [ [3,4],[1,4],[5,2],[1,3] ], #tset3 e\n",
    "                      [ [1,1],[1,2],[2,4],[2,1] ], #tset3 i\n",
    "                      [ [1,2],[4,2],[3,3],[1,4] ], #tset3 o\n",
    "                      [ [3,2],[5,2],[5,4],[4,2] ]])#tset3 u"
   ]
  },
  {
   "cell_type": "code",
   "execution_count": 24,
   "metadata": {},
   "outputs": [],
   "source": [
    "tset3_a = modify2(tset2_a,tset_mod3[0])\n",
    "tset3_e = modify2(tset2_e,tset_mod3[1])\n",
    "tset3_i = modify2(tset2_i,tset_mod3[2])\n",
    "tset3_o = modify2(tset2_o,tset_mod3[3])\n",
    "tset3_u = modify2(tset2_u,tset_mod3[4])"
   ]
  },
  {
   "cell_type": "code",
   "execution_count": 25,
   "metadata": {},
   "outputs": [
    {
     "data": {
      "image/png": "[encoded data removed]",
      "text/plain": [
       "<Figure size 720x720 with 5 Axes>"
      ]
     },
     "metadata": {
      "needs_background": "light"
     },
     "output_type": "display_data"
    },
    {
     "data": {
      "image/png": "[encoded data removed]",
      "text/plain": [
       "<Figure size 720x720 with 5 Axes>"
      ]
     },
     "metadata": {
      "needs_background": "light"
     },
     "output_type": "display_data"
    },
    {
     "data": {
      "image/png": "[encoded data removed]",
      "text/plain": [
       "<Figure size 720x720 with 5 Axes>"
      ]
     },
     "metadata": {
      "needs_background": "light"
     },
     "output_type": "display_data"
    },
    {
     "data": {
      "image/png": "[encoded data removed]",
      "text/plain": [
       "<Figure size 720x720 with 5 Axes>"
      ]
     },
     "metadata": {
      "needs_background": "light"
     },
     "output_type": "display_data"
    },
    {
     "data": {
      "image/png": "[encoded data removed]",
      "text/plain": [
       "<Figure size 720x720 with 5 Axes>"
      ]
     },
     "metadata": {
      "needs_background": "light"
     },
     "output_type": "display_data"
    }
   ],
   "source": [
    "show(tset3_a)\n",
    "show(tset3_e)\n",
    "show(tset3_i)\n",
    "show(tset3_o)\n",
    "show(tset3_u)"
   ]
  },
  {
   "cell_type": "code",
   "execution_count": 26,
   "metadata": {},
   "outputs": [],
   "source": [
    "tset3 = np.array([tset3_a,tset3_e,tset3_i,tset3_o,tset3_u])"
   ]
  },
  {
   "cell_type": "code",
   "execution_count": 27,
   "metadata": {
    "pycharm": {
     "name": "#%%\n"
    }
   },
   "outputs": [],
   "source": [
    "class Neural_Network:\n",
    "\n",
    "    def __init__(self):\n",
    "        self.weights = [] # weight matrices\n",
    "        self.bias = [] # bias matrices\n",
    "        self.activation = [] # activation functions\n",
    "        self.z_val = [np.zeros(1)] # sum values of neurons. note: first value suppose to be inputs\n",
    "        self.a_val = [np.zeros(1)] # values after activation functions are apply. note: first value suppose to be inputs\n",
    "        self.sensitivity = [] # sensitivity or delta (derivatives)\n",
    "\n",
    "\n",
    "    def add_layer(self, neurons: int, activation: str, input_shape=None):\n",
    "        if input_shape is None:\n",
    "            try:\n",
    "                w = np.random.uniform(0,0.25,(self.weights[-1].shape[1],neurons))\n",
    "                self.weights.append(w)\n",
    "            except IndexError:\n",
    "                w = np.random.uniform(0,0.25,(1,neurons))\n",
    "                self.weights.append(w)\n",
    "\n",
    "        else:\n",
    "            input = np.prod(input_shape)\n",
    "            w = np.random.uniform(0,0.25,(input,neurons))\n",
    "            self.weights.append(w)\n",
    "\n",
    "        self.bias.append(np.random.rand(neurons))\n",
    "        self.activation.append(self.activation_f(activation))\n",
    "        self.z_val.append(np.zeros(neurons))\n",
    "        self.a_val.append(np.zeros(neurons))\n",
    "\n",
    "\n",
    "    @staticmethod\n",
    "    def sigmoid(x, derivative: bool=False):\n",
    "        z = 1/(1+np.exp(-x))\n",
    "        if derivative:\n",
    "            z = z * (1-z)\n",
    "        return z\n",
    "\n",
    "    @staticmethod\n",
    "    def tanh(x, derivative: bool=False):\n",
    "        z =  (1-np.exp(-2*x)) / (1+np.exp(-2*x))\n",
    "        if derivative:\n",
    "            z = (1 + z) * (1 - z)\n",
    "        return z\n",
    "\n",
    "    @staticmethod\n",
    "    def linear(x, derivative: bool=False):\n",
    "        if derivative:\n",
    "            return np.array(1)\n",
    "        return x\n",
    "\n",
    "    def activation_f(self, activation_name: str):\n",
    "\n",
    "        activation = {\n",
    "            'linear' : self.linear,\n",
    "            'sigmoid' : self.sigmoid,\n",
    "            'tanh' : self.tanh\n",
    "        }\n",
    "\n",
    "        act = str.lower(activation_name)\n",
    "\n",
    "        if act in activation:\n",
    "            return activation[act]\n",
    "        else:\n",
    "            print(\"activation function not in record\")\n",
    "\n",
    "    @staticmethod\n",
    "    def mse(error):\n",
    "\n",
    "        mse = np.sum(error ** 2)\n",
    "        return mse\n",
    "\n",
    "    @staticmethod\n",
    "    def error(target, output):\n",
    "        error = (target - output)\n",
    "        return error\n",
    "    \n",
    "    @staticmethod\n",
    "    def hardlim(output, tresh=0.35):\n",
    "        \n",
    "        output[output>tresh] = 1\n",
    "        output[output<tresh] = -1\n",
    "        return output\n",
    "    \n",
    "    @staticmethod\n",
    "    def max_arg(output):\n",
    "        \n",
    "        index = output.argmax()\n",
    "        output.fill(-1)\n",
    "        output[index] = 1\n",
    "        return output\n",
    "        \n",
    "    def feedforward(self, x):\n",
    "\n",
    "        self.a_val[0] = x\n",
    "        self.z_val[0] = x\n",
    "\n",
    "        for layer in range(len(self.weights)):\n",
    "\n",
    "            z = np.dot(self.a_val[layer], self.weights[layer]) + self.bias[layer]\n",
    "            a = self.activation[layer](z)\n",
    "            self.z_val[layer+1] = z\n",
    "            self.a_val[layer+1] = a\n",
    "\n",
    "    def back_propagate(self, error):\n",
    "        error = -2 * error # -2 * (target-output)\n",
    "        self.sensitivity = []\n",
    "        for i in reversed(range(len(self.weights))):\n",
    "\n",
    "            s = error * self.activation[i](self.z_val[i+1], derivative=True) # -2 * FMnM * (t-a)\n",
    "            self.sensitivity.insert(0,s)\n",
    "            error = np.dot(s, self.weights[i].T)\n",
    "\n",
    "    def update_weights(self, alpha=0.1):\n",
    "        for i in range(len(self.weights)):\n",
    "            sensitivity = self.sensitivity[i]\n",
    "            a = self.a_val[i]\n",
    "\n",
    "            sensitivity = sensitivity.reshape(sensitivity.shape[0],-1)\n",
    "            a = a.reshape(a.shape[0],-1)\n",
    "\n",
    "            sa = np.dot(sensitivity,a.T)\n",
    "\n",
    "            self.weights[i] = self.weights[i] - (alpha * sa.T)\n",
    "            self.bias[i] = self.bias[i] - (alpha * self.sensitivity[i])\n",
    "\n",
    "    def train(self, x, y, alpha=0.01):\n",
    "\n",
    "        self.feedforward(x)\n",
    "        error = self.error(y, self.a_val[-1])\n",
    "        self.back_propagate(error)\n",
    "        self.update_weights(alpha)\n",
    "        return self.mse(error)\n",
    "\n",
    "    def predict(self,x):\n",
    "        self.a_val[0] = x\n",
    "        self.z_val[0] = x\n",
    "        for layer in range(len(self.weights)):\n",
    "\n",
    "            z = np.dot(self.a_val[layer], self.weights[layer]) + self.bias[layer]\n",
    "            a = self.activation[layer](z)\n",
    "            self.z_val[layer+1] = z\n",
    "            self.a_val[layer+1] = a\n",
    "        \n",
    "        print(self.max_arg(a))"
   ]
  },
  {
   "cell_type": "code",
   "execution_count": 28,
   "metadata": {
    "pycharm": {
     "name": "#%%\n"
    }
   },
   "outputs": [
    {
     "data": {
      "text/plain": [
       "array([-1., -1.,  1., -1., -1., -1.,  1., -1.,  1., -1.,  1.,  1.,  1.,\n",
       "        1.,  1.,  1., -1., -1., -1.,  1.])"
      ]
     },
     "execution_count": 28,
     "metadata": {},
     "output_type": "execute_result"
    }
   ],
   "source": [
    "y = np.array([1.,-1.,-1.,-1.,-1.])\n",
    "\n",
    "inputs = np.array(a_test[0].flatten(), dtype=np.float)\n",
    "inputs"
   ]
  },
  {
   "cell_type": "code",
   "execution_count": 29,
   "metadata": {
    "pycharm": {
     "name": "#%%\n"
    }
   },
   "outputs": [],
   "source": [
    "model = Neural_Network()"
   ]
  },
  {
   "cell_type": "code",
   "execution_count": 30,
   "metadata": {
    "pycharm": {
     "name": "#%%\n"
    }
   },
   "outputs": [],
   "source": [
    "\n",
    "model.add_layer(10, 'sigmoid', input_shape=(4,5))\n",
    "model.add_layer(5, 'tanh')"
   ]
  },
  {
   "cell_type": "code",
   "execution_count": 31,
   "metadata": {
    "pycharm": {
     "name": "#%%\n"
    }
   },
   "outputs": [
    {
     "name": "stdout",
     "output_type": "stream",
     "text": [
      "(20, 10)\n",
      "(10, 5)\n",
      "(10,)\n",
      "(5,)\n"
     ]
    }
   ],
   "source": [
    "print(model.weights[0].shape)\n",
    "print(model.weights[1].shape)\n",
    "print(model.bias[0].shape)\n",
    "print(model.bias[1].shape)"
   ]
  },
  {
   "cell_type": "code",
   "execution_count": 32,
   "metadata": {
    "pycharm": {
     "name": "#%%\n"
    }
   },
   "outputs": [],
   "source": [
    "model.feedforward(inputs)"
   ]
  },
  {
   "cell_type": "code",
   "execution_count": 33,
   "metadata": {
    "pycharm": {
     "name": "#%%\n"
    }
   },
   "outputs": [
    {
     "data": {
      "text/plain": [
       "[array([-1., -1.,  1., -1., -1., -1.,  1., -1.,  1., -1.,  1.,  1.,  1.,\n",
       "         1.,  1.,  1., -1., -1., -1.,  1.]),\n",
       " array([0.63074631, 0.63340643, 0.70036638, 0.69465171, 0.67597382,\n",
       "        0.73055687, 0.59229859, 0.67812693, 0.60275528, 0.76030732]),\n",
       " array([0.68248486, 0.86271246, 0.81520362, 0.8802131 , 0.62766156])]"
      ]
     },
     "execution_count": 33,
     "metadata": {},
     "output_type": "execute_result"
    }
   ],
   "source": [
    "model.a_val"
   ]
  },
  {
   "cell_type": "code",
   "execution_count": 34,
   "metadata": {
    "pycharm": {
     "name": "#%%\n"
    }
   },
   "outputs": [
    {
     "data": {
      "text/plain": [
       "[array([-1., -1.,  1., -1., -1., -1.,  1., -1.,  1., -1.,  1.,  1.,  1.,\n",
       "         1.,  1.,  1., -1., -1., -1.,  1.]),\n",
       " array([0.53541981, 0.54685849, 0.84904312, 0.82195754, 0.73533001,\n",
       "        0.99744974, 0.37347579, 0.74517721, 0.41695878, 1.15436512]),\n",
       " array([0.83375078, 1.30385573, 1.14234918, 1.37671304, 0.73754821])]"
      ]
     },
     "execution_count": 34,
     "metadata": {},
     "output_type": "execute_result"
    }
   ],
   "source": [
    "model.z_val"
   ]
  },
  {
   "cell_type": "code",
   "execution_count": 35,
   "metadata": {
    "pycharm": {
     "name": "#%%\n"
    }
   },
   "outputs": [
    {
     "data": {
      "text/plain": [
       "array([ 0.31751514, -1.86271246, -1.81520362, -1.8802131 , -1.62766156])"
      ]
     },
     "execution_count": 35,
     "metadata": {},
     "output_type": "execute_result"
    }
   ],
   "source": [
    "error = model.error(y, model.a_val[-1])\n",
    "error"
   ]
  },
  {
   "cell_type": "code",
   "execution_count": 36,
   "metadata": {
    "pycharm": {
     "name": "#%%\n"
    }
   },
   "outputs": [
    {
     "data": {
      "text/plain": [
       "array([[ 0.16962117],\n",
       "       [-0.47634626],\n",
       "       [-0.60889745],\n",
       "       [-0.4234708 ],\n",
       "       [-0.98642958]])"
      ]
     },
     "execution_count": 36,
     "metadata": {},
     "output_type": "execute_result"
    }
   ],
   "source": [
    "s = model.activation[1](model.z_val[2], derivative=True) * error\n",
    "st = s.reshape(s.shape[0],-1)\n",
    "st"
   ]
  },
  {
   "cell_type": "code",
   "execution_count": 37,
   "metadata": {
    "pycharm": {
     "name": "#%%\n"
    }
   },
   "outputs": [
    {
     "data": {
      "text/plain": [
       "array([[0.63074631],\n",
       "       [0.63340643],\n",
       "       [0.70036638],\n",
       "       [0.69465171],\n",
       "       [0.67597382],\n",
       "       [0.73055687],\n",
       "       [0.59229859],\n",
       "       [0.67812693],\n",
       "       [0.60275528],\n",
       "       [0.76030732]])"
      ]
     },
     "execution_count": 37,
     "metadata": {},
     "output_type": "execute_result"
    }
   ],
   "source": [
    "a = model.a_val[1]\n",
    "a = a.reshape(a.shape[0],-1)\n",
    "a"
   ]
  },
  {
   "cell_type": "code",
   "execution_count": 38,
   "metadata": {
    "pycharm": {
     "name": "#%%\n"
    }
   },
   "outputs": [],
   "source": [
    "Wnew = np.dot(st,a.T)"
   ]
  },
  {
   "cell_type": "code",
   "execution_count": 39,
   "metadata": {
    "pycharm": {
     "name": "#%%\n"
    }
   },
   "outputs": [
    {
     "data": {
      "text/plain": [
       "(10, 5)"
      ]
     },
     "execution_count": 39,
     "metadata": {},
     "output_type": "execute_result"
    }
   ],
   "source": [
    "Wnew.T.shape"
   ]
  },
  {
   "cell_type": "code",
   "execution_count": 40,
   "metadata": {
    "pycharm": {
     "name": "#%%\n"
    }
   },
   "outputs": [
    {
     "data": {
      "text/plain": [
       "(10, 5)"
      ]
     },
     "execution_count": 40,
     "metadata": {},
     "output_type": "execute_result"
    }
   ],
   "source": [
    "model.weights[1].shape"
   ]
  },
  {
   "cell_type": "code",
   "execution_count": 41,
   "metadata": {
    "pycharm": {
     "name": "#%%\n"
    }
   },
   "outputs": [
    {
     "data": {
      "text/plain": [
       "array([[0.02913382, 0.19467791, 0.03410906, 0.02456925, 0.17600107],\n",
       "       [0.07359378, 0.02318086, 0.21293727, 0.07749825, 0.03418966],\n",
       "       [0.15294283, 0.01883314, 0.12936135, 0.03635933, 0.00187376],\n",
       "       [0.0434084 , 0.15789218, 0.01173665, 0.14130113, 0.08687036],\n",
       "       [0.05278128, 0.0388083 , 0.12703003, 0.15128435, 0.02406281],\n",
       "       [0.05752399, 0.14270057, 0.09067966, 0.17530428, 0.15842351],\n",
       "       [0.18073186, 0.21145287, 0.11752844, 0.24575606, 0.06988169],\n",
       "       [0.13233166, 0.11337764, 0.02479341, 0.05633548, 0.03666077],\n",
       "       [0.24862445, 0.19843721, 0.00182767, 0.15781265, 0.03971887],\n",
       "       [0.14740812, 0.06237644, 0.07364866, 0.23430069, 0.16169991]])"
      ]
     },
     "execution_count": 41,
     "metadata": {},
     "output_type": "execute_result"
    }
   ],
   "source": [
    "model.weights[1]"
   ]
  },
  {
   "cell_type": "code",
   "execution_count": 42,
   "metadata": {
    "pycharm": {
     "name": "#%%\n"
    }
   },
   "outputs": [],
   "source": [
    "model.back_propagate(error)"
   ]
  },
  {
   "cell_type": "code",
   "execution_count": 43,
   "metadata": {
    "pycharm": {
     "name": "#%%\n"
    }
   },
   "outputs": [
    {
     "data": {
      "text/plain": [
       "(5,)"
      ]
     },
     "execution_count": 43,
     "metadata": {},
     "output_type": "execute_result"
    }
   ],
   "source": [
    "model.sensitivity[1].shape"
   ]
  },
  {
   "cell_type": "code",
   "execution_count": 44,
   "metadata": {
    "pycharm": {
     "name": "#%%\n"
    }
   },
   "outputs": [
    {
     "data": {
      "text/plain": [
       "(5,)"
      ]
     },
     "execution_count": 44,
     "metadata": {},
     "output_type": "execute_result"
    }
   ],
   "source": [
    "model.bias[1].shape"
   ]
  },
  {
   "cell_type": "code",
   "execution_count": 45,
   "metadata": {
    "pycharm": {
     "name": "#%%\n"
    }
   },
   "outputs": [
    {
     "data": {
      "text/plain": [
       "array([0.17575484, 0.15877385, 0.19378308, 0.19722267, 0.17763794,\n",
       "       0.12034863, 0.06846271, 0.16752786, 0.0232029 , 0.16050754])"
      ]
     },
     "execution_count": 45,
     "metadata": {},
     "output_type": "execute_result"
    }
   ],
   "source": [
    "model.weights[0][14]"
   ]
  },
  {
   "cell_type": "code",
   "execution_count": 46,
   "metadata": {
    "pycharm": {
     "name": "#%%\n"
    }
   },
   "outputs": [],
   "source": [
    "model.update_weights()"
   ]
  },
  {
   "cell_type": "code",
   "execution_count": 47,
   "metadata": {
    "pycharm": {
     "name": "#%%\n"
    }
   },
   "outputs": [
    {
     "name": "stdout",
     "output_type": "stream",
     "text": [
      "(20, 10)\n",
      "(10, 5)\n",
      "(10,)\n",
      "(5,)\n"
     ]
    }
   ],
   "source": [
    "print(model.weights[0].shape)\n",
    "print(model.weights[1].shape)\n",
    "print(model.bias[0].shape)\n",
    "print(model.bias[1].shape)"
   ]
  },
  {
   "cell_type": "code",
   "execution_count": 48,
   "metadata": {
    "pycharm": {
     "name": "#%%\n"
    }
   },
   "outputs": [
    {
     "data": {
      "text/plain": [
       "array([-0.66142289, -0.17166047,  0.13114261, -0.22134885, -0.36081623,\n",
       "       -0.02700747, -0.33393939, -0.31879679, -0.01944957,  0.02085392])"
      ]
     },
     "execution_count": 48,
     "metadata": {},
     "output_type": "execute_result"
    }
   ],
   "source": [
    "a = model.a_val\n",
    "t = np.dot(inputs, model.weights[0])\n",
    "t"
   ]
  },
  {
   "cell_type": "code",
   "execution_count": 49,
   "metadata": {
    "pycharm": {
     "name": "#%%\n"
    }
   },
   "outputs": [],
   "source": [
    "model = Neural_Network()\n",
    "model.add_layer(10, 'sigmoid', input_shape=(4,5))\n",
    "model.add_layer(5, 'tanh')"
   ]
  },
  {
   "cell_type": "code",
   "execution_count": 50,
   "metadata": {
    "pycharm": {
     "name": "#%%\n"
    }
   },
   "outputs": [
    {
     "data": {
      "text/plain": [
       "([array([[-1, -1,  1, -1, -1],\n",
       "         [-1,  1, -1,  1, -1],\n",
       "         [ 1,  1,  1,  1,  1],\n",
       "         [ 1, -1, -1, -1,  1]]),\n",
       "  array([[-1,  1,  1, -1, -1],\n",
       "         [-1,  1, -1,  1, -1],\n",
       "         [ 1,  1,  1,  1,  1],\n",
       "         [ 1, -1, -1, -1,  1]]),\n",
       "  array([[-1, -1,  1, -1, -1],\n",
       "         [-1,  1,  1,  1, -1],\n",
       "         [ 1,  1,  1,  1,  1],\n",
       "         [ 1, -1, -1, -1,  1]]),\n",
       "  array([[-1, -1,  1, -1, -1],\n",
       "         [-1,  1, -1,  1, -1],\n",
       "         [ 1,  1,  1,  1,  1],\n",
       "         [ 1, -1,  1, -1,  1]]),\n",
       "  array([[-1, -1,  1, -1, -1],\n",
       "         [-1,  1, -1,  1, -1],\n",
       "         [ 1,  1,  1,  1,  1],\n",
       "         [ 1, -1, -1,  1,  1]])],\n",
       " [array([[ 1,  1,  1,  1,  1],\n",
       "         [ 1, -1, -1, -1, -1],\n",
       "         [ 1,  1,  1, -1, -1],\n",
       "         [ 1,  1,  1,  1,  1]]),\n",
       "  array([[ 1,  1,  1,  1,  1],\n",
       "         [ 1,  1, -1, -1, -1],\n",
       "         [ 1,  1,  1, -1, -1],\n",
       "         [ 1,  1,  1,  1,  1]]),\n",
       "  array([[ 1,  1,  1,  1,  1],\n",
       "         [ 1, -1, -1,  1, -1],\n",
       "         [ 1,  1,  1, -1, -1],\n",
       "         [ 1,  1,  1,  1,  1]]),\n",
       "  array([[ 1,  1,  1,  1,  1],\n",
       "         [ 1, -1, -1, -1, -1],\n",
       "         [ 1,  1,  1, -1,  1],\n",
       "         [ 1,  1,  1,  1,  1]]),\n",
       "  array([[ 1,  1,  1,  1,  1],\n",
       "         [ 1, -1, -1, -1, -1],\n",
       "         [ 1,  1,  1,  1, -1],\n",
       "         [ 1,  1,  1,  1,  1]])],\n",
       " [array([[-1,  1,  1,  1, -1],\n",
       "         [-1, -1,  1, -1, -1],\n",
       "         [-1, -1,  1, -1, -1],\n",
       "         [-1,  1,  1,  1, -1]]),\n",
       "  array([[ 1,  1,  1,  1, -1],\n",
       "         [-1, -1,  1, -1, -1],\n",
       "         [-1, -1,  1, -1, -1],\n",
       "         [-1,  1,  1,  1, -1]]),\n",
       "  array([[-1,  1,  1,  1, -1],\n",
       "         [-1, -1,  1,  1, -1],\n",
       "         [-1, -1,  1, -1, -1],\n",
       "         [-1,  1,  1,  1, -1]]),\n",
       "  array([[-1,  1,  1,  1, -1],\n",
       "         [-1, -1,  1, -1, -1],\n",
       "         [-1, -1,  1, -1, -1],\n",
       "         [ 1,  1,  1,  1, -1]]),\n",
       "  array([[-1,  1,  1,  1, -1],\n",
       "         [-1, -1,  1, -1, -1],\n",
       "         [-1, -1,  1,  1, -1],\n",
       "         [-1,  1,  1,  1, -1]])],\n",
       " [array([[ 1,  1,  1,  1,  1],\n",
       "         [ 1, -1, -1, -1,  1],\n",
       "         [ 1, -1, -1, -1,  1],\n",
       "         [ 1,  1,  1,  1,  1]]),\n",
       "  array([[ 1,  1,  1,  1,  1],\n",
       "         [ 1,  1, -1, -1,  1],\n",
       "         [ 1, -1, -1, -1,  1],\n",
       "         [ 1,  1,  1,  1,  1]]),\n",
       "  array([[ 1,  1,  1,  1,  1],\n",
       "         [ 1, -1, -1,  1,  1],\n",
       "         [ 1, -1, -1, -1,  1],\n",
       "         [ 1,  1,  1,  1,  1]]),\n",
       "  array([[ 1,  1,  1,  1,  1],\n",
       "         [ 1, -1, -1, -1,  1],\n",
       "         [ 1,  1, -1, -1,  1],\n",
       "         [ 1,  1,  1,  1,  1]]),\n",
       "  array([[ 1,  1,  1,  1,  1],\n",
       "         [ 1, -1, -1, -1,  1],\n",
       "         [ 1, -1, -1,  1,  1],\n",
       "         [ 1,  1,  1,  1,  1]])],\n",
       " [array([[ 1, -1, -1, -1,  1],\n",
       "         [ 1, -1, -1, -1,  1],\n",
       "         [ 1, -1, -1, -1,  1],\n",
       "         [ 1,  1,  1,  1,  1]]),\n",
       "  array([[ 1,  1, -1, -1,  1],\n",
       "         [ 1, -1, -1, -1,  1],\n",
       "         [ 1, -1, -1, -1,  1],\n",
       "         [ 1,  1,  1,  1,  1]]),\n",
       "  array([[ 1, -1, -1,  1,  1],\n",
       "         [ 1, -1, -1, -1,  1],\n",
       "         [ 1, -1, -1, -1,  1],\n",
       "         [ 1,  1,  1,  1,  1]]),\n",
       "  array([[ 1, -1, -1, -1,  1],\n",
       "         [ 1, -1, -1, -1,  1],\n",
       "         [ 1,  1, -1, -1,  1],\n",
       "         [ 1,  1,  1,  1,  1]]),\n",
       "  array([[ 1, -1, -1, -1,  1],\n",
       "         [ 1, -1, -1, -1,  1],\n",
       "         [ 1, -1, -1,  1,  1],\n",
       "         [ 1,  1,  1,  1,  1]])])"
      ]
     },
     "execution_count": 50,
     "metadata": {},
     "output_type": "execute_result"
    }
   ],
   "source": [
    "training_set = a_test, e_test, i_test, o_test, u_test\n",
    "training_set"
   ]
  },
  {
   "cell_type": "code",
   "execution_count": 51,
   "metadata": {
    "pycharm": {
     "name": "#%%\n"
    }
   },
   "outputs": [],
   "source": [
    "y_set = np.array([[1.,-1,-1,-1,-1], [-1,1,-1,-1,-1],[-1,-1,1,-1,-1],[-1,-1,-1,1,-1],[-1,-1,-1,-1,1]])"
   ]
  },
  {
   "cell_type": "code",
   "execution_count": 52,
   "metadata": {
    "pycharm": {
     "name": "#%%\n"
    }
   },
   "outputs": [],
   "source": [
    "epoch = 100\n",
    "total_mse = []\n",
    "random_w1 = []\n",
    "random_w2 = []\n",
    "random_w3 = []\n",
    "bias1 = []\n",
    "bias2 = []\n",
    "random1 = np.random.randint(20)\n",
    "random2 = np.random.randint(10)\n",
    "random3 = np.random.randint(10)\n",
    "random4 = np.random.randint(5)\n",
    "bias_random1 = np.random.randint(10)\n",
    "bias_random2 = np.random.randint(5)\n",
    "for i in range(epoch):\n",
    "    mse = 0\n",
    "    random_w1.append(model.weights[0][random1][random2])\n",
    "    random_w2.append(model.weights[1][random3][random4])\n",
    "    bias1.append(model.bias[0][bias_random1])\n",
    "    bias2.append(model.bias[1][bias_random2])\n",
    "\n",
    "    for i in range(len(training_set)):\n",
    "        set = training_set[i]\n",
    "        target = y_set[i]\n",
    "        for j in range(len(set)):\n",
    "            #show(set)\n",
    "            #print(target)\n",
    "            mse += model.train(set[i].flatten(), target, 0.1)\n",
    "\n",
    "    mse = (mse / 25.)\n",
    "    total_mse.append(mse)\n",
    "    "
   ]
  },
  {
   "cell_type": "code",
   "execution_count": 53,
   "metadata": {
    "pycharm": {
     "name": "#%%\n"
    }
   },
   "outputs": [
    {
     "name": "stdout",
     "output_type": "stream",
     "text": [
      "[ 1. -1. -1. -1. -1.]\n",
      "[ 1. -1. -1. -1. -1.]\n",
      "[ 1. -1. -1. -1. -1.]\n",
      "[ 1. -1. -1. -1. -1.]\n",
      "[ 1. -1. -1. -1. -1.]\n",
      "\n",
      "[-1.  1. -1. -1. -1.]\n",
      "[-1.  1. -1. -1. -1.]\n",
      "[-1.  1. -1. -1. -1.]\n",
      "[-1.  1. -1. -1. -1.]\n",
      "[-1.  1. -1. -1. -1.]\n",
      "\n",
      "[-1. -1.  1. -1. -1.]\n",
      "[-1. -1.  1. -1. -1.]\n",
      "[-1. -1.  1. -1. -1.]\n",
      "[-1. -1.  1. -1. -1.]\n",
      "[-1. -1.  1. -1. -1.]\n",
      "\n",
      "[-1. -1. -1.  1. -1.]\n",
      "[-1. -1. -1.  1. -1.]\n",
      "[-1. -1. -1.  1. -1.]\n",
      "[-1. -1. -1.  1. -1.]\n",
      "[-1. -1. -1.  1. -1.]\n",
      "\n",
      "[-1. -1. -1. -1.  1.]\n",
      "[-1. -1. -1. -1.  1.]\n",
      "[-1. -1. -1. -1.  1.]\n",
      "[-1. -1. -1. -1.  1.]\n",
      "[-1. -1. -1. -1.  1.]\n",
      "\n"
     ]
    }
   ],
   "source": [
    "for i in range(len(training_set)):\n",
    "    set = training_set[i]\n",
    "    for j in range(len(set)):\n",
    "        model.predict(set[i].flatten())\n",
    "\n",
    "    print('')\n"
   ]
  },
  {
   "cell_type": "code",
   "execution_count": 54,
   "metadata": {
    "pycharm": {
     "name": "#%%\n"
    }
   },
   "outputs": [
    {
     "data": {
      "text/plain": [
       "Text(0.5, 1.0, 'mse')"
      ]
     },
     "execution_count": 54,
     "metadata": {},
     "output_type": "execute_result"
    },
    {
     "data": {
      "image/png": "[encoded data removed]",
      "text/plain": [
       "<Figure size 432x288 with 1 Axes>"
      ]
     },
     "metadata": {
      "needs_background": "light"
     },
     "output_type": "display_data"
    }
   ],
   "source": [
    "plt.plot(total_mse)\n",
    "plt.xlabel('epoch')\n",
    "plt.ylabel('mse value')\n",
    "plt.title('mse')"
   ]
  },
  {
   "cell_type": "code",
   "execution_count": 55,
   "metadata": {
    "pycharm": {
     "name": "#%%\n"
    }
   },
   "outputs": [
    {
     "data": {
      "text/plain": [
       "[3.41701691318667,\n",
       " 2.6221704595419983,\n",
       " 2.024963659566689,\n",
       " 1.6786058509364,\n",
       " 1.3407460329842635,\n",
       " 0.9051523788817739,\n",
       " 0.7216800539436019,\n",
       " 0.52380796503775,\n",
       " 0.36885285260584366,\n",
       " 0.2214053827578674,\n",
       " 0.11514258683515222,\n",
       " 0.07245896136715256,\n",
       " 0.053997690811905634,\n",
       " 0.04319434017753831,\n",
       " 0.035993605918151234,\n",
       " 0.030853006627350223,\n",
       " 0.02700108061971849,\n",
       " 0.024007448107018412,\n",
       " 0.02161368864125368,\n",
       " 0.01965553783675664,\n",
       " 0.018023681268438462,\n",
       " 0.016642580143980113,\n",
       " 0.015458369205024271,\n",
       " 0.014431603996152191,\n",
       " 0.01353273589692966,\n",
       " 0.012739189870536667,\n",
       " 0.012033420003038477,\n",
       " 0.011401581440204936,\n",
       " 0.010832602231663888,\n",
       " 0.010317521303658457,\n",
       " 0.00984900758293471,\n",
       " 0.009421004949106098,\n",
       " 0.009028466194848836,\n",
       " 0.008667150994343996,\n",
       " 0.00833347059692503,\n",
       " 0.00802436709936327,\n",
       " 0.007737218630721574,\n",
       " 0.007469764180892342,\n",
       " 0.007220043479941326,\n",
       " 0.006986348523487943,\n",
       " 0.006767184192447497,\n",
       " 0.006561236035324845,\n",
       " 0.006367343736653335,\n",
       " 0.006184479133218926,\n",
       " 0.006011727893072184,\n",
       " 0.005848274163947846,\n",
       " 0.005693387643865939,\n",
       " 0.00554641263905977,\n",
       " 0.0054067587614263736,\n",
       " 0.005273892985610584,\n",
       " 0.005147332839178492,\n",
       " 0.00502664054150279,\n",
       " 0.004911417940516687,\n",
       " 0.004801302123313744,\n",
       " 0.00469596159814127,\n",
       " 0.0045950929627716994,\n",
       " 0.004498417988402429,\n",
       " 0.004405681059797812,\n",
       " 0.0043166469218681724,\n",
       " 0.00423109869068867,\n",
       " 0.004148836093417397,\n",
       " 0.004069673906932219,\n",
       " 0.003993440569472965,\n",
       " 0.003919976943311827,\n",
       " 0.00384913520961082,\n",
       " 0.003780777879266431,\n",
       " 0.0037147769057728976,\n",
       " 0.0036510128880271604,\n",
       " 0.003589374352606199,\n",
       " 0.00352975710641849,\n",
       " 0.0034720636518032456,\n",
       " 0.003416202657155953,\n",
       " 0.0033620884770223626,\n",
       " 0.0033096407163472515,\n",
       " 0.003258783834207098,\n",
       " 0.0032094467829125732,\n",
       " 0.0031615626788495206,\n",
       " 0.0031150685018475665,\n",
       " 0.0030699048202313156,\n",
       " 0.003026015539029304,\n",
       " 0.0029833476690954842,\n",
       " 0.0029418511151437813,\n",
       " 0.0029014784809116493,\n",
       " 0.0028621848898586926,\n",
       " 0.002823927819973525,\n",
       " 0.0027866669514101526,\n",
       " 0.0027503640258058383,\n",
       " 0.002714982716248434,\n",
       " 0.0026804885069641616,\n",
       " 0.0026468485818882093,\n",
       " 0.0026140317213622145,\n",
       " 0.002582008206275162,\n",
       " 0.002550749729029314,\n",
       " 0.002520229310770817,\n",
       " 0.002490421224376497,\n",
       " 0.00246130092273516,\n",
       " 0.0024328449719034587,\n",
       " 0.0024050309887540485,\n",
       " 0.0023778375827677224,\n",
       " 0.0023512443016516387]"
      ]
     },
     "execution_count": 55,
     "metadata": {},
     "output_type": "execute_result"
    }
   ],
   "source": [
    "total_mse"
   ]
  },
  {
   "cell_type": "code",
   "execution_count": 56,
   "metadata": {
    "pycharm": {
     "name": "#%%\n"
    }
   },
   "outputs": [
    {
     "data": {
      "text/plain": [
       "Text(0.5, 1.0, 'layer 1, weight (9,9)')"
      ]
     },
     "execution_count": 56,
     "metadata": {},
     "output_type": "execute_result"
    },
    {
     "data": {
      "image/png": "[encoded data removed]",
      "text/plain": [
       "<Figure size 432x288 with 1 Axes>"
      ]
     },
     "metadata": {
      "needs_background": "light"
     },
     "output_type": "display_data"
    }
   ],
   "source": [
    "plt.plot(random_w1)\n",
    "plt.xlabel('epoch')\n",
    "plt.ylabel('weight value')\n",
    "plt.title('layer 1, weight (' + str(random1) + ',' + str(random2) + ')')"
   ]
  },
  {
   "cell_type": "code",
   "execution_count": 57,
   "metadata": {
    "pycharm": {
     "name": "#%%\n"
    }
   },
   "outputs": [
    {
     "data": {
      "text/plain": [
       "Text(0.5, 1.0, 'layer 2, weight (0,1)')"
      ]
     },
     "execution_count": 57,
     "metadata": {},
     "output_type": "execute_result"
    },
    {
     "data": {
      "image/png": "[encoded data removed]",
      "text/plain": [
       "<Figure size 432x288 with 1 Axes>"
      ]
     },
     "metadata": {
      "needs_background": "light"
     },
     "output_type": "display_data"
    }
   ],
   "source": [
    "plt.plot(random_w2)\n",
    "plt.xlabel('epoch')\n",
    "plt.ylabel('weight value')\n",
    "plt.title('layer 2, weight (' + str(random3) + ',' + str(random4) + ')')"
   ]
  },
  {
   "cell_type": "code",
   "execution_count": 58,
   "metadata": {
    "pycharm": {
     "name": "#%%\n"
    }
   },
   "outputs": [
    {
     "data": {
      "text/plain": [
       "Text(0.5, 1.0, 'layer 1, bias (7)')"
      ]
     },
     "execution_count": 58,
     "metadata": {},
     "output_type": "execute_result"
    },
    {
     "data": {
      "image/png": "[encoded data removed]",
      "text/plain": [
       "<Figure size 432x288 with 1 Axes>"
      ]
     },
     "metadata": {
      "needs_background": "light"
     },
     "output_type": "display_data"
    }
   ],
   "source": [
    "plt.plot(bias1)\n",
    "plt.xlabel('epoch')\n",
    "plt.ylabel('bias value')\n",
    "plt.title('layer 1, bias (' + str(bias_random1) + ')')"
   ]
  },
  {
   "cell_type": "code",
   "execution_count": 59,
   "metadata": {
    "pycharm": {
     "name": "#%%\n"
    }
   },
   "outputs": [
    {
     "data": {
      "text/plain": [
       "Text(0.5, 1.0, 'layer 2, bias (2)')"
      ]
     },
     "execution_count": 59,
     "metadata": {},
     "output_type": "execute_result"
    },
    {
     "data": {
      "image/png": "[encoded data removed]",
      "text/plain": [
       "<Figure size 432x288 with 1 Axes>"
      ]
     },
     "metadata": {
      "needs_background": "light"
     },
     "output_type": "display_data"
    }
   ],
   "source": [
    "plt.plot(bias2)\n",
    "plt.xlabel('epoch')\n",
    "plt.ylabel('bias value')\n",
    "plt.title('layer 2, bias (' + str(bias_random2) + ')')"
   ]
  },
  {
   "cell_type": "code",
   "execution_count": 60,
   "metadata": {},
   "outputs": [],
   "source": [
    "def fit(model,epochs, alpha, dataset, targets, exit=0.01, input_l=20, hidden_l=10, output_l=5):\n",
    "    total_mse = []\n",
    "    random_w1 = []\n",
    "    random_w2 = []\n",
    "    random_w3 = []\n",
    "    bias1 = []\n",
    "    bias2 = []\n",
    "    random1 = np.random.randint(input_l)\n",
    "    random2 = np.random.randint(hidden_l)\n",
    "    random3 = np.random.randint(hidden_l)\n",
    "    random4 = np.random.randint(output_l)\n",
    "    random5 = np.random.randint(input_l)\n",
    "    random6 = np.random.randint(hidden_l)\n",
    "    bias_random1 = np.random.randint(hidden_l)\n",
    "    bias_random2 = np.random.randint(output_l)\n",
    "    for epoch in range(epochs):\n",
    "        mse = 0\n",
    "        random_w1.append(model.weights[0][random1][random2])\n",
    "        random_w2.append(model.weights[1][random3][random4])\n",
    "        random_w3.append(model.weights[0][random5][random6])\n",
    "        bias1.append(model.bias[0][bias_random1])\n",
    "        bias2.append(model.bias[1][bias_random2])\n",
    "\n",
    "        for i in range(len(dataset)):\n",
    "            sets = dataset[i]\n",
    "            target = targets[i]\n",
    "            for j in range(len(sets)):\n",
    "                mse += model.train(sets[i].flatten(), target, 0.1)\n",
    "\n",
    "        mse = (mse / 25.)\n",
    "        total_mse.append(mse)\n",
    "        if mse < exit:\n",
    "            break\n",
    "    \n",
    "    plt.plot(total_mse)\n",
    "    plt.xlabel('epoch')\n",
    "    plt.ylabel('mse value')\n",
    "    plt.title('mse')\n",
    "    plt.show()\n",
    "    \n",
    "    plt.plot(random_w1)\n",
    "    plt.xlabel('epoch')\n",
    "    plt.ylabel('weight value')\n",
    "    plt.title('layer 1, weight (' + str(random1) + ',' + str(random2) + ')')\n",
    "    plt.show()\n",
    "    \n",
    "    plt.plot(random_w2)\n",
    "    plt.xlabel('epoch')\n",
    "    plt.ylabel('weight value')\n",
    "    plt.title('layer 2, weight (' + str(random3) + ',' + str(random4) + ')')\n",
    "    plt.show()\n",
    "    \n",
    "    plt.plot(random_w3)\n",
    "    plt.xlabel('epoch')\n",
    "    plt.ylabel('weight value')\n",
    "    plt.title('layer 1, weight (' + str(random5) + ',' + str(random6) + ')')\n",
    "    plt.show()\n",
    "    \n",
    "    plt.plot(bias1)\n",
    "    plt.xlabel('epoch')\n",
    "    plt.ylabel('bias value')\n",
    "    plt.title('layer 1, bias (' + str(bias_random1) + ')')\n",
    "    plt.show()\n",
    "    \n",
    "    plt.plot(bias2)\n",
    "    plt.xlabel('epoch')\n",
    "    plt.ylabel('bias value')\n",
    "    plt.title('layer 2, bias (' + str(bias_random2) + ')')\n",
    "    plt.show()\n",
    "    \n",
    "    print('\\n number of epochs to reach an mse of ' , epoch)"
   ]
  },
  {
   "cell_type": "code",
   "execution_count": 61,
   "metadata": {},
   "outputs": [],
   "source": [
    "model1 = Neural_Network()\n",
    "model1.add_layer(10, 'sigmoid', input_shape=(4,5))\n",
    "model1.add_layer(5, 'tanh')"
   ]
  },
  {
   "cell_type": "code",
   "execution_count": 62,
   "metadata": {},
   "outputs": [
    {
     "data": {
      "image/png": "[encoded data removed]",
      "text/plain": [
       "<Figure size 432x288 with 1 Axes>"
      ]
     },
     "metadata": {
      "needs_background": "light"
     },
     "output_type": "display_data"
    },
    {
     "data": {
      "image/png": "[encoded data removed]",
      "text/plain": [
       "<Figure size 432x288 with 1 Axes>"
      ]
     },
     "metadata": {
      "needs_background": "light"
     },
     "output_type": "display_data"
    },
    {
     "data": {
      "image/png": "[encoded data removed]",
      "text/plain": [
       "<Figure size 432x288 with 1 Axes>"
      ]
     },
     "metadata": {
      "needs_background": "light"
     },
     "output_type": "display_data"
    },
    {
     "data": {
      "image/png": "[encoded data removed]",
      "text/plain": [
       "<Figure size 432x288 with 1 Axes>"
      ]
     },
     "metadata": {
      "needs_background": "light"
     },
     "output_type": "display_data"
    },
    {
     "data": {
      "image/png": "[encoded data removed]",
      "text/plain": [
       "<Figure size 432x288 with 1 Axes>"
      ]
     },
     "metadata": {
      "needs_background": "light"
     },
     "output_type": "display_data"
    },
    {
     "data": {
      "image/png": "[encoded data removed]",
      "text/plain": [
       "<Figure size 432x288 with 1 Axes>"
      ]
     },
     "metadata": {
      "needs_background": "light"
     },
     "output_type": "display_data"
    },
    {
     "name": "stdout",
     "output_type": "stream",
     "text": [
      "\n",
      " number of epochs to reach an mse of  49\n"
     ]
    }
   ],
   "source": [
    "fit(model1,epochs=100, alpha=0.1, dataset=training_set, targets=y_set, exit=0.005)"
   ]
  },
  {
   "cell_type": "code",
   "execution_count": 63,
   "metadata": {},
   "outputs": [],
   "source": [
    "model2 = Neural_Network()\n",
    "model2.add_layer(10, 'sigmoid', input_shape=(4,5))\n",
    "model2.add_layer(5, 'tanh')"
   ]
  },
  {
   "cell_type": "code",
   "execution_count": 64,
   "metadata": {},
   "outputs": [
    {
     "data": {
      "image/png": "[encoded data removed]",
      "text/plain": [
       "<Figure size 432x288 with 1 Axes>"
      ]
     },
     "metadata": {
      "needs_background": "light"
     },
     "output_type": "display_data"
    },
    {
     "data": {
      "image/png": "[encoded data removed]",
      "text/plain": [
       "<Figure size 432x288 with 1 Axes>"
      ]
     },
     "metadata": {
      "needs_background": "light"
     },
     "output_type": "display_data"
    },
    {
     "data": {
      "image/png": "[encoded data removed]",
      "text/plain": [
       "<Figure size 432x288 with 1 Axes>"
      ]
     },
     "metadata": {
      "needs_background": "light"
     },
     "output_type": "display_data"
    },
    {
     "data": {
      "image/png": "[encoded data removed]",
      "text/plain": [
       "<Figure size 432x288 with 1 Axes>"
      ]
     },
     "metadata": {
      "needs_background": "light"
     },
     "output_type": "display_data"
    },
    {
     "data": {
      "image/png": "[encoded data removed]",
      "text/plain": [
       "<Figure size 432x288 with 1 Axes>"
      ]
     },
     "metadata": {
      "needs_background": "light"
     },
     "output_type": "display_data"
    },
    {
     "data": {
      "image/png": "[encoded data removed]",
      "text/plain": [
       "<Figure size 432x288 with 1 Axes>"
      ]
     },
     "metadata": {
      "needs_background": "light"
     },
     "output_type": "display_data"
    },
    {
     "name": "stdout",
     "output_type": "stream",
     "text": [
      "\n",
      " number of epochs to reach an mse of  54\n"
     ]
    }
   ],
   "source": [
    "fit(model2,epochs=100, alpha=0.01, dataset=training_set, targets=y_set, exit=0.005)"
   ]
  },
  {
   "cell_type": "code",
   "execution_count": 65,
   "metadata": {},
   "outputs": [],
   "source": [
    "model3 = Neural_Network()\n",
    "model3.add_layer(10, 'sigmoid', input_shape=(4,5))\n",
    "model3.add_layer(5, 'tanh')"
   ]
  },
  {
   "cell_type": "code",
   "execution_count": 66,
   "metadata": {},
   "outputs": [
    {
     "data": {
      "image/png": "[encoded data removed]",
      "text/plain": [
       "<Figure size 432x288 with 1 Axes>"
      ]
     },
     "metadata": {
      "needs_background": "light"
     },
     "output_type": "display_data"
    },
    {
     "data": {
      "image/png": "[encoded data removed]",
      "text/plain": [
       "<Figure size 432x288 with 1 Axes>"
      ]
     },
     "metadata": {
      "needs_background": "light"
     },
     "output_type": "display_data"
    },
    {
     "data": {
      "image/png": "[encoded data removed]",
      "text/plain": [
       "<Figure size 432x288 with 1 Axes>"
      ]
     },
     "metadata": {
      "needs_background": "light"
     },
     "output_type": "display_data"
    },
    {
     "data": {
      "image/png": "[encoded data removed]",
      "text/plain": [
       "<Figure size 432x288 with 1 Axes>"
      ]
     },
     "metadata": {
      "needs_background": "light"
     },
     "output_type": "display_data"
    },
    {
     "data": {
      "image/png": "[encoded data removed]",
      "text/plain": [
       "<Figure size 432x288 with 1 Axes>"
      ]
     },
     "metadata": {
      "needs_background": "light"
     },
     "output_type": "display_data"
    },
    {
     "data": {
      "image/png": "[encoded data removed]",
      "text/plain": [
       "<Figure size 432x288 with 1 Axes>"
      ]
     },
     "metadata": {
      "needs_background": "light"
     },
     "output_type": "display_data"
    },
    {
     "name": "stdout",
     "output_type": "stream",
     "text": [
      "\n",
      " number of epochs to reach an mse of  47\n"
     ]
    }
   ],
   "source": [
    "fit(model3,epochs=100, alpha=0.001, dataset=training_set, targets=y_set, exit=0.005)"
   ]
  },
  {
   "cell_type": "code",
   "execution_count": 67,
   "metadata": {},
   "outputs": [
    {
     "name": "stdout",
     "output_type": "stream",
     "text": [
      "[ 1. -1. -1. -1. -1.]\n",
      "[ 1. -1. -1. -1. -1.]\n",
      "[ 1. -1. -1. -1. -1.]\n",
      "[ 1. -1. -1. -1. -1.]\n",
      "[ 1. -1. -1. -1. -1.]\n",
      "\n",
      "[-1.  1. -1. -1. -1.]\n",
      "[-1.  1. -1. -1. -1.]\n",
      "[-1.  1. -1. -1. -1.]\n",
      "[-1.  1. -1. -1. -1.]\n",
      "[-1.  1. -1. -1. -1.]\n",
      "\n",
      "[-1. -1.  1. -1. -1.]\n",
      "[-1. -1.  1. -1. -1.]\n",
      "[-1. -1.  1. -1. -1.]\n",
      "[-1. -1.  1. -1. -1.]\n",
      "[-1. -1.  1. -1. -1.]\n",
      "\n",
      "[-1. -1. -1.  1. -1.]\n",
      "[-1. -1. -1.  1. -1.]\n",
      "[-1. -1. -1.  1. -1.]\n",
      "[-1. -1. -1.  1. -1.]\n",
      "[-1. -1. -1.  1. -1.]\n",
      "\n",
      "[-1. -1. -1. -1.  1.]\n",
      "[-1. -1. -1. -1.  1.]\n",
      "[-1. -1. -1. -1.  1.]\n",
      "[-1. -1. -1. -1.  1.]\n",
      "[-1. -1. -1. -1.  1.]\n",
      "\n"
     ]
    }
   ],
   "source": [
    "for i in range(len(tset1)):\n",
    "    sets = tset1[i]\n",
    "    for j in range(len(sets)):\n",
    "        model1.predict(sets[i].flatten())\n",
    "\n",
    "    print('')"
   ]
  },
  {
   "cell_type": "code",
   "execution_count": 68,
   "metadata": {},
   "outputs": [
    {
     "name": "stdout",
     "output_type": "stream",
     "text": [
      "[ 1. -1. -1. -1. -1.]\n",
      "[ 1. -1. -1. -1. -1.]\n",
      "[ 1. -1. -1. -1. -1.]\n",
      "[ 1. -1. -1. -1. -1.]\n",
      "[ 1. -1. -1. -1. -1.]\n",
      "\n",
      "[-1.  1. -1. -1. -1.]\n",
      "[-1.  1. -1. -1. -1.]\n",
      "[-1.  1. -1. -1. -1.]\n",
      "[-1.  1. -1. -1. -1.]\n",
      "[-1.  1. -1. -1. -1.]\n",
      "\n",
      "[-1. -1.  1. -1. -1.]\n",
      "[-1. -1.  1. -1. -1.]\n",
      "[-1. -1.  1. -1. -1.]\n",
      "[-1. -1.  1. -1. -1.]\n",
      "[-1. -1.  1. -1. -1.]\n",
      "\n",
      "[-1. -1. -1.  1. -1.]\n",
      "[-1. -1. -1.  1. -1.]\n",
      "[-1. -1. -1.  1. -1.]\n",
      "[-1. -1. -1.  1. -1.]\n",
      "[-1. -1. -1.  1. -1.]\n",
      "\n",
      "[-1. -1. -1. -1.  1.]\n",
      "[-1. -1. -1. -1.  1.]\n",
      "[-1. -1. -1. -1.  1.]\n",
      "[-1. -1. -1. -1.  1.]\n",
      "[-1. -1. -1. -1.  1.]\n",
      "\n"
     ]
    }
   ],
   "source": [
    "for i in range(len(tset2)):\n",
    "    sets = tset2[i]\n",
    "    for j in range(len(sets)):\n",
    "        model1.predict(sets[i].flatten())\n",
    "\n",
    "    print('')"
   ]
  },
  {
   "cell_type": "code",
   "execution_count": 69,
   "metadata": {},
   "outputs": [
    {
     "name": "stdout",
     "output_type": "stream",
     "text": [
      "[ 1. -1. -1. -1. -1.]\n",
      "[ 1. -1. -1. -1. -1.]\n",
      "[ 1. -1. -1. -1. -1.]\n",
      "[ 1. -1. -1. -1. -1.]\n",
      "[ 1. -1. -1. -1. -1.]\n",
      "\n",
      "[-1.  1. -1. -1. -1.]\n",
      "[-1.  1. -1. -1. -1.]\n",
      "[-1.  1. -1. -1. -1.]\n",
      "[-1.  1. -1. -1. -1.]\n",
      "[-1.  1. -1. -1. -1.]\n",
      "\n",
      "[-1. -1.  1. -1. -1.]\n",
      "[-1. -1.  1. -1. -1.]\n",
      "[-1. -1.  1. -1. -1.]\n",
      "[-1. -1.  1. -1. -1.]\n",
      "[-1. -1.  1. -1. -1.]\n",
      "\n",
      "[-1. -1. -1.  1. -1.]\n",
      "[-1. -1. -1.  1. -1.]\n",
      "[-1. -1. -1.  1. -1.]\n",
      "[-1. -1. -1.  1. -1.]\n",
      "[-1. -1. -1.  1. -1.]\n",
      "\n",
      "[-1. -1. -1. -1.  1.]\n",
      "[-1. -1. -1. -1.  1.]\n",
      "[-1. -1. -1. -1.  1.]\n",
      "[-1. -1. -1. -1.  1.]\n",
      "[-1. -1. -1. -1.  1.]\n",
      "\n"
     ]
    }
   ],
   "source": [
    "for i in range(len(tset3)):\n",
    "    sets = tset3[i]\n",
    "    for j in range(len(sets)):\n",
    "        model1.predict(sets[i].flatten())\n",
    "\n",
    "    print('')"
   ]
  }
 ],
 "metadata": {
  "kernelspec": {
   "display_name": "Python 3",
   "language": "python",
   "name": "python3"
  },
  "language_info": {
   "codemirror_mode": {
    "name": "ipython",
    "version": 3
   },
   "file_extension": ".py",
   "mimetype": "text/x-python",
   "name": "python",
   "nbconvert_exporter": "python",
   "pygments_lexer": "ipython3",
   "version": "3.7.9"
  }
 },
 "nbformat": 4,
 "nbformat_minor": 1
}
