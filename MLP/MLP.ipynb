{
 "cells": [
  {
   "cell_type": "markdown",
   "metadata": {},
   "source": [
    "**Thony Yan <br>\n",
    "PID:3913880**"
   ]
  },
  {
   "cell_type": "code",
   "execution_count": 1,
   "metadata": {},
   "outputs": [],
   "source": [
    "import numpy as np\n",
    "import matplotlib.pyplot as plt\n",
    "import copy"
   ]
  },
  {
   "cell_type": "markdown",
   "metadata": {},
   "source": [
    "# Multilayer Perceptron (MLP)\n"
   ]
  },
  {
   "cell_type": "code",
   "execution_count": 2,
   "metadata": {
    "pycharm": {
     "name": "#%%\n"
    }
   },
   "outputs": [],
   "source": [
    "p1 = np.array([-1,-1,1,-1,-1,-1,1,-1,1,-1,1,1,1,1,1,1,-1,-1,-1,1])\n",
    "p6 = np.array([1,1,1,1,1,1,-1,-1,-1,-1,1,1,1,-1,-1,1,1,1,1,1])\n",
    "p11 = np.array([-1,1,1,1,-1,-1,-1,1,-1,-1,-1,-1,1,-1,-1,-1,1,1,1,-1])\n",
    "p16 = np.array([1,1,1,1,1,1,-1,-1,-1,1,1,-1,-1,-1,1,1,1,1,1,1])\n",
    "p21 = np.array([1,-1,-1,-1,1,1,-1,-1,-1,1,1,-1,-1,-1,1,1,1,1,1,1])"
   ]
  },
  {
   "cell_type": "code",
   "execution_count": 3,
   "metadata": {
    "pycharm": {
     "name": "#%%\n"
    }
   },
   "outputs": [],
   "source": [
    "p1 = p1.reshape(4,5)\n",
    "p6 = p6.reshape(4,5)\n",
    "p11 = p11.reshape(4,5)\n",
    "p16 = p16.reshape(4,5)\n",
    "p21 = p21.reshape(4,5)"
   ]
  },
  {
   "cell_type": "code",
   "execution_count": 4,
   "metadata": {
    "pycharm": {
     "name": "#%%\n"
    }
   },
   "outputs": [
    {
     "data": {
      "text/plain": [
       "(4, 5)"
      ]
     },
     "execution_count": 4,
     "metadata": {},
     "output_type": "execute_result"
    }
   ],
   "source": [
    "p1.shape"
   ]
  },
  {
   "cell_type": "code",
   "execution_count": 5,
   "metadata": {
    "pycharm": {
     "name": "#%%\n"
    }
   },
   "outputs": [],
   "source": [
    "base = [p1,p6,p11,p16,p21]"
   ]
  },
  {
   "cell_type": "code",
   "execution_count": 6,
   "metadata": {
    "pycharm": {
     "name": "#%%\n"
    }
   },
   "outputs": [],
   "source": [
    "def show(figs): # This function is use to show image\n",
    "    img=plt.figure(figsize=(10, 10))\n",
    "    for i in range(len(figs)):\n",
    "        img.add_subplot(5, 5, i+1)\n",
    "        plt.imshow(figs[i]-1, cmap='Greys')"
   ]
  },
  {
   "cell_type": "code",
   "execution_count": 7,
   "metadata": {
    "pycharm": {
     "name": "#%%\n"
    }
   },
   "outputs": [
    {
     "data": {
      "image/png": "[encoded data removed]",
      "text/plain": [
       "<Figure size 576x576 with 5 Axes>"
      ]
     },
     "metadata": {
      "needs_background": "light"
     },
     "output_type": "display_data"
    }
   ],
   "source": [
    "img=plt.figure(figsize=(8, 8))\n",
    "for i in range(1,6):\n",
    "    img.add_subplot(5, 5, i)\n",
    "    plt.imshow(base[i-1]-1, cmap='Greys')"
   ]
  },
  {
   "cell_type": "code",
   "execution_count": 8,
   "metadata": {
    "pycharm": {
     "name": "#%%\n"
    }
   },
   "outputs": [],
   "source": [
    "a_mod = np.array([[2,1],[3,2],[3,4],[4,4]])\n",
    "e_mod = np.array([[2,2],[4,2],[5,3],[4,3]])\n",
    "i_mod = np.array([[1,1],[4,2],[1,4],[4,3]])\n",
    "o_mod = np.array([[2,2],[4,2],[2,3],[4,3]])\n",
    "u_mod = np.array([[2,1],[4,1],[2,3],[4,3]])"
   ]
  },
  {
   "cell_type": "code",
   "execution_count": 9,
   "metadata": {
    "pycharm": {
     "name": "#%%\n"
    }
   },
   "outputs": [],
   "source": [
    "mod = [a_mod,e_mod,i_mod,o_mod,u_mod]"
   ]
  },
  {
   "cell_type": "code",
   "execution_count": 10,
   "metadata": {
    "pycharm": {
     "name": "#%%\n"
    }
   },
   "outputs": [],
   "source": [
    "def modify(base, mod):\n",
    "    lst = []\n",
    "    lst.append(base)\n",
    "    for i in range(len(mod)):\n",
    "        tmp = copy.deepcopy(base)\n",
    "        tmp[mod[i][1]-1,mod[i][0]-1] *= -1\n",
    "        lst.append(tmp)\n",
    "\n",
    "    return lst"
   ]
  },
  {
   "cell_type": "code",
   "execution_count": 11,
   "metadata": {
    "pycharm": {
     "name": "#%%\n"
    }
   },
   "outputs": [],
   "source": [
    "a_test = modify(base[0], mod[0])\n",
    "e_test = modify(base[1], mod[1])\n",
    "i_test = modify(base[2], mod[2])\n",
    "o_test = modify(base[3], mod[3])\n",
    "u_test = modify(base[4], mod[4])"
   ]
  },
  {
   "cell_type": "code",
   "execution_count": 12,
   "metadata": {
    "pycharm": {
     "name": "#%%\n"
    }
   },
   "outputs": [
    {
     "data": {
      "image/png": "[encoded data removed]",
      "text/plain": [
       "<Figure size 720x720 with 5 Axes>"
      ]
     },
     "metadata": {
      "needs_background": "light"
     },
     "output_type": "display_data"
    },
    {
     "data": {
      "image/png": "[encoded data removed]",
      "text/plain": [
       "<Figure size 720x720 with 5 Axes>"
      ]
     },
     "metadata": {
      "needs_background": "light"
     },
     "output_type": "display_data"
    },
    {
     "data": {
      "image/png": "[encoded data removed]",
      "text/plain": [
       "<Figure size 720x720 with 5 Axes>"
      ]
     },
     "metadata": {
      "needs_background": "light"
     },
     "output_type": "display_data"
    },
    {
     "data": {
      "image/png": "[encoded data removed]",
      "text/plain": [
       "<Figure size 720x720 with 5 Axes>"
      ]
     },
     "metadata": {
      "needs_background": "light"
     },
     "output_type": "display_data"
    },
    {
     "data": {
      "image/png": "[encoded data removed]",
      "text/plain": [
       "<Figure size 720x720 with 5 Axes>"
      ]
     },
     "metadata": {
      "needs_background": "light"
     },
     "output_type": "display_data"
    }
   ],
   "source": [
    "show(a_test)\n",
    "show(e_test)\n",
    "show(i_test)\n",
    "show(o_test)\n",
    "show(u_test)"
   ]
  },
  {
   "cell_type": "code",
   "execution_count": 13,
   "metadata": {},
   "outputs": [],
   "source": [
    "test_set = np.array([a_test,e_test,i_test,o_test,u_test])"
   ]
  },
  {
   "cell_type": "code",
   "execution_count": 14,
   "metadata": {},
   "outputs": [],
   "source": [
    "tset_mod1 = np.array([[ [4,1],[5,3],[2,4],[1,2] ],  #tset1 a\n",
    "                      [ [2,4],[5,2],[4,3],[1,3] ],  #tset1 e\n",
    "                      [ [4,4],[2,4],[2,2],[3,4] ],  #tset1 i\n",
    "                      [ [1,3],[3,2],[5,4],[3,3] ],  #tset1 o\n",
    "                      [ [5,3],[3,4],[1,4],[5,4] ]]) #tset1 u"
   ]
  },
  {
   "cell_type": "code",
   "execution_count": 15,
   "metadata": {},
   "outputs": [],
   "source": [
    "tset1_a = modify(base[0], tset_mod1[0])\n",
    "tset1_e = modify(base[1], tset_mod1[1])\n",
    "tset1_i = modify(base[2], tset_mod1[2])\n",
    "tset1_o = modify(base[3], tset_mod1[3])\n",
    "tset1_u = modify(base[4], tset_mod1[4])"
   ]
  },
  {
   "cell_type": "code",
   "execution_count": 16,
   "metadata": {},
   "outputs": [
    {
     "data": {
      "image/png": "[encoded data removed]",
      "text/plain": [
       "<Figure size 720x720 with 5 Axes>"
      ]
     },
     "metadata": {
      "needs_background": "light"
     },
     "output_type": "display_data"
    },
    {
     "data": {
      "image/png": "[encoded data removed]",
      "text/plain": [
       "<Figure size 720x720 with 5 Axes>"
      ]
     },
     "metadata": {
      "needs_background": "light"
     },
     "output_type": "display_data"
    },
    {
     "data": {
      "image/png": "[encoded data removed]",
      "text/plain": [
       "<Figure size 720x720 with 5 Axes>"
      ]
     },
     "metadata": {
      "needs_background": "light"
     },
     "output_type": "display_data"
    },
    {
     "data": {
      "image/png": "[encoded data removed]",
      "text/plain": [
       "<Figure size 720x720 with 5 Axes>"
      ]
     },
     "metadata": {
      "needs_background": "light"
     },
     "output_type": "display_data"
    },
    {
     "data": {
      "image/png": "[encoded data removed]",
      "text/plain": [
       "<Figure size 720x720 with 5 Axes>"
      ]
     },
     "metadata": {
      "needs_background": "light"
     },
     "output_type": "display_data"
    }
   ],
   "source": [
    "show(tset1_a)\n",
    "show(tset1_e)\n",
    "show(tset1_i)\n",
    "show(tset1_o)\n",
    "show(tset1_u)"
   ]
  },
  {
   "cell_type": "code",
   "execution_count": 17,
   "metadata": {},
   "outputs": [],
   "source": [
    "tset1 = np.array([tset1_a,tset1_e,tset1_i,tset1_o,tset1_u])"
   ]
  },
  {
   "cell_type": "code",
   "execution_count": 18,
   "metadata": {},
   "outputs": [],
   "source": [
    "tset_mod2 = np.array([[ [3,2],[1,3],[3,3],[2,1] ], #tset2 a\n",
    "                      [ [3,2],[3,3],[5,4],[1,2] ], #tset2 e\n",
    "                      [ [1,3],[2,2],[4,3],[1,4] ], #tset2 i\n",
    "                      [ [4,3],[4,3],[5,1],[2,4] ], #tset2 o\n",
    "                      [ [3,3],[2,2],[2,1],[1,3] ]])#tset2 u"
   ]
  },
  {
   "cell_type": "code",
   "execution_count": 19,
   "metadata": {},
   "outputs": [],
   "source": [
    "def modify2(base,mod):\n",
    "    lst = []\n",
    "    lst.append(base[0])\n",
    "    for i in range(1,5):\n",
    "        tmp = copy.deepcopy(base[i])\n",
    "        tmp[mod[i-1][1]-1,mod[i-1][0]-1] *= -1\n",
    "        lst.append(tmp)\n",
    "    return lst"
   ]
  },
  {
   "cell_type": "code",
   "execution_count": 20,
   "metadata": {},
   "outputs": [],
   "source": [
    "tset2_a = modify2(tset1_a,tset_mod2[0])\n",
    "tset2_e = modify2(tset1_e,tset_mod2[1])\n",
    "tset2_i = modify2(tset1_i,tset_mod2[2])\n",
    "tset2_o = modify2(tset1_o,tset_mod2[3])\n",
    "tset2_u = modify2(tset1_u,tset_mod2[4])"
   ]
  },
  {
   "cell_type": "code",
   "execution_count": 21,
   "metadata": {},
   "outputs": [
    {
     "data": {
      "image/png": "[encoded data removed]",
      "text/plain": [
       "<Figure size 720x720 with 5 Axes>"
      ]
     },
     "metadata": {
      "needs_background": "light"
     },
     "output_type": "display_data"
    },
    {
     "data": {
      "image/png": "[encoded data removed]",
      "text/plain": [
       "<Figure size 720x720 with 5 Axes>"
      ]
     },
     "metadata": {
      "needs_background": "light"
     },
     "output_type": "display_data"
    },
    {
     "data": {
      "image/png": "[encoded data removed]",
      "text/plain": [
       "<Figure size 720x720 with 5 Axes>"
      ]
     },
     "metadata": {
      "needs_background": "light"
     },
     "output_type": "display_data"
    },
    {
     "data": {
      "image/png": "[encoded data removed]",
      "text/plain": [
       "<Figure size 720x720 with 5 Axes>"
      ]
     },
     "metadata": {
      "needs_background": "light"
     },
     "output_type": "display_data"
    },
    {
     "data": {
      "image/png": "[encoded data removed]",
      "text/plain": [
       "<Figure size 720x720 with 5 Axes>"
      ]
     },
     "metadata": {
      "needs_background": "light"
     },
     "output_type": "display_data"
    }
   ],
   "source": [
    "show(tset2_a)\n",
    "show(tset2_e)\n",
    "show(tset2_i)\n",
    "show(tset2_o)\n",
    "show(tset2_u)"
   ]
  },
  {
   "cell_type": "code",
   "execution_count": 22,
   "metadata": {},
   "outputs": [],
   "source": [
    "tset2 = np.array([tset2_a,tset2_e,tset2_i,tset2_o,tset2_u])"
   ]
  },
  {
   "cell_type": "code",
   "execution_count": 23,
   "metadata": {},
   "outputs": [],
   "source": [
    "tset_mod3 = np.array([[ [5,2],[3,3],[1,3],[5,1] ], #tset3 a\n",
    "                      [ [3,4],[1,4],[5,2],[1,3] ], #tset3 e\n",
    "                      [ [1,1],[1,2],[2,4],[2,1] ], #tset3 i\n",
    "                      [ [1,2],[4,2],[3,3],[1,4] ], #tset3 o\n",
    "                      [ [3,2],[5,2],[5,4],[4,2] ]])#tset3 u"
   ]
  },
  {
   "cell_type": "code",
   "execution_count": 24,
   "metadata": {},
   "outputs": [],
   "source": [
    "tset3_a = modify2(tset2_a,tset_mod3[0])\n",
    "tset3_e = modify2(tset2_e,tset_mod3[1])\n",
    "tset3_i = modify2(tset2_i,tset_mod3[2])\n",
    "tset3_o = modify2(tset2_o,tset_mod3[3])\n",
    "tset3_u = modify2(tset2_u,tset_mod3[4])"
   ]
  },
  {
   "cell_type": "code",
   "execution_count": 25,
   "metadata": {},
   "outputs": [
    {
     "data": {
      "image/png": "[encoded data removed]",
      "text/plain": [
       "<Figure size 720x720 with 5 Axes>"
      ]
     },
     "metadata": {
      "needs_background": "light"
     },
     "output_type": "display_data"
    },
    {
     "data": {
      "image/png": "[encoded data removed]",
      "text/plain": [
       "<Figure size 720x720 with 5 Axes>"
      ]
     },
     "metadata": {
      "needs_background": "light"
     },
     "output_type": "display_data"
    },
    {
     "data": {
      "image/png": "[encoded data removed]",
      "text/plain": [
       "<Figure size 720x720 with 5 Axes>"
      ]
     },
     "metadata": {
      "needs_background": "light"
     },
     "output_type": "display_data"
    },
    {
     "data": {
      "image/png": "[encoded data removed]",
      "text/plain": [
       "<Figure size 720x720 with 5 Axes>"
      ]
     },
     "metadata": {
      "needs_background": "light"
     },
     "output_type": "display_data"
    },
    {
     "data": {
      "image/png": "[encoded data removed]",
      "text/plain": [
       "<Figure size 720x720 with 5 Axes>"
      ]
     },
     "metadata": {
      "needs_background": "light"
     },
     "output_type": "display_data"
    }
   ],
   "source": [
    "show(tset3_a)\n",
    "show(tset3_e)\n",
    "show(tset3_i)\n",
    "show(tset3_o)\n",
    "show(tset3_u)"
   ]
  },
  {
   "cell_type": "code",
   "execution_count": 26,
   "metadata": {},
   "outputs": [],
   "source": [
    "tset3 = np.array([tset3_a,tset3_e,tset3_i,tset3_o,tset3_u])"
   ]
  },
  {
   "cell_type": "code",
   "execution_count": 27,
   "metadata": {
    "pycharm": {
     "name": "#%%\n"
    }
   },
   "outputs": [],
   "source": [
    "class Neural_Network:\n",
    "\n",
    "    def __init__(self):\n",
    "        self.weights = [] # weight matrices\n",
    "        self.bias = [] # bias matrices\n",
    "        self.activation = [] # activation functions\n",
    "        self.z_val = [np.zeros(1)] # sum values of neurons. note: first value suppose to be inputs\n",
    "        self.a_val = [np.zeros(1)] # values after activation functions are apply. note: first value suppose to be inputs\n",
    "        self.sensitivity = [] # sensitivity or delta (derivatives)\n",
    "\n",
    "\n",
    "    def add_layer(self, neurons: int, activation: str, input_shape=None):\n",
    "        if input_shape is None:\n",
    "            try:\n",
    "                w = np.random.uniform(0,0.25,(self.weights[-1].shape[1],neurons))\n",
    "                self.weights.append(w)\n",
    "            except IndexError:\n",
    "                w = np.random.uniform(0,0.25,(1,neurons))\n",
    "                self.weights.append(w)\n",
    "\n",
    "        else:\n",
    "            input = np.prod(input_shape)\n",
    "            w = np.random.uniform(0,0.25,(input,neurons))\n",
    "            self.weights.append(w)\n",
    "\n",
    "        self.bias.append(np.random.rand(neurons))\n",
    "        self.activation.append(self.activation_f(activation))\n",
    "        self.z_val.append(np.zeros(neurons))\n",
    "        self.a_val.append(np.zeros(neurons))\n",
    "\n",
    "\n",
    "    @staticmethod\n",
    "    def sigmoid(x, derivative: bool=False):\n",
    "        z = 1/(1+np.exp(-x))\n",
    "        if derivative:\n",
    "            z = z * (1-z)\n",
    "        return z\n",
    "\n",
    "    @staticmethod\n",
    "    def tanh(x, derivative: bool=False):\n",
    "        z =  (1-np.exp(-2*x)) / (1+np.exp(-2*x))\n",
    "        if derivative:\n",
    "            z = (1 + z) * (1 - z)\n",
    "        return z\n",
    "\n",
    "    @staticmethod\n",
    "    def linear(x, derivative: bool=False):\n",
    "        if derivative:\n",
    "            return np.array(1)\n",
    "        return x\n",
    "\n",
    "    def activation_f(self, activation_name: str):\n",
    "\n",
    "        activation = {\n",
    "            'linear' : self.linear,\n",
    "            'sigmoid' : self.sigmoid,\n",
    "            'tanh' : self.tanh\n",
    "        }\n",
    "\n",
    "        act = str.lower(activation_name)\n",
    "\n",
    "        if act in activation:\n",
    "            return activation[act]\n",
    "        else:\n",
    "            print(\"activation function not in record\")\n",
    "\n",
    "    @staticmethod\n",
    "    def mse(error):\n",
    "\n",
    "        mse = np.sum(error ** 2)\n",
    "        return mse\n",
    "\n",
    "    @staticmethod\n",
    "    def error(target, output):\n",
    "        error = (target - output)\n",
    "        return error\n",
    "    \n",
    "    @staticmethod\n",
    "    def hardlim(output, tresh=0.35):\n",
    "        \n",
    "        output[output>tresh] = 1\n",
    "        output[output<tresh] = -1\n",
    "        return output\n",
    "    \n",
    "    @staticmethod\n",
    "    def max_arg(output):\n",
    "        \n",
    "        index = output.argmax()\n",
    "        output.fill(-1)\n",
    "        output[index] = 1\n",
    "        return output\n",
    "        \n",
    "    def feedforward(self, x):\n",
    "\n",
    "        self.a_val[0] = x\n",
    "        self.z_val[0] = x\n",
    "\n",
    "        for layer in range(len(self.weights)):\n",
    "\n",
    "            z = np.dot(self.a_val[layer], self.weights[layer]) + self.bias[layer]\n",
    "            a = self.activation[layer](z)\n",
    "            self.z_val[layer+1] = z\n",
    "            self.a_val[layer+1] = a\n",
    "\n",
    "    def back_propagate(self, error):\n",
    "        error = -2 * error # -2 * (target-output)\n",
    "        self.sensitivity = []\n",
    "        for i in reversed(range(len(self.weights))):\n",
    "\n",
    "            s = error * self.activation[i](self.z_val[i+1], derivative=True) # -2 * FMnM * (t-a)\n",
    "            self.sensitivity.insert(0,s)\n",
    "            error = np.dot(s, self.weights[i].T)\n",
    "\n",
    "    def update_weights(self, alpha=0.1):\n",
    "        for i in range(len(self.weights)):\n",
    "            sensitivity = self.sensitivity[i]\n",
    "            a = self.a_val[i]\n",
    "\n",
    "            sensitivity = sensitivity.reshape(sensitivity.shape[0],-1)\n",
    "            a = a.reshape(a.shape[0],-1)\n",
    "\n",
    "            sa = np.dot(sensitivity,a.T)\n",
    "\n",
    "            self.weights[i] = self.weights[i] - (alpha * sa.T)\n",
    "            self.bias[i] = self.bias[i] - (alpha * self.sensitivity[i])\n",
    "\n",
    "    def train(self, x, y, alpha=0.01):\n",
    "\n",
    "        self.feedforward(x)\n",
    "        error = self.error(y, self.a_val[-1])\n",
    "        self.back_propagate(error)\n",
    "        self.update_weights(alpha)\n",
    "        return self.mse(error)\n",
    "\n",
    "    def predict(self,x):\n",
    "        self.a_val[0] = x\n",
    "        self.z_val[0] = x\n",
    "        for layer in range(len(self.weights)):\n",
    "\n",
    "            z = np.dot(self.a_val[layer], self.weights[layer]) + self.bias[layer]\n",
    "            a = self.activation[layer](z)\n",
    "            self.z_val[layer+1] = z\n",
    "            self.a_val[layer+1] = a\n",
    "        \n",
    "        print(self.max_arg(a))"
   ]
  },
  {
   "cell_type": "code",
   "execution_count": 28,
   "metadata": {
    "pycharm": {
     "name": "#%%\n"
    }
   },
   "outputs": [
    {
     "data": {
      "text/plain": [
       "array([-1., -1.,  1., -1., -1., -1.,  1., -1.,  1., -1.,  1.,  1.,  1.,\n",
       "        1.,  1.,  1., -1., -1., -1.,  1.])"
      ]
     },
     "execution_count": 28,
     "metadata": {},
     "output_type": "execute_result"
    }
   ],
   "source": [
    "y = np.array([1.,-1.,-1.,-1.,-1.])\n",
    "inputs = np.array(a_test[0].flatten(), dtype=np.float)\n",
    "inputs"
   ]
  },
  {
   "cell_type": "code",
   "execution_count": 29,
   "metadata": {
    "pycharm": {
     "name": "#%%\n"
    }
   },
   "outputs": [],
   "source": [
    "model = Neural_Network()"
   ]
  },
  {
   "cell_type": "code",
   "execution_count": 30,
   "metadata": {
    "pycharm": {
     "name": "#%%\n"
    }
   },
   "outputs": [],
   "source": [
    "\n",
    "model.add_layer(10, 'sigmoid', input_shape=(4,5))\n",
    "model.add_layer(5, 'tanh')"
   ]
  },
  {
   "cell_type": "code",
   "execution_count": 31,
   "metadata": {
    "pycharm": {
     "name": "#%%\n"
    }
   },
   "outputs": [
    {
     "name": "stdout",
     "output_type": "stream",
     "text": [
      "(20, 10)\n",
      "(10, 5)\n",
      "(10,)\n",
      "(5,)\n"
     ]
    }
   ],
   "source": [
    "print(model.weights[0].shape)\n",
    "print(model.weights[1].shape)\n",
    "print(model.bias[0].shape)\n",
    "print(model.bias[1].shape)"
   ]
  },
  {
   "cell_type": "code",
   "execution_count": 32,
   "metadata": {
    "pycharm": {
     "name": "#%%\n"
    }
   },
   "outputs": [],
   "source": [
    "model.feedforward(inputs)"
   ]
  },
  {
   "cell_type": "code",
   "execution_count": 33,
   "metadata": {
    "pycharm": {
     "name": "#%%\n"
    }
   },
   "outputs": [
    {
     "data": {
      "text/plain": [
       "[array([-1., -1.,  1., -1., -1., -1.,  1., -1.,  1., -1.,  1.,  1.,  1.,\n",
       "         1.,  1.,  1., -1., -1., -1.,  1.]),\n",
       " array([0.80092678, 0.43569139, 0.62644395, 0.58755901, 0.59874185,\n",
       "        0.70458361, 0.47971011, 0.74201436, 0.48739315, 0.74713435]),\n",
       " array([0.71955967, 0.71228344, 0.90539895, 0.79234907, 0.83412931])]"
      ]
     },
     "execution_count": 33,
     "metadata": {},
     "output_type": "execute_result"
    }
   ],
   "source": [
    "model.a_val"
   ]
  },
  {
   "cell_type": "code",
   "execution_count": 34,
   "metadata": {
    "pycharm": {
     "name": "#%%\n"
    }
   },
   "outputs": [
    {
     "data": {
      "text/plain": [
       "[array([-1., -1.,  1., -1., -1., -1.,  1., -1.,  1., -1.,  1.,  1.,  1.,\n",
       "         1.,  1.,  1., -1., -1., -1.,  1.]),\n",
       " array([ 1.39209686, -0.2586671 ,  0.51699123,  0.35388354,  0.40022555,\n",
       "         0.86922115, -0.08120417,  1.05646465, -0.05043809,  1.0833867 ]),\n",
       " array([0.90673128, 0.89180363, 1.50138906, 1.07771196, 1.20155832])]"
      ]
     },
     "execution_count": 34,
     "metadata": {},
     "output_type": "execute_result"
    }
   ],
   "source": [
    "model.z_val"
   ]
  },
  {
   "cell_type": "code",
   "execution_count": 35,
   "metadata": {
    "pycharm": {
     "name": "#%%\n"
    }
   },
   "outputs": [
    {
     "data": {
      "text/plain": [
       "array([ 0.28044033, -1.71228344, -1.90539895, -1.79234907, -1.83412931])"
      ]
     },
     "execution_count": 35,
     "metadata": {},
     "output_type": "execute_result"
    }
   ],
   "source": [
    "error = model.error(y, model.a_val[-1])\n",
    "error"
   ]
  },
  {
   "cell_type": "code",
   "execution_count": 36,
   "metadata": {
    "pycharm": {
     "name": "#%%\n"
    }
   },
   "outputs": [
    {
     "data": {
      "text/plain": [
       "array([[ 0.13523783],\n",
       "       [-0.84356039],\n",
       "       [-0.34345338],\n",
       "       [-0.66708177],\n",
       "       [-0.55799404]])"
      ]
     },
     "execution_count": 36,
     "metadata": {},
     "output_type": "execute_result"
    }
   ],
   "source": [
    "s = model.activation[1](model.z_val[2], derivative=True) * error\n",
    "st = s.reshape(s.shape[0],-1)\n",
    "st"
   ]
  },
  {
   "cell_type": "code",
   "execution_count": 37,
   "metadata": {
    "pycharm": {
     "name": "#%%\n"
    }
   },
   "outputs": [
    {
     "data": {
      "text/plain": [
       "array([[0.80092678],\n",
       "       [0.43569139],\n",
       "       [0.62644395],\n",
       "       [0.58755901],\n",
       "       [0.59874185],\n",
       "       [0.70458361],\n",
       "       [0.47971011],\n",
       "       [0.74201436],\n",
       "       [0.48739315],\n",
       "       [0.74713435]])"
      ]
     },
     "execution_count": 37,
     "metadata": {},
     "output_type": "execute_result"
    }
   ],
   "source": [
    "a = model.a_val[1]\n",
    "a = a.reshape(a.shape[0],-1)\n",
    "a"
   ]
  },
  {
   "cell_type": "code",
   "execution_count": 38,
   "metadata": {
    "pycharm": {
     "name": "#%%\n"
    }
   },
   "outputs": [],
   "source": [
    "Wnew = np.dot(st,a.T)"
   ]
  },
  {
   "cell_type": "code",
   "execution_count": 39,
   "metadata": {
    "pycharm": {
     "name": "#%%\n"
    }
   },
   "outputs": [
    {
     "data": {
      "text/plain": [
       "(10, 5)"
      ]
     },
     "execution_count": 39,
     "metadata": {},
     "output_type": "execute_result"
    }
   ],
   "source": [
    "Wnew.T.shape"
   ]
  },
  {
   "cell_type": "code",
   "execution_count": 40,
   "metadata": {
    "pycharm": {
     "name": "#%%\n"
    }
   },
   "outputs": [
    {
     "data": {
      "text/plain": [
       "(10, 5)"
      ]
     },
     "execution_count": 40,
     "metadata": {},
     "output_type": "execute_result"
    }
   ],
   "source": [
    "model.weights[1].shape"
   ]
  },
  {
   "cell_type": "code",
   "execution_count": 41,
   "metadata": {
    "pycharm": {
     "name": "#%%\n"
    }
   },
   "outputs": [
    {
     "data": {
      "text/plain": [
       "array([[0.1174288 , 0.08280171, 0.1596709 , 0.22959417, 0.2435779 ],\n",
       "       [0.12304589, 0.10434162, 0.08703421, 0.05880931, 0.15267266],\n",
       "       [0.00533559, 0.21125418, 0.05007244, 0.10325538, 0.0345538 ],\n",
       "       [0.15733309, 0.02929209, 0.08202859, 0.06277847, 0.23425885],\n",
       "       [0.11342182, 0.19671447, 0.01875765, 0.11532252, 0.13313629],\n",
       "       [0.02938644, 0.14408929, 0.102982  , 0.04535406, 0.11854987],\n",
       "       [0.21962287, 0.03473943, 0.21755781, 0.16647409, 0.1817747 ],\n",
       "       [0.00664171, 0.08976933, 0.0262711 , 0.08958278, 0.05479365],\n",
       "       [0.20376861, 0.14368175, 0.22362311, 0.2408721 , 0.10883349],\n",
       "       [0.02467754, 0.2092617 , 0.12256275, 0.19584564, 0.06970533]])"
      ]
     },
     "execution_count": 41,
     "metadata": {},
     "output_type": "execute_result"
    }
   ],
   "source": [
    "model.weights[1]"
   ]
  },
  {
   "cell_type": "code",
   "execution_count": 42,
   "metadata": {
    "pycharm": {
     "name": "#%%\n"
    }
   },
   "outputs": [],
   "source": [
    "model.back_propagate(error)"
   ]
  },
  {
   "cell_type": "code",
   "execution_count": 43,
   "metadata": {
    "pycharm": {
     "name": "#%%\n"
    }
   },
   "outputs": [
    {
     "data": {
      "text/plain": [
       "(5,)"
      ]
     },
     "execution_count": 43,
     "metadata": {},
     "output_type": "execute_result"
    }
   ],
   "source": [
    "model.sensitivity[1].shape"
   ]
  },
  {
   "cell_type": "code",
   "execution_count": 44,
   "metadata": {
    "pycharm": {
     "name": "#%%\n"
    }
   },
   "outputs": [
    {
     "data": {
      "text/plain": [
       "(5,)"
      ]
     },
     "execution_count": 44,
     "metadata": {},
     "output_type": "execute_result"
    }
   ],
   "source": [
    "model.bias[1].shape"
   ]
  },
  {
   "cell_type": "code",
   "execution_count": 45,
   "metadata": {
    "pycharm": {
     "name": "#%%\n"
    }
   },
   "outputs": [
    {
     "data": {
      "text/plain": [
       "array([0.22906551, 0.07401496, 0.15073626, 0.06900459, 0.01129446,\n",
       "       0.17166412, 0.17107694, 0.06276011, 0.03381306, 0.0815097 ])"
      ]
     },
     "execution_count": 45,
     "metadata": {},
     "output_type": "execute_result"
    }
   ],
   "source": [
    "model.weights[0][14]"
   ]
  },
  {
   "cell_type": "code",
   "execution_count": 46,
   "metadata": {
    "pycharm": {
     "name": "#%%\n"
    }
   },
   "outputs": [],
   "source": [
    "model.update_weights()"
   ]
  },
  {
   "cell_type": "code",
   "execution_count": 47,
   "metadata": {
    "pycharm": {
     "name": "#%%\n"
    }
   },
   "outputs": [
    {
     "name": "stdout",
     "output_type": "stream",
     "text": [
      "(20, 10)\n",
      "(10, 5)\n",
      "(10,)\n",
      "(5,)\n"
     ]
    }
   ],
   "source": [
    "print(model.weights[0].shape)\n",
    "print(model.weights[1].shape)\n",
    "print(model.bias[0].shape)\n",
    "print(model.bias[1].shape)"
   ]
  },
  {
   "cell_type": "code",
   "execution_count": 48,
   "metadata": {
    "pycharm": {
     "name": "#%%\n"
    }
   },
   "outputs": [
    {
     "data": {
      "text/plain": [
       "array([ 0.28576853, -0.48372315, -0.65012189, -0.35971632, -0.45500085,\n",
       "       -0.0879112 , -0.50435158,  0.38783592, -0.78777801, -0.07021924])"
      ]
     },
     "execution_count": 48,
     "metadata": {},
     "output_type": "execute_result"
    }
   ],
   "source": [
    "a = model.a_val\n",
    "t = np.dot(inputs, model.weights[0])\n",
    "t"
   ]
  },
  {
   "cell_type": "code",
   "execution_count": 49,
   "metadata": {
    "pycharm": {
     "name": "#%%\n"
    }
   },
   "outputs": [],
   "source": [
    "model = Neural_Network()\n",
    "model.add_layer(10, 'sigmoid', input_shape=(4,5))\n",
    "model.add_layer(5, 'tanh')"
   ]
  },
  {
   "cell_type": "code",
   "execution_count": 50,
   "metadata": {
    "pycharm": {
     "name": "#%%\n"
    }
   },
   "outputs": [
    {
     "data": {
      "text/plain": [
       "([array([[-1, -1,  1, -1, -1],\n",
       "         [-1,  1, -1,  1, -1],\n",
       "         [ 1,  1,  1,  1,  1],\n",
       "         [ 1, -1, -1, -1,  1]]),\n",
       "  array([[-1,  1,  1, -1, -1],\n",
       "         [-1,  1, -1,  1, -1],\n",
       "         [ 1,  1,  1,  1,  1],\n",
       "         [ 1, -1, -1, -1,  1]]),\n",
       "  array([[-1, -1,  1, -1, -1],\n",
       "         [-1,  1,  1,  1, -1],\n",
       "         [ 1,  1,  1,  1,  1],\n",
       "         [ 1, -1, -1, -1,  1]]),\n",
       "  array([[-1, -1,  1, -1, -1],\n",
       "         [-1,  1, -1,  1, -1],\n",
       "         [ 1,  1,  1,  1,  1],\n",
       "         [ 1, -1,  1, -1,  1]]),\n",
       "  array([[-1, -1,  1, -1, -1],\n",
       "         [-1,  1, -1,  1, -1],\n",
       "         [ 1,  1,  1,  1,  1],\n",
       "         [ 1, -1, -1,  1,  1]])],\n",
       " [array([[ 1,  1,  1,  1,  1],\n",
       "         [ 1, -1, -1, -1, -1],\n",
       "         [ 1,  1,  1, -1, -1],\n",
       "         [ 1,  1,  1,  1,  1]]),\n",
       "  array([[ 1,  1,  1,  1,  1],\n",
       "         [ 1,  1, -1, -1, -1],\n",
       "         [ 1,  1,  1, -1, -1],\n",
       "         [ 1,  1,  1,  1,  1]]),\n",
       "  array([[ 1,  1,  1,  1,  1],\n",
       "         [ 1, -1, -1,  1, -1],\n",
       "         [ 1,  1,  1, -1, -1],\n",
       "         [ 1,  1,  1,  1,  1]]),\n",
       "  array([[ 1,  1,  1,  1,  1],\n",
       "         [ 1, -1, -1, -1, -1],\n",
       "         [ 1,  1,  1, -1,  1],\n",
       "         [ 1,  1,  1,  1,  1]]),\n",
       "  array([[ 1,  1,  1,  1,  1],\n",
       "         [ 1, -1, -1, -1, -1],\n",
       "         [ 1,  1,  1,  1, -1],\n",
       "         [ 1,  1,  1,  1,  1]])],\n",
       " [array([[-1,  1,  1,  1, -1],\n",
       "         [-1, -1,  1, -1, -1],\n",
       "         [-1, -1,  1, -1, -1],\n",
       "         [-1,  1,  1,  1, -1]]),\n",
       "  array([[ 1,  1,  1,  1, -1],\n",
       "         [-1, -1,  1, -1, -1],\n",
       "         [-1, -1,  1, -1, -1],\n",
       "         [-1,  1,  1,  1, -1]]),\n",
       "  array([[-1,  1,  1,  1, -1],\n",
       "         [-1, -1,  1,  1, -1],\n",
       "         [-1, -1,  1, -1, -1],\n",
       "         [-1,  1,  1,  1, -1]]),\n",
       "  array([[-1,  1,  1,  1, -1],\n",
       "         [-1, -1,  1, -1, -1],\n",
       "         [-1, -1,  1, -1, -1],\n",
       "         [ 1,  1,  1,  1, -1]]),\n",
       "  array([[-1,  1,  1,  1, -1],\n",
       "         [-1, -1,  1, -1, -1],\n",
       "         [-1, -1,  1,  1, -1],\n",
       "         [-1,  1,  1,  1, -1]])],\n",
       " [array([[ 1,  1,  1,  1,  1],\n",
       "         [ 1, -1, -1, -1,  1],\n",
       "         [ 1, -1, -1, -1,  1],\n",
       "         [ 1,  1,  1,  1,  1]]),\n",
       "  array([[ 1,  1,  1,  1,  1],\n",
       "         [ 1,  1, -1, -1,  1],\n",
       "         [ 1, -1, -1, -1,  1],\n",
       "         [ 1,  1,  1,  1,  1]]),\n",
       "  array([[ 1,  1,  1,  1,  1],\n",
       "         [ 1, -1, -1,  1,  1],\n",
       "         [ 1, -1, -1, -1,  1],\n",
       "         [ 1,  1,  1,  1,  1]]),\n",
       "  array([[ 1,  1,  1,  1,  1],\n",
       "         [ 1, -1, -1, -1,  1],\n",
       "         [ 1,  1, -1, -1,  1],\n",
       "         [ 1,  1,  1,  1,  1]]),\n",
       "  array([[ 1,  1,  1,  1,  1],\n",
       "         [ 1, -1, -1, -1,  1],\n",
       "         [ 1, -1, -1,  1,  1],\n",
       "         [ 1,  1,  1,  1,  1]])],\n",
       " [array([[ 1, -1, -1, -1,  1],\n",
       "         [ 1, -1, -1, -1,  1],\n",
       "         [ 1, -1, -1, -1,  1],\n",
       "         [ 1,  1,  1,  1,  1]]),\n",
       "  array([[ 1,  1, -1, -1,  1],\n",
       "         [ 1, -1, -1, -1,  1],\n",
       "         [ 1, -1, -1, -1,  1],\n",
       "         [ 1,  1,  1,  1,  1]]),\n",
       "  array([[ 1, -1, -1,  1,  1],\n",
       "         [ 1, -1, -1, -1,  1],\n",
       "         [ 1, -1, -1, -1,  1],\n",
       "         [ 1,  1,  1,  1,  1]]),\n",
       "  array([[ 1, -1, -1, -1,  1],\n",
       "         [ 1, -1, -1, -1,  1],\n",
       "         [ 1,  1, -1, -1,  1],\n",
       "         [ 1,  1,  1,  1,  1]]),\n",
       "  array([[ 1, -1, -1, -1,  1],\n",
       "         [ 1, -1, -1, -1,  1],\n",
       "         [ 1, -1, -1,  1,  1],\n",
       "         [ 1,  1,  1,  1,  1]])])"
      ]
     },
     "execution_count": 50,
     "metadata": {},
     "output_type": "execute_result"
    }
   ],
   "source": [
    "training_set = a_test, e_test, i_test, o_test, u_test\n",
    "training_set"
   ]
  },
  {
   "cell_type": "code",
   "execution_count": 51,
   "metadata": {
    "pycharm": {
     "name": "#%%\n"
    }
   },
   "outputs": [],
   "source": [
    "y_set = np.array([[1.,-1,-1,-1,-1], [-1,1,-1,-1,-1],[-1,-1,1,-1,-1],[-1,-1,-1,1,-1],[-1,-1,-1,-1,1]])"
   ]
  },
  {
   "cell_type": "code",
   "execution_count": 52,
   "metadata": {
    "pycharm": {
     "name": "#%%\n"
    }
   },
   "outputs": [],
   "source": [
    "epoch = 100\n",
    "total_mse = []\n",
    "random_w1 = []\n",
    "random_w2 = []\n",
    "random_w3 = []\n",
    "bias1 = []\n",
    "bias2 = []\n",
    "random1 = np.random.randint(20)\n",
    "random2 = np.random.randint(10)\n",
    "random3 = np.random.randint(10)\n",
    "random4 = np.random.randint(5)\n",
    "bias_random1 = np.random.randint(10)\n",
    "bias_random2 = np.random.randint(5)\n",
    "for i in range(epoch):\n",
    "    mse = 0\n",
    "    random_w1.append(model.weights[0][random1][random2])\n",
    "    random_w2.append(model.weights[1][random3][random4])\n",
    "    bias1.append(model.bias[0][bias_random1])\n",
    "    bias2.append(model.bias[1][bias_random2])\n",
    "\n",
    "    for i in range(len(training_set)):\n",
    "        set = training_set[i]\n",
    "        target = y_set[i]\n",
    "        for j in range(len(set)):\n",
    "            #show(set)\n",
    "            #print(target)\n",
    "            mse += model.train(set[i].flatten(), target, 0.1)\n",
    "\n",
    "    mse = (mse / 25.)\n",
    "    total_mse.append(mse)\n",
    "    "
   ]
  },
  {
   "cell_type": "code",
   "execution_count": 53,
   "metadata": {
    "pycharm": {
     "name": "#%%\n"
    }
   },
   "outputs": [
    {
     "name": "stdout",
     "output_type": "stream",
     "text": [
      "[ 1. -1. -1. -1. -1.]\n",
      "[ 1. -1. -1. -1. -1.]\n",
      "[ 1. -1. -1. -1. -1.]\n",
      "[ 1. -1. -1. -1. -1.]\n",
      "[ 1. -1. -1. -1. -1.]\n",
      "\n",
      "[-1.  1. -1. -1. -1.]\n",
      "[-1.  1. -1. -1. -1.]\n",
      "[-1.  1. -1. -1. -1.]\n",
      "[-1.  1. -1. -1. -1.]\n",
      "[-1.  1. -1. -1. -1.]\n",
      "\n",
      "[-1. -1.  1. -1. -1.]\n",
      "[-1. -1.  1. -1. -1.]\n",
      "[-1. -1.  1. -1. -1.]\n",
      "[-1. -1.  1. -1. -1.]\n",
      "[-1. -1.  1. -1. -1.]\n",
      "\n",
      "[-1. -1. -1.  1. -1.]\n",
      "[-1. -1. -1.  1. -1.]\n",
      "[-1. -1. -1.  1. -1.]\n",
      "[-1. -1. -1.  1. -1.]\n",
      "[-1. -1. -1.  1. -1.]\n",
      "\n",
      "[-1. -1. -1. -1.  1.]\n",
      "[-1. -1. -1. -1.  1.]\n",
      "[-1. -1. -1. -1.  1.]\n",
      "[-1. -1. -1. -1.  1.]\n",
      "[-1. -1. -1. -1.  1.]\n",
      "\n"
     ]
    }
   ],
   "source": [
    "for i in range(len(training_set)):\n",
    "    set = training_set[i]\n",
    "    for j in range(len(set)):\n",
    "        model.predict(set[i].flatten())\n",
    "\n",
    "    print('')\n"
   ]
  },
  {
   "cell_type": "code",
   "execution_count": 54,
   "metadata": {
    "pycharm": {
     "name": "#%%\n"
    }
   },
   "outputs": [
    {
     "data": {
      "text/plain": [
       "Text(0.5, 1.0, 'mse')"
      ]
     },
     "execution_count": 54,
     "metadata": {},
     "output_type": "execute_result"
    },
    {
     "data": {
      "image/png": "[encoded data removed]",
      "text/plain": [
       "<Figure size 432x288 with 1 Axes>"
      ]
     },
     "metadata": {
      "needs_background": "light"
     },
     "output_type": "display_data"
    }
   ],
   "source": [
    "plt.plot(total_mse)\n",
    "plt.xlabel('epoch')\n",
    "plt.ylabel('mse value')\n",
    "plt.title('mse')"
   ]
  },
  {
   "cell_type": "code",
   "execution_count": 55,
   "metadata": {
    "pycharm": {
     "name": "#%%\n"
    }
   },
   "outputs": [
    {
     "data": {
      "text/plain": [
       "[3.8223266244794147,\n",
       " 2.92624591726687,\n",
       " 2.1382230414721426,\n",
       " 1.6510040041748795,\n",
       " 1.3027313397649465,\n",
       " 0.9707663461687319,\n",
       " 0.7412932482930272,\n",
       " 0.5146688279779223,\n",
       " 0.34914059941944936,\n",
       " 0.20105685597344028,\n",
       " 0.11584683637559641,\n",
       " 0.07796930617624506,\n",
       " 0.05816232782124346,\n",
       " 0.04646396647910755,\n",
       " 0.038724188026382673,\n",
       " 0.033205950382221856,\n",
       " 0.02906202945984732,\n",
       " 0.02583036361449441,\n",
       " 0.02323694397937412,\n",
       " 0.02110849311049731,\n",
       " 0.019329773581504596,\n",
       " 0.017820996452120326,\n",
       " 0.01652507157892239,\n",
       " 0.015400020981887565,\n",
       " 0.014414260906970297,\n",
       " 0.013543556745126117,\n",
       " 0.012768994389072174,\n",
       " 0.012075591353408204,\n",
       " 0.011451323059849108,\n",
       " 0.01088642581956923,\n",
       " 0.010372888607399013,\n",
       " 0.009904076358927923,\n",
       " 0.009474446612149176,\n",
       " 0.009079333512586387,\n",
       " 0.008714781170727081,\n",
       " 0.008377413674641416,\n",
       " 0.008064332669447366,\n",
       " 0.007773035907252543,\n",
       " 0.0075013519184286915,\n",
       " 0.007247387197402426,\n",
       " 0.0070094831909410914,\n",
       " 0.006786181029124935,\n",
       " 0.006576192419874791,\n",
       " 0.006378375485822779,\n",
       " 0.0061917145913911,\n",
       " 0.006015303412052777,\n",
       " 0.0058483306538810965,\n",
       " 0.0056900679518739105,\n",
       " 0.005539859569043581,\n",
       " 0.0053971135914032565,\n",
       " 0.005261294371570249,\n",
       " 0.005131916019337737,\n",
       " 0.005008536773936053,\n",
       " 0.004890754121856654,\n",
       " 0.004778200547604279,\n",
       " 0.004670539823770043,\n",
       " 0.004567463762305283,\n",
       " 0.004468689361538497,\n",
       " 0.004373956293878228,\n",
       " 0.004283024687722297,\n",
       " 0.004195673164197554,\n",
       " 0.004111697095259578,\n",
       " 0.004030907054609727,\n",
       " 0.00395312743701354,\n",
       " 0.003878195225072174,\n",
       " 0.003805958885422186,\n",
       " 0.003736277378811573,\n",
       " 0.0036690192705975764,\n",
       " 0.003604061929996818,\n",
       " 0.003541290807941095,\n",
       " 0.0034805987846953414,\n",
       " 0.0034218855795122576,\n",
       " 0.0033650572155594118,\n",
       " 0.003310025534183967,\n",
       " 0.003256707753296391,\n",
       " 0.0032050260652755173,\n",
       " 0.003154907270336071,\n",
       " 0.0031062824417688946,\n",
       " 0.0030590866198728444,\n",
       " 0.0030132585317547826,\n",
       " 0.002968740334486795,\n",
       " 0.002925477379384185,\n",
       " 0.002883417995408907,\n",
       " 0.002842513289915414,\n",
       " 0.0028027169651431965,\n",
       " 0.002763985149025553,\n",
       " 0.002726276239030739,\n",
       " 0.002689550757881225,\n",
       " 0.002653771220112193,\n",
       " 0.0026189020085326327,\n",
       " 0.0025849092597438044,\n",
       " 0.0025517607579511447,\n",
       " 0.0025194258363782722,\n",
       " 0.002487875285656915,\n",
       " 0.0024570812686245547,\n",
       " 0.002427017241014024,\n",
       " 0.00239765787756593,\n",
       " 0.0023689790031370538,\n",
       " 0.0023409575284157806,\n",
       " 0.0023135713898897216]"
      ]
     },
     "execution_count": 55,
     "metadata": {},
     "output_type": "execute_result"
    }
   ],
   "source": [
    "total_mse"
   ]
  },
  {
   "cell_type": "code",
   "execution_count": 56,
   "metadata": {
    "pycharm": {
     "name": "#%%\n"
    }
   },
   "outputs": [
    {
     "data": {
      "text/plain": [
       "Text(0.5, 1.0, 'layer 1, weight (7,4)')"
      ]
     },
     "execution_count": 56,
     "metadata": {},
     "output_type": "execute_result"
    },
    {
     "data": {
      "image/png": "[encoded data removed]",
      "text/plain": [
       "<Figure size 432x288 with 1 Axes>"
      ]
     },
     "metadata": {
      "needs_background": "light"
     },
     "output_type": "display_data"
    }
   ],
   "source": [
    "plt.plot(random_w1)\n",
    "plt.xlabel('epoch')\n",
    "plt.ylabel('weight value')\n",
    "plt.title('layer 1, weight (' + str(random1) + ',' + str(random2) + ')')"
   ]
  },
  {
   "cell_type": "code",
   "execution_count": 57,
   "metadata": {
    "pycharm": {
     "name": "#%%\n"
    }
   },
   "outputs": [
    {
     "data": {
      "text/plain": [
       "Text(0.5, 1.0, 'layer 2, weight (1,2)')"
      ]
     },
     "execution_count": 57,
     "metadata": {},
     "output_type": "execute_result"
    },
    {
     "data": {
      "image/png": "[encoded data removed]",
      "text/plain": [
       "<Figure size 432x288 with 1 Axes>"
      ]
     },
     "metadata": {
      "needs_background": "light"
     },
     "output_type": "display_data"
    }
   ],
   "source": [
    "plt.plot(random_w2)\n",
    "plt.xlabel('epoch')\n",
    "plt.ylabel('weight value')\n",
    "plt.title('layer 2, weight (' + str(random3) + ',' + str(random4) + ')')"
   ]
  },
  {
   "cell_type": "code",
   "execution_count": 58,
   "metadata": {
    "pycharm": {
     "name": "#%%\n"
    }
   },
   "outputs": [
    {
     "data": {
      "text/plain": [
       "Text(0.5, 1.0, 'layer 1, bias (4)')"
      ]
     },
     "execution_count": 58,
     "metadata": {},
     "output_type": "execute_result"
    },
    {
     "data": {
      "image/png": "[encoded data removed]",
      "text/plain": [
       "<Figure size 432x288 with 1 Axes>"
      ]
     },
     "metadata": {
      "needs_background": "light"
     },
     "output_type": "display_data"
    }
   ],
   "source": [
    "plt.plot(bias1)\n",
    "plt.xlabel('epoch')\n",
    "plt.ylabel('bias value')\n",
    "plt.title('layer 1, bias (' + str(bias_random1) + ')')"
   ]
  },
  {
   "cell_type": "code",
   "execution_count": 59,
   "metadata": {
    "pycharm": {
     "name": "#%%\n"
    }
   },
   "outputs": [
    {
     "data": {
      "text/plain": [
       "Text(0.5, 1.0, 'layer 2, bias (0)')"
      ]
     },
     "execution_count": 59,
     "metadata": {},
     "output_type": "execute_result"
    },
    {
     "data": {
      "image/png": "[encoded data removed]",
      "text/plain": [
       "<Figure size 432x288 with 1 Axes>"
      ]
     },
     "metadata": {
      "needs_background": "light"
     },
     "output_type": "display_data"
    }
   ],
   "source": [
    "plt.plot(bias2)\n",
    "plt.xlabel('epoch')\n",
    "plt.ylabel('bias value')\n",
    "plt.title('layer 2, bias (' + str(bias_random2) + ')')"
   ]
  },
  {
   "cell_type": "code",
   "execution_count": 60,
   "metadata": {},
   "outputs": [],
   "source": [
    "def fit(model,epochs, alpha, dataset, targets, exit=0.01, input_l=20, hidden_l=10, output_l=5):\n",
    "    total_mse = []\n",
    "    random_w1 = []\n",
    "    random_w2 = []\n",
    "    random_w3 = []\n",
    "    bias1 = []\n",
    "    bias2 = []\n",
    "    random1 = np.random.randint(input_l)\n",
    "    random2 = np.random.randint(hidden_l)\n",
    "    random3 = np.random.randint(hidden_l)\n",
    "    random4 = np.random.randint(output_l)\n",
    "    random5 = np.random.randint(input_l)\n",
    "    random6 = np.random.randint(hidden_l)\n",
    "    bias_random1 = np.random.randint(hidden_l)\n",
    "    bias_random2 = np.random.randint(output_l)\n",
    "    for epoch in range(epochs):\n",
    "        mse = 0\n",
    "        random_w1.append(model.weights[0][random1][random2])\n",
    "        random_w2.append(model.weights[1][random3][random4])\n",
    "        random_w3.append(model.weights[0][random5][random6])\n",
    "        bias1.append(model.bias[0][bias_random1])\n",
    "        bias2.append(model.bias[1][bias_random2])\n",
    "\n",
    "        for i in range(len(dataset)):\n",
    "            sets = dataset[i]\n",
    "            target = targets[i]\n",
    "            for j in range(len(sets)):\n",
    "                mse += model.train(sets[i].flatten(), target, 0.1)\n",
    "\n",
    "        mse = (mse / 25.)\n",
    "        total_mse.append(mse)\n",
    "        if mse < exit:\n",
    "            break\n",
    "    \n",
    "    plt.plot(total_mse)\n",
    "    plt.xlabel('epoch')\n",
    "    plt.ylabel('mse value')\n",
    "    plt.title('mse')\n",
    "    plt.show()\n",
    "    \n",
    "    plt.plot(random_w1)\n",
    "    plt.xlabel('epoch')\n",
    "    plt.ylabel('weight value')\n",
    "    plt.title('layer 1, weight (' + str(random1) + ',' + str(random2) + ')')\n",
    "    plt.show()\n",
    "    \n",
    "    plt.plot(random_w2)\n",
    "    plt.xlabel('epoch')\n",
    "    plt.ylabel('weight value')\n",
    "    plt.title('layer 2, weight (' + str(random3) + ',' + str(random4) + ')')\n",
    "    plt.show()\n",
    "    \n",
    "    plt.plot(random_w3)\n",
    "    plt.xlabel('epoch')\n",
    "    plt.ylabel('weight value')\n",
    "    plt.title('layer 1, weight (' + str(random5) + ',' + str(random6) + ')')\n",
    "    plt.show()\n",
    "    \n",
    "    plt.plot(bias1)\n",
    "    plt.xlabel('epoch')\n",
    "    plt.ylabel('bias value')\n",
    "    plt.title('layer 1, bias (' + str(bias_random1) + ')')\n",
    "    plt.show()\n",
    "    \n",
    "    plt.plot(bias2)\n",
    "    plt.xlabel('epoch')\n",
    "    plt.ylabel('bias value')\n",
    "    plt.title('layer 2, bias (' + str(bias_random2) + ')')\n",
    "    plt.show()\n",
    "    \n",
    "    print('\\n number of epochs to reach an mse of ' , epoch)"
   ]
  },
  {
   "cell_type": "code",
   "execution_count": 61,
   "metadata": {},
   "outputs": [],
   "source": [
    "model1 = Neural_Network()\n",
    "model1.add_layer(10, 'sigmoid', input_shape=(4,5))\n",
    "model1.add_layer(5, 'tanh')"
   ]
  },
  {
   "cell_type": "code",
   "execution_count": 62,
   "metadata": {},
   "outputs": [
    {
     "data": {
      "image/png": "[encoded data removed]",
      "text/plain": [
       "<Figure size 432x288 with 1 Axes>"
      ]
     },
     "metadata": {
      "needs_background": "light"
     },
     "output_type": "display_data"
    },
    {
     "data": {
      "image/png": "[encoded data removed]",
      "text/plain": [
       "<Figure size 432x288 with 1 Axes>"
      ]
     },
     "metadata": {
      "needs_background": "light"
     },
     "output_type": "display_data"
    },
    {
     "data": {
      "image/png": "[encoded data removed]",
      "text/plain": [
       "<Figure size 432x288 with 1 Axes>"
      ]
     },
     "metadata": {
      "needs_background": "light"
     },
     "output_type": "display_data"
    },
    {
     "data": {
      "image/png": "[encoded data removed]",
      "text/plain": [
       "<Figure size 432x288 with 1 Axes>"
      ]
     },
     "metadata": {
      "needs_background": "light"
     },
     "output_type": "display_data"
    },
    {
     "data": {
      "image/png": "[encoded data removed]",
      "text/plain": [
       "<Figure size 432x288 with 1 Axes>"
      ]
     },
     "metadata": {
      "needs_background": "light"
     },
     "output_type": "display_data"
    },
    {
     "data": {
      "image/png": "[encoded data removed]",
      "text/plain": [
       "<Figure size 432x288 with 1 Axes>"
      ]
     },
     "metadata": {
      "needs_background": "light"
     },
     "output_type": "display_data"
    },
    {
     "name": "stdout",
     "output_type": "stream",
     "text": [
      "\n",
      " number of epochs to reach an mse of  108\n"
     ]
    }
   ],
   "source": [
    "fit(model1,epochs=500, alpha=0.1, dataset=training_set, targets=y_set, exit=0.002)"
   ]
  },
  {
   "cell_type": "code",
   "execution_count": 63,
   "metadata": {},
   "outputs": [],
   "source": [
    "model2 = Neural_Network()\n",
    "model2.add_layer(10, 'sigmoid', input_shape=(4,5))\n",
    "model2.add_layer(5, 'tanh')"
   ]
  },
  {
   "cell_type": "code",
   "execution_count": 64,
   "metadata": {},
   "outputs": [
    {
     "data": {
      "image/png": "[encoded data removed]",
      "text/plain": [
       "<Figure size 432x288 with 1 Axes>"
      ]
     },
     "metadata": {
      "needs_background": "light"
     },
     "output_type": "display_data"
    },
    {
     "data": {
      "image/png": "[encoded data removed]",
      "text/plain": [
       "<Figure size 432x288 with 1 Axes>"
      ]
     },
     "metadata": {
      "needs_background": "light"
     },
     "output_type": "display_data"
    },
    {
     "data": {
      "image/png": "[encoded data removed]",
      "text/plain": [
       "<Figure size 432x288 with 1 Axes>"
      ]
     },
     "metadata": {
      "needs_background": "light"
     },
     "output_type": "display_data"
    },
    {
     "data": {
      "image/png": "[encoded data removed]",
      "text/plain": [
       "<Figure size 432x288 with 1 Axes>"
      ]
     },
     "metadata": {
      "needs_background": "light"
     },
     "output_type": "display_data"
    },
    {
     "data": {
      "image/png": "[encoded data removed]",
      "text/plain": [
       "<Figure size 432x288 with 1 Axes>"
      ]
     },
     "metadata": {
      "needs_background": "light"
     },
     "output_type": "display_data"
    },
    {
     "data": {
      "image/png": "[encoded data removed]",
      "text/plain": [
       "<Figure size 432x288 with 1 Axes>"
      ]
     },
     "metadata": {
      "needs_background": "light"
     },
     "output_type": "display_data"
    },
    {
     "name": "stdout",
     "output_type": "stream",
     "text": [
      "\n",
      " number of epochs to reach an mse of  112\n"
     ]
    }
   ],
   "source": [
    "fit(model2,epochs=500, alpha=0.01, dataset=training_set, targets=y_set, exit=0.002)"
   ]
  },
  {
   "cell_type": "code",
   "execution_count": 65,
   "metadata": {},
   "outputs": [],
   "source": [
    "model3 = Neural_Network()\n",
    "model3.add_layer(10, 'sigmoid', input_shape=(4,5))\n",
    "model3.add_layer(5, 'tanh')"
   ]
  },
  {
   "cell_type": "code",
   "execution_count": 66,
   "metadata": {},
   "outputs": [
    {
     "data": {
      "image/png": "[encoded data removed]",
      "text/plain": [
       "<Figure size 432x288 with 1 Axes>"
      ]
     },
     "metadata": {
      "needs_background": "light"
     },
     "output_type": "display_data"
    },
    {
     "data": {
      "image/png": "[encoded data removed]",
      "text/plain": [
       "<Figure size 432x288 with 1 Axes>"
      ]
     },
     "metadata": {
      "needs_background": "light"
     },
     "output_type": "display_data"
    },
    {
     "data": {
      "image/png": "[encoded data removed]",
      "text/plain": [
       "<Figure size 432x288 with 1 Axes>"
      ]
     },
     "metadata": {
      "needs_background": "light"
     },
     "output_type": "display_data"
    },
    {
     "data": {
      "image/png": "[encoded data removed]",
      "text/plain": [
       "<Figure size 432x288 with 1 Axes>"
      ]
     },
     "metadata": {
      "needs_background": "light"
     },
     "output_type": "display_data"
    },
    {
     "data": {
      "image/png": "[encoded data removed]",
      "text/plain": [
       "<Figure size 432x288 with 1 Axes>"
      ]
     },
     "metadata": {
      "needs_background": "light"
     },
     "output_type": "display_data"
    },
    {
     "data": {
      "image/png": "[encoded data removed]",
      "text/plain": [
       "<Figure size 432x288 with 1 Axes>"
      ]
     },
     "metadata": {
      "needs_background": "light"
     },
     "output_type": "display_data"
    },
    {
     "name": "stdout",
     "output_type": "stream",
     "text": [
      "\n",
      " number of epochs to reach an mse of  112\n"
     ]
    }
   ],
   "source": [
    "fit(model3,epochs=500, alpha=0.001, dataset=training_set, targets=y_set, exit=0.002)"
   ]
  },
  {
   "cell_type": "code",
   "execution_count": 67,
   "metadata": {},
   "outputs": [
    {
     "name": "stdout",
     "output_type": "stream",
     "text": [
      "[ 1. -1. -1. -1. -1.]\n",
      "[ 1. -1. -1. -1. -1.]\n",
      "[ 1. -1. -1. -1. -1.]\n",
      "[ 1. -1. -1. -1. -1.]\n",
      "[ 1. -1. -1. -1. -1.]\n",
      "\n",
      "[-1.  1. -1. -1. -1.]\n",
      "[-1.  1. -1. -1. -1.]\n",
      "[-1.  1. -1. -1. -1.]\n",
      "[-1.  1. -1. -1. -1.]\n",
      "[-1.  1. -1. -1. -1.]\n",
      "\n",
      "[-1. -1.  1. -1. -1.]\n",
      "[-1. -1.  1. -1. -1.]\n",
      "[-1. -1.  1. -1. -1.]\n",
      "[-1. -1.  1. -1. -1.]\n",
      "[-1. -1.  1. -1. -1.]\n",
      "\n",
      "[-1. -1. -1.  1. -1.]\n",
      "[-1. -1. -1.  1. -1.]\n",
      "[-1. -1. -1.  1. -1.]\n",
      "[-1. -1. -1.  1. -1.]\n",
      "[-1. -1. -1.  1. -1.]\n",
      "\n",
      "[-1. -1. -1. -1.  1.]\n",
      "[-1. -1. -1. -1.  1.]\n",
      "[-1. -1. -1. -1.  1.]\n",
      "[-1. -1. -1. -1.  1.]\n",
      "[-1. -1. -1. -1.  1.]\n",
      "\n"
     ]
    }
   ],
   "source": [
    "for i in range(len(tset1)):\n",
    "    sets = tset1[i]\n",
    "    for j in range(len(sets)):\n",
    "        model1.predict(sets[i].flatten())\n",
    "\n",
    "    print('')"
   ]
  },
  {
   "cell_type": "code",
   "execution_count": 68,
   "metadata": {},
   "outputs": [
    {
     "name": "stdout",
     "output_type": "stream",
     "text": [
      "[ 1. -1. -1. -1. -1.]\n",
      "[ 1. -1. -1. -1. -1.]\n",
      "[ 1. -1. -1. -1. -1.]\n",
      "[ 1. -1. -1. -1. -1.]\n",
      "[ 1. -1. -1. -1. -1.]\n",
      "\n",
      "[-1.  1. -1. -1. -1.]\n",
      "[-1.  1. -1. -1. -1.]\n",
      "[-1.  1. -1. -1. -1.]\n",
      "[-1.  1. -1. -1. -1.]\n",
      "[-1.  1. -1. -1. -1.]\n",
      "\n",
      "[-1. -1.  1. -1. -1.]\n",
      "[-1. -1.  1. -1. -1.]\n",
      "[-1. -1.  1. -1. -1.]\n",
      "[-1. -1.  1. -1. -1.]\n",
      "[-1. -1.  1. -1. -1.]\n",
      "\n",
      "[-1. -1. -1.  1. -1.]\n",
      "[-1. -1. -1.  1. -1.]\n",
      "[-1. -1. -1.  1. -1.]\n",
      "[-1. -1. -1.  1. -1.]\n",
      "[-1. -1. -1.  1. -1.]\n",
      "\n",
      "[-1. -1. -1. -1.  1.]\n",
      "[-1. -1. -1. -1.  1.]\n",
      "[-1. -1. -1. -1.  1.]\n",
      "[-1. -1. -1. -1.  1.]\n",
      "[-1. -1. -1. -1.  1.]\n",
      "\n"
     ]
    }
   ],
   "source": [
    "for i in range(len(tset2)):\n",
    "    sets = tset2[i]\n",
    "    for j in range(len(sets)):\n",
    "        model1.predict(sets[i].flatten())\n",
    "\n",
    "    print('')"
   ]
  },
  {
   "cell_type": "code",
   "execution_count": 69,
   "metadata": {},
   "outputs": [
    {
     "name": "stdout",
     "output_type": "stream",
     "text": [
      "[ 1. -1. -1. -1. -1.]\n",
      "[ 1. -1. -1. -1. -1.]\n",
      "[ 1. -1. -1. -1. -1.]\n",
      "[ 1. -1. -1. -1. -1.]\n",
      "[ 1. -1. -1. -1. -1.]\n",
      "\n",
      "[-1.  1. -1. -1. -1.]\n",
      "[-1.  1. -1. -1. -1.]\n",
      "[-1.  1. -1. -1. -1.]\n",
      "[-1.  1. -1. -1. -1.]\n",
      "[-1.  1. -1. -1. -1.]\n",
      "\n",
      "[-1. -1.  1. -1. -1.]\n",
      "[-1. -1.  1. -1. -1.]\n",
      "[-1. -1.  1. -1. -1.]\n",
      "[-1. -1.  1. -1. -1.]\n",
      "[-1. -1.  1. -1. -1.]\n",
      "\n",
      "[-1. -1. -1.  1. -1.]\n",
      "[-1. -1. -1.  1. -1.]\n",
      "[-1. -1. -1.  1. -1.]\n",
      "[-1. -1. -1.  1. -1.]\n",
      "[-1. -1. -1.  1. -1.]\n",
      "\n",
      "[-1. -1. -1. -1.  1.]\n",
      "[-1. -1. -1. -1.  1.]\n",
      "[-1. -1. -1. -1.  1.]\n",
      "[-1. -1. -1. -1.  1.]\n",
      "[-1. -1. -1. -1.  1.]\n",
      "\n"
     ]
    }
   ],
   "source": [
    "for i in range(len(tset3)):\n",
    "    sets = tset3[i]\n",
    "    for j in range(len(sets)):\n",
    "        model1.predict(sets[i].flatten())\n",
    "\n",
    "    print('')"
   ]
  },
  {
   "cell_type": "code",
   "execution_count": 70,
   "metadata": {},
   "outputs": [],
   "source": [
    "def destroy_weights(model, percent=0.2):\n",
    "    for layers in range(len(model.weights)):\n",
    "        n1 = model.weights[layers].shape[0]\n",
    "        n2 = model.weights[layers].shape[1]\n",
    "        twl = n1 * n2 # total weights in layer\n",
    "        twl = int(twl* 0.2)\n",
    "        destroyed = 0\n",
    "        while(destroyed != twl):\n",
    "            r1 = np.random.randint(low=0, high=n1)\n",
    "            r2 = np.random.randint(low=0, high=n2)\n",
    "        \n",
    "            if model.weights[layers][r1][r2]!=0:\n",
    "                model.weights[layers][r1][r2] = 0\n",
    "                destroyed = destroyed + 1\n",
    "            else:\n",
    "                pass\n"
   ]
  },
  {
   "cell_type": "code",
   "execution_count": 71,
   "metadata": {},
   "outputs": [],
   "source": [
    "copy_model1 = copy.deepcopy(model2)\n",
    "copy_model2 = copy.deepcopy(model2)"
   ]
  },
  {
   "cell_type": "code",
   "execution_count": 72,
   "metadata": {},
   "outputs": [
    {
     "data": {
      "text/plain": [
       "(20, 10)"
      ]
     },
     "execution_count": 72,
     "metadata": {},
     "output_type": "execute_result"
    }
   ],
   "source": [
    "copy_model1.weights[0].shape"
   ]
  },
  {
   "cell_type": "code",
   "execution_count": 73,
   "metadata": {},
   "outputs": [],
   "source": [
    "destroy_weights(copy_model1, percent=0.2)"
   ]
  },
  {
   "cell_type": "code",
   "execution_count": 74,
   "metadata": {},
   "outputs": [
    {
     "name": "stdout",
     "output_type": "stream",
     "text": [
      "There are 40 weights that are zero from input to hidden layer\n",
      "There are 10 weights that are zero from hidden layer to output\n"
     ]
    }
   ],
   "source": [
    "print(f\"There are {np.count_nonzero(copy_model1.weights[0]==0)} weights that are zero from input to hidden layer\")\n",
    "print(f\"There are {np.count_nonzero(copy_model1.weights[1]==0)} weights that are zero from hidden layer to output\")"
   ]
  },
  {
   "cell_type": "code",
   "execution_count": 75,
   "metadata": {},
   "outputs": [
    {
     "name": "stdout",
     "output_type": "stream",
     "text": [
      "[ 1. -1. -1. -1. -1.]\n",
      "[ 1. -1. -1. -1. -1.]\n",
      "[ 1. -1. -1. -1. -1.]\n",
      "[ 1. -1. -1. -1. -1.]\n",
      "[ 1. -1. -1. -1. -1.]\n",
      "\n",
      "[-1.  1. -1. -1. -1.]\n",
      "[-1.  1. -1. -1. -1.]\n",
      "[-1.  1. -1. -1. -1.]\n",
      "[-1.  1. -1. -1. -1.]\n",
      "[-1.  1. -1. -1. -1.]\n",
      "\n",
      "[-1. -1.  1. -1. -1.]\n",
      "[-1. -1.  1. -1. -1.]\n",
      "[-1. -1.  1. -1. -1.]\n",
      "[-1. -1.  1. -1. -1.]\n",
      "[-1. -1.  1. -1. -1.]\n",
      "\n",
      "[-1. -1. -1.  1. -1.]\n",
      "[-1. -1. -1.  1. -1.]\n",
      "[-1. -1. -1.  1. -1.]\n",
      "[-1. -1. -1.  1. -1.]\n",
      "[-1. -1. -1.  1. -1.]\n",
      "\n",
      "[-1. -1. -1. -1.  1.]\n",
      "[-1. -1. -1. -1.  1.]\n",
      "[-1. -1. -1. -1.  1.]\n",
      "[-1. -1. -1. -1.  1.]\n",
      "[-1. -1. -1. -1.  1.]\n",
      "\n"
     ]
    }
   ],
   "source": [
    "for i in range(len(tset1)):\n",
    "    sets = tset1[i]\n",
    "    for j in range(len(sets)):\n",
    "        copy_model1.predict(sets[i].flatten())\n",
    "\n",
    "    print('')"
   ]
  },
  {
   "cell_type": "code",
   "execution_count": 76,
   "metadata": {},
   "outputs": [
    {
     "name": "stdout",
     "output_type": "stream",
     "text": [
      "[ 1. -1. -1. -1. -1.]\n",
      "[ 1. -1. -1. -1. -1.]\n",
      "[ 1. -1. -1. -1. -1.]\n",
      "[ 1. -1. -1. -1. -1.]\n",
      "[ 1. -1. -1. -1. -1.]\n",
      "\n",
      "[-1.  1. -1. -1. -1.]\n",
      "[-1.  1. -1. -1. -1.]\n",
      "[-1.  1. -1. -1. -1.]\n",
      "[-1.  1. -1. -1. -1.]\n",
      "[-1.  1. -1. -1. -1.]\n",
      "\n",
      "[-1.  1. -1. -1. -1.]\n",
      "[-1.  1. -1. -1. -1.]\n",
      "[-1.  1. -1. -1. -1.]\n",
      "[-1.  1. -1. -1. -1.]\n",
      "[-1.  1. -1. -1. -1.]\n",
      "\n",
      "[-1. -1. -1.  1. -1.]\n",
      "[-1. -1. -1.  1. -1.]\n",
      "[-1. -1. -1.  1. -1.]\n",
      "[-1. -1. -1.  1. -1.]\n",
      "[-1. -1. -1.  1. -1.]\n",
      "\n",
      "[-1. -1. -1. -1.  1.]\n",
      "[-1. -1. -1. -1.  1.]\n",
      "[-1. -1. -1. -1.  1.]\n",
      "[-1. -1. -1. -1.  1.]\n",
      "[-1. -1. -1. -1.  1.]\n",
      "\n"
     ]
    }
   ],
   "source": [
    "for i in range(len(tset2)):\n",
    "    sets = tset2[i]\n",
    "    for j in range(len(sets)):\n",
    "        copy_model1.predict(sets[i].flatten())\n",
    "\n",
    "    print('')"
   ]
  },
  {
   "cell_type": "code",
   "execution_count": 77,
   "metadata": {},
   "outputs": [
    {
     "name": "stdout",
     "output_type": "stream",
     "text": [
      "[ 1. -1. -1. -1. -1.]\n",
      "[ 1. -1. -1. -1. -1.]\n",
      "[ 1. -1. -1. -1. -1.]\n",
      "[ 1. -1. -1. -1. -1.]\n",
      "[ 1. -1. -1. -1. -1.]\n",
      "\n",
      "[-1.  1. -1. -1. -1.]\n",
      "[-1.  1. -1. -1. -1.]\n",
      "[-1.  1. -1. -1. -1.]\n",
      "[-1.  1. -1. -1. -1.]\n",
      "[-1.  1. -1. -1. -1.]\n",
      "\n",
      "[-1.  1. -1. -1. -1.]\n",
      "[-1.  1. -1. -1. -1.]\n",
      "[-1.  1. -1. -1. -1.]\n",
      "[-1.  1. -1. -1. -1.]\n",
      "[-1.  1. -1. -1. -1.]\n",
      "\n",
      "[-1.  1. -1. -1. -1.]\n",
      "[-1.  1. -1. -1. -1.]\n",
      "[-1.  1. -1. -1. -1.]\n",
      "[-1.  1. -1. -1. -1.]\n",
      "[-1.  1. -1. -1. -1.]\n",
      "\n",
      "[-1. -1. -1. -1.  1.]\n",
      "[-1. -1. -1. -1.  1.]\n",
      "[-1. -1. -1. -1.  1.]\n",
      "[-1. -1. -1. -1.  1.]\n",
      "[-1. -1. -1. -1.  1.]\n",
      "\n"
     ]
    }
   ],
   "source": [
    "for i in range(len(tset3)):\n",
    "    sets = tset3[i]\n",
    "    for j in range(len(sets)):\n",
    "        copy_model1.predict(sets[i].flatten())\n",
    "\n",
    "    print('')"
   ]
  },
  {
   "cell_type": "code",
   "execution_count": 78,
   "metadata": {},
   "outputs": [],
   "source": [
    "destroy_weights(copy_model1, percent=0.2)"
   ]
  },
  {
   "cell_type": "code",
   "execution_count": 79,
   "metadata": {},
   "outputs": [
    {
     "name": "stdout",
     "output_type": "stream",
     "text": [
      "There are 80 weights that are zero from input to hidden layer\n",
      "There are 20 weights that are zero from hidden layer to output\n"
     ]
    }
   ],
   "source": [
    "print(f\"There are {np.count_nonzero(copy_model1.weights[0]==0)} weights that are zero from input to hidden layer\")\n",
    "print(f\"There are {np.count_nonzero(copy_model1.weights[1]==0)} weights that are zero from hidden layer to output\")"
   ]
  },
  {
   "cell_type": "code",
   "execution_count": 80,
   "metadata": {},
   "outputs": [
    {
     "name": "stdout",
     "output_type": "stream",
     "text": [
      "[ 1. -1. -1. -1. -1.]\n",
      "[ 1. -1. -1. -1. -1.]\n",
      "[ 1. -1. -1. -1. -1.]\n",
      "[ 1. -1. -1. -1. -1.]\n",
      "[ 1. -1. -1. -1. -1.]\n",
      "\n",
      "[-1.  1. -1. -1. -1.]\n",
      "[-1.  1. -1. -1. -1.]\n",
      "[-1.  1. -1. -1. -1.]\n",
      "[-1.  1. -1. -1. -1.]\n",
      "[-1.  1. -1. -1. -1.]\n",
      "\n",
      "[-1. -1.  1. -1. -1.]\n",
      "[-1. -1.  1. -1. -1.]\n",
      "[-1. -1.  1. -1. -1.]\n",
      "[-1. -1.  1. -1. -1.]\n",
      "[-1. -1.  1. -1. -1.]\n",
      "\n",
      "[-1.  1. -1. -1. -1.]\n",
      "[-1.  1. -1. -1. -1.]\n",
      "[-1.  1. -1. -1. -1.]\n",
      "[-1.  1. -1. -1. -1.]\n",
      "[-1.  1. -1. -1. -1.]\n",
      "\n",
      "[-1. -1. -1. -1.  1.]\n",
      "[-1. -1. -1. -1.  1.]\n",
      "[-1. -1. -1. -1.  1.]\n",
      "[-1. -1. -1. -1.  1.]\n",
      "[-1. -1. -1. -1.  1.]\n",
      "\n"
     ]
    }
   ],
   "source": [
    "for i in range(len(tset1)):\n",
    "    sets = tset1[i]\n",
    "    for j in range(len(sets)):\n",
    "        copy_model1.predict(sets[i].flatten())\n",
    "\n",
    "    print('')"
   ]
  },
  {
   "cell_type": "code",
   "execution_count": 81,
   "metadata": {},
   "outputs": [
    {
     "name": "stdout",
     "output_type": "stream",
     "text": [
      "[ 1. -1. -1. -1. -1.]\n",
      "[ 1. -1. -1. -1. -1.]\n",
      "[ 1. -1. -1. -1. -1.]\n",
      "[ 1. -1. -1. -1. -1.]\n",
      "[ 1. -1. -1. -1. -1.]\n",
      "\n",
      "[-1.  1. -1. -1. -1.]\n",
      "[-1.  1. -1. -1. -1.]\n",
      "[-1.  1. -1. -1. -1.]\n",
      "[-1.  1. -1. -1. -1.]\n",
      "[-1.  1. -1. -1. -1.]\n",
      "\n",
      "[-1. -1.  1. -1. -1.]\n",
      "[-1. -1.  1. -1. -1.]\n",
      "[-1. -1.  1. -1. -1.]\n",
      "[-1. -1.  1. -1. -1.]\n",
      "[-1. -1.  1. -1. -1.]\n",
      "\n",
      "[-1.  1. -1. -1. -1.]\n",
      "[-1.  1. -1. -1. -1.]\n",
      "[-1.  1. -1. -1. -1.]\n",
      "[-1.  1. -1. -1. -1.]\n",
      "[-1.  1. -1. -1. -1.]\n",
      "\n",
      "[-1. -1. -1. -1.  1.]\n",
      "[-1. -1. -1. -1.  1.]\n",
      "[-1. -1. -1. -1.  1.]\n",
      "[-1. -1. -1. -1.  1.]\n",
      "[-1. -1. -1. -1.  1.]\n",
      "\n"
     ]
    }
   ],
   "source": [
    "for i in range(len(tset2)):\n",
    "    sets = tset2[i]\n",
    "    for j in range(len(sets)):\n",
    "        copy_model1.predict(sets[i].flatten())\n",
    "\n",
    "    print('')"
   ]
  },
  {
   "cell_type": "code",
   "execution_count": 82,
   "metadata": {},
   "outputs": [
    {
     "name": "stdout",
     "output_type": "stream",
     "text": [
      "[ 1. -1. -1. -1. -1.]\n",
      "[ 1. -1. -1. -1. -1.]\n",
      "[ 1. -1. -1. -1. -1.]\n",
      "[ 1. -1. -1. -1. -1.]\n",
      "[ 1. -1. -1. -1. -1.]\n",
      "\n",
      "[-1.  1. -1. -1. -1.]\n",
      "[-1.  1. -1. -1. -1.]\n",
      "[-1.  1. -1. -1. -1.]\n",
      "[-1.  1. -1. -1. -1.]\n",
      "[-1.  1. -1. -1. -1.]\n",
      "\n",
      "[-1. -1.  1. -1. -1.]\n",
      "[-1. -1.  1. -1. -1.]\n",
      "[-1. -1.  1. -1. -1.]\n",
      "[-1. -1.  1. -1. -1.]\n",
      "[-1. -1.  1. -1. -1.]\n",
      "\n",
      "[-1.  1. -1. -1. -1.]\n",
      "[-1.  1. -1. -1. -1.]\n",
      "[-1.  1. -1. -1. -1.]\n",
      "[-1.  1. -1. -1. -1.]\n",
      "[-1.  1. -1. -1. -1.]\n",
      "\n",
      "[-1. -1. -1. -1.  1.]\n",
      "[-1. -1. -1. -1.  1.]\n",
      "[-1. -1. -1. -1.  1.]\n",
      "[-1. -1. -1. -1.  1.]\n",
      "[-1. -1. -1. -1.  1.]\n",
      "\n"
     ]
    }
   ],
   "source": [
    "for i in range(len(tset3)):\n",
    "    sets = tset3[i]\n",
    "    for j in range(len(sets)):\n",
    "        copy_model1.predict(sets[i].flatten())\n",
    "\n",
    "    print('')"
   ]
  }
 ],
 "metadata": {
  "kernelspec": {
   "display_name": "Python 3",
   "language": "python",
   "name": "python3"
  },
  "language_info": {
   "codemirror_mode": {
    "name": "ipython",
    "version": 3
   },
   "file_extension": ".py",
   "mimetype": "text/x-python",
   "name": "python",
   "nbconvert_exporter": "python",
   "pygments_lexer": "ipython3",
   "version": "3.7.9"
  }
 },
 "nbformat": 4,
 "nbformat_minor": 1
}
